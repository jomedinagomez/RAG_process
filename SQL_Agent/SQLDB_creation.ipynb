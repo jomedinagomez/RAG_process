{
 "cells": [
  {
   "cell_type": "code",
   "execution_count": 1,
   "metadata": {},
   "outputs": [],
   "source": [
    "## !pip install -r requirements.txt"
   ]
  },
  {
   "cell_type": "code",
   "execution_count": 22,
   "metadata": {},
   "outputs": [],
   "source": [
    "import os\n",
    "import pyodbc, struct\n",
    "from azure import identity\n",
    "from faker import Faker\n",
    "from typing import Union\n",
    "from fastapi import FastAPI\n",
    "from pydantic import BaseModel\n",
    "\n",
    "from dotenv import load_dotenv\n",
    "load_dotenv(override=True)\n",
    "connection_string = os.environ[\"AZURE_SQL_CONNECTIONSTRING\"]\n",
    "\n",
    "SQL_SERVER_USERNAME = os.environ[\"SQL_SERVER_USERNAME\"]\n",
    "SQL_SERVER_ENDPOINT = os.environ[\"SQL_SERVER_ENDPOINT\"]\n",
    "SQL_SERVER_PASSWORD = os.environ[\"SQL_SERVER_PASSWORD\"]\n",
    "SQL_SERVER_DATABASE = os.environ[\"SQL_SERVER_DATABASE\"] \n",
    "driver = \"{ODBC Driver 18 for SQL Server}\""
   ]
  },
  {
   "cell_type": "code",
   "execution_count": 23,
   "metadata": {},
   "outputs": [],
   "source": [
    "conn = pyodbc.connect(f'DRIVER={driver};SERVER={SQL_SERVER_ENDPOINT};PORT=1433;DATABASE={SQL_SERVER_DATABASE};UID={SQL_SERVER_USERNAME};PWD={SQL_SERVER_PASSWORD}')  \n",
    "cursor = conn.cursor()  "
   ]
  },
  {
   "cell_type": "code",
   "execution_count": 25,
   "metadata": {},
   "outputs": [
    {
     "name": "stdout",
     "output_type": "stream",
     "text": [
      "matter Well added to the database.\n",
      "political Well added to the database.\n",
      "ability Well added to the database.\n",
      "she Well added to the database.\n",
      "require Well added to the database.\n",
      "own Well added to the database.\n",
      "guy Well added to the database.\n",
      "smile Well added to the database.\n",
      "push Well added to the database.\n",
      "because Well added to the database.\n"
     ]
    }
   ],
   "source": [
    "# Create Faker object\n",
    "fake = Faker()\n",
    "\n",
    "# Generate and insert 10,000 fake records\n",
    "for id in range(10):\n",
    "    well_id = id + 1\n",
    "    well_name = fake.word() + ' Well'\n",
    "    location = fake.city() + ', ' + fake.country()\n",
    "    production_date = fake.date_between(start_date='-1y', end_date='today')\n",
    "    production_volume = fake.pydecimal(left_digits=6, right_digits=2, positive=True)\n",
    "    operator = fake.company()\n",
    "    field_name = fake.word() + ' Field'\n",
    "    reservoir = fake.word() + ' Reservoir'\n",
    "    depth = fake.pydecimal(left_digits=5, right_digits=2, positive=True)\n",
    "    api_gravity = fake.pydecimal(left_digits=2, right_digits=2, positive=True)\n",
    "    water_cut = fake.pydecimal(left_digits=2, right_digits=2)\n",
    "    gas_oil_ratio = fake.pydecimal(left_digits=4, right_digits=2)\n",
    "    print(well_name + \" added to the database.\")\n",
    "    # Insert record into the ExplorationProduction table\n",
    "    cursor.execute(\"INSERT INTO testtable (WellID, WellName, Location, ProductionDate, ProductionVolume, Operator, FieldName, Reservoir, Depth, APIGravity, WaterCut, GasOilRatio) VALUES (?,?, ?, ?, ?, ?, ?, ?, ?, ?, ?, ?)\",\n",
    "                   well_id,well_name, location, production_date, production_volume, operator, field_name, reservoir, depth, api_gravity, water_cut, gas_oil_ratio)\n",
    "\n",
    "# Commit the changes and close the connection\n",
    "conn.commit()\n",
    "conn.close()"
   ]
  },
  {
   "cell_type": "code",
   "execution_count": null,
   "metadata": {},
   "outputs": [],
   "source": []
  }
 ],
 "metadata": {
  "kernelspec": {
   "display_name": "secdemo",
   "language": "python",
   "name": "python3"
  },
  "language_info": {
   "codemirror_mode": {
    "name": "ipython",
    "version": 3
   },
   "file_extension": ".py",
   "mimetype": "text/x-python",
   "name": "python",
   "nbconvert_exporter": "python",
   "pygments_lexer": "ipython3",
   "version": "3.12.2"
  }
 },
 "nbformat": 4,
 "nbformat_minor": 2
}
