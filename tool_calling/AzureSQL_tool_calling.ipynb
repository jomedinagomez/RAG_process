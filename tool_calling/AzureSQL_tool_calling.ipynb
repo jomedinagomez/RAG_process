{
 "cells": [
  {
   "cell_type": "markdown",
   "metadata": {},
   "source": [
    "### Importing libraries"
   ]
  },
  {
   "cell_type": "code",
   "execution_count": 3,
   "metadata": {},
   "outputs": [],
   "source": [
    "from azure.cosmos import CosmosClient\n",
    "from azure.core.credentials import AzureKeyCredential\n",
    "from azure.identity import ClientSecretCredential, DefaultAzureCredential\n",
    "from azure.cosmos.partition_key import PartitionKey\n",
    "\n",
    "from dotenv import load_dotenv\n",
    "import pandas as pd\n",
    "load_dotenv(override=True)\n",
    "import json\n",
    "import pyodbc\n",
    "\n",
    "import os\n",
    "\n",
    "# Using DefaultAzureCredential (recommended)\n",
    "# https://techcommunity.microsoft.com/t5/azure-architecture-blog/configure-rbac-for-cosmos-db-with-managed-identity-instead-of/ba-p/3056638#:~:text=Create%20custom%20roles%20MyReadOnlyRole%20and%20MyReadWriteRole%20with%20both,definition%20create%20-a%20%24accountName%20-g%20%24resourceGroupName%20-b%20%40role-definition-ro.json\n",
    "aad_credentials = DefaultAzureCredential()\n",
    "\n",
    "AZURE_COSMOS_DB_ENDPOINT=os.environ['AZURE_COSMOS_DB_ENDPOINT']\n",
    "AZURE_COSMOS_DB_KEY= os.environ['AZURE_COSMOS_DB_KEY']\n",
    "AZURE_COSMOS_DB_DATABASE= os.environ['AZURE_COSMOS_DB_DATABASE']\n",
    "AZURE_COSMOS_DB_CONN= os.environ['AZURE_COSMOS_DB_CONN']\n",
    "azurecosmosdbclient = CosmosClient(AZURE_COSMOS_DB_ENDPOINT, credential=aad_credentials)\n",
    "\n",
    "CONTAINER_ID = os.environ['AZURE_COSMOS_DB_CONTAINER']\n",
    "PartitionKeyPath = \"/chunk_id\"\n",
    "\n",
    "database_client = azurecosmosdbclient.get_database_client(AZURE_COSMOS_DB_DATABASE)\n",
    "container_client = database_client.get_container_client(CONTAINER_ID)\n",
    "\n",
    "SQL_SERVER_USERNAME = os.environ[\"SQL_SERVER_USERNAME\"]\n",
    "SQL_SERVER_ENDPOINT = os.environ[\"SQL_SERVER_ENDPOINT\"]\n",
    "SQL_SERVER_PASSWORD = os.environ[\"SQL_SERVER_PASSWORD\"]\n",
    "SQL_SERVER_DATABASE = os.environ[\"SQL_SERVER_DATABASE\"] \n",
    "driver = \"{ODBC Driver 18 for SQL Server}\"\n",
    "sqlalchemy_driver = \"ODBC Driver 18 for SQL Server\"\n",
    "\n",
    "## Creatng a connection to the SQL Server\n",
    "conn = pyodbc.connect(f'DRIVER={driver};SERVER={SQL_SERVER_ENDPOINT};PORT=1433;DATABASE={SQL_SERVER_DATABASE};UID={SQL_SERVER_USERNAME};PWD={SQL_SERVER_PASSWORD}')  \n",
    "cursor = conn.cursor()\n",
    "\n",
    "from openai import AzureOpenAI\n",
    "aoai_client = AzureOpenAI(\n",
    "  azure_endpoint = os.getenv(\"AZURE_OPENAI_ENDPOINT\"), \n",
    "  api_key=os.getenv(\"AZURE_OPENAI_API_KEY\"),  \n",
    "  api_version=\"2024-07-01-preview\"\n",
    ")"
   ]
  },
  {
   "cell_type": "markdown",
   "metadata": {},
   "source": [
    "### AzureSQLDB Tool calling"
   ]
  },
  {
   "cell_type": "markdown",
   "metadata": {},
   "source": [
    "#### SQLDatabase GetSQLDBAnswer Function definition"
   ]
  },
  {
   "cell_type": "code",
   "execution_count": null,
   "metadata": {},
   "outputs": [],
   "source": [
    "#https://github.com/Azure-Samples/openai/blob/main/End_to_end_Solutions/AOAISearchDemo/notebooks/structured_data_retreival_nltosql.ipynb"
   ]
  },
  {
   "cell_type": "code",
   "execution_count": 4,
   "metadata": {},
   "outputs": [],
   "source": [
    "def GetSQLDBAnswer(question):\n",
    "\n",
    "    prompt_template = \"\"\" You are a SQL programmer Assistant.Your role is to generate SQL code (SQL Server) to retrieve an answer to a natural language query. Make sure to disambiguate column names when creating queries that use more than one table. If a valid SQL query cannot be generated, only say \"ERROR:\" followed by why it cannot be generated.\n",
    "                  Do not answer any questions on inserting or deleting rows from the table. Instead, say \"ERROR: I am not authorized to make changes to the data\"\n",
    "\n",
    "                  Use the following sales database schema to write SQL queries:\n",
    "                  Customers(cust_id INTEGER, cust_name VARCHAR, cust_email VARCHAR, cust_phone VARCHAR, cust_address VARCHAR, PRIMARY KEY (cust_id))\n",
    "                  Products(prod_id INTEGER,prod_name varchar, price FLOAT, category VARCHAR, PRIMARY KEY(prod_id))\n",
    "                  Stock(prod_id INTEGER, merchant_id INTEGER, stock INTEGER, PRIMARY KEY(prod_id, merchant_id), FOREIGN KEY(merchant_id, prod_id))\n",
    "                  Merchants(merchant_id INTEGER, merchant_name VARCHAR, merchant_region VARCHAR, merchant_address VARCHAR, PRIMARY KEY(merchant_id))\n",
    "                  Sales(sale_id INTEGER, cust_id INTEGER , merchant_id INTEGER , date TIMESTAMP, total_price FLOAT, PRIMARY KEY(sale_id),FOREIGN KEY(cust_id,merchant_id))\n",
    "                  Sales_Detail(sales_id INTEGER, prod_id INTEGER, quantity INTEGER, PRIMARY KEY(sales_id,prod_id), FOREIGN KEY(sales_id,prod_id))\n",
    "\n",
    "                  Examples:\n",
    "                  User: List all Surface accessories, along with their prices. SQL Code:\n",
    "                  Assistant: SELECT prod_name, category, price FROM Products WHERE prod_name like '%Surface%' and category like '%accessory%';\n",
    "                  User: Which is the cheapest Surface device? SQL Code:\n",
    "                  Assistant: SELECT TOP 1 prod_name, price FROM Products WHERE prod_name like '%Surface%' ORDER BY price ASC;\n",
    "                  User: How many Surface Laptop 5 does GadgetWorld have?\n",
    "                  Assistant: SELECT Merchants.merchant_id, Merchants.merchant_name, SUM(stock) as total_stock FROM Stock JOIN Merchants ON Stock.merchant_id = Merchants.merchant_id WHERE prod_id IN (SELECT prod_id FROM Products WHERE prod_name LIKE '%Surface Laptop 5%' and merchant_name like '%GadgetWorld%') GROUP BY Merchants.merchant_id, Merchants.merchant_name;\n",
    "                  User: how many surface devices were sold last week?\n",
    "                  Assistant: SELECT Sum(sales_detail.quantity) AS total_surface_devices_sold FROM sales_detail JOIN sales ON sales_detail.sales_id = sales.sale_id JOIN products ON sales_detail.prod_id = products.prod_id WHERE products.prod_name LIKE '%Surface%' AND sales.date >= Dateadd(wk, Datediff(wk, 0, Getdate()) - 1, 0) AND sales.date < Dateadd(wk, Datediff(wk, 0, Getdate()), 0);\n",
    "\n",
    "                  ## Additional guidance\n",
    "                    ** Please only answer questions that can be answered with the data provided. Do not make any assumptions about the data.\n",
    "                    ** Please write the code for a SQL Server database.\n",
    "                    ** If you need to ask any clafication, please ask for it in the format JSON format with the key: CLARIFICATION\n",
    "                    ** If asked about any date, default to filing_date unless the question implies that is a question about the filing period.\n",
    "                    ** Dates should be explicity stated in the query. For example, if you are asked about filings in 2023, you should use the following format: '2023-01-01' and '2023-12-31'. Otehrwise, ask for the specific period.\n",
    "                    ** Provide the answer in a JSON format with the key: SQLquery\n",
    "                  question: \"\"\"\n",
    "    \n",
    "    messages = [{\"role\":\"system\",\"content\":prompt_template}, \n",
    "               {\"role\":\"user\",\"content\":question}]\n",
    "\n",
    "    response = aoai_client.chat.completions.create(model=\"gpt4o\",  \n",
    "                                        messages = messages, \n",
    "                                        temperature=0.1,  \n",
    "                                        max_tokens=2000,\n",
    "                                        response_format={ \"type\": \"json_object\" },\n",
    "                                        seed = 42)\n",
    "    SQLschema = response.choices[0].message.content\n",
    "    \n",
    "    if \"ERROR\" in SQLschema:\n",
    "        print('ERROR')\n",
    "        return str({\"SQLquery\":\"No query\", \"Answer\": str(json.loads(SQLschema)['ERROR'])})\n",
    "    elif 'CLARIFICATION' in SQLschema:\n",
    "        print('CLARIFICATION')\n",
    "        return str({\"SQLquery\":\"No query\", \"Answer\": str(json.loads(SQLschema)['CLARIFICATION'])})\n",
    "    else:\n",
    "        SQLQuery = json.loads(SQLschema)['SQLquery']\n",
    "        print(SQLQuery)\n",
    "        SQLResult = cursor.execute(SQLQuery)\n",
    "        return str({\"SQLquery\":SQLQuery, \"Answer\": str([row for row in SQLResult.fetchall()])})"
   ]
  },
  {
   "cell_type": "code",
   "execution_count": 5,
   "metadata": {},
   "outputs": [
    {
     "name": "stdout",
     "output_type": "stream",
     "text": [
      "SELECT prod_name, category, price FROM Products WHERE prod_name like '%Surface%' and category like '%accessory%';\n",
      "{'SQLquery': \"SELECT prod_name, category, price FROM Products WHERE prod_name like '%Surface%' and category like '%accessory%';\", 'Answer': \"[('Surface Slim Pen 2', 'Accessory', 94.99), ('Surface Pen', 'Accessory', 99.99), ('Surface Dock', 'Accessory', 199.99)]\"}\n"
     ]
    }
   ],
   "source": [
    "output = GetSQLDBAnswer(\"List all Surface accessories, along with their prices\")\n",
    "print(output)"
   ]
  },
  {
   "cell_type": "code",
   "execution_count": 6,
   "metadata": {},
   "outputs": [],
   "source": [
    "def run_conversation(question):\n",
    "\n",
    "    with open(\"../data/processed/tool_description/GetSQLDBAnswerDescription.txt\", \"r\") as file:\n",
    "        sql_tool_description = file.read()\n",
    "    # Initial user message\n",
    "    messages = [{\"role\":\"system\",\"content\":\"You are an assistant that help answering questions from either an AI Search Index or a CosmosDB Database. Please only answer the questions if any of the tools provide it, If tool_calls=None please state that you dont have access to the source of that information and pass the message from the function calls\"}, {\"role\": \"user\", \"content\": question}] # Single function call\n",
    "\n",
    "    # Define the function for the model\n",
    "    tools = [\n",
    "        {\n",
    "            \"type\": \"function\",\n",
    "            \"function\": {\n",
    "                \"name\": \"GetSQLDBAnswer\",\n",
    "                \"description\": sql_tool_description,\n",
    "                \"parameters\": {\n",
    "                    \"type\": \"object\",\n",
    "                    \"properties\": {\n",
    "                        \"question\": {\n",
    "                            \"type\": \"string\",\n",
    "                            \"description\": \"question that needs to be answered using the CosmosDB database. Please pass in verbatim the question that the user asked.\",\n",
    "                        },\n",
    "                    },\n",
    "                    \"required\": [\"query\"],\n",
    "                },\n",
    "            }\n",
    "        }\n",
    "    ]\n",
    "\n",
    "    # First API call: Ask the model to use the function\n",
    "    response = aoai_client.chat.completions.create(\n",
    "        model=\"gpt4o\",\n",
    "        messages=messages,\n",
    "        tools=tools,\n",
    "        tool_choice=\"auto\",\n",
    "        seed=42\n",
    "    )\n",
    "\n",
    "    # Process the model's response\n",
    "    response_message = response.choices[0].message\n",
    "    messages.append(response_message)\n",
    "\n",
    "\n",
    "    print(\"Model's response:\")  \n",
    "    print(response_message.tool_calls)  \n",
    "\n",
    "    # Handle function calls\n",
    "    if response_message.tool_calls:\n",
    "        for tool_call in response_message.tool_calls:\n",
    "            function_name = tool_call.function.name\n",
    "            function_args = json.loads(tool_call.function.arguments)\n",
    "            print(f\"Function call: {function_name}\")  \n",
    "            print(f\"Function arguments: {function_args}\") \n",
    "\n",
    "            if function_name == \"GetSQLDBAnswer\":\n",
    "                function_response = GetSQLDBAnswer(\n",
    "                    question=function_args.get(\"question\")\n",
    "                )\n",
    "                print(f\"Function response: {function_response}\")\n",
    "            else:\n",
    "                function_response = \"Function not found\"\n",
    "            \n",
    "        messages.append({\n",
    "                \"tool_call_id\": tool_call.id,\n",
    "                \"role\": \"tool\",\n",
    "                \"name\": function_name,\n",
    "                \"content\": function_response,\n",
    "            })\n",
    "    else:\n",
    "        print(\"No tool calls were made by the model.\")\n",
    "        messages.append({\"role\": \"system\", \"content\": \"No functions or tools were called by the model.\"})\n",
    "    \n",
    "    \n",
    "    print(messages)\n",
    "    final_response = aoai_client.chat.completions.create(\n",
    "        model='gpt4o',\n",
    "        messages=messages,\n",
    "        seed=42\n",
    "    )\n",
    "\n",
    "    print(\"--------------------------------------------------------------------------------\")\n",
    "    print(\"Final Response:\")\n",
    "    print(final_response.choices[0].message.content)\n",
    "    print(\"--------------------------------------------------------------------------------\")\n",
    "    return final_response.choices[0].message.content"
   ]
  },
  {
   "cell_type": "code",
   "execution_count": 9,
   "metadata": {},
   "outputs": [
    {
     "name": "stdout",
     "output_type": "stream",
     "text": [
      "Model's response:\n",
      "[ChatCompletionMessageToolCall(id='call_IIMq9yUEqKKOH9Mtidx7D2y4', function=Function(arguments='{\"question\":\"How many Surface Laptops were sold during 2023\"}', name='GetSQLDBAnswer'), type='function')]\n",
      "Function call: GetSQLDBAnswer\n",
      "Function arguments: {'question': 'How many Surface Laptops were sold during 2023'}\n",
      "SELECT SUM(sales_detail.quantity) AS total_surface_laptops_sold FROM sales_detail JOIN sales ON sales_detail.sales_id = sales.sale_id JOIN products ON sales_detail.prod_id = products.prod_id WHERE products.prod_name LIKE '%Surface Laptop%' AND sales.date >= '2023-01-01' AND sales.date <= '2023-12-31';\n",
      "Function response: {'SQLquery': \"SELECT SUM(sales_detail.quantity) AS total_surface_laptops_sold FROM sales_detail JOIN sales ON sales_detail.sales_id = sales.sale_id JOIN products ON sales_detail.prod_id = products.prod_id WHERE products.prod_name LIKE '%Surface Laptop%' AND sales.date >= '2023-01-01' AND sales.date <= '2023-12-31';\", 'Answer': '[(3182080,)]'}\n",
      "[{'role': 'system', 'content': 'You are an assistant that help answering questions from either an AI Search Index or a CosmosDB Database. Please only answer the questions if any of the tools provide it, If tool_calls=None please state that you dont have access to the source of that information and pass the message from the function calls'}, {'role': 'user', 'content': 'How many Surface Laptops were sold during 2023'}, ChatCompletionMessage(content=None, role='assistant', function_call=None, tool_calls=[ChatCompletionMessageToolCall(id='call_IIMq9yUEqKKOH9Mtidx7D2y4', function=Function(arguments='{\"question\":\"How many Surface Laptops were sold during 2023\"}', name='GetSQLDBAnswer'), type='function')]), {'tool_call_id': 'call_IIMq9yUEqKKOH9Mtidx7D2y4', 'role': 'tool', 'name': 'GetSQLDBAnswer', 'content': '{\\'SQLquery\\': \"SELECT SUM(sales_detail.quantity) AS total_surface_laptops_sold FROM sales_detail JOIN sales ON sales_detail.sales_id = sales.sale_id JOIN products ON sales_detail.prod_id = products.prod_id WHERE products.prod_name LIKE \\'%Surface Laptop%\\' AND sales.date >= \\'2023-01-01\\' AND sales.date <= \\'2023-12-31\\';\", \\'Answer\\': \\'[(3182080,)]\\'}'}]\n",
      "--------------------------------------------------------------------------------\n",
      "Final Response:\n",
      "A total of 3,182,080 Surface Laptops were sold during 2023.\n",
      "--------------------------------------------------------------------------------\n"
     ]
    },
    {
     "data": {
      "text/plain": [
       "'A total of 3,182,080 Surface Laptops were sold during 2023.'"
      ]
     },
     "execution_count": 9,
     "metadata": {},
     "output_type": "execute_result"
    }
   ],
   "source": [
    "run_conversation(\"How many Surface Laptops were sold during 2023\")"
   ]
  },
  {
   "cell_type": "code",
   "execution_count": 10,
   "metadata": {},
   "outputs": [
    {
     "name": "stdout",
     "output_type": "stream",
     "text": [
      "Model's response:\n",
      "None\n",
      "No tool calls were made by the model.\n",
      "[{'role': 'system', 'content': 'You are an assistant that help answering questions from either an AI Search Index or a CosmosDB Database. Please only answer the questions if any of the tools provide it, If tool_calls=None please state that you dont have access to the source of that information and pass the message from the function calls'}, {'role': 'user', 'content': 'who won the super bowl last year?'}, ChatCompletionMessage(content='The Los Angeles Rams won the Super Bowl LVI, which took place in February 2022. They defeated the Cincinnati Bengals to win the championship.', role='assistant', function_call=None, tool_calls=None), {'role': 'system', 'content': 'No functions or tools were called by the model.'}]\n",
      "--------------------------------------------------------------------------------\n",
      "Final Response:\n",
      "I don't have access to the source of that information. If you need the latest information, I recommend checking a reliable sports news website or database.\n",
      "--------------------------------------------------------------------------------\n"
     ]
    },
    {
     "data": {
      "text/plain": [
       "\"I don't have access to the source of that information. If you need the latest information, I recommend checking a reliable sports news website or database.\""
      ]
     },
     "execution_count": 10,
     "metadata": {},
     "output_type": "execute_result"
    }
   ],
   "source": [
    "run_conversation(\"who won the super bowl last year?\")"
   ]
  },
  {
   "cell_type": "code",
   "execution_count": null,
   "metadata": {},
   "outputs": [],
   "source": []
  }
 ],
 "metadata": {
  "kernelspec": {
   "display_name": "secdemo",
   "language": "python",
   "name": "python3"
  },
  "language_info": {
   "codemirror_mode": {
    "name": "ipython",
    "version": 3
   },
   "file_extension": ".py",
   "mimetype": "text/x-python",
   "name": "python",
   "nbconvert_exporter": "python",
   "pygments_lexer": "ipython3",
   "version": "3.12.2"
  }
 },
 "nbformat": 4,
 "nbformat_minor": 2
}
