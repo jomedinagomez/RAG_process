{
 "cells": [
  {
   "cell_type": "markdown",
   "metadata": {},
   "source": [
    "### Importing libraries"
   ]
  },
  {
   "cell_type": "code",
   "execution_count": 3,
   "metadata": {},
   "outputs": [],
   "source": [
    "from azure.cosmos import CosmosClient\n",
    "from azure.core.credentials import AzureKeyCredential\n",
    "from azure.identity import ClientSecretCredential, DefaultAzureCredential\n",
    "from azure.cosmos.partition_key import PartitionKey\n",
    "\n",
    "from dotenv import load_dotenv\n",
    "import pandas as pd\n",
    "load_dotenv(override=True)\n",
    "import json\n",
    "import pyodbc\n",
    "\n",
    "import os\n",
    "\n",
    "# Using DefaultAzureCredential (recommended)\n",
    "# https://techcommunity.microsoft.com/t5/azure-architecture-blog/configure-rbac-for-cosmos-db-with-managed-identity-instead-of/ba-p/3056638#:~:text=Create%20custom%20roles%20MyReadOnlyRole%20and%20MyReadWriteRole%20with%20both,definition%20create%20-a%20%24accountName%20-g%20%24resourceGroupName%20-b%20%40role-definition-ro.json\n",
    "aad_credentials = DefaultAzureCredential()\n",
    "\n",
    "AZURE_COSMOS_DB_ENDPOINT=os.environ['AZURE_COSMOS_DB_ENDPOINT']\n",
    "AZURE_COSMOS_DB_KEY= os.environ['AZURE_COSMOS_DB_KEY']\n",
    "AZURE_COSMOS_DB_DATABASE= os.environ['AZURE_COSMOS_DB_DATABASE']\n",
    "AZURE_COSMOS_DB_CONN= os.environ['AZURE_COSMOS_DB_CONN']\n",
    "azurecosmosdbclient = CosmosClient(AZURE_COSMOS_DB_ENDPOINT, credential=aad_credentials)\n",
    "\n",
    "CONTAINER_ID = os.environ['AZURE_COSMOS_DB_CONTAINER']\n",
    "PartitionKeyPath = \"/chunk_id\"\n",
    "\n",
    "database_client = azurecosmosdbclient.get_database_client(AZURE_COSMOS_DB_DATABASE)\n",
    "container_client = database_client.get_container_client(CONTAINER_ID)\n",
    "\n",
    "SQL_SERVER_USERNAME = os.environ[\"SQL_SERVER_USERNAME\"]\n",
    "SQL_SERVER_ENDPOINT = os.environ[\"SQL_SERVER_ENDPOINT\"]\n",
    "SQL_SERVER_PASSWORD = os.environ[\"SQL_SERVER_PASSWORD\"]\n",
    "SQL_SERVER_DATABASE = os.environ[\"SQL_SERVER_DATABASE\"] \n",
    "driver = \"{ODBC Driver 18 for SQL Server}\"\n",
    "sqlalchemy_driver = \"ODBC Driver 18 for SQL Server\"\n",
    "\n",
    "## Creatng a connection to the SQL Server\n",
    "conn = pyodbc.connect(f'DRIVER={driver};SERVER={SQL_SERVER_ENDPOINT};PORT=1433;DATABASE={SQL_SERVER_DATABASE};UID={SQL_SERVER_USERNAME};PWD={SQL_SERVER_PASSWORD}')  \n",
    "cursor = conn.cursor()\n",
    "\n",
    "\n",
    "from openai import AzureOpenAI\n",
    "aoai_client = AzureOpenAI(\n",
    "  azure_endpoint = os.getenv(\"AZURE_OPENAI_ENDPOINT\"), \n",
    "  api_key=os.getenv(\"AZURE_OPENAI_API_KEY\"),  \n",
    "  api_version=\"2024-07-01-preview\"\n",
    ")"
   ]
  },
  {
   "cell_type": "markdown",
   "metadata": {},
   "source": [
    "### AzureSQLDB Tool calling"
   ]
  },
  {
   "cell_type": "markdown",
   "metadata": {},
   "source": [
    "#### SQLDatabase GetSQLDBAnswer Function definition"
   ]
  },
  {
   "cell_type": "code",
   "execution_count": 9,
   "metadata": {},
   "outputs": [],
   "source": [
    "def GetSQLDBAnswer(question):\n",
    "\n",
    "    prompt_template = \"\"\" You are a SQL programmer Assistant.Your role is to generate SQL code (SQL Server) to retrieve an answer to a natural language query. Make sure to disambiguate column names when creating queries that use more than one table. If a valid SQL query cannot be generated, only say \"ERROR:\" followed by why it cannot be generated.\n",
    "                  Do not answer any questions on inserting or deleting rows from the table. Instead, say \"ERROR: I am not authorized to make changes to the data\"\n",
    "\n",
    "                  Use the following sales database schema to write SQL queries:\n",
    "                  Customers(cust_id INTEGER, cust_name VARCHAR, cust_email VARCHAR, cust_phone VARCHAR, cust_address VARCHAR, PRIMARY KEY (cust_id))\n",
    "                  Products(prod_id INTEGER,prod_name varchar, price FLOAT, category VARCHAR, PRIMARY KEY(prod_id))\n",
    "                  Stock(prod_id INTEGER, merchant_id INTEGER, stock INTEGER, PRIMARY KEY(prod_id, merchant_id), FOREIGN KEY(merchant_id, prod_id))\n",
    "                  Merchants(merchant_id INTEGER, merchant_name VARCHAR, merchant_region VARCHAR, merchant_address VARCHAR, PRIMARY KEY(merchant_id))\n",
    "                  Sales(sale_id INTEGER, cust_id INTEGER , merchant_id INTEGER , date TIMESTAMP, total_price FLOAT, PRIMARY KEY(sale_id),FOREIGN KEY(cust_id,merchant_id))\n",
    "                  Sales_Detail(sales_id INTEGER, prod_id INTEGER, quantity INTEGER, PRIMARY KEY(sales_id,prod_id), FOREIGN KEY(sales_id,prod_id))\n",
    "\n",
    "                  ## Additional guidance\n",
    "                    ** Please only answer questions that can be answered with the data provided. Do not make any assumptions about the data.\n",
    "                    ** Please write the code for a SQL Server database.\n",
    "                    ** If you need to ask any clafication, please ask for it in the format JSON format with the key: CLARIFICATION\n",
    "                    ** If asked about any date, default to filing_date unless the question implies that is a question about the filing period.\n",
    "                    ** Dates should be explicity stated in the query. For example, if you are asked about filings in 2023, you should use the following format: '2023-01-01' and '2023-12-31'. Otehrwise, ask for the specific period.\n",
    "                    ** Provide the answer in a JSON format with the key: SQLquery\n",
    "                  question: \"\"\"\n",
    "    \n",
    "    messages = [{\"role\":\"system\",\"content\":prompt_template}, \n",
    "               {\"role\":\"user\",\"content\":question}]\n",
    "\n",
    "    response = aoai_client.chat.completions.create(model=\"gpt4o\",  \n",
    "                                        messages = messages, \n",
    "                                        temperature=0.1,  \n",
    "                                        max_tokens=2000,\n",
    "                                        response_format={ \"type\": \"json_object\" },\n",
    "                                        seed = 42)\n",
    "    SQLschema = response.choices[0].message.content\n",
    "    \n",
    "    if \"ERROR\" in SQLschema:\n",
    "        print('ERROR')\n",
    "        return str({\"SQLquery\":\"No query\", \"Answer\": str(json.loads(SQLschema)['ERROR'])})\n",
    "    elif 'CLARIFICATION' in SQLschema:\n",
    "        print('CLARIFICATION')\n",
    "        return str({\"SQLquery\":\"No query\", \"Answer\": str(json.loads(SQLschema)['CLARIFICATION'])})\n",
    "    else:\n",
    "        SQLQuery = json.loads(SQLschema)['SQLquery']\n",
    "        print(SQLQuery)\n",
    "        return str({\"SQLquery\":SQLQuery, \"Answer\": str([i for i in container_client.query_items(query=SQLQuery, enable_cross_partition_query=True)])})"
   ]
  },
  {
   "cell_type": "code",
   "execution_count": 11,
   "metadata": {},
   "outputs": [
    {
     "name": "stdout",
     "output_type": "stream",
     "text": [
      "CLARIFICATION\n",
      "{'SQLquery': 'No query', 'Answer': \"Could you please specify the product name or category for 'surface devices'?\"}\n"
     ]
    }
   ],
   "source": [
    "output = GetSQLDBAnswer(\"how many surface devices were sold on 2023?\")\n",
    "print(output)"
   ]
  },
  {
   "cell_type": "code",
   "execution_count": 16,
   "metadata": {},
   "outputs": [],
   "source": [
    "def run_conversation(question):\n",
    "    # Initial user message\n",
    "    messages = [{\"role\":\"system\",\"content\":\"You are an assistant that help answering questions from either an AI Search Index or a CosmosDB Database. Please only answer the questions if any of the tools provide it, If tool_calls=None please state that you dont have access to the source of that information and pass the message from the function calls\"}, {\"role\": \"user\", \"content\": question}] # Single function call\n",
    "\n",
    "    # Define the function for the model\n",
    "    tools = [\n",
    "        {\n",
    "            \"type\": \"function\",\n",
    "            \"function\": {\n",
    "                \"name\": \"GetCosmosDBAnswer\",\n",
    "                \"description\": \"\"\"Take a query, run a NoSQL query on the CosmosDB database, and return the result. \n",
    "                Only answer questions from the following database schema: DI_Text_HTML_PageSplitter(page_num INTEGER, content VARCHAR, title VARCHAR, chunk_id VARCHAR, preprocessing_pipeline VARCHAR, filename VARCHAR, filing_period VARCHAR, filing_date VARCHAR, form_type VARCHAR, ticker VARCHAR PRIMARY KEY (chunk_id))\n",
    "                This database contains chunks (sections) that were extracting from SEC filings. Mentioning company names or tickers should not trigger this function unless they ask something about the schema. An example of a question that cannot be answered by this function is: How many stocks did microsoft repurchased in 2023?\n",
    "                This function should only be used to answer database-like questions.\n",
    "                DO NOT use this function if the question is not related to the database schema provided.\"\"\",\n",
    "                \"parameters\": {\n",
    "                    \"type\": \"object\",\n",
    "                    \"properties\": {\n",
    "                        \"question\": {\n",
    "                            \"type\": \"string\",\n",
    "                            \"description\": \"question that needs to be answered using the CosmosDB database. Please pass in verbatim the question that the user asked.\",\n",
    "                        },\n",
    "                    },\n",
    "                    \"required\": [\"query\"],\n",
    "                },\n",
    "            }\n",
    "        }\n",
    "    ]\n",
    "\n",
    "    # First API call: Ask the model to use the function\n",
    "    response = aoai_client.chat.completions.create(\n",
    "        model=\"gpt4o\",\n",
    "        messages=messages,\n",
    "        tools=tools,\n",
    "        tool_choice=\"auto\",\n",
    "        seed=42\n",
    "    )\n",
    "\n",
    "    # Process the model's response\n",
    "    response_message = response.choices[0].message\n",
    "    messages.append(response_message)\n",
    "\n",
    "\n",
    "    print(\"Model's response:\")  \n",
    "    print(response_message.tool_calls)  \n",
    "\n",
    "    # Handle function calls\n",
    "    if response_message.tool_calls:\n",
    "        for tool_call in response_message.tool_calls:\n",
    "            function_name = tool_call.function.name\n",
    "            function_args = json.loads(tool_call.function.arguments)\n",
    "            print(f\"Function call: {function_name}\")  \n",
    "            print(f\"Function arguments: {function_args}\") \n",
    "\n",
    "            if function_name == \"GetCosmosDBAnswer\":\n",
    "                function_response = GetCosmosDBAnswer(\n",
    "                    question=function_args.get(\"question\")\n",
    "                )\n",
    "                print(f\"Function response: {function_response}\")\n",
    "            else:\n",
    "                function_response = \"Function not found\"\n",
    "            \n",
    "        messages.append({\n",
    "                \"tool_call_id\": tool_call.id,\n",
    "                \"role\": \"tool\",\n",
    "                \"name\": function_name,\n",
    "                \"content\": function_response,\n",
    "            })\n",
    "    else:\n",
    "        print(\"No tool calls were made by the model.\")\n",
    "        messages.append({\"role\": \"system\", \"content\": \"No functions or tools were called by the model.\"})\n",
    "    \n",
    "    \n",
    "    print(messages)\n",
    "    final_response = aoai_client.chat.completions.create(\n",
    "        model='gpt4o',\n",
    "        messages=messages,\n",
    "        seed=42\n",
    "    )\n",
    "\n",
    "    return final_response.choices[0].message.content"
   ]
  },
  {
   "cell_type": "code",
   "execution_count": 17,
   "metadata": {},
   "outputs": [
    {
     "name": "stdout",
     "output_type": "stream",
     "text": [
      "Model's response:\n",
      "[ChatCompletionMessageToolCall(id='call_Tcz75D8T7YGJHQqJyphx3sFq', function=Function(arguments='{\"question\":\"How many quarterly filings were done in the last 2 quarters of 2023?\"}', name='GetCosmosDBAnswer'), type='function')]\n",
      "Function call: GetCosmosDBAnswer\n",
      "Function arguments: {'question': 'How many quarterly filings were done in the last 2 quarters of 2023?'}\n",
      "SELECT VALUE COUNT(1) FROM (SELECT DISTINCT c.filename FROM c WHERE c.form_type = '10Q' AND (c.filing_date BETWEEN '2023-07-01' AND '2023-12-31'))\n",
      "Function response: {'NoSQLQuery': \"SELECT VALUE COUNT(1) FROM (SELECT DISTINCT c.filename FROM c WHERE c.form_type = '10Q' AND (c.filing_date BETWEEN '2023-07-01' AND '2023-12-31'))\", 'Answer': '[5]'}\n",
      "[{'role': 'system', 'content': 'You are an assistant that help answering questions from either an AI Search Index or a CosmosDB Database. Please only answer the questions if any of the tools provide it, If tool_calls=None please state that you dont have access to the source of that information and pass the message from the function calls'}, {'role': 'user', 'content': 'Who many quarterly filings were done in the last 2 quarters of 2023?'}, ChatCompletionMessage(content=None, role='assistant', function_call=None, tool_calls=[ChatCompletionMessageToolCall(id='call_Tcz75D8T7YGJHQqJyphx3sFq', function=Function(arguments='{\"question\":\"How many quarterly filings were done in the last 2 quarters of 2023?\"}', name='GetCosmosDBAnswer'), type='function')]), {'tool_call_id': 'call_Tcz75D8T7YGJHQqJyphx3sFq', 'role': 'tool', 'name': 'GetCosmosDBAnswer', 'content': '{\\'NoSQLQuery\\': \"SELECT VALUE COUNT(1) FROM (SELECT DISTINCT c.filename FROM c WHERE c.form_type = \\'10Q\\' AND (c.filing_date BETWEEN \\'2023-07-01\\' AND \\'2023-12-31\\'))\", \\'Answer\\': \\'[5]\\'}'}]\n"
     ]
    },
    {
     "data": {
      "text/plain": [
       "'There were 5 quarterly filings done in the last 2 quarters of 2023.'"
      ]
     },
     "execution_count": 17,
     "metadata": {},
     "output_type": "execute_result"
    }
   ],
   "source": [
    "run_conversation(\"Who many quarterly filings were done in the last 2 quarters of 2023?\")"
   ]
  },
  {
   "cell_type": "code",
   "execution_count": 18,
   "metadata": {},
   "outputs": [
    {
     "name": "stdout",
     "output_type": "stream",
     "text": [
      "Model's response:\n",
      "None\n",
      "No tool calls were made by the model.\n",
      "[{'role': 'system', 'content': 'You are an assistant that help answering questions from either an AI Search Index or a CosmosDB Database. Please only answer the questions if any of the tools provide it, If tool_calls=None please state that you dont have access to the source of that information and pass the message from the function calls'}, {'role': 'user', 'content': 'Who won the world cup in 2023?'}, ChatCompletionMessage(content=\"I don't have access to the source of that information.\", role='assistant', function_call=None, tool_calls=None), {'role': 'system', 'content': 'No functions or tools were called by the model.'}]\n"
     ]
    },
    {
     "data": {
      "text/plain": [
       "\"I don't have access to the source of that information.\""
      ]
     },
     "execution_count": 18,
     "metadata": {},
     "output_type": "execute_result"
    }
   ],
   "source": [
    "run_conversation(\"Who won the world cup in 2023?\")"
   ]
  },
  {
   "cell_type": "code",
   "execution_count": null,
   "metadata": {},
   "outputs": [],
   "source": []
  }
 ],
 "metadata": {
  "kernelspec": {
   "display_name": "Python 3",
   "language": "python",
   "name": "python3"
  },
  "language_info": {
   "codemirror_mode": {
    "name": "ipython",
    "version": 3
   },
   "file_extension": ".py",
   "mimetype": "text/x-python",
   "name": "python",
   "nbconvert_exporter": "python",
   "pygments_lexer": "ipython3",
   "version": "3.12.2"
  }
 },
 "nbformat": 4,
 "nbformat_minor": 2
}
