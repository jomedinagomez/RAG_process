{
 "cells": [
  {
   "cell_type": "markdown",
   "metadata": {},
   "source": [
    "### Importing libraries"
   ]
  },
  {
   "cell_type": "code",
   "execution_count": 38,
   "metadata": {},
   "outputs": [],
   "source": [
    "from azure.cosmos import CosmosClient\n",
    "from azure.core.credentials import AzureKeyCredential\n",
    "from azure.identity import ClientSecretCredential, DefaultAzureCredential\n",
    "from azure.cosmos.partition_key import PartitionKey\n",
    "\n",
    "from azure.search.documents.indexes import SearchIndexClient  \n",
    "from azure.search.documents import SearchClient  \n",
    "\n",
    "from azure.search.documents.models import VectorizableTextQuery\n",
    "from azure.search.documents.models import QueryType, QueryCaptionType, QueryAnswerType\n",
    "\n",
    "import pandas as pd\n",
    "\n",
    "from dotenv import load_dotenv\n",
    "import pandas as pd\n",
    "load_dotenv(override=True)\n",
    "import json\n",
    "\n",
    "import os\n",
    "\n",
    "# Using DefaultAzureCredential (recommended)\n",
    "# https://techcommunity.microsoft.com/t5/azure-architecture-blog/configure-rbac-for-cosmos-db-with-managed-identity-instead-of/ba-p/3056638#:~:text=Create%20custom%20roles%20MyReadOnlyRole%20and%20MyReadWriteRole%20with%20both,definition%20create%20-a%20%24accountName%20-g%20%24resourceGroupName%20-b%20%40role-definition-ro.json\n",
    "aad_credentials = DefaultAzureCredential()\n",
    "\n",
    "AZURE_COSMOS_DB_ENDPOINT=os.environ['AZURE_COSMOS_DB_ENDPOINT']\n",
    "AZURE_COSMOS_DB_KEY= os.environ['AZURE_COSMOS_DB_KEY']\n",
    "AZURE_COSMOS_DB_DATABASE= os.environ['AZURE_COSMOS_DB_DATABASE']\n",
    "AZURE_COSMOS_DB_CONN= os.environ['AZURE_COSMOS_DB_CONN']\n",
    "azurecosmosdbclient = CosmosClient(AZURE_COSMOS_DB_ENDPOINT, credential=aad_credentials)\n",
    "\n",
    "CONTAINER_ID = os.environ['AZURE_COSMOS_DB_CONTAINER']\n",
    "PartitionKeyPath = \"/chunk_id\"\n",
    "\n",
    "database_client = azurecosmosdbclient.get_database_client(AZURE_COSMOS_DB_DATABASE)\n",
    "container_client = database_client.get_container_client(CONTAINER_ID)\n",
    "azure_openai_chatgpt_deployment= 'gpt4o'\n",
    "\n",
    "from openai import AzureOpenAI\n",
    "aoai_client = AzureOpenAI(\n",
    "  azure_endpoint = os.getenv(\"AZURE_OPENAI_ENDPOINT\"), \n",
    "  api_key=os.getenv(\"AZURE_OPENAI_API_KEY\"),  \n",
    "  api_version=\"2024-07-01-preview\"\n",
    ")\n",
    "\n",
    "# Variables not used here do not need to be updated in your .env file\n",
    "AZURE_SEARCH_SERVICE_ENDPOINT = os.environ[\"AZURE_SEARCH_SERVICE_ENDPOINT\"]\n",
    "AZURE_SEARCH_ADMIN_CREDENTIAL = AzureKeyCredential(os.getenv(\"AZURE_SEARCH_ADMIN_KEY\")) if os.getenv(\"AZURE_SEARCH_ADMIN_KEY\") else DefaultAzureCredential()\n",
    "AZURE_SEARCH_INDEX_NAME = os.getenv(\"AZURE_SEARCH_INDEX_NAME\").lower().replace(\"_\", \"-\")\n",
    "\n",
    "search_client = SearchClient(endpoint=AZURE_SEARCH_SERVICE_ENDPOINT, index_name=AZURE_SEARCH_INDEX_NAME, credential=AZURE_SEARCH_ADMIN_CREDENTIAL)\n"
   ]
  },
  {
   "cell_type": "markdown",
   "metadata": {},
   "source": [
    "### CosmosDB Tool calling"
   ]
  },
  {
   "cell_type": "markdown",
   "metadata": {},
   "source": [
    "#### CosmosDB GetCosmosDBAnswer Function definition"
   ]
  },
  {
   "cell_type": "code",
   "execution_count": 39,
   "metadata": {},
   "outputs": [],
   "source": [
    "#https://github.com/Azure/azure-search-vector-samples/blob/main/demo-python/code/advanced-workflow/query-rewrite/query-rewrite.ipynb"
   ]
  },
  {
   "cell_type": "code",
   "execution_count": 58,
   "metadata": {},
   "outputs": [],
   "source": [
    "import json\n",
    "                                                               \n",
    "REWRITE_PROMPT = \"\"\"You are a helpful assistant. You help users search for the answers to their questions.\n",
    "You have access to Azure AI Search index with 100's of documents. Rewrite the following question into multiple to find the most relevant documents.\n",
    "\n",
    "- If the \"Current user question\" has multiple questions, please generate search intents for all questions in a single array.\n",
    "    - Always include a query for combined search intent. This extra search query will ensure we can find if a document exists that can answer question directly.\n",
    "    - For example if a user asks - \"What is A, B and C?\", you should return - [\"intent A\", \"intent B\", intent C\", \"intent A, B and C\"].\n",
    "\n",
    "- Important information:\n",
    "    - This system is designed to help with SEC filings, so if you find any company mentioned, please replace the company name that you find with ticker. For example, microsfot should be replaced with MSFT.\n",
    "\n",
    "Always output a JSON object in the following format:\n",
    "===\n",
    "Input: \"scalable storage solution\"\n",
    "Output: { \"queries\": [\"what is a scalable storage solution in Azure\", \"how to create a scalable storage solution\", \"steps to create a scalable storage solution\"] }\n",
    "===\n",
    "\"\"\"\n",
    "\n",
    "# If you are not using a supported model or region, you may not be able to use json_object response format\n",
    "# Please see https://learn.microsoft.com/azure/ai-services/openai/how-to/json-mode\n",
    "def rewrite_query(question: str):\n",
    "    response = aoai_client.chat.completions.create(\n",
    "        model=azure_openai_chatgpt_deployment,\n",
    "        seed=42,\n",
    "        temperature=0.2,\n",
    "        response_format={ \"type\": \"json_object\" },\n",
    "        messages=[\n",
    "            {\"role\": \"system\", \"content\": REWRITE_PROMPT},\n",
    "            {\"role\": \"user\", \"content\": f\"Input: {question}\"}\n",
    "        ]\n",
    "    )\n",
    "    try:\n",
    "        return json.loads(response.choices[0].message.content)\n",
    "    except json.JSONDecodeError as e:\n",
    "        print(\"JSON decoding error:\", e)\n",
    "        raise"
   ]
  },
  {
   "cell_type": "code",
   "execution_count": 59,
   "metadata": {},
   "outputs": [
    {
     "data": {
      "text/plain": [
       "{'queries': ['what is the best AOAI model',\n",
       "  'comparison of AOAI models',\n",
       "  'features of the best AOAI model',\n",
       "  'best AOAI model and its features']}"
      ]
     },
     "execution_count": 59,
     "metadata": {},
     "output_type": "execute_result"
    }
   ],
   "source": [
    "rewrite_query(\"what is the best AOAI model\")"
   ]
  },
  {
   "cell_type": "code",
   "execution_count": 164,
   "metadata": {},
   "outputs": [],
   "source": [
    "def HybridSearch(question):\n",
    "    vector_query = VectorizableTextQuery(text=question, k_nearest_neighbors=30, fields=\"content_vector\", exhaustive=True)\n",
    "    \n",
    "    results = search_client.search(\n",
    "        search_text=question,  \n",
    "        vector_queries=[vector_query],\n",
    "        query_type=QueryType.SEMANTIC, semantic_configuration_name='my-semantic-config', query_caption=QueryCaptionType.EXTRACTIVE, query_answer=QueryAnswerType.EXTRACTIVE,\n",
    "        top=5)\n",
    "    \n",
    "    data = [[result[\"id\"], result[\"title\"], result[\"content\"], result[\"@search.score\"], result[\"@search.reranker_score\"],result['filename']] for result in results]\n",
    "    return pd.DataFrame(data, columns=[\"id\", \"title\", \"content\", \"@search.score\", \"@search.reranker_score\",'filename'])"
   ]
  },
  {
   "cell_type": "code",
   "execution_count": 191,
   "metadata": {},
   "outputs": [],
   "source": [
    "import json\n",
    "                                                               \n",
    "# If you are not using a supported model or region, you may not be able to use json_object response format\n",
    "# Please see https://learn.microsoft.com/azure/ai-services/openai/how-to/json-mode\n",
    "def GetRAGAnswer(question: str):\n",
    "\n",
    "    RAG_PROMPT = \"\"\"You are an agent that works with SEC filings\n",
    "    ## Very Important Instruction\n",
    "        ### On Your Ability to Refuse Answering Out-of-Domain Questions\n",
    "        - **Read the user's query, conversation history, and retrieved documents sentence by sentence carefully.**\n",
    "        - Try your best to understand the user's query (prior conversation can provide more context, you can know what \"it\", \"this\", etc., actually refer to; ignore any requests about the desired format of the response), and assess the user's query based solely on provided documents and prior conversation.\n",
    "        - Classify a query as 'in-domain' if, from the retrieved documents, you can find enough information possibly related to the user's intent which can help you generate a good response to the user's query. Formulate your response by specifically citing relevant sections.\n",
    "        - For queries not upheld by the documents, or in case of unavailability of documents, categorize them as 'out-of-domain'.\n",
    "        - You have the ability to answer general requests (**no extra factual knowledge needed**), e.g., formatting (list results in a table, compose an email, etc.), summarization, translation, math, etc. requests. Categorize general requests as 'in-domain'.\n",
    "        - You don't have the ability to access real-time information, since you cannot browse the internet. Any query about real-time information (e.g., **current stock**, **today's traffic**, **current weather**), MUST be categorized as an **out-of-domain** question, even if the retrieved documents contain relevant information. You have no ability to answer any real-time query.\n",
    "        - Think twice before you decide whether the user's query is really an in-domain question or not. Provide your reason if you decide the user's query is in-domain.\n",
    "        - If you have decided the user's query is an in-domain question, then:\n",
    "            * You **must generate citations for all the sentences** which you have used from the retrieved documents in your response.\n",
    "            * You must generate the answer based on all relevant information from the retrieved documents and conversation history.\n",
    "            * You cannot use your own knowledge to answer in-domain questions.\n",
    "        - If you have decided the user's query is an out-of-domain question, then:\n",
    "            * Your only response is \"The requested information is not available in the retrieved data. Please try another query or topic.\"\n",
    "        - For out-of-domain questions, you **must respond** with \"The requested information is not available in the retrieved data. Please try another query or topic.\"\n",
    "\n",
    "        ### On Your Ability to Do Greeting and General Chat\n",
    "        - **If the user provides a greeting like \"hello\" or \"how are you?\" or casual chat like \"how's your day going\", \"nice to meet you\", you must answer with a greeting.\n",
    "        - Be prepared to handle summarization requests, math problems, and formatting requests as a part of general chat, e.g., \"solve the following math equation\", \"list the result in a table\", \"compose an email\"; they are general chats. Please respond to satisfy the user's requirements.\n",
    "\n",
    "        ### On Your Ability to Answer In-Domain Questions with Citations\n",
    "        - Examine the provided JSON documents diligently, extracting information relevant to the user's inquiry. Forge a concise, clear, and direct response, embedding the extracted facts. Attribute the data to the corresponding document using the citation format [page_num]. Strive to achieve a harmonious blend of brevity, clarity, and precision, maintaining the contextual relevance and consistency of the original source. Above all, confirm that your response satisfies the user's query with accuracy, coherence, and user-friendly composition.\n",
    "        - **You must generate a citation for all the document sources you have referred to at the end of each corresponding sentence in your response.**\n",
    "        - **The citation mark [id] (for example: 10Q-MSFT-04-26-2022-chunk-id-47) must be placed at the end of the corresponding sentence which cited the document.**\n",
    "        - **Every claim statement you generate must have at least one citation.**\n",
    "        \"\"\"\n",
    "    \n",
    "    retreival_df = HybridSearch(question)\n",
    "    CONTEXT = retreival_df[['content', 'filename','id']].to_dict(orient='records')\n",
    "\n",
    "    USER_QUESTION = \"Please answer the following question with the conxt provided. Question: \" + question + \"\\n\" + \"Context: \" + str(CONTEXT)\n",
    "\n",
    "    response = aoai_client.chat.completions.create(\n",
    "        model=azure_openai_chatgpt_deployment,\n",
    "        seed=42,\n",
    "        temperature=0.2,\n",
    "        messages=[\n",
    "            {\"role\": \"system\", \"content\": RAG_PROMPT},\n",
    "            {\"role\": \"user\", \"content\": USER_QUESTION}\n",
    "        ]\n",
    "    )\n",
    "    return response.choices[0].message.content"
   ]
  },
  {
   "cell_type": "code",
   "execution_count": 199,
   "metadata": {},
   "outputs": [
    {
     "name": "stdout",
     "output_type": "stream",
     "text": [
      "Answer:  Microsoft repurchased 55 million shares of its common stock for the nine months ending March 31, 2023 [10Q-MSFT-04-25-2023-chunk-id-46].\n"
     ]
    },
    {
     "data": {
      "text/html": [
       "<div>\n",
       "<style scoped>\n",
       "    .dataframe tbody tr th:only-of-type {\n",
       "        vertical-align: middle;\n",
       "    }\n",
       "\n",
       "    .dataframe tbody tr th {\n",
       "        vertical-align: top;\n",
       "    }\n",
       "\n",
       "    .dataframe thead th {\n",
       "        text-align: right;\n",
       "    }\n",
       "</style>\n",
       "<table border=\"1\" class=\"dataframe\">\n",
       "  <thead>\n",
       "    <tr style=\"text-align: right;\">\n",
       "      <th></th>\n",
       "      <th>id</th>\n",
       "      <th>title</th>\n",
       "      <th>content</th>\n",
       "      <th>@search.score</th>\n",
       "      <th>@search.reranker_score</th>\n",
       "      <th>filename</th>\n",
       "    </tr>\n",
       "  </thead>\n",
       "  <tbody>\n",
       "    <tr>\n",
       "      <th>0</th>\n",
       "      <td>10Q-MSFT-04-26-2022-chunk-id-47</td>\n",
       "      <td>**Item 2: Share Repurchases, Dividends, Off-Ba...</td>\n",
       "      <td>PART ! Item 2\\nShare Repurchases\\nFor the nine...</td>\n",
       "      <td>0.027313</td>\n",
       "      <td>3.404105</td>\n",
       "      <td>10Q-MSFT-04-26-2022</td>\n",
       "    </tr>\n",
       "    <tr>\n",
       "      <th>1</th>\n",
       "      <td>10Q-MSFT-04-25-2023-chunk-id-46</td>\n",
       "      <td>**Item 2. Management's Discussion and Analysis...</td>\n",
       "      <td>PART ! Item 2\\nThe following table outlines th...</td>\n",
       "      <td>0.015873</td>\n",
       "      <td>3.365809</td>\n",
       "      <td>10Q-MSFT-04-25-2023</td>\n",
       "    </tr>\n",
       "    <tr>\n",
       "      <th>2</th>\n",
       "      <td>10K-MSFT-07-27-2023-chunk-id-52</td>\n",
       "      <td>**PART II Item 7**</td>\n",
       "      <td>PART II Item 7\\nIncome Taxes\\nAs a result of t...</td>\n",
       "      <td>0.018247</td>\n",
       "      <td>2.576517</td>\n",
       "      <td>10K-MSFT-07-27-2023</td>\n",
       "    </tr>\n",
       "    <tr>\n",
       "      <th>3</th>\n",
       "      <td>10Q-MSFT-04-25-2023-chunk-id-30</td>\n",
       "      <td>**Item 1: Revenue by Product and Service Offer...</td>\n",
       "      <td>PART ! Item 1\\nRevenue, classified by signific...</td>\n",
       "      <td>0.013158</td>\n",
       "      <td>2.457031</td>\n",
       "      <td>10Q-MSFT-04-25-2023</td>\n",
       "    </tr>\n",
       "    <tr>\n",
       "      <th>4</th>\n",
       "      <td>10Q-MSFT-04-25-2023-chunk-id-26</td>\n",
       "      <td>**Item 1: Share Repurchase Programs and Divide...</td>\n",
       "      <td>PART ! Item 1\\nWe repurchased the following sh...</td>\n",
       "      <td>0.027584</td>\n",
       "      <td>2.412416</td>\n",
       "      <td>10Q-MSFT-04-25-2023</td>\n",
       "    </tr>\n",
       "  </tbody>\n",
       "</table>\n",
       "</div>"
      ],
      "text/plain": [
       "                                id  \\\n",
       "0  10Q-MSFT-04-26-2022-chunk-id-47   \n",
       "1  10Q-MSFT-04-25-2023-chunk-id-46   \n",
       "2  10K-MSFT-07-27-2023-chunk-id-52   \n",
       "3  10Q-MSFT-04-25-2023-chunk-id-30   \n",
       "4  10Q-MSFT-04-25-2023-chunk-id-26   \n",
       "\n",
       "                                               title  \\\n",
       "0  **Item 2: Share Repurchases, Dividends, Off-Ba...   \n",
       "1  **Item 2. Management's Discussion and Analysis...   \n",
       "2                                 **PART II Item 7**   \n",
       "3  **Item 1: Revenue by Product and Service Offer...   \n",
       "4  **Item 1: Share Repurchase Programs and Divide...   \n",
       "\n",
       "                                             content  @search.score  \\\n",
       "0  PART ! Item 2\\nShare Repurchases\\nFor the nine...       0.027313   \n",
       "1  PART ! Item 2\\nThe following table outlines th...       0.015873   \n",
       "2  PART II Item 7\\nIncome Taxes\\nAs a result of t...       0.018247   \n",
       "3  PART ! Item 1\\nRevenue, classified by signific...       0.013158   \n",
       "4  PART ! Item 1\\nWe repurchased the following sh...       0.027584   \n",
       "\n",
       "   @search.reranker_score             filename  \n",
       "0                3.404105  10Q-MSFT-04-26-2022  \n",
       "1                3.365809  10Q-MSFT-04-25-2023  \n",
       "2                2.576517  10K-MSFT-07-27-2023  \n",
       "3                2.457031  10Q-MSFT-04-25-2023  \n",
       "4                2.412416  10Q-MSFT-04-25-2023  "
      ]
     },
     "execution_count": 199,
     "metadata": {},
     "output_type": "execute_result"
    }
   ],
   "source": [
    "question = (\"How many stocks did Microsoft repurchased for the nine months ending march 2023?\")\n",
    "answer = GetRAGAnswer(question)\n",
    "\n",
    "print(\"Answer: \", answer)\n",
    "HybridSearch(question)"
   ]
  },
  {
   "cell_type": "markdown",
   "metadata": {},
   "source": [
    "### CosmosDB Conversation"
   ]
  },
  {
   "cell_type": "code",
   "execution_count": 194,
   "metadata": {},
   "outputs": [],
   "source": [
    "def run_conversation(question):\n",
    "    # Initial user message\n",
    "    messages = [{\"role\":\"system\",\"content\":\"You are an assistant that help answering questions from either an AI Search Index or a CosmosDB Database. Please only answer the questions if any of the tools provide it, If tool_calls=None please state that you dont have access to the source of that information and pass the message from the function calls\"}, {\"role\": \"user\", \"content\": question}] # Single function call\n",
    "\n",
    "    # Define the function for the model\n",
    "    tools = [\n",
    "        {\n",
    "            \"type\": \"function\",\n",
    "            \"function\": {\n",
    "                \"name\": \"GetRAGAnswer\",\n",
    "                \"description\": \"\"\"This function takes in a question and then calls an Azure AI Search Index to retreive the top N documents, then it calls the Azure OpenAI model to generate an answer based on the context provided by the search engine.\", \n",
    "                This database contains chunks (sections) that were extracting from SEC filings. Mentioning company names or tickers should not trigger this function unless they ask something about the schema. An example of a question that cannot be answered by this function is: How many filings did microsoft have in 2023? The reason is because it would need to investivate a DataBase to do that.\n",
    "                This function should only be used to answer RAG-like questions with information found in SEC filings, for example, 10Ks and 10Qs.\"\"\",\n",
    "                \"parameters\": {\n",
    "                    \"type\": \"object\",\n",
    "                    \"properties\": {\n",
    "                        \"question\": {\n",
    "                            \"type\": \"string\",\n",
    "                            \"description\": \"question that needs to be asked the search index and the model. Please use the verbatin question that the user asked.\",\n",
    "                        },\n",
    "                    },\n",
    "                    \"required\": [\"question\"],\n",
    "                },\n",
    "            }\n",
    "        }\n",
    "    ]\n",
    "\n",
    "    # First API call: Ask the model to use the function\n",
    "    response = aoai_client.chat.completions.create(\n",
    "        model=\"gpt4o\",\n",
    "        messages=messages,\n",
    "        tools=tools,\n",
    "        tool_choice=\"auto\",\n",
    "        seed=42\n",
    "    )\n",
    "\n",
    "    # Process the model's response\n",
    "    response_message = response.choices[0].message\n",
    "    messages.append(response_message)\n",
    "\n",
    "\n",
    "    print(\"Model's response:\")  \n",
    "    print(response_message.tool_calls)  \n",
    "\n",
    "    # Handle function calls\n",
    "    if response_message.tool_calls:\n",
    "        for tool_call in response_message.tool_calls:\n",
    "            function_name = tool_call.function.name\n",
    "            function_args = json.loads(tool_call.function.arguments)\n",
    "            print(f\"Function call: {function_name}\")  \n",
    "            print(f\"Function arguments: {function_args}\") \n",
    "\n",
    "            if function_name == \"GetRAGAnswer\":\n",
    "                function_response = GetRAGAnswer(\n",
    "                    question=function_args.get(\"question\")\n",
    "                )\n",
    "                print(f\"Function response: {function_response}\")\n",
    "            else:\n",
    "                function_response = \"Function not found\"\n",
    "            \n",
    "        messages.append({\n",
    "                \"tool_call_id\": tool_call.id,\n",
    "                \"role\": \"tool\",\n",
    "                \"name\": function_name,\n",
    "                \"content\": function_response,\n",
    "            })\n",
    "    else:\n",
    "        print(\"No tool calls were made by the model.\")\n",
    "        messages.append({\"role\": \"system\", \"content\": \"No functions or tools were called by the model.\"})\n",
    "    \n",
    "    \n",
    "    print(messages)\n",
    "    final_response = aoai_client.chat.completions.create(\n",
    "        model='gpt4o',\n",
    "        messages=messages,\n",
    "        seed=42\n",
    "    )\n",
    "\n",
    "    return final_response.choices[0].message.content"
   ]
  },
  {
   "cell_type": "code",
   "execution_count": 195,
   "metadata": {},
   "outputs": [
    {
     "name": "stdout",
     "output_type": "stream",
     "text": [
      "Model's response:\n",
      "[ChatCompletionMessageToolCall(id='call_ow0gHsWWrds7J95rU9rQKaZt', function=Function(arguments='{\"question\":\"How many stocks did Microsoft repurchase for the nine months ending March 2023?\"}', name='GetRAGAnswer'), type='function')]\n",
      "Function call: GetRAGAnswer\n",
      "Function arguments: {'question': 'How many stocks did Microsoft repurchase for the nine months ending March 2023?'}\n",
      "Function response: Microsoft repurchased 55 million shares of its common stock for $13.8 billion during the nine months ended March 31, 2023 [10Q-MSFT-04-25-2023-chunk-id-46].\n",
      "[{'role': 'system', 'content': 'You are an assistant that help answering questions from either an AI Search Index or a CosmosDB Database. Please only answer the questions if any of the tools provide it, If tool_calls=None please state that you dont have access to the source of that information and pass the message from the function calls'}, {'role': 'user', 'content': 'How many stocks did Microsoft repurchased for the nine months ending march 2023?'}, ChatCompletionMessage(content=None, role='assistant', function_call=None, tool_calls=[ChatCompletionMessageToolCall(id='call_ow0gHsWWrds7J95rU9rQKaZt', function=Function(arguments='{\"question\":\"How many stocks did Microsoft repurchase for the nine months ending March 2023?\"}', name='GetRAGAnswer'), type='function')]), {'tool_call_id': 'call_ow0gHsWWrds7J95rU9rQKaZt', 'role': 'tool', 'name': 'GetRAGAnswer', 'content': 'Microsoft repurchased 55 million shares of its common stock for $13.8 billion during the nine months ended March 31, 2023 [10Q-MSFT-04-25-2023-chunk-id-46].'}]\n"
     ]
    },
    {
     "data": {
      "text/plain": [
       "'Microsoft repurchased 55 million shares of its common stock for $13.8 billion during the nine months ended March 31, 2023.'"
      ]
     },
     "execution_count": 195,
     "metadata": {},
     "output_type": "execute_result"
    }
   ],
   "source": [
    "run_conversation(\"How many stocks did Microsoft repurchased for the nine months ending march 2023?\")"
   ]
  },
  {
   "cell_type": "code",
   "execution_count": 201,
   "metadata": {},
   "outputs": [
    {
     "name": "stdout",
     "output_type": "stream",
     "text": [
      "Model's response:\n",
      "None\n",
      "No tool calls were made by the model.\n",
      "[{'role': 'system', 'content': 'You are an assistant that help answering questions from either an AI Search Index or a CosmosDB Database. Please only answer the questions if any of the tools provide it, If tool_calls=None please state that you dont have access to the source of that information and pass the message from the function calls'}, {'role': 'user', 'content': 'How many documents exist for 2023?'}, ChatCompletionMessage(content=\"I don't have access to the source of that information.\", role='assistant', function_call=None, tool_calls=None), {'role': 'system', 'content': 'No functions or tools were called by the model.'}]\n"
     ]
    },
    {
     "data": {
      "text/plain": [
       "\"I don't have access to the source of that information.\""
      ]
     },
     "execution_count": 201,
     "metadata": {},
     "output_type": "execute_result"
    }
   ],
   "source": [
    "run_conversation(\"How many documents exist for 2023?\")"
   ]
  }
 ],
 "metadata": {
  "kernelspec": {
   "display_name": "Python 3",
   "language": "python",
   "name": "python3"
  },
  "language_info": {
   "codemirror_mode": {
    "name": "ipython",
    "version": 3
   },
   "file_extension": ".py",
   "mimetype": "text/x-python",
   "name": "python",
   "nbconvert_exporter": "python",
   "pygments_lexer": "ipython3",
   "version": "3.12.2"
  }
 },
 "nbformat": 4,
 "nbformat_minor": 2
}
