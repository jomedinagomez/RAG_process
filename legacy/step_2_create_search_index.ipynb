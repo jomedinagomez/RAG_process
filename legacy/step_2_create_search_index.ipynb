{
 "cells": [
  {
   "cell_type": "markdown",
   "id": "35b57308-3eb4-4b96-a560-2b7d73c82faa",
   "metadata": {},
   "source": [
    "### Step_0: Load Libraries"
   ]
  },
  {
   "cell_type": "code",
   "execution_count": 13,
   "id": "cc787df5-7133-4c26-be09-1189e402a516",
   "metadata": {
    "tags": []
   },
   "outputs": [],
   "source": [
    "# Import required libraries  \n",
    "import os  \n",
    "import json  \n",
    "import openai  \n",
    "import pandas as pd\n",
    "from dotenv import load_dotenv  \n",
    "from tenacity import retry, wait_random_exponential, stop_after_attempt  \n",
    "from azure.core.credentials import AzureKeyCredential  \n",
    "from azure.search.documents import SearchClient  \n",
    "from azure.search.documents.indexes import SearchIndexClient  \n",
    "from azure.search.documents.models import Vector  \n",
    "from azure.search.documents.indexes.models import (  \n",
    "    SearchIndex,  \n",
    "    SearchField,  \n",
    "    SearchFieldDataType,  \n",
    "    SimpleField,  \n",
    "    SearchableField,  \n",
    "    SearchIndex,  \n",
    "    SemanticConfiguration,  \n",
    "    PrioritizedFields,  \n",
    "    SemanticField,  \n",
    "    SearchField,  \n",
    "    SemanticSettings,  \n",
    "    VectorSearch,  \n",
    "    HnswVectorSearchAlgorithmConfiguration,  \n",
    ")  \n",
    "  \n",
    "\n",
    "# Configure environment variables  \n",
    "load_dotenv()  \n",
    "service_endpoint = os.getenv(\"AZURE_SEARCH_SERVICE_ENDPOINT_2\") \n",
    "index_name = os.getenv(\"AZURE_SEARCH_INDEX_NAME_2\") \n",
    "key = os.getenv(\"AZURE_SEARCH_ADMIN_KEY_2\") \n",
    "openai.api_type = \"azure\"  \n",
    "openai.api_key = os.getenv(\"AZURE_OPENAI_API_KEY\")  \n",
    "openai.api_base = os.getenv(\"AZURE_OPENAI_ENDPOINT\")  \n",
    "openai.api_version = os.getenv(\"AZURE_OPENAI_API_VERSION\") \n",
    "model: str = \"text-embedding-ada-002\" \n",
    "credential = AzureKeyCredential(key)\n"
   ]
  },
  {
   "cell_type": "markdown",
   "id": "e96c65ea-df38-4022-87e2-7dc659e992c4",
   "metadata": {},
   "source": [
    "### Step_1: Create Search Index"
   ]
  },
  {
   "cell_type": "code",
   "execution_count": 14,
   "id": "be20003f-0743-4ec2-9d77-cdedf430ac6b",
   "metadata": {
    "tags": []
   },
   "outputs": [
    {
     "name": "stdout",
     "output_type": "stream",
     "text": [
      " longcontextindex created\n"
     ]
    }
   ],
   "source": [
    "# Create a search index\n",
    "index_client = SearchIndexClient(\n",
    "    endpoint=service_endpoint, credential=credential)\n",
    "fields = [\n",
    "    SimpleField(name=\"id\", type=\"Edm.String\", key=True, sortable=True, filterable=True, facetable=True),\n",
    "    SearchableField(name=\"content\", type=SearchFieldDataType.String),\n",
    "    SimpleField(name=\"category\", type=\"Edm.String\"),\n",
    "    SimpleField(name=\"sourcepage\", type=\"Edm.String\", filterable=True, facetable=True),\n",
    "    SimpleField(name=\"sourcefile\", type=\"Edm.String\", filterable=True, facetable=True),\n",
    "    SearchableField(name=\"companyname\", type=SearchFieldDataType.String, key=False, sortable=True, filterable=True, facetable=True),\n",
    "    SearchableField(name=\"formtype\", type=SearchFieldDataType.String, key=False, sortable=True, filterable=True, facetable=True),        \n",
    "    SearchableField(name=\"fiscalyear\", type=SearchFieldDataType.String, key=False, sortable=True, filterable=True, facetable=True),\n",
    "    SearchableField(name=\"quarter\", type=SearchFieldDataType.String, key=False, sortable=True, filterable=True, facetable=True),\n",
    "    SearchField(name=\"embedding\", type=SearchFieldDataType.Collection(SearchFieldDataType.Single),\n",
    "                searchable=True, vector_search_dimensions=1536, vector_search_configuration=\"modified-vector-config\"),\n",
    "    SearchableField(name=\"description\", type=SearchFieldDataType.String),\n",
    "    SearchField(name=\"description_embedding\", type=SearchFieldDataType.Collection(SearchFieldDataType.Single),\n",
    "                searchable=True, vector_search_dimensions=1536, vector_search_configuration=\"modified-vector-config\"),\n",
    "]\n",
    "\n",
    "\n",
    "\n",
    "vector_search = VectorSearch(\n",
    "    algorithm_configurations=[\n",
    "        HnswVectorSearchAlgorithmConfiguration(\n",
    "            name=\"modified-vector-config\",\n",
    "            kind=\"hnsw\",\n",
    "            parameters={\n",
    "                \"m\": 4,\n",
    "                \"efConstruction\": 400,\n",
    "                \"efSearch\": 500,\n",
    "                \"metric\": \"cosine\"\n",
    "            }\n",
    "        )\n",
    "    ]\n",
    ")\n",
    "\n",
    "semantic_config = SemanticConfiguration(\n",
    "    name=\"boosted-semantic-config\",\n",
    "    prioritized_fields=PrioritizedFields(\n",
    "        title_field=None,\n",
    "        prioritized_keywords_fields=[SemanticField(field_name=\"category\"),SemanticField(field_name=\"companyname\"),SemanticField(field_name=\"formtype\")],\n",
    "        prioritized_content_fields=[SemanticField(field_name=\"content\"), SemanticField(field_name=\"description\")]\n",
    "    )\n",
    ")\n",
    "\n",
    "# Create the semantic settings with the configuration\n",
    "semantic_settings = SemanticSettings(configurations=[semantic_config])\n",
    "\n",
    "# Create the search index with the semantic settings\n",
    "index = SearchIndex(name=index_name, fields=fields,\n",
    "                    vector_search=vector_search, semantic_settings=semantic_settings)\n",
    "result = index_client.create_or_update_index(index)\n",
    "print(f' {result.name} created')"
   ]
  },
  {
   "cell_type": "code",
   "execution_count": null,
   "id": "b19fa000-c00c-4a91-8cad-98cdad7ea603",
   "metadata": {},
   "outputs": [],
   "source": []
  },
  {
   "cell_type": "code",
   "execution_count": null,
   "id": "bcc03344-2000-434b-9132-dd41280a8357",
   "metadata": {},
   "outputs": [],
   "source": []
  }
 ],
 "metadata": {
  "kernelspec": {
   "display_name": "Python 3 (ipykernel)",
   "language": "python",
   "name": "python3"
  },
  "language_info": {
   "codemirror_mode": {
    "name": "ipython",
    "version": 3
   },
   "file_extension": ".py",
   "mimetype": "text/x-python",
   "name": "python",
   "nbconvert_exporter": "python",
   "pygments_lexer": "ipython3",
   "version": "3.11.3"
  }
 },
 "nbformat": 4,
 "nbformat_minor": 5
}
