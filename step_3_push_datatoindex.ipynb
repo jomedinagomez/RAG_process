{
 "cells": [
  {
   "cell_type": "markdown",
   "id": "d3cc668e-bdc3-4569-89ee-7e23d9c3f64d",
   "metadata": {},
   "source": [
    "### Import required libraries and environment variables"
   ]
  },
  {
   "cell_type": "code",
   "execution_count": 1,
   "id": "0b2c66e1-c536-40e0-bf37-e2df913ed884",
   "metadata": {
    "tags": []
   },
   "outputs": [],
   "source": [
    "# Import required libraries  \n",
    "import os  \n",
    "import json  \n",
    "import openai  \n",
    "import pandas as pd\n",
    "from dotenv import load_dotenv  \n",
    "from tenacity import retry, wait_random_exponential, stop_after_attempt  \n",
    "from azure.core.credentials import AzureKeyCredential  \n",
    "from azure.search.documents import SearchClient  \n",
    "from azure.search.documents.indexes import SearchIndexClient  \n",
    "from azure.search.documents.models import Vector  \n",
    "from azure.search.documents.indexes.models import (  \n",
    "    SearchIndex,  \n",
    "    SearchField,  \n",
    "    SearchFieldDataType,  \n",
    "    SimpleField,  \n",
    "    SearchableField,  \n",
    "    SearchIndex,  \n",
    "    SemanticConfiguration,  \n",
    "    PrioritizedFields,  \n",
    "    SemanticField,  \n",
    "    SearchField,  \n",
    "    SemanticSettings,  \n",
    "    VectorSearch,  \n",
    "    HnswVectorSearchAlgorithmConfiguration,  \n",
    ")  \n",
    "\n",
    "@retry(wait=wait_random_exponential(min=1, max=20), stop=stop_after_attempt(6))\n",
    "# Function to generate embeddings for title and content fields, also used for query embeddings\n",
    "def generate_embeddings(text):\n",
    "    response = openai.Embedding.create(\n",
    "        input=text, engine=\"text-embedding-ada-002\")\n",
    "    embeddings = response['data'][0]['embedding']\n",
    "    return embeddings\n",
    "  \n",
    "# Configure environment variables  \n",
    "# Configure environment variables  \n",
    "load_dotenv()  \n",
    "service_endpoint = os.getenv(\"AZURE_SEARCH_SERVICE_ENDPOINT\") \n",
    "index_name = os.getenv(\"AZURE_SEARCH_INDEX_NAME\") \n",
    "key = os.getenv(\"AZURE_SEARCH_ADMIN_KEY\") \n",
    "openai.api_type = \"azure\"  \n",
    "openai.api_key = os.getenv(\"AZURE_OPENAI_API_KEY\")  \n",
    "openai.api_base = os.getenv(\"AZURE_OPENAI_ENDPOINT\")  \n",
    "openai.api_version = os.getenv(\"AZURE_OPENAI_API_VERSION\") \n",
    "credential = AzureKeyCredential(key)"
   ]
  },
  {
   "cell_type": "markdown",
   "id": "bdb1604c-b1e1-44c9-b445-417c1586d419",
   "metadata": {},
   "source": [
    "### Modifying vector"
   ]
  },
  {
   "cell_type": "code",
   "execution_count": 2,
   "id": "33d96bff-36b5-4d49-851f-c1abd407c45e",
   "metadata": {
    "tags": []
   },
   "outputs": [],
   "source": [
    "# Generate Document Embeddings using OpenAI Ada 002\n",
    "\n",
    "# Read the text-sample.json\n",
    "with open('output/enrichedVectors.json', 'r', encoding='utf-8') as file:\n",
    "    input_data = json.load(file)"
   ]
  },
  {
   "cell_type": "code",
   "execution_count": 3,
   "id": "0409ffe1-1427-49d5-8527-ac2269b8620c",
   "metadata": {
    "tags": []
   },
   "outputs": [],
   "source": [
    "# Generate embeddings for title and content fields\n",
    "for item in input_data:\n",
    "    item['@search.action'] = 'upload'\n",
    "\n",
    "# Output embeddings to docVectors.json file\n",
    "with open(\"output/docVectors.json\", \"w\") as f:\n",
    "    json.dump(input_data, f)"
   ]
  },
  {
   "cell_type": "markdown",
   "id": "8b4ddeed-cf73-427c-b625-b18ff99eb0af",
   "metadata": {},
   "source": [
    "## Insert text and embeddings into vector store\n",
    "Add texts and metadata from the JSON data to the vector store:"
   ]
  },
  {
   "cell_type": "code",
   "execution_count": 4,
   "id": "12a539a1-bea8-43a1-b7c6-d12b84bbad5d",
   "metadata": {
    "tags": []
   },
   "outputs": [
    {
     "name": "stdout",
     "output_type": "stream",
     "text": [
      "-----------------------------------------------\n",
      "This is a Form 10-Q SEC filing for Microsoft Corporation for the quarter ended March 31, 2023. The company is registered with the NASDAQ exchange and is classified as a large accelerated filer. As of April 20, 2023, Microsoft had 7,435,487,575 shares of common stock outstanding. The report includes financial statements detailing revenue, costs, gross margin, operating income, and net income for the period. The company's total revenue for the quarter was $52,857 million, with a net income of $18,299 million. The company's assets include cash and cash equivalents of $26,562 million and short-term investments of $77,865 million.\n",
      "-----------------------------------------------\n",
      "The text contains financial data from various financial statements. \n",
      "\n",
      "1. Income statement data: Net income of $18,299 and $16,728 for two different periods. Other comprehensive income (loss) of $813 and $(2,913) for the same periods. \n",
      "\n",
      "2. Balance sheet data: Total assets of $380,088 and $364,840 for two different periods. Total liabilities of $185,405 and $198,298 for the same periods. Total stockholders' equity of $194,683 and $166,542 for the same periods.\n",
      "\n",
      "3. Cash flow statement data: Net cash from operations of $24,441 and $25,386 for two different periods. Net cash used in financing of $(10,290) and $(17,345) for the same periods. Net cash used in investing of $(3,264) and $(16,171) for the same periods. \n",
      "\n",
      "4. Stockholders' equity statement data is not provided in the given text.\n"
     ]
    }
   ],
   "source": [
    "for i in input_data[:2]:\n",
    "    print(\"-----------------------------------------------\")\n",
    "    print(i['description'])"
   ]
  },
  {
   "cell_type": "code",
   "execution_count": 3,
   "id": "9843795d-6be3-4cfe-ac2a-a1a44591e215",
   "metadata": {
    "tags": []
   },
   "outputs": [],
   "source": [
    "# Upload some documents to the index\n",
    "with open('output/docVectors.json', 'r') as file:  \n",
    "    documents = json.load(file)  \n",
    "search_client = SearchClient(endpoint=service_endpoint, index_name=index_name, credential=credential)\n",
    "result = search_client.upload_documents(documents)\n",
    "print(f\"Uploaded {len(documents)} documents\")"
   ]
  },
  {
   "cell_type": "markdown",
   "id": "715ceeb9-c177-450a-9d1c-32914d0cef25",
   "metadata": {
    "tags": []
   },
   "source": [
    "## Perform a Semantic Hybrid Search for short context"
   ]
  },
  {
   "cell_type": "markdown",
   "metadata": {},
   "source": [
    "### Getting Top N Documents"
   ]
  },
  {
   "cell_type": "code",
   "execution_count": 4,
   "metadata": {},
   "outputs": [],
   "source": [
    "# Semantic Hybrid Search\n",
    "query =\"What was Microsoft’s revenue for the nine months that ended on March 31 2023?\"\n",
    "\n",
    "vector = Vector(value=generate_embeddings(query), k=10, fields=\"embedding\")\n",
    "\n",
    "results = search_client.search(  \n",
    "    search_text=query,  \n",
    "    vectors=[vector],\n",
    "    select=[\"content\",\"id\",\"sourcefile\"],\n",
    "    query_type=\"semantic\", query_language=\"en-us\", semantic_configuration_name='boosted-semantic-config', query_caption=\"extractive\", query_answer=\"extractive\",\n",
    "    top=3\n",
    ")"
   ]
  },
  {
   "cell_type": "markdown",
   "metadata": {},
   "source": [
    "### Answering question from context"
   ]
  },
  {
   "cell_type": "code",
   "execution_count": 5,
   "id": "63f7b0c4-626a-437e-b16d-65073a78e1e5",
   "metadata": {
    "tags": []
   },
   "outputs": [
    {
     "name": "stdout",
     "output_type": "stream",
     "text": [
      "[{'role': 'system', 'content': \"\\nAssistant helps the company employees answering questions from SEC filings like 10Q and 10K. Be brief in your answers.\\nAnswer ONLY with the facts listed in the list of sources below. If there isn't enough information below, say you don't know. Do not generate answers that don't use the sources below. If asking a clarifying question to the user would help, ask the question.\\nDO NOT generate answers that DON'T use the sources below for any of the previous questions\\nFor tabular information return it as an html table. Do not return markdown format.\\nEach source has a name followed by colon and the actual information, always include the source name for each fact you use in the response. Use square brakets to reference the source, e.g. [info1.txt]. Don't combine sources, list each source separately, e.g. [info1.txt][info2.pdf]\"}, {'role': 'user', 'content': '\\n question \\nWhat was Microsoft’s revenue for the nine months that ended on March 31 2023? context: [{\\'sourcefile\\': \\'MICROSOFT-10Q-FY2023-Q3.pdf\\', \\'id\\': \\'file-MICROSOFT-10Q-FY2023-Q3_pdf-4D4943524F534F46542D3130512D4659323032332D51332E706466-page-15\\', \\'content\\': \\' SQL Server, Windows Server, Visual Studio, System Center, and related Client Access Licenses (\"CALs\"); and Nuance and GitHub\\\\nMore Personal Computing\\\\nMetrics related to our More Personal Computing segment assess the performance of key lines of business within this segment. These metrics provide strategic product insights which allow us to assess the performance across our commercial and consumer businesses. As we have diversity of target audiences and sales motions within the Windows business, we monitor metrics that are reflective of those varying motions.\\\\n<table><tr><td>Windows OEM revenue growth</td><td>Revenue from sales of Windows Pro and non-Pro licenses sold through the OEM channel</td></tr><tr><td>Windows Commercial products and cloud services revenue growth</td><td>Revenue from Windows Commercial products and cloud services, comprising volume licensing of the Windows operating system, Windows cloud services, and other Windows commercial offerings</td></tr><tr><td>Devices revenue growth</td><td>Revenue from Devices, including Surface, HoloLens, and PC accessories</td></tr><tr><td>Xbox content and services revenue growth</td><td>Revenue from Xbox content and services, comprising first- and third-party content (including games and in-game content), Xbox Game Pass and other subscriptions, Xbox Cloud Gaming, third-party disc royalties, advertising, and other cloud services</td></tr><tr><td>Search and news advertising revenue (ex TAC) growth</td><td>Revenue from search and news advertising excluding traffic acquisition costs (&quot;TAC&quot;) paid to Bing Ads network publishers and news partners</td></tr></table>\\\\n35 PART I Item 2\\\\nSUMMARY RESULTS OF OPERATIONS\\\\n<table><tr><th>(In millions, except percentages and per share amounts)</th><th colSpan=2>Three Months Ended March 31,</th><th>Percentage Change</th><th colSpan=2>Nine Months Ended March 31,</th><th>Percentage Change</th></tr><tr><th></th><th>2023</th><th>2022</th><th></th><th>2023</th><th>2022</th><th></th></tr><tr><td>Revenue</td><td>$ 52,857</td><td>$ 49,360</td><td>7%</td><td>155,726\\\\n$</td><td>$ 146,405</td><td>6%</td></tr><tr><td>Gross margin</td><td>36,729</td><td>33,745</td><td>9%</td><td>106,658</td><td>100,184</td><td>6%</td></tr><tr><td>Operating income</td><td>22,352</td><td>20,364</td><td>10%</td><td>64,269</td><td>62,849</td><td>2%</td></tr><tr><td>Net income</td><td>18,299</td><td>16,728</td><td>9%</td><td>52,280</td><td>55,998</td><td>(7)%</td></tr><tr><td>Diluted earnings per share</td><td>2.45</td><td>2.22</td><td>10%</td><td>6.99</td><td>7.41</td><td>(6)%</td></tr><tr><td>Adjusted gross margin (non-GAAP)</td><td>36,729</td><td>33,745</td><td>9%</td><td>106,810</td><td>100,184</td><td>7%</td></tr><tr><td>Adjusted operating income (non-GAAP)</td><td>22,352</td><td>20,364</td><td>10%</td><td>65,440</td><td>62,849</td><td>4%</td></tr><tr><td>Adjusted net income (non-GAAP)</td><td>18,299</td><td>16,728</td><td>9%</td><td>53,226</td><td>52,707</td><td>1%</td></tr><tr><td>Adjusted diluted earnings per share (non-GAAP)</td><td>2.45</td><td>2.22</td><td>10%</td><td>7.12</td><td>6.98</td><td>2%</td></tr></table>\\\\n\\\\n\\\\n\\\\nAdjusted gross margin, operating income, net income, and diluted earnings per share (\"EPS\") are non-GAAP financial measures. Current year non-GAAP financial measures exclude the impact of the Q2 charge, which includes employee severance expenses, impairment charges resulting from changes to our hardware portfolio, and costs related to lease consolidation activities. Prior year non-GAAP financial measures exclude the net income tax benefit related to transfer of intangible properties in the first quarter of fiscal year 2022. Refer to Note 11 - Income Taxes of the Notes to Financial Statements (Part I, Item 1 of this Form 10-Q) for further discussion. Refer to the Non-GAAP Financial Measures section below for a reconciliation of our financial results reported in accordance with GAAP to non-GAAP financial results.\\\\nThree Months Ended March 31, 2023 Compared with Three Months Ended March 31, 2022\\\\nRevenue increased $3.5 billion or 7% driven by growth in Intelligent Cloud and Productivity and Business Processes, offset in part by a decline in More Personal Computing. Intelligent Cloud revenue increased driven by Azure and other cloud services. Productivity and Business Processes revenue increased driven by Office 365 Commercial. More Personal Computing revenue decreased driven by Windows and Devices.\\\\nCost of revenue increased $513 million or 3% driven by growth in Microsoft Cloud, offset in part by a reduction in depreciation expense due to the change in accounting estimate for the useful lives of our server and network equipment.\\\\nGross margin increased $3.0 billion or 9% driven by growth in Intelligent Cloud and Productivity and Business Processes and the change in accounting estimate, offset in part by a decline in More Personal Computing.\\\\n. Gross margin percentage increased. Excluding the impact of the change in accounting estimate, gross margin percentage decreased slightly driven by reductions in Intelligent Cloud, offset in part by sales mix shift.\\\\n· Microsoft Cloud gross margin percentage increased 2 points to 72%. Excluding the impact of the change in accounting estimate, Microsoft Cloud gross margin percentage decreased slightly driven by reductions in Azure and other cloud services.\\\\nOperating expenses increased $996 million or 7% driven by 2 points of growth from the Nuance and Xandr acquisitions and investments in cloud engineering and Linkedin.\\\\nKey changes in operating expenses were:\\\\n. Research and development expenses increased $678 million or 11% driven by investments in cloud engineering and Linkedin.\\\\nSales and marketing expenses increased $155 million or 3% driven by 3 points of growth from the Nuance and Xandr acquisitions and investments in commercial sales, offset in part by declines in Windows and Devices advertising.\\\\n36 PART I Item 2\\\\n. General and administrative expenses increased $163 million or 11% driven by acquisition-related expenses and investments in corporate functions. General and administrative included a favorable foreign currency impact of 2%.\\\\nOperating income increased $2.0 billion or 10% driven by growth in Productivity and Business Processes and Intelligent Cloud and the change in accounting estimate, offset in part by a decline in More Personal Computing.\\\\nRevenue, gross margin, and operating income included an unfavorable foreign currency impact of 3%, 4%, and 5%, respectively. Cost of revenue and operating expenses both included a favorable foreign currency impact of 2%.\\\\nNine Months Ended March 31, 2023 Compared with Nine Months Ended March 31, 2022\\\\nRevenue increased $9.3 billion or 6% driven by growth in Intelligent Cloud and Productivity and Business Processes, offset in part by a decline in More Personal Computing. Intelligent Cloud revenue increased driven by Azure and other cloud services. Productivity and Business Processes revenue increased driven by Office 365 Commercial and LinkedIn. More Personal Computing revenue decreased driven by Windows and Devices.\\\\nCost of revenue increased $2.8 billion or 6% driven by growth in Microsoft Cloud, offset in part by the change in accounting estimate.\\\\nGross margin increased $6.5 billion or 6% driven by growth in Intelligent Cloud and Productivity and Business Processes and the change in accounting estimate, offset in part by a decline in More Personal Computing.\\\\n· Gross margin percentage was relatively unchanged. Excluding the impact of the change in accounting estimate, gross margin percentage decreased 2 points driven by reductions in More Personal Computing and Intelligent Cloud, offset in part by sales mix shift.\\\\n· Microsoft Cloud gross margin percentage increased 2 points to 72%. Excluding the impact of the change in accounting estimate, Microsoft Cloud gross margin percentage decreased 1 point driven by sales mix shift to Azure and other cloud services and higher energy costs.\\\\nOperating expenses increased $5.1 billion or 14% driven by investments in cloud engineering, 3 points of growth from the Nuance and Xandr acquisitions, employee severance expenses, Linkedin, and commercial sales.\\', \\'@search.score\\': 0.030621785670518875, \\'@search.reranker_score\\': 3.6078431606292725, \\'@search.highlights\\': None, \\'@search.captions\\': [<azure.search.documents._generated.models._models_py3.CaptionResult object at 0x000001FD72DA3390>]}, {\\'sourcefile\\': \\'MICROSOFT-10Q-FY2023-Q3.pdf\\', \\'id\\': \\'file-MICROSOFT-10Q-FY2023-Q3_pdf-4D4943524F534F46542D3130512D4659323032332D51332E706466-page-12\\', \\'content\\': \\' Each allocation is measured differently based on the specific facts and circumstances of the costs being allocated and is generally based on relative gross margin or relative headcount.\\\\nSegment revenue and operating income were as follows during the periods presented:\\\\n<table><tr><th>(In millions)</th><th colSpan=2>Three Months Ended March 31,</th><th colSpan=2>Nine Months Ended March 31,</th></tr><tr><th></th><th>2023</th><th>2022</th><th>2023</th><th>2022</th></tr><tr><td>Revenue</td><td></td><td></td><td></td><td></td></tr><tr><td>Productivity and Business Processes</td><td>$ 17,516</td><td>$ 15,789</td><td>$ 50,983</td><td>$ 46,764</td></tr><tr><td>Intelligent Cloud</td><td>22,081</td><td>18,987</td><td>63,914</td><td>54,161</td></tr><tr><td>More Personal Computing</td><td>13,260</td><td>14,584</td><td>40,829</td><td>45,480</td></tr><tr><td>Total</td><td>$ 52,857</td><td>$ 49,360</td><td>$ 155,726</td><td>$ 146,405</td></tr><tr><td>Operating Income</td><td></td><td></td><td></td><td></td></tr><tr><td>Productivity and Business Processes</td><td>$ 8,639</td><td>$ 7,185</td><td>$ 25,137</td><td>$ 22,454</td></tr><tr><td>Intelligent Cloud</td><td>9,476</td><td>8,391</td><td>27,358</td><td>24,395</td></tr><tr><td>More Personal Computing</td><td>4,237</td><td>4,788</td><td>11,774</td><td>16,000</td></tr><tr><td>Total</td><td>$ 22,352</td><td>$ 20,364</td><td>$ 64,269</td><td>$ 62,849</td></tr></table>\\\\nNo sales to an individual customer or country other than the United States accounted for more than 10% of revenue for the three or nine months ended March 31, 2023 or 2022. Revenue, classified by the major geographic areas in which our customers were located, was as follows:\\\\n<table><tr><th>(In millions)</th><th colSpan=2>Three Months Ended March 31,</th><th colSpan=2>Nine Months Ended March 31,</th></tr><tr><th></th><th>2023</th><th>2022</th><th>2023</th><th>2022</th></tr><tr><td>United States (a)</td><td>$ 26,007</td><td>$ 24,771</td><td>$ 78,850</td><td>$ 74,064</td></tr><tr><td>Other countries</td><td>26,850</td><td>24,589</td><td>76,876</td><td>72,341</td></tr><tr><td>Total</td><td>$ 52,857</td><td>$ 49,360</td><td>$ 155,726</td><td>$ 146,405</td></tr></table>\\\\n(a) Includes billings to OEMs and certain multinational organizations because of the nature of these businesses and the impracticability of determining the geographic source of the revenue.\\\\n29 PART I Item 1\\\\nRevenue, classified by significant product and service offerings, was as follows:\\\\n<table><tr><th>(In millions)</th><th colSpan=4>Three Months Ended Nine Months Ended March 31, March 31,</th></tr><tr><th></th><th>2023</th><th>2022</th><th>2023</th><th>2022</th></tr><tr><td>Server products and cloud services</td><td>$ 20,025</td><td>$ 17,046</td><td>$ 58,007</td><td>$ 48,498</td></tr><tr><td>Office products and cloud services</td><td>12,438</td><td>11,164</td><td>35,823</td><td>33,223</td></tr><tr><td>Windows</td><td>5,328</td><td>6,069</td><td>15,449</td><td>18,337</td></tr><tr><td>Gaming</td><td>3,607</td><td>3,740</td><td>11,975</td><td>12,775</td></tr><tr><td>LinkedIn</td><td>3,697</td><td>3,437</td><td>11,236</td><td>10,104</td></tr><tr><td>Search and news advertising</td><td>3,045</td><td>2,945</td><td>9,196</td><td>8,665</td></tr><tr><td>Enterprise Services</td><td>2,007</td><td>1,891</td><td>5,745</td><td>5,505</td></tr><tr><td>Devices</td><td>1,282</td><td>1,835</td><td>4,160</td><td>5,606</td></tr><tr><td>Other</td><td>1,428</td><td>1,233</td><td>4,135</td><td>3,692</td></tr><tr><td>Total</td><td>$ 52,857</td><td>$ 49,360</td><td>€A 155,726</td><td>$ 146,405</td></tr></table>\\\\nOur Microsoft Cloud revenue, which includes Azure and other cloud services, Office 365 Commercial, the commercial portion of LinkedIn, Dynamics 365, and other commercial cloud properties, was $28.5 billion and $81.3 billion for the three and nine months ended March 31, 2023, respectively, and $23.4 billion and $66.3 billion for the three and nine months ended March 31, 2022, respectively. These amounts are primarily included in Server products and cloud services, Office products and cloud services, and LinkedIn in the table above.\\\\nAssets are not allocated to segments for internal reporting presentations. A portion of amortization and depreciation is included with various other costs in an overhead allocation to each segment. It is impracticable for us to separately identify the amount of amortization and depreciation by segment that is included in the measure of segment profit or loss.\\\\n30 PART ! Item 1\\\\nREPORT OF INDEPENDENT REGISTERED PUBLIC ACCOUNTING FIRM To the Stockholders and the Board of Directors of Microsoft Corporation\\\\nResults of Review of Interim Financial Information\\\\nWe have reviewed the accompanying consolidated balance sheet of Microsoft Corporation and subsidiaries (the \"Company\") as of March 31, 2023, the related consolidated statements of income, comprehensive income, cash flows, and stockholders\\\\\\' equity for the three-month and nine-month periods ended March 31, 2023 and 2022, and the related notes (collectively referred to as the \"interim financial information\"). Based on our reviews, we are not aware of any material modifications that should be made to the accompanying interim financial information for it to be in conformity with accounting principles generally accepted in the United States of America.\\\\nWe have previously audited, in accordance with the standards of the Public Company Accounting Oversight Board (United States) (PCAOB), the consolidated balance sheet of the Company as of June 30, 2022, and the related consolidated statements of income, comprehensive income, cash flows, and stockholders\\\\\\' equity for the year then ended (not presented herein); and in our report dated July 28, 2022, we expressed an unqualified opinion on those consolidated financial statements. In our opinion, the information set forth in the accompanying consolidated balance sheet as of June 30, 2022, is fairly stated, in all material respects, in relation to the consolidated balance sheet from which it has been derived.\\\\nBasis for Review Results\\\\nThis interim financial information is the responsibility of the Company\\\\\\'s management. We are a public accounting firm registered with the PCAOB and are required to be independent with respect to the Company in accordance with the U.S. federal securities laws and the applicable rules and regulations of the Securities and Exchange Commission and the PCAOB.\\\\nWe conducted our reviews in accordance with standards of the PCAOB. A review of interim financial information consists principally of applying analytical procedures and making inquiries of persons responsible for financial and accounting matters. It is substantially less in scope than an audit conducted in accordance with the standards of the PCAOB, the objective of which is the expression of an opinion regarding the financial statements taken as a whole. Accordingly, we do not express such an opinion.\\\\n/s/ DELOITTE & TOUCHE LLP\\\\nSeattle, Washington April 25, 2023\\\\n31 PART I Item 2\\\\nITEM 2. MANAGEMENT\\\\\\'S DISCUSSION AND ANALYSIS OF FINANCIAL CONDITION AND RESULTS OF OPERATIONS\\\\nNote About Forward-Looking Statements\\\\nThis report includes estimates, projections, statements relating to our business plans, objectives, and expected operating results that are \"forward-looking statements\" within the meaning of the Private Securities Litigation Reform Act of 1995, Section 27A of the Securities Act of 1933, and Section 21E of the Securities Exchange Act of 1934. Forward-looking statements may appear throughout this report, including the following sections: \"Management\\\\\\'s Discussion and Analysis of Financial Condition and Results of Operations\" and \"Risk Factors\" (Part II, Item 1A of this Form 10-Q). These forward-looking statements generally are identified by the words \"believe,\" \"project,\" \"expect,\" \"anticipate,\" \"estimate,\" \"intend,\" \"strategy,\" \"future,\" \"opportunity,\" \"plan,\" \"may,\" \"should,\" \"will,\" \"would,\" \"will be,\" \"will continue,\" \"will likely result,\" and similar expressions. Forward-looking statements are based on current expectations and assumptions that are subject to \\', \\'@search.score\\': 0.03154495730996132, \\'@search.reranker_score\\': 3.607077121734619, \\'@search.highlights\\': None, \\'@search.captions\\': [<azure.search.documents._generated.models._models_py3.CaptionResult object at 0x000001FD72DA3D90>]}, {\\'sourcefile\\': \\'MICROSOFT-10Q-FY2023-Q3.pdf\\', \\'id\\': \\'file-MICROSOFT-10Q-FY2023-Q3_pdf-4D4943524F534F46542D3130512D4659323032332D51332E706466-page-17\\', \\'content\\': \\'28% as elevated channel inventory levels continued to drive additional weakness beyond declining PC demand. Windows Commercial products and cloud services revenue increased 14% driven by strong renewal execution and an increase in agreements that carry higher in-period revenue recognition.\\\\n· Devices revenue decreased $553 million or 30% as elevated channel inventory levels continued to drive additional weakness beyond declining PC demand.\\\\n. Gaming revenue decreased $133 million or 4% driven by a decline in Xbox hardware. Xbox hardware revenue decreased 30% on a strong prior year comparable, driven by lower volume of consoles sold. Xbox content and services revenue increased 3% driven by growth in Xbox Game Pass.\\\\n. Search and news advertising revenue increased $100 million or 3%. Search and news advertising revenue excluding traffic acquisition costs increased 10% driven by higher search volume and the Xandr acquisition.\\\\nOperating income decreased $551 million or 12%.\\\\n· Gross margin decreased $705 million or 9% driven by a decline in Windows. Gross margin percentage increased slightly.\\\\n· Operating expenses decreased $154 million or 5% driven by a decline in Devices, offset in part by 3 points of growth from the Xandr acquisition.\\\\nRevenue, gross margin, and operating income included an unfavorable foreign currency impact of 2%, 4%, and 5%, respectively. Operating expenses included a favorable foreign currency impact of 2%.\\\\nNine Months Ended March 31, 2023 Compared with Nine Months Ended March 31, 2022\\\\nProductivity and Business Processes\\\\nRevenue increased $4.2 billion or 9%.\\\\n. Office Commercial products and cloud services revenue increased $2.5 billion or 9%. Office 365 Commercial revenue grew 12% with seat growth of 11%, driven by small and medium business and frontline worker offerings, as well as growth in revenue per user. Office Commercial products revenue declined 22% driven by continued customer shift to cloud offerings.\\\\n. Office Consumer products and cloud services revenue increased $86 million or 2% with continued growth in Microsoft 365 Consumer subscription revenue.\\\\n· LinkedIn revenue increased $1.1 billion or 11% driven by Talent Solutions.\\\\n· Dynamics products and cloud services revenue increased 15% driven by Dynamics 365 growth of 23%.\\\\n39 PART I Item 2\\\\nOperating income increased $2.7 billion or 12%.\\\\nGross margin increased $4.0 billion or 11% driven by growth in Office 365 Commercial and LinkedIn, as well as the change in accounting estimate. Gross margin percentage increased. Excluding the impact of the change in accounting estimate, gross margin percentage was relatively unchanged driven by sales mix shift to cloud offerings, offset in part by improvements in Office 365 Commercial.\\\\n. Operating expenses increased $1.3 billion or 9% driven by investments in LinkedIn and cloud engineering, as well as employee severance expenses.\\\\nRevenue, gross margin, and operating income included an unfavorable foreign currency impact of 5%, 6%, and 9%, respectively. Operating expenses included a favorable foreign currency impact of 3%.\\\\nIntelligent Cloud\\\\nRevenue increased $9.8 billion or 18%.\\\\n. Server products and cloud services revenue increased $9.5 billion or 20% driven by Azure and other cloud services. Azure and other cloud services revenue grew 31% driven by growth in our consumption-based services. Server products revenue decreased 1%.\\\\n· Enterprise Services revenue increased $240 million or 4% driven by growth in Enterprise Support Services, offset in part by a decline in Microsoft Consulting Services.\\\\nOperating income increased $3.0 billion or 12%.\\\\n· Gross margin increased $6.6 billion or 17% driven by growth in Azure and other cloud services and the change in accounting estimate. Gross margin percentage decreased slightly. Excluding the impact of the change in accounting estimate, gross margin percentage decreased 3 points driven by sales mix shift to Azure and other cloud services and higher energy costs.\\\\n. Operating expenses increased $3.6 billion or 26% driven by investments in Azure, 6 points of growth from the Nuance acquisition, and employee severance expenses.\\\\nRevenue, gross margin, and operating income included an unfavorable foreign currency impact of 5%, 5%, and 7%, respectively. Operating expenses included a favorable foreign currency impact of 2%.\\\\nMore Personal Computing\\\\nRevenue decreased $4.7 billion 10%.\\\\n· Windows revenue decreased $2.9 billion or 16% driven by a decrease in Windows OEM. Windows OEM revenue decreased 28% as elevated channel inventory levels continued to drive additional weakness beyond declining PC demand. Windows Commercial products and cloud services revenue increased 6% driven by demand for Microsoft 365 with an increase in agreements that carry higher in-period revenue recognition.\\\\n. Devices revenue decreased $1.4 billion or 26% as elevated channel inventory levels continued to drive additional weakness beyond declining PC demand.\\\\n· Gaming revenue decreased $800 million or 6% driven by declines in Xbox content and services and Xbox hardware. Xbox content and services revenue decreased 5% driven by a decline in first-party content, offset in part by growth in Xbox Game Pass. Xbox hardware revenue decreased 11% driven by lower volume and price of consoles sold.\\\\n· Search and news advertising revenue increased $531 million or 6%. Search and news advertising revenue excluding traffic acquisition costs increased 12% driven by higher search volume and the Xandr acquisition.\\\\nOperating income decreased $4.2 billion or 26%.\\\\n· Gross margin decreased $4.1 billion or 16% driven by declines in Windows, Devices, and Gaming. Gross margin percentage decreased primarily driven by reductions in Devices.\\\\n· Operating expenses increased $115 million or 1% driven by 3 points of growth from the Xandr acquisition and employee severance expenses, offset in part by a decline in Devices.\\\\n40 PART I Item 2\\\\nRevenue, gross margin, and operating income included an unfavorable foreign currency impact of 3%, 4%, and 6%, respectively. Operating expenses included a favorable foreign currency impact of 2%.\\\\nOPERATING EXPENSES\\\\nResearch and Development\\\\n<table><tr><th>(In millions, except percentages)</th><th colSpan=2>Three Months Ended March 31,</th><th>Percentage Change</th><th colSpan=2>Nine Months Ended March 31,</th><th>Percentage Change</th></tr><tr><th></th><th>2023</th><th>2022</th><th></th><th>2023</th><th>2022</th><th></th></tr><tr><td>Research and development</td><td>$ 6,984</td><td>$ 6,306</td><td>11%</td><td>$ 20,456</td><td>$ 17,663</td><td>16%</td></tr><tr><td>As a percent of revenue</td><td>13%</td><td>13%</td><td>Oppt</td><td>13%</td><td>12%</td><td>1ppt</td></tr></table>\\\\nResearch and development expenses include payroll, employee benefits, stock-based compensation expense, and other headcount-related expenses associated with product development. Research and development expenses also include third-party development and programming costs, localization costs incurred to translate software for international markets, and the amortization of purchased software code and services content.\\\\nThree Months Ended March 31, 2023 Compared with Three Months Ended March 31, 2022\\\\nResearch and development expenses increased $678 million or 11% driven by investments in cloud engineering and Linkedin.\\\\nNine Months Ended March 31, 2023 Compared with Nine Months Ended March 31, 2022\\\\nResearch and development expenses increased $2.8 billion or 16% driven by investments in cloud engineering and LinkedIn.\\\\nSales and Marketing\\\\n<table><tr><th>(In millions, except percentages)</th><th colSpan=2>Three Months Ended March 31,</th><th>Percentage Change</th><th colSpan=2>Nine Months Ended March 31,</th><th>Percentage Change</th></tr><tr><th></th><th>2023</th><th>2022</th><th></th><th>2023</th><th>2022</th><th></th></tr><tr><td>Sales and marketing</td><td>$ 5,750</td><td>$ 5,595</td><td>3%</td><td>$ 16,555</td><td>$ 15,521</td><td>7%</td></tr><tr><td>As a percent of revenue</td><td>11%</td><td>11%</td><td>Oppt</td><td>11%</td><td>11%</td><td>Oppt</td></tr></table>\\\\nSales and marketing expenses include payroll, employee benefits, stock-based compensation expense, and \\', \\'@search.score\\': 0.03253968432545662, \\'@search.reranker_score\\': 3.5940563678741455, \\'@search.highlights\\': None, \\'@search.captions\\': [<azure.search.documents._generated.models._models_py3.CaptionResult object at 0x000001FD72DA3D10>]}]'}]\n",
      "Microsoft's revenue for the nine months that ended on March 31, 2023, was $155,726 million [MICROSOFT-10Q-FY2023-Q3.pdf-page-15].\n"
     ]
    }
   ],
   "source": [
    "def get_filter(query,results):\n",
    "    results_list = [result for result in results]\n",
    "    messages = [{\"role\":\"system\",\"content\":\"\\nAssistant helps the company employees answering questions from SEC filings like 10Q and 10K. Be brief in your answers.\\nAnswer ONLY with the facts listed in the list of sources below. If there isn't enough information below, say you don't know. Do not generate answers that don't use the sources below. If asking a clarifying question to the user would help, ask the question.\\nDO NOT generate answers that DON'T use the sources below for any of the previous questions\\nFor tabular information return it as an html table. Do not return markdown format.\\nEach source has a name followed by colon and the actual information, always include the source name for each fact you use in the response. Use square brakets to reference the source, e.g. [info1.txt]. Don't combine sources, list each source separately, e.g. [info1.txt][info2.pdf]\"}, \n",
    "            {\"role\":\"user\",\"content\":\"\\n question \\n\"+str(query) + \" context: \"+ str(results_list)}]\n",
    "    \n",
    "    print(messages)\n",
    "\n",
    "    response = openai.ChatCompletion.create(engine=\"gpt4\",  \n",
    "                                        messages = messages, \n",
    "                                        temperature=0,  \n",
    "                                        max_tokens=200,  top_p=0.5,  \n",
    "                                        frequency_penalty=0,  \n",
    "                                        presence_penalty=0,  \n",
    "                                        stop=None)\n",
    "\n",
    "    return response.choices[0].message.content\n",
    "\n",
    "answer =  get_filter(query,results)\n",
    "print(answer)"
   ]
  },
  {
   "cell_type": "markdown",
   "id": "4d5388f8-6704-4acb-8c72-a4008e94dd75",
   "metadata": {},
   "source": [
    "## Perform a Semantic Hybrid Search on Long Context"
   ]
  },
  {
   "cell_type": "markdown",
   "id": "68b4e73f-3f4c-4474-a2f9-c08dbd6af90f",
   "metadata": {},
   "source": [
    "### Getting Top N Documents"
   ]
  },
  {
   "cell_type": "code",
   "execution_count": 6,
   "id": "7557db85-9955-40c9-8025-ad900e6ced89",
   "metadata": {
    "scrolled": true,
    "tags": []
   },
   "outputs": [],
   "source": [
    "# Semantic Hybrid Search\n",
    "query =\"please provide all the risks factors associated with microsoft in FY2023 Q3?\"\n",
    "\n",
    "vector = Vector(value=generate_embeddings(query), k=10, fields=\"embedding\")\n",
    "\n",
    "results = search_client.search(  \n",
    "    search_text=query,  \n",
    "    vectors=[vector],\n",
    "    select=[\"content\",\"id\",\"sourcefile\"],\n",
    "    query_type=\"semantic\", query_language=\"en-us\", semantic_configuration_name='boosted-semantic-config', query_caption=\"extractive\", query_answer=\"extractive\",\n",
    "    top=10\n",
    ")\n",
    "\n",
    "results_list = [result for result in results]\n",
    "\n",
    "sorted_list = sorted(results_list, key=lambda x: (x['id']))"
   ]
  },
  {
   "cell_type": "markdown",
   "id": "371c309e-593f-4432-87a0-e5d7c0571037",
   "metadata": {},
   "source": [
    "### Feeding documents to LLM"
   ]
  },
  {
   "cell_type": "code",
   "execution_count": 7,
   "id": "0ddcd630-e300-49ba-8512-37dc4ba8352e",
   "metadata": {
    "tags": []
   },
   "outputs": [],
   "source": [
    "from langchain.docstore.document import Document\n",
    "if results == None:\n",
    "    docs = [Document(page_content=\"No results found\")]\n",
    "else :\n",
    "    docs = [\n",
    "        Document(page_content=doc['content'], metadata={\"id\": doc['id'], \"source\": doc['sourcefile']})\n",
    "        for doc in sorted_list\n",
    "        ]"
   ]
  },
  {
   "cell_type": "code",
   "execution_count": 8,
   "id": "0750098b-b3c4-4608-b027-587600496eb6",
   "metadata": {
    "tags": []
   },
   "outputs": [],
   "source": [
    "from langchain.chains.qa_with_sources import load_qa_with_sources_chain\n",
    "from langchain.chat_models import AzureChatOpenAI, ChatOpenAI\n",
    "from langchain.embeddings.openai import OpenAIEmbeddings\n",
    "from langchain.prompts import PromptTemplate"
   ]
  },
  {
   "cell_type": "code",
   "execution_count": 14,
   "id": "1540274a-9d63-4bbe-a7f7-89865b732011",
   "metadata": {
    "tags": []
   },
   "outputs": [],
   "source": [
    "llm = AzureChatOpenAI(\n",
    "                openai_api_base=openai.api_base,\n",
    "                openai_api_version=openai.api_version,\n",
    "                deployment_name='gpt4',\n",
    "                temperature=0,\n",
    "                openai_api_key=openai.api_key,\n",
    "                openai_api_type=\"azure\",\n",
    "                max_tokens=2000)"
   ]
  },
  {
   "cell_type": "code",
   "execution_count": 15,
   "id": "54576e6d-da18-485e-84e8-ae08242ea0d1",
   "metadata": {
    "tags": []
   },
   "outputs": [
    {
     "name": "stdout",
     "output_type": "stream",
     "text": [
      "The updated answer, including the new context, is as follows:\n",
      "\n",
      "1. The markets for software, devices, and cloud-based services are dynamic and highly competitive. Microsoft's competitors are developing new software and devices, and deploying competing cloud-based services for consumers and businesses.\n",
      "\n",
      "2. The devices and form factors customers prefer evolve rapidly, and influence how users access services in the cloud, and in some cases, the user's choice of which suite of cloud-based services to use. Microsoft must continue to evolve and adapt over an extended time in pace with this changing environment.\n",
      "\n",
      "3. Microsoft's increasing focus on cloud-based services presents execution and competitive risks. They are devoting significant resources to develop and deploy their cloud-based strategies. The Windows ecosystem must continue to evolve with this changing environment. Their success in the Internet of Things (IoT) will depend on the level of adoption of their offerings such as Azure, Azure Stack, Azure IOT Edge, and Azure Sphere.\n",
      "\n",
      "4. The investments Microsoft is making in infrastructure and devices will continue to increase their operating costs and may decrease their operating margins.\n",
      "\n",
      "5. Microsoft's success is highly dependent on their ability to attract and retain qualified employees. They compete for talented individuals globally by offering an exceptional working environment, broad customer reach, scale in resources, the ability to grow one's career across many different products and businesses, and competitive compensation and benefits. Changes to U.S. immigration policies that restrain the flow of technical and professional talent may inhibit their ability to adequately staff their research and development efforts.\n",
      "\n",
      "6. Aggregate demand for Microsoft's software, services, and devices is correlated to global macroeconomic and geopolitical factors, which remain dynamic. Changes to trade policy or agreements as a result of populism, protectionism, or economic nationalism may result in higher tariffs, local sourcing initiatives, and non- local sourcing restrictions, export controls, investment restrictions, or other developments that make it more difficult to sell their products in foreign countries.\n",
      "\n",
      "7. Microsoft's devices are primarily manufactured by third-party contract manufacturers, some of which contain certain components for which there are very few qualified suppliers. For these components, Microsoft has limited near-term flexibility to use other manufacturers if a current vendor becomes unavailable or is unable to meet their requirements. Extended disruptions at these suppliers and/or manufacturers could lead to a similar disruption in Microsoft's ability to manufacture devices on time to meet consumer demand.\n",
      "\n",
      "8. Microsoft's international operations provide a significant portion of their total revenue and expenses. Many of these revenue and expenses are denominated in currencies other than the U.S. dollar. As a result, changes in foreign exchange rates may significantly affect revenue and expenses.\n",
      "\n",
      "9. Microsoft announced decisions to align their cost structure with their revenue and customer demand, prioritize their investments in strategic areas, and consolidate office space. This resulted in a $1.2 billion charge in the second quarter of fiscal year 2023, which included employee severance expenses of $800 million, impairment charges resulting from changes to their hardware portfolio, and costs related to lease consolidation activities. They reduced their overall workforce by approximately 10,000 jobs through the third quarter of fiscal year 2023, which represents less than 5% of their total employee base. They are also consolidating their leases to create higher density across their workspaces, which will also impact their financial results through the remainder of fiscal year 2023, and they may make similar decisions in future periods as they continue to evaluate their real estate needs.\n",
      "\n",
      "10. Microsoft makes significant investments in products and services that may not achieve expected returns. Commercial success depends on many factors, including innovativeness, developer support, and effective distribution and marketing. If customers do not perceive their latest offerings as providing significant new functionality or other value, they may reduce their purchases of new software and hardware products or upgrades, unfavorably affecting revenue.\n",
      "\n",
      "11. Microsoft's acquisitions, joint ventures, and strategic alliances may have an adverse effect on their business. They expect to continue making acquisitions and entering into joint ventures and strategic alliances as part of their long-term business strategy. These transactions involve significant challenges and risks, including that they do not advance their business strategy, that they get an unsatisfactory return on their investment, that they have difficulty integrating and retaining new employees, business systems, and technology, that they distract management from their other businesses, or that announced transactions may not be completed.\n",
      "\n",
      "12. If Microsoft's goodwill or amortizable intangible assets become impaired, they may be required to record a significant charge to earnings. They acquire other companies and intangible assets and may not realize all the economic benefit from those acquisitions, which could cause an impairment of goodwill or intangibles.\n",
      "\n",
      "13. Cybersecurity, data privacy, and platform abuse risks are significant. Cyberattacks and security vulnerabilities could lead to reduced revenue, increased costs, liability claims, or harm to Microsoft's reputation or competitive position. The security of their information technology and the security of their products, services, devices, and customers' data are crucial. Threats to IT security can take a variety of forms, and cyberthreats are constantly evolving and becoming increasingly sophisticated and complex. Microsoft's products operate in conjunction with and are dependent on products and components across a broad ecosystem of third parties. If there is a security vulnerability in one of these components, and if there is a security exploit targeting it, Microsoft could face increased costs, liability claims, reduced revenue, or harm to their reputation or competitive position.\n",
      "\n",
      "14. Disclosure and misuse of personal data could result in liability and harm Microsoft's reputation. As they continue to grow the number, breadth, and scale of their cloud-based offerings, they store and process increasingly large amounts of personal data of their customers and users. Despite their efforts to improve the security controls across their business groups and geographies, it is possible their security controls over personal data, their training of employees and third parties on data security, and other practices they follow may not prevent the improper disclosure or misuse of customer or user data they or their vendors store and manage.\n",
      "\n",
      "15. Microsoft's online services could face excessive outages, data losses, and disruptions if they fail to maintain an adequate operations infrastructure. Their increasing user traffic, growth in services, and the complexity of their products and services demand more computing power. They spend substantial amounts to build, purchase, or lease datacenters and equipment and to upgrade their technology and network infrastructure to handle more traffic on their websites and in their datacenters.\n",
      "\n",
      "16. The development and use of Artificial Intelligence (AI) may result in reputational harm or liability. Microsoft is building AI into many of their offerings, including their productivity services, and they are also making AI available for their customers to use in solutions that they build. This AI may be developed by Microsoft or others, including their strategic partner, OpenAI. They expect these elements of their business to grow. AI algorithms or training methodologies may be flawed. Datasets may be overbroad, insufficient, or contain biased information. Content generated by AI systems may be offensive, illegal, or otherwise harmful. Ineffective or inadequate AI development or deployment practices by Microsoft or others could result in incidents that impair the acceptance of AI solutions or cause harm to individuals or society.\n",
      "\n",
      "17. Microsoft's global operations subject them to potential consequences under anti-corruption, trade, and other laws and regulations. The Foreign Corrupt Practices Act (\"FCPA\") and other anti-corruption laws and regulations (\"Anti-Corruption Laws\") prohibit corrupt payments by their employees, vendors, or agents.\n",
      "\n",
      "18. Microsoft's hardware products such as Xbox consoles, Surface devices, and other devices they design and market are highly complex and can have defects in design, manufacture, or associated software. They could incur significant expenses, lost revenue, and reputational harm as a result of recalls, safety alerts, or product liability claims if they fail to prevent, detect, or address such issues through design, testing, or warranty repairs.\n",
      "\n",
      "19. Microsoft's software products and services also may experience quality or reliability problems. The highly sophisticated software they develop may contain bugs and other defects that interfere with their intended operation. Their customers increasingly rely on them for critical business functions and multiple workloads. Many of their products and services are interdependent with one another. Each of these circumstances potentially magnifies the impact of quality or reliability issues. Any defects they do not detect and fix in pre-release testing could cause reduced sales and revenue, damage to their reputation, repair or remediation costs, delays in the release of new products or versions, or legal liability.\n",
      "\n",
      "20. There are limited suppliers for certain device and datacenter components. Their competitors use some of the same suppliers and their demand for hardware components can affect the capacity available to them. If components are delayed or become unavailable, whether because of supplier capacity constraint, industry shortages, legal or regulatory changes that restrict supply sources, or other reasons, they may not obtain timely replacement supplies, resulting in reduced sales or inadequate datacenter capacity.\n",
      "\n",
      "21. Government litigation and regulatory activity relating to competition rules may limit how they design and market their products. Government agencies closely scrutinize them under U.S. and foreign competition laws. Governments are actively enforcing competition laws and regulations, and this includes scrutiny in potentially large markets such as the EU, the U.S., and China. Some jurisdictions also allow competitors or consumers to assert claims of anti-competitive conduct.\n",
      "\n",
      "22. Microsoft may be required to make available licenses to their proprietary technologies on terms that do not reflect their fair market value or do not protect their associated intellectual property.\n",
      "\n",
      "23. Microsoft is subject to a variety of ongoing commitments because of court or administrative orders, consent decrees, or other voluntary actions they have taken. If they fail to comply with these commitments, they may incur litigation costs and be subject to substantial fines or other remedial actions.\n",
      "\n",
      "24. Microsoft's ability to realize anticipated Windows post-sale monetization opportunities may be limited.\n",
      "\n",
      "25. Regulatory scrutiny may inhibit Microsoft's ability to consummate acquisitions or impose\n",
      "CPU times: total: 15.6 ms\n",
      "Wall time: 13min 41s\n"
     ]
    }
   ],
   "source": [
    "%%time\n",
    "chainType = \"refine\"\n",
    "template = \"\"\"\n",
    "            Given the following extracted parts of a long document and a question, create a detailed final answer. Please return the sources only at the end.\n",
    "            If you don't know the answer, just say that you don't know. Don't try to make up an answer. \n",
    "            If the answer is not contained within the text below, say \\\"I don't know\\\".\n",
    "\n",
    "            QUESTION: {question}\n",
    "            =========\n",
    "            {parts of document}\n",
    "            =========\n",
    "            \"\"\"\n",
    "#qaPrompt = PromptTemplate(template=template, input_variables=[\"summaries\", \"question\"])\n",
    "#qaChain = load_qa_with_sources_chain(llm, chain_type=chainType, prompt=qaPrompt)\n",
    "qaChain = load_qa_with_sources_chain(llm, chain_type=chainType)\n",
    "answer = qaChain({\"input_documents\": docs, \"question\": query}, return_only_outputs=False)\n",
    "outputAnswer = answer['output_text']\n",
    "print(outputAnswer)"
   ]
  },
  {
   "cell_type": "code",
   "execution_count": null,
   "metadata": {},
   "outputs": [],
   "source": []
  }
 ],
 "metadata": {
  "kernelspec": {
   "display_name": "Python 3 (ipykernel)",
   "language": "python",
   "name": "python3"
  },
  "language_info": {
   "codemirror_mode": {
    "name": "ipython",
    "version": 3
   },
   "file_extension": ".py",
   "mimetype": "text/x-python",
   "name": "python",
   "nbconvert_exporter": "python",
   "pygments_lexer": "ipython3",
   "version": "3.11.3"
  }
 },
 "nbformat": 4,
 "nbformat_minor": 5
}
