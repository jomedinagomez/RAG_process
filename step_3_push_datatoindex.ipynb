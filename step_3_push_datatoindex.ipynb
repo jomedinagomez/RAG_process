{
 "cells": [
  {
   "cell_type": "markdown",
   "id": "d3cc668e-bdc3-4569-89ee-7e23d9c3f64d",
   "metadata": {},
   "source": [
    "### Import required libraries and environment variables"
   ]
  },
  {
   "cell_type": "code",
   "execution_count": 2,
   "id": "0b2c66e1-c536-40e0-bf37-e2df913ed884",
   "metadata": {
    "tags": []
   },
   "outputs": [],
   "source": [
    "# Import required libraries  \n",
    "import os  \n",
    "import json  \n",
    "import openai  \n",
    "import pandas as pd\n",
    "from dotenv import load_dotenv  \n",
    "from tenacity import retry, wait_random_exponential, stop_after_attempt  \n",
    "from azure.core.credentials import AzureKeyCredential  \n",
    "from azure.search.documents import SearchClient  \n",
    "from azure.search.documents.indexes import SearchIndexClient  \n",
    "from azure.search.documents.models import Vector  \n",
    "from azure.search.documents.indexes.models import (  \n",
    "    SearchIndex,  \n",
    "    SearchField,  \n",
    "    SearchFieldDataType,  \n",
    "    SimpleField,  \n",
    "    SearchableField,  \n",
    "    SearchIndex,  \n",
    "    SemanticConfiguration,  \n",
    "    PrioritizedFields,  \n",
    "    SemanticField,  \n",
    "    SearchField,  \n",
    "    SemanticSettings,  \n",
    "    VectorSearch,  \n",
    "    HnswVectorSearchAlgorithmConfiguration,  \n",
    ")  \n",
    "  \n",
    "# Configure environment variables  \n",
    "load_dotenv()  \n",
    "service_endpoint = os.getenv(\"AZURE_SEARCH_SERVICE_ENDPOINT\") \n",
    "index_name = os.getenv(\"AZURE_SEARCH_INDEX_NAME\") \n",
    "key = os.getenv(\"AZURE_SEARCH_ADMIN_KEY\") \n",
    "openai.api_type = \"azure\"  \n",
    "openai.api_key = os.getenv(\"AZURE_OPENAI_API_KEY\")  \n",
    "openai.api_base = os.getenv(\"AZURE_OPENAI_ENDPOINT\")  \n",
    "openai.api_version = os.getenv(\"AZURE_OPENAI_API_VERSION\") \n",
    "model: str = \"text-embedding-ada-002\" \n",
    "credential = AzureKeyCredential(key)"
   ]
  },
  {
   "cell_type": "markdown",
   "id": "bdb1604c-b1e1-44c9-b445-417c1586d419",
   "metadata": {},
   "source": [
    "### Modifying vector"
   ]
  },
  {
   "cell_type": "code",
   "execution_count": 3,
   "id": "33d96bff-36b5-4d49-851f-c1abd407c45e",
   "metadata": {
    "tags": []
   },
   "outputs": [],
   "source": [
    "# Generate Document Embeddings using OpenAI Ada 002\n",
    "\n",
    "# Read the text-sample.json\n",
    "with open('output/enrichedVectors.json', 'r', encoding='utf-8') as file:\n",
    "    input_data = json.load(file)"
   ]
  },
  {
   "cell_type": "code",
   "execution_count": 3,
   "id": "0409ffe1-1427-49d5-8527-ac2269b8620c",
   "metadata": {
    "tags": []
   },
   "outputs": [],
   "source": [
    "# Generate embeddings for title and content fields\n",
    "for item in input_data:\n",
    "    item['@search.action'] = 'upload'\n",
    "\n",
    "# Output embeddings to docVectors.json file\n",
    "with open(\"output/docVectors.json\", \"w\") as f:\n",
    "    json.dump(input_data, f)"
   ]
  },
  {
   "cell_type": "markdown",
   "id": "8b4ddeed-cf73-427c-b625-b18ff99eb0af",
   "metadata": {},
   "source": [
    "## Insert text and embeddings into vector store\n",
    "Add texts and metadata from the JSON data to the vector store:"
   ]
  },
  {
   "cell_type": "code",
   "execution_count": 6,
   "id": "12a539a1-bea8-43a1-b7c6-d12b84bbad5d",
   "metadata": {
    "tags": []
   },
   "outputs": [
    {
     "name": "stdout",
     "output_type": "stream",
     "text": [
      "-----------------------------------------------\n",
      "This is a Form 10-Q SEC filing for Microsoft Corporation for the quarter ended March 31, 2023. The company is registered with the NASDAQ exchange and is classified as a large accelerated filer. As of April 20, 2023, Microsoft had 7,435,487,575 shares of common stock outstanding. The report includes financial statements detailing revenue, costs, gross margin, operating income, and net income for the period. The company's total revenue for the quarter was $52,857 million, with a net income of $18,299 million. The company's assets include cash and cash equivalents of $26,562 million and short-term investments of $77,865 million.\n",
      "-----------------------------------------------\n",
      "The text contains financial data from various financial statements. \n",
      "\n",
      "1. Income statement data: Net income of $18,299 and $16,728 for two different periods. Other comprehensive income (loss) of $813 and $(2,913) for the same periods. \n",
      "\n",
      "2. Balance sheet data: Total assets of $380,088 and $364,840 for two different periods. Total liabilities of $185,405 and $198,298 for the same periods. Total stockholders' equity of $194,683 and $166,542 for the same periods.\n",
      "\n",
      "3. Cash flow statement data: Net cash from operations of $24,441 and $25,386 for two different periods. Net cash used in financing of $(10,290) and $(17,345) for the same periods. Net cash used in investing of $(3,264) and $(16,171) for the same periods. \n",
      "\n",
      "4. Stockholders' equity statement data is not provided in the given text.\n",
      "-----------------------------------------------\n",
      "The text provides financial data from SEC filings. It includes information on investments, net cash used in investing, the effect of foreign exchange rates on cash and cash equivalents, and the net change in cash and cash equivalents. It also details stockholders' equity statements, including common stock and paid-in capital, retained earnings, and accumulated other comprehensive loss. Additionally, it provides notes to financial statements, outlining accounting policies, principles of consolidation, estimates and assumptions, and financial instruments. The text also mentions a change in accounting estimate for the useful lives of server and network equipment, and details on debt investments.\n",
      "-----------------------------------------------\n",
      "The text describes the company's accounting practices for investments, derivatives, fair value measurements, contract balances, and other receivables. It also mentions a workforce reduction and associated severance expenses, and provides details on the calculation of earnings per share. The company uses various methods to calculate fair value, including market information and management estimates. Changes in fair value are recorded in other comprehensive income or as impairments. Derivatives are recognized as assets or liabilities and measured at fair value, with changes in fair value accounted for differently depending on the derivative's use and designation. The company categorizes fair value measurements into three levels based on the observability of inputs. Receivables due from suppliers and long-term accounts receivable are also mentioned, as well as financing receivables. The company announced a workforce reduction and recorded severance expenses. Lastly, the calculation of basic and diluted earnings per share is explained.\n",
      "-----------------------------------------------\n",
      "The text provides information on employee severance expenses, earnings per share (EPS), other income and expenses, and investments. Employee severance expenses are included in general and administrative expenses. Basic and diluted EPS are calculated based on the weighted average number of shares of common stock. Other income and expenses include interest and dividends income, interest expense, net recognized gains or losses on investments, net losses on derivatives, net gains or losses on foreign currency remeasurements, and other net income or expenses. The company's investments include commercial paper, certificates of deposit, U.S. government securities, U.S. agency securities, foreign government bonds, mortgage- and asset-backed securities, corporate notes and bonds, municipal securities, equity investments, cash, and derivatives.\n",
      "-----------------------------------------------\n",
      "The text provides a detailed financial breakdown of a company's investments, including cash, derivatives, and various types of securities. It outlines the fair value, adjusted cost basis, unrealized gains and losses, and recorded basis of these investments. The company's total investments amount to $113,842 million and $111,648 million at two different points in time. It also mentions that the company uses derivative instruments to manage various risks and enhance investment returns. The text further provides information on unrealized losses on debt investments and debt investment maturities.\n",
      "-----------------------------------------------\n",
      "The text describes the company's use of derivative instruments to manage various risks related to foreign currencies, interest rates, equity prices, and credit. It also provides information on the company's hedging strategies and the notional amounts of its outstanding derivative instruments. Additionally, it presents the fair values of the company's derivative instruments and the gains and losses recognized on these instruments. The company also has certain requirements to maintain an investment grade credit rating and minimum liquidity of $1.0 billion.\n",
      "-----------------------------------------------\n",
      "The text provides financial information about a company's assets, derivative liabilities, gains and losses on derivative instruments, inventories, business combinations, goodwill, and intangible assets. It also mentions the acquisition of Nuance Communications, Inc. and the proposed acquisition of Activision Blizzard, Inc. The text also provides details about the company's intangible assets and their amortization expense.\n",
      "-----------------------------------------------\n",
      "The text includes information on intangible assets, debt, and income taxes. \n",
      "\n",
      "Intangible assets: The company's intangible assets' amortization expense was $612 million and $1.9 billion for the three and nine months ended March 31, 2023, respectively. The estimated future amortization expense related to intangible assets held as of March 31, 2023, is $9,879 million.\n",
      "\n",
      "Debt: The company's total debt as of March 31, 2023, was $48,210 million, with a current portion of long-term debt of $6,245 million and long-term debt of $41,965 million. The estimated fair value of long-term debt, including the current portion, was $47.8 billion as of March 31, 2023.\n",
      "\n",
      "Income Taxes: The company's effective tax rate was 19% for the three months ended March 31, 2023, and 19% for the nine months ended March 31, 2023. Unrecognized tax benefits and other income tax liabilities were $18.1 billion as of March 31, 2023. The company remains under audit for tax years 2004 to 2017.\n",
      "-----------------------------------------------\n",
      "The company settled a portion of the IRS audits for tax years 2004 to 2013 with a payment of $1.7 billion. Unresolved issues remain related to transfer pricing for tax years 2004 to 2017. Unearned revenue by segment for March 31, 2023, was $39,601 million. The company has operating and finance leases for various facilities and equipment, with remaining lease terms of less than 1 year to 18 years. Lease expenses and cash flow information related to leases are provided. The company has additional operating and finance leases that have not yet commenced of $5.0 billion and $21.9 billion, respectively. Microsoft Mobile Oy, a subsidiary, is a defendant in 46 lawsuits related to alleged health effects from radio emissions of cellular handsets.\n",
      "-----------------------------------------------\n",
      "Microsoft Mobile Oy, a Microsoft subsidiary, is a defendant in 46 lawsuits related to alleged health effects from cellular handset radio emissions. The company has accrued legal liabilities of $177 million and estimates potential adverse outcomes could reach approximately $600 million. Microsoft has also been actively repurchasing shares, with $26.9 billion remaining of a $60 billion share repurchase program as of March 31, 2023. In fiscal year 2023, the company repurchased 55 million shares for $13.8 billion. Additionally, Microsoft declared dividends per share of $2.04 for fiscal year 2023, amounting to a total of $15.182 billion. The company's accumulated other comprehensive income (loss) related to derivatives and investments for the period ended March 31, 2023, was $(47) million and $(3,687) million, respectively.\n",
      "-----------------------------------------------\n",
      "The text provides a summary of changes in accumulated other comprehensive income (loss) by component for three months and nine months ended March 31, 2023 and 2022. It includes details for derivatives, investments, and translation adjustments. The text also describes the company's business segments, which are Productivity and Business Processes, Intelligent Cloud, and More Personal Computing. It provides a brief overview of the products and services included in each segment. The text also includes the revenue and operating income for each segment for the three months and nine months ended March 31, 2023 and 2022.\n",
      "-----------------------------------------------\n",
      "The text provides a financial summary for a company for the three and nine months ending March 31, 2023 and 2022. It includes segment revenue and operating income for Productivity and Business Processes, Intelligent Cloud, and More Personal Computing. It also provides revenue classified by major geographic areas and by significant product and service offerings. The company's Microsoft Cloud revenue is also detailed. No individual customer or country outside the U.S. accounted for more than 10% of revenue. Assets are not allocated to segments for internal reporting. The text also includes a report from an independent registered public accounting firm and mentions forward-looking statements.\n",
      "-----------------------------------------------\n",
      "The text is a Management's Discussion and Analysis of Financial Condition and Results of Operations (MD&A) from Microsoft Corporation's Form 10-Q. It includes forward-looking statements about the company's business plans and expected results. The company's mission is to empower individuals and organizations globally through its technology. Its revenue comes from a variety of services, software products, devices, and online advertising. The company's main expenses are employee compensation, product design, manufacturing, marketing, and selling, datacenter costs, and taxes. The report highlights financial results for the third quarter of fiscal year 2023, including increased revenue in several areas and decreased revenue in others. The company also discusses industry trends, economic conditions, challenges, and risks, including competition, evolving customer preferences, infrastructure and device investments, employee retention, global macroeconomic and geopolitical factors, and supply chain disruptions. It also notes the impact of foreign exchange rates on its international operations. The company announced a $1.2 billion charge in the second quarter of fiscal year 2023 due to workforce reduction, changes to its hardware portfolio, and lease consolidation activities.\n",
      "-----------------------------------------------\n",
      "The company recorded a $1.2 billion charge in Q2 2023 due to strategic changes including workforce reduction, investment prioritization, and office space consolidation. The company's revenue is typically higher in Q2 and Q4 due to corporate year-end and holiday spending trends. An accounting estimate change increased the useful lives of server and network equipment from four to six years, boosting operating income. The company's financial performance is reported based on Productivity and Business Processes, Intelligent Cloud, and More Personal Computing segments. Metrics are used to assess business performance and resource allocation. The commercial business includes Server products, cloud services, Office Commercial, Windows Commercial, LinkedIn, Enterprise Services, and Dynamics. The company also updated the calculation method for certain metrics in Q1 2023.\n",
      "-----------------------------------------------\n",
      "The text provides a financial summary of a company's operations for the three months and nine months ended March 31, 2023, compared to the same periods in 2022. The company's revenue, gross margin, operating income, net income, and diluted earnings per share are presented, both in GAAP and non-GAAP terms. The company saw a 7% increase in revenue and a 9% increase in gross margin for the three-month period, and a 6% increase in both for the nine-month period. The company's operations are divided into three segments: Intelligent Cloud, Productivity and Business Processes, and More Personal Computing. The first two segments saw growth, while the latter saw a decline. The company's operating expenses also increased due to investments in cloud engineering and acquisitions.\n",
      "-----------------------------------------------\n",
      "The text describes Microsoft's financial performance. Revenue increased by 6% to $8 billion, primarily due to growth in Microsoft Cloud. Gross margin also increased by 6% to $6.5 billion, driven by growth in Intelligent Cloud and Productivity and Business Processes. Operating expenses increased by 14% to $5.1 billion due to investments in cloud engineering and acquisitions. Operating income increased by 2% to $1.4 billion. The company's financial performance was negatively impacted by foreign currency fluctuations and a Q2 charge. The report also provides detailed performance of different segments like Productivity and Business Processes, Intelligent Cloud, and More Personal Computing.\n",
      "-----------------------------------------------\n",
      "The report details financial performance across various sectors. Windows Commercial products and cloud services revenue increased by 14%, while Devices revenue decreased by 30%. Gaming revenue decreased by 4%, and Search and news advertising revenue increased by 3%. Operating income decreased by 12%. For the nine months ending March 31, 2023, revenue increased by 9% in Productivity and Business Processes, and by 18% in Intelligent Cloud. More Personal Computing revenue decreased by 10%. Research and development expenses increased by 11% for the three months ending March 31, 2023, and by 16% for the nine months ending March 31, 2023. Sales and marketing expenses increased by 3% for the three months ending March 31, 2023, and by 7% for the nine months ending March 31, 2023.\n",
      "-----------------------------------------------\n",
      "Research and development expenses increased by $678 million (11%) and $2.8 billion (16%) for the three and nine months ended March 31, 2023, respectively, due to investments in cloud engineering and LinkedIn. Sales and marketing expenses increased by $155 million (3%) and $1.0 billion (7%) for the same periods, driven by acquisitions and investments in commercial sales. General and administrative expenses increased by $163 million (11%) and $1.2 billion (30%) for the same periods, due to acquisition-related expenses and employee severance expenses. Other income increased due to higher yields and lower long-term debt. The effective tax rate was 19% and 17% for the three months ended March 31, 2023 and 2022, respectively, and 19% and 11% for the nine months ended March 31, 2023 and 2022, respectively. The company remains under audit for tax years 2004 to 2017, with primary unresolved issues relating to transfer pricing.\n",
      "-----------------------------------------------\n",
      "The company has settled portions of IRS audits for tax years 2004 to 2013, with unresolved issues relating to transfer pricing. They are also under audit for tax years 2004 to 2017. Non-GAAP financial measures are used to provide additional insight into operational performance. The company expects existing resources to fund operating activities and cash commitments for at least the next 12 months. As of March 31, 2023, cash, cash equivalents, and short-term investments totaled $104.4 billion. The company's investments are primarily in highly liquid investment-grade fixed-income securities. Fair value of financial instruments is determined using quoted prices in active markets or observable inputs.\n",
      "-----------------------------------------------\n",
      "The company determines fair value of assets and liabilities using quoted prices in active markets or observable inputs. Majority of investments are Level 1 or Level 2, priced by vendors or brokers. Cash from operations decreased by $5.6 billion to $58.8 billion due to increased cash paid to employees and suppliers and income taxes. Cash used in financing and investing also decreased. Debt is issued for general corporate purposes. Unearned revenue mainly comes from volume licensing programs and cloud services. Expected future recognition of unearned revenue as of March 31, 2023 is $39,601 million. The company has paid a transition tax of $7.7 billion, with remaining $10.5 billion payable over next three years. For the nine months ended March 31, 2023, 55 million shares were repurchased for $13.8 billion. Quarterly dividends of $0.68 per share were declared. The company plans to acquire Activision Blizzard for $68.7 billion and will continue to invest in technology and acquisitions.\n",
      "-----------------------------------------------\n",
      "The company plans to continue returning capital to shareholders via dividends. It has entered into an agreement to acquire Activision Blizzard for $68.7 billion, aiming to close the deal in fiscal year 2023. The company will continue to invest in sales, marketing, product support infrastructure, technology, and acquisitions that align with its business strategy. It expects capital expenditures to increase to support growth in cloud offerings and investments in artificial intelligence infrastructure. The company's financial statements are prepared in accordance with GAAP, requiring management to make estimates and assumptions that affect reported amounts of assets, liabilities, revenue, and expenses. The company reviews debt investments quarterly for credit losses and impairment, and tests goodwill for impairment annually.\n",
      "-----------------------------------------------\n",
      "The text discusses the company's accounting practices and risk management. It details the process of goodwill impairment testing, which involves significant judgment and is influenced by various factors such as business climate and competition. The company also discusses its treatment of research and development costs, legal contingencies, income taxes, and inventories. \n",
      "\n",
      "The company is exposed to various market risks including foreign exchange rates, interest rates, credit risk, and equity prices, and uses derivative instruments to manage these risks. A sensitivity analysis is provided to show the potential impact of hypothetical changes in these market rates or prices. \n",
      "\n",
      "The company's management has evaluated the effectiveness of its disclosure controls and procedures and found them to be effective. There were no significant changes in the company's internal control over financial reporting during the quarter ended March 31, 2023.\n",
      "-----------------------------------------------\n",
      "The text describes the company's financial risks and controls, legal proceedings, and competition. It mentions the potential impact of changes in treasury interest rates, credit spreads, and equity market prices on the company's fair value and earnings. The company's management has evaluated the effectiveness of its disclosure controls and procedures, and found them to be effective. The company is involved in legal proceedings detailed in Note 14 - Contingencies. It faces intense competition in the technology sector, with competitors ranging from large global companies to small specialized firms. The company's success depends on its ability to innovate and appeal to businesses and consumers. It also mentions the company's shift towards cloud-based services and the associated execution and competitive risks.\n",
      "-----------------------------------------------\n",
      "The company is facing competitive pressures that may decrease sales volumes, reduce prices, and increase operating costs, potentially leading to lower revenue, gross margins, and operating income. They are increasingly focusing on cloud-based services, which presents execution and competitive risks. Significant resources are being devoted to develop and deploy cloud-based strategies. The company is also incurring costs to build and maintain infrastructure to support cloud computing services, which will reduce operating margins. The success of these strategies is uncertain and failure to execute them effectively may negatively impact gross margins and operating income. \n",
      "\n",
      "The company is making significant investments in products and services that may not achieve expected returns. These include the Windows operating system, Microsoft 365, Bing, SQL Server, Windows Server, Azure, Office 365, Xbox, LinkedIn, and other products and services. Developing new technologies is complex and can require long development and testing periods. \n",
      "\n",
      "The company is also involved in acquisitions, joint ventures, and strategic alliances, which involve significant challenges and risks. These include the risk of not advancing business strategy, getting an unsatisfactory return on investment, difficulty in integrating and retaining new employees, business systems, and technology, and distraction of management from other businesses. If goodwill or amortizable intangible assets become impaired, the company may be required to record a significant charge to earnings.\n",
      "-----------------------------------------------\n",
      "The text discusses potential risks and challenges related to business arrangements, asset impairment, and cybersecurity. It mentions that unanticipated changes in business arrangements may lead to early termination or renegotiation, possibly affecting financial statements. It also highlights the risk of goodwill or intangible assets becoming impaired, which could lead to significant charges to earnings. The text also emphasizes the risks associated with cybersecurity, data privacy, and platform abuse, including potential reduced revenue, increased costs, liability claims, and harm to reputation or competitive position. It mentions the continuous threats from hackers and sophisticated organizations, including state-sponsored ones, and the evolving and complex nature of cyber threats. The text also discusses the importance of product and service security in customer decisions and the potential vulnerabilities in open source software.\n",
      "-----------------------------------------------\n",
      "The text describes potential cybersecurity threats and vulnerabilities that can impact the company's products and services, including \"zero day\" vulnerabilities, cyberattacks, and misuse of personal data. It mentions the company's commitment to continuously enhance security measures and provide support to customers. However, it also acknowledges that these measures could reduce operating margins and that failure to effectively protect against threats could harm the company's reputation and revenue. The text also discusses the challenges of supporting complex IT systems from multiple vendors and the potential risks associated with incorporating open source software. It further highlights the potential legal exposure and reputational harm that could result from the disclosure or misuse of personal data.\n",
      "-----------------------------------------------\n",
      "The text discusses potential risks and challenges faced by the company. These include issues related to data privacy and security, inability to protect information from misuse, potential harm to reputation due to platform abuse, risks associated with the development of Internet of Things (IoT) and Artificial Intelligence (AI), and operational risks such as excessive outages, data losses, and disruptions of online services due to inadequate operations infrastructure.\n",
      "-----------------------------------------------\n",
      "The text discusses the potential risks and challenges faced by a company in maintaining and expanding its infrastructure, which includes services like Bing, Azure, Microsoft Account services, Microsoft 365, Microsoft Teams, Dynamics 365, OneDrive, SharePoint Online, Skype, Xbox, and Outlook.com. The company also faces risks related to quality or supply problems with its hardware products such as Xbox consoles, Surface devices, and other devices. It also mentions the legal, regulatory, and litigation risks that the company faces, particularly in relation to competition laws in the US, EU, and China. The company's global operations also subject it to potential consequences under anti-corruption, trade, and other laws and regulations.\n",
      "-----------------------------------------------\n",
      "The text discusses potential risks and challenges faced by the company due to various regulatory requirements. These include potential undervaluation of proprietary technologies, litigation costs from non-compliance, limited monetization opportunities, restrictions on acquisitions, and consequences of non-compliance with anti-corruption and trade laws. The company also faces challenges due to global operations, including dealing with the Foreign Corrupt Practices Act and other anti-corruption laws. Regulatory scrutiny on data privacy, telecommunications, data storage, and protection also pose potential risks. The company is also subject to trade laws and sanctions, which could impact its operations and supply chain. The company's ability to transfer data across national boundaries is crucial for its internet and cloud-based services, but evolving legal requirements pose challenges. Lastly, the company is committed to digital accessibility, but failure to meet expectations or requirements could result in lost sales or legal actions.\n",
      "-----------------------------------------------\n",
      "The text discusses potential legal and regulatory challenges related to data transfers from the EU to the U.S., and the implementation of the EU-U.S. Data Privacy Framework. It also mentions the impact of the EU General Data Protection Regulation (GDPR) and other data regulations on the company's operations, including potential penalties for non-compliance. The company's business with government customers, which presents additional uncertainties, is also mentioned. The text further discusses potential additional tax liabilities, including the impact of audits by tax authorities and changes in tax laws. Finally, it mentions the company's significant operating income outside the U.S., which could be affected by changes in tax rates or business structure.\n",
      "-----------------------------------------------\n",
      "The text discusses potential risks to the company's financial status and intellectual property. The company is under audit by the IRS for prior tax years, primarily regarding transfer pricing. Changes in tax laws or disputes could affect the company's effective tax rates and financial statements. The company's source code is crucial to its business, and unauthorized disclosure could lead to loss of trade secret protection and increased competition. The company's intellectual property rights are difficult to protect globally, and changes in law could weaken their ability to prevent the use of patented technology or collect revenue for licensing their patents. Third parties may claim infringement of their intellectual property rights, which could lead to less favorable royalty and licensing agreements, product redesign, or payment of damages. Damage to the company's reputation or brands could negatively impact revenues or margins. Adverse economic or market conditions could lead to lower IT spending and affect the company's revenue. The company's distribution system relies on an extensive partner and retail network, and challenging economic conditions could disrupt this.\n",
      "-----------------------------------------------\n",
      "The text describes potential risks to a company's business operations. These include damage to the company's reputation, adverse economic conditions, disruptions in product distribution, and customer payment issues. It also mentions the risks associated with an investment portfolio, catastrophic events, geopolitical instability, and global pandemics. The company's operations are also exposed to risks due to climate change, international business operations, and the need to attract and retain talented employees.\n",
      "-----------------------------------------------\n",
      "The text discusses potential risks to the company's operations due to changes in trade policies, environmental and political conditions, and the competitive market for skilled workers. It also mentions the company's dependence on attracting and retaining diverse talent, and the potential impact of immigration laws on staffing. The company's share repurchases and dividends for the third quarter of fiscal year 2023 are detailed, with a total return of $9.7 billion to shareholders. The document also includes certifications from the CEO and CFO in compliance with the Sarbanes-Oxley Act of 2002.\n",
      "-----------------------------------------------\n",
      "The text is a certification from Microsoft Corporation's CEO, Satya Nadella, and CFO, Amy E. Hood, in compliance with the Sarbanes-Oxley Act of 2002. They confirm the accuracy of the financial statements and the effectiveness of the company's internal control over financial reporting. They also disclose any changes, deficiencies, or fraud that could impact the company's financial reporting. The report complies with the requirements of the Securities Exchange Act of 1934 and fairly presents the company's financial condition and operational results.\n",
      "-----------------------------------------------\n",
      "This text is a certification by Satya Nadella, CEO, and Amy E. Hood, CFO of Microsoft Corporation, in compliance with Section 906 of the Sarbanes-Oxley Act of 2002. It is related to the company's Form 10-Q report for the quarter ended March 31, 2023. They confirm that the report complies with the Securities Exchange Act of 1934 and accurately represents the company's financial condition and operational results.\n"
     ]
    }
   ],
   "source": [
    "for i in input_data:\n",
    "    print(\"-----------------------------------------------\")\n",
    "    print(i['description'])"
   ]
  },
  {
   "cell_type": "code",
   "execution_count": 7,
   "id": "9843795d-6be3-4cfe-ac2a-a1a44591e215",
   "metadata": {
    "tags": []
   },
   "outputs": [
    {
     "name": "stdout",
     "output_type": "stream",
     "text": [
      "Uploaded 36 documents\n"
     ]
    }
   ],
   "source": [
    "# Upload some documents to the index\n",
    "with open('output/docVectors.json', 'r') as file:  \n",
    "    documents = json.load(file)  \n",
    "search_client = SearchClient(endpoint=service_endpoint, index_name=index_name, credential=credential)\n",
    "result = search_client.upload_documents(documents)\n",
    "print(f\"Uploaded {len(documents)} documents\")"
   ]
  },
  {
   "cell_type": "markdown",
   "id": "6f6268f2-5aba-42c1-8e9c-2dff4ac1580f",
   "metadata": {
    "tags": []
   },
   "source": [
    "## Perform a Semantic Hybrid Search"
   ]
  },
  {
   "cell_type": "code",
   "execution_count": 8,
   "id": "a13b2bd2-977b-4788-bd28-702a4a2a1969",
   "metadata": {
    "tags": []
   },
   "outputs": [],
   "source": [
    "@retry(wait=wait_random_exponential(min=1, max=20), stop=stop_after_attempt(6))\n",
    "# Function to generate embeddings for title and content fields, also used for query embeddings\n",
    "def generate_embeddings(text):\n",
    "    response = openai.Embedding.create(\n",
    "        input=text, engine=\"text-embedding-ada-002\")\n",
    "    embeddings = response['data'][0]['embedding']\n",
    "    return embeddings"
   ]
  },
  {
   "cell_type": "code",
   "execution_count": 159,
   "id": "7557db85-9955-40c9-8025-ad900e6ced89",
   "metadata": {
    "scrolled": true,
    "tags": []
   },
   "outputs": [
    {
     "data": {
      "text/plain": [
       "'\\nsemantic_answers = results.get_answers()\\nfor answer in semantic_answers:\\n    print(answer)\\n    if answer.highlights:\\n        print(f\"Semantic Answer: {answer.highlights}\")\\n    else:\\n        print(f\"Semantic Answer: {answer.text}\")\\n    print(f\"Semantic Answer Score: {answer.score}\\n\")\\nfor result in results:\\n    print(result)\\n    print(f\"Score: {result[\\'@search.score\\']}\")\\n    print(f\"Score: {result[\\'@search.reranker_score\\']}\")\\n    print(f\"Content: {result[\\'content\\']}\")\\n\\n    captions = result[\"@search.captions\"]\\n    if captions:\\n        caption = captions[0]\\n        if caption.highlights:\\n            print(f\"Caption: {caption.highlights}\\n\")\\n        else:\\n            print(f\"Caption: {caption.text}\\n\")\\n'"
      ]
     },
     "execution_count": 159,
     "metadata": {},
     "output_type": "execute_result"
    }
   ],
   "source": [
    "# Semantic Hybrid Search\n",
    "query =\"please provide all the risks factors associated with microsoft in FY2023 Q3?\"\n",
    "\n",
    "vector = Vector(value=generate_embeddings(query), k=10, fields=\"embedding\")\n",
    "\n",
    "results = search_client.search(  \n",
    "    search_text=query,  \n",
    "    vectors=[vector],\n",
    "    select=[\"content\",\"id\",\"sourcefile\"],\n",
    "    query_type=\"semantic\", query_language=\"en-us\", semantic_configuration_name='boosted-semantic-config', query_caption=\"extractive\", query_answer=\"extractive\",\n",
    "    top=10\n",
    ")\n",
    "\n",
    "'''\n",
    "semantic_answers = results.get_answers()\n",
    "for answer in semantic_answers:\n",
    "    print(answer)\n",
    "    if answer.highlights:\n",
    "        print(f\"Semantic Answer: {answer.highlights}\")\n",
    "    else:\n",
    "        print(f\"Semantic Answer: {answer.text}\")\n",
    "    print(f\"Semantic Answer Score: {answer.score}\\n\")\n",
    "for result in results:\n",
    "    print(result)\n",
    "    print(f\"Score: {result['@search.score']}\")\n",
    "    print(f\"Score: {result['@search.reranker_score']}\")\n",
    "    print(f\"Content: {result['content']}\")\n",
    "\n",
    "    captions = result[\"@search.captions\"]\n",
    "    if captions:\n",
    "        caption = captions[0]\n",
    "        if caption.highlights:\n",
    "            print(f\"Caption: {caption.highlights}\\n\")\n",
    "        else:\n",
    "            print(f\"Caption: {caption.text}\\n\")\n",
    "'''"
   ]
  },
  {
   "cell_type": "code",
   "execution_count": 160,
   "id": "2199077f-2857-4edb-a2fc-a31446b68535",
   "metadata": {
    "tags": []
   },
   "outputs": [],
   "source": [
    "results_list = [result for result in results]"
   ]
  },
  {
   "cell_type": "code",
   "execution_count": 161,
   "id": "c8f7faa3-6b69-4654-99d4-3ae98ddc300b",
   "metadata": {
    "tags": []
   },
   "outputs": [],
   "source": [
    "sorted_list = sorted(results_list, key=lambda x: (x['id']))"
   ]
  },
  {
   "cell_type": "code",
   "execution_count": 147,
   "id": "0ddcd630-e300-49ba-8512-37dc4ba8352e",
   "metadata": {
    "tags": []
   },
   "outputs": [],
   "source": [
    "from langchain.docstore.document import Document\n",
    "if results == None:\n",
    "    docs = [Document(page_content=\"No results found\")]\n",
    "else :\n",
    "    docs = [\n",
    "        Document(page_content=doc['content'], metadata={\"id\": doc['id'], \"source\": doc['sourcefile']})\n",
    "        for doc in sorted_list\n",
    "        ]"
   ]
  },
  {
   "cell_type": "code",
   "execution_count": 156,
   "id": "0750098b-b3c4-4608-b027-587600496eb6",
   "metadata": {
    "tags": []
   },
   "outputs": [],
   "source": [
    "from langchain.chains.qa_with_sources import load_qa_with_sources_chain\n",
    "from langchain.chat_models import AzureChatOpenAI, ChatOpenAI\n",
    "from langchain.embeddings.openai import OpenAIEmbeddings\n",
    "from langchain.prompts import PromptTemplate"
   ]
  },
  {
   "cell_type": "code",
   "execution_count": 157,
   "id": "1540274a-9d63-4bbe-a7f7-89865b732011",
   "metadata": {
    "tags": []
   },
   "outputs": [],
   "source": [
    "llm = AzureChatOpenAI(\n",
    "                openai_api_base=openai.api_base,\n",
    "                openai_api_version=openai.api_version,\n",
    "                deployment_name='gpt4',\n",
    "                temperature=0,\n",
    "                openai_api_key=openai.api_key,\n",
    "                openai_api_type=\"azure\",\n",
    "                max_tokens=2000)\n",
    "embeddings = OpenAIEmbeddings(engine='text-emedding-ada-002', chunk_size=1, openai_api_key=openai.api_key)"
   ]
  },
  {
   "cell_type": "code",
   "execution_count": 158,
   "id": "0740477b-4095-4a98-b4e0-cc132fb2177d",
   "metadata": {
    "tags": []
   },
   "outputs": [],
   "source": [
    "# Semantic Hybrid Search\n",
    "query =\"Please provide all the risks associated with microsoft in FY2023 Q3?\""
   ]
  },
  {
   "cell_type": "code",
   "execution_count": 163,
   "id": "54576e6d-da18-485e-84e8-ae08242ea0d1",
   "metadata": {
    "tags": []
   },
   "outputs": [
    {
     "name": "stdout",
     "output_type": "stream",
     "text": [
      "The risk factors associated with Microsoft in FY2023 Q3 include:\n",
      "\n",
      "1. Competitive pressures: Decreased sales volumes, price reductions, and/or increased operating costs, such as for research and development, marketing, and sales incentives, could lead to lower revenue, gross margins, and operating income.\n",
      "\n",
      "2. Execution and competitive risks in cloud-based services: Microsoft's increasing focus on cloud-based services presents execution and competitive risks. The company's success in the Internet of Things (IoT) will depend on the level of adoption of its offerings such as Azure, Azure Stack, Azure IOT Edge, and Azure Sphere.\n",
      "\n",
      "3. Infrastructure costs: Microsoft is incurring costs to build and maintain infrastructure to support cloud computing services. These costs will reduce the operating margins the company has previously achieved.\n",
      "\n",
      "4. Fraudulent or abusive activities: Some users may engage in fraudulent or abusive activities through Microsoft's cloud-based services, which could impact the company's revenue or reputation.\n",
      "\n",
      "5. Investments in new products and services: Microsoft makes significant investments in products and services that may not achieve expected returns. New products and services may not be profitable, and even if they are profitable, operating margins for some new products and businesses will not be as high as the margins the company has experienced historically.\n",
      "\n",
      "6. Acquisitions, joint ventures, and strategic alliances: These may have an adverse effect on Microsoft's business. They involve significant challenges and risks, including that they do not advance the company's business strategy, that Microsoft gets an unsatisfactory return on its investment, or that they distract management from the company's other businesses.\n",
      "\n",
      "7. Impairment of goodwill or amortizable intangible assets: If Microsoft's goodwill or amortizable intangible assets become impaired, the company may be required to record a significant charge to earnings.\n",
      "\n",
      "8. Cybersecurity, data privacy, and platform abuse risks: Cyberattacks and security vulnerabilities could lead to reduced revenue, increased costs, liability claims, or harm to Microsoft's reputation or competitive position. The security of Microsoft's information technology and the security of its products, services, devices, and customers' data are crucial. Threats to these can disrupt the security of Microsoft's systems and business applications, impair its ability to provide services to its customers and protect the privacy of their data, result in product development delays, compromise confidential or technical business information harming its reputation or competitive position, result in theft or misuse of its intellectual property or other assets, subject it to ransomware attacks, require it to allocate more resources to improve technologies or remediate the impacts of attacks, or otherwise adversely affect its business.\n",
      "\n",
      "9. Vulnerabilities in open source software: Microsoft is increasingly incorporating open source software into its products. There may be vulnerabilities in open source software that may make Microsoft's products susceptible to cyberattacks.\n",
      "\n",
      "10. Dependence on third-party products and components: Microsoft's products operate in conjunction with and are dependent on products and components across a broad ecosystem of third parties. If there is a security vulnerability in one of these components, and if there is a security exploit targeting it, Microsoft could face increased costs, liability claims, reduced revenue, or harm to its reputation or competitive position.\n",
      "\n",
      "11. Disclosure and misuse of personal data: As Microsoft continues to grow the number, breadth, and scale of its cloud-based offerings, it stores and processes increasingly large amounts of personal data of its customers and users. Improper disclosure or misuse could harm Microsoft's reputation, lead to legal exposure to customers or users, or subject it to liability under laws that protect personal data, resulting in increased costs or loss of revenue.\n",
      "\n",
      "12. Protection of information in Microsoft's products and services: LinkedIn and other Microsoft products and services contain valuable information and content protected by contractual restrictions or technical measures. Microsoft may not be able to protect this information from use by others.\n",
      "\n",
      "13. Operational risks: Microsoft may have excessive outages, data losses, and disruptions of its online services if it fails to maintain an adequate operations infrastructure. The company's increasing user traffic, growth in services, and the complexity of its products and services demand more computing power.\n",
      "\n",
      "14. Risks associated with the development and use of AI: Microsoft is building AI into many of its offerings, and it is also making AI available for its customers to use in solutions that they build. AI algorithms or training methodologies may be flawed, datasets may be overbroad, insufficient, or contain biased information, and content generated by AI systems may be offensive, illegal, or otherwise harmful.\n",
      "\n",
      "15. Transition to a clean energy economy: Microsoft's operations could be adversely affected by the transition to a clean energy economy, local and regional environmental regulations, and geopolitical disruptions.\n",
      "\n",
      "16. Quality or supply problems: Microsoft's hardware products such as Xbox consoles, Surface devices, and other devices it designs and markets are highly complex and can have defects in design, manufacture, or associated software. The company could incur significant expenses, lost revenue, and reputational harm as a result of recalls, safety alerts, or product liability claims.\n",
      "\n",
      "17. Limited suppliers for certain device and datacenter components: Microsoft's competitors use some of the same suppliers and their demand for hardware components can affect the capacity available to Microsoft. If components are delayed or become unavailable, Microsoft may not obtain timely replacement supplies, resulting in reduced sales or inadequate datacenter capacity.\n",
      "\n",
      "18. Legal, regulatory, and litigation risks: Government litigation and regulatory activity relating to competition rules may limit how Microsoft designs and markets its products. Regulatory scrutiny may inhibit Microsoft's ability to consummate acquisitions or impose conditions that reduce the ultimate value of such transactions.\n",
      "\n",
      "19. Compliance with Anti-Corruption Laws: Microsoft's failure to comply with Anti-Corruption Laws or competition laws could result in significant fines and penalties, criminal sanctions against the company, its officers, or its employees, prohibitions on the conduct of its business, and damage to its reputation.\n",
      "\n",
      "20. Trade laws and sanctions: Increasing trade laws, policies, sanctions, and other regulatory requirements also affect Microsoft's operations in and outside the U.S. relating to trade and investment. Non-compliance with sanctions as well as general ecosystem disruptions could result in reputational harm, operational delays, monetary fines, loss of revenues, increased costs, loss of export privileges, or criminal sanctions.\n",
      "\n",
      "21. Regulatory requirements related to user privacy, telecommunications, data storage and protection, advertising, and online content: Compliance with these types of regulation may involve significant costs or require changes in products or business practices that result in reduced revenue. Noncompliance could result in the imposition of penalties or orders Microsoft stops the alleged noncompliant activity.\n",
      "\n",
      "22. Accessibility of products and services: If Microsoft's products do not meet customer expectations or global accessibility requirements, the company could lose sales opportunities or face regulatory or legal actions.\n",
      "\n",
      "23. Handling of personal data: Laws and regulations relating to the handling of personal data may impede the adoption of Microsoft's services or result in increased costs, legal claims, fines against the company, or reputational damage.\n",
      "\n",
      "24. Cross-border transfer of personal data: The growth of Microsoft's Internet- and cloud-based services internationally relies increasingly on the movement of data across national boundaries. Legal requirements relating to the collection, storage, handling, and transfer of personal data continue to evolve, which could increase the cost and complexity of delivering Microsoft's products and services.\n",
      "\n",
      "25. Changes in fair value: Changes in the fair value of investments, excluding credit losses and impairments, are recorded in other comprehensive income. Fair value is calculated based on publicly available market information or other estimates determined by management. If the cost of an investment exceeds its fair value, Microsoft evaluates, among other factors, general market conditions, credit quality of debt instrument issuers, and the extent to which the fair value is less than cost. If market, industry, and/or investee conditions deteriorate, Microsoft may incur future impairments.\n",
      "\n",
      "26. Employee Severance: On January 18, 2023, Microsoft announced a decision to reduce its overall workforce by approximately 10,000 jobs through the third quarter of fiscal year 2023. During the three months ended December 31, 2022, Microsoft recorded $800 million of employee severance expenses related to these job eliminations as part of an ongoing employee benefit plan. These employee severance expenses were included in general and administrative expenses in Microsoft's consolidated income statements and allocated to its segments based on relative gross margin.\n",
      "\n",
      "27. Adverse economic or market conditions: Worsening economic conditions, including inflation, recession, pandemic, or other changes in economic conditions, may cause lower IT spending and adversely affect Microsoft's revenue. If demand for PCs, servers, and other computing devices declines, or consumer or business spending for those products declines, Microsoft's revenue will be adversely affected.\n",
      "\n",
      "28. Catastrophic events or geopolitical conditions: A disruption or failure of Microsoft's systems or operations because of a major earthquake, weather event, cyberattack, terrorist attack, pandemic, or other catastrophic event could cause delays in completing sales, providing services, or performing other critical functions.\n",
      "\n",
      "29. Global business risks: Microsoft's customers are located throughout the world and a significant part of its revenue comes from international sales. The global nature of its business creates operational, economic, and geopolitical risks. Its results of operations may be affected by global, regional, and local economic developments, monetary policy, inflation, and recession, as well as political and military disputes.\n",
      "\n",
      "30. Dependence on talented employees: Microsoft's business is based on successfully attracting and retaining talented employees representing diverse backgrounds, experiences, and skills. If it fails to attract and retain such employees, it could negatively impact its revenues or margins, or its ability to attract the most highly qualified employees.\n",
      "\n",
      "31. Derivative Risks: Microsoft uses derivative instruments to manage risks related to foreign currencies, interest rates, equity prices, and credit; to enhance investment returns; and to facilitate portfolio diversification. The company's objectives for holding derivatives include reducing, eliminating\n",
      "CPU times: total: 46.9 ms\n",
      "Wall time: 8min 27s\n"
     ]
    }
   ],
   "source": [
    "%%time\n",
    "chainType = \"refine\"\n",
    "template = \"\"\"\n",
    "            Given the following extracted parts of a long document and a question, create a final answer. Please return the sources only at the end.\n",
    "            If you don't know the answer, just say that you don't know. Don't try to make up an answer. \n",
    "            If the answer is not contained within the text below, say \\\"I don't know\\\".\n",
    "\n",
    "            QUESTION: {question}\n",
    "            =========\n",
    "            {parts of document}\n",
    "            =========\n",
    "            \"\"\"\n",
    "#qaPrompt = PromptTemplate(template=template, input_variables=[\"summaries\", \"question\"])\n",
    "#qaChain = load_qa_with_sources_chain(llm, chain_type=chainType, prompt=qaPrompt)\n",
    "qaChain = load_qa_with_sources_chain(llm, chain_type=chainType)\n",
    "answer = qaChain({\"input_documents\": docs, \"question\": query}, return_only_outputs=False)\n",
    "outputAnswer = answer['output_text']\n",
    "print(outputAnswer)"
   ]
  },
  {
   "cell_type": "code",
   "execution_count": null,
   "id": "e89128ec-2fa8-4076-9adb-1d933fd95092",
   "metadata": {
    "tags": []
   },
   "outputs": [],
   "source": []
  },
  {
   "cell_type": "code",
   "execution_count": null,
   "id": "63f7b0c4-626a-437e-b16d-65073a78e1e5",
   "metadata": {},
   "outputs": [],
   "source": []
  }
 ],
 "metadata": {
  "kernelspec": {
   "display_name": "Python 3 (ipykernel)",
   "language": "python",
   "name": "python3"
  },
  "language_info": {
   "codemirror_mode": {
    "name": "ipython",
    "version": 3
   },
   "file_extension": ".py",
   "mimetype": "text/x-python",
   "name": "python",
   "nbconvert_exporter": "python",
   "pygments_lexer": "ipython3",
   "version": "3.11.3"
  }
 },
 "nbformat": 4,
 "nbformat_minor": 5
}
