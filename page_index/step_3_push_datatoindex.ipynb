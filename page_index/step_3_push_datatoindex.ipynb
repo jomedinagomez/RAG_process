{
 "cells": [
  {
   "cell_type": "markdown",
   "id": "d3cc668e-bdc3-4569-89ee-7e23d9c3f64d",
   "metadata": {},
   "source": [
    "### Import required libraries and environment variables"
   ]
  },
  {
   "cell_type": "code",
   "execution_count": 929,
   "id": "0b2c66e1-c536-40e0-bf37-e2df913ed884",
   "metadata": {
    "tags": []
   },
   "outputs": [],
   "source": [
    "# Import required libraries  \n",
    "import os  \n",
    "import json  \n",
    "import openai  \n",
    "import pandas as pd\n",
    "from dotenv import load_dotenv  \n",
    "from tenacity import retry, wait_random_exponential, stop_after_attempt  \n",
    "from azure.core.credentials import AzureKeyCredential  \n",
    "from azure.search.documents import SearchClient  \n",
    "from azure.search.documents.indexes import SearchIndexClient  \n",
    "from azure.search.documents.models import Vector  \n",
    "from azure.search.documents.indexes.models import (  \n",
    "    SearchIndex,  \n",
    "    SearchField,  \n",
    "    SearchFieldDataType,  \n",
    "    SimpleField,  \n",
    "    SearchableField,  \n",
    "    SearchIndex,  \n",
    "    SemanticConfiguration,  \n",
    "    PrioritizedFields,  \n",
    "    SemanticField,  \n",
    "    SearchField,  \n",
    "    SemanticSettings,  \n",
    "    VectorSearch,  \n",
    "    HnswVectorSearchAlgorithmConfiguration,  \n",
    ")  \n",
    "\n",
    "  \n",
    "# Configure environment variables  \n",
    "# Configure environment variables  \n",
    "# Configure environment variables  \n",
    "load_dotenv()  \n",
    "service_endpoint = os.getenv(\"AZURE_AI_SEARCH_ENDPOINT\") \n",
    "index_name = \"single_page_index\" #os.getenv(\"AZURE_SEARCH_INDEX_NAME\") \n",
    "key = os.getenv(\"AZURE_AI_SEARCH_KEY\") \n",
    "openai.api_type = \"azure\"  \n",
    "openai.api_key = os.getenv(\"AZURE_OPENAI_API_KEY\")  \n",
    "openai.api_base = os.getenv(\"AZURE_OPENAI_ENDPOINT\")  \n",
    "openai.api_version = os.getenv(\"AZURE_OPENAI_API_VERSION\") \n",
    "model: str = \"text-embedding-3-small\" \n",
    "credential = AzureKeyCredential(key)"
   ]
  },
  {
   "cell_type": "markdown",
   "id": "bdb1604c-b1e1-44c9-b445-417c1586d419",
   "metadata": {},
   "source": [
    "### Modifying vector"
   ]
  },
  {
   "cell_type": "code",
   "execution_count": 930,
   "id": "33d96bff-36b5-4d49-851f-c1abd407c45e",
   "metadata": {
    "tags": []
   },
   "outputs": [],
   "source": [
    "# Generate Document Embeddings using OpenAI Ada 002\n",
    "\n",
    "# Read the text-sample.json\n",
    "with open('enrichedVectors.json', 'r', encoding='utf-8') as file:\n",
    "    input_data = json.load(file)"
   ]
  },
  {
   "cell_type": "code",
   "execution_count": 931,
   "id": "0409ffe1-1427-49d5-8527-ac2269b8620c",
   "metadata": {
    "tags": []
   },
   "outputs": [],
   "source": [
    "# Generate embeddings for title and content fields\n",
    "for item in input_data:\n",
    "    item['@search.action'] = 'upload'\n",
    "\n",
    "# Output embeddings to docVectors.json file\n",
    "with open(\"docVectors.json\", \"w\") as f:\n",
    "    json.dump(input_data, f)"
   ]
  },
  {
   "cell_type": "markdown",
   "id": "8b4ddeed-cf73-427c-b625-b18ff99eb0af",
   "metadata": {},
   "source": [
    "## Insert text and embeddings into vector store\n",
    "Add texts and metadata from the JSON data to the vector store:"
   ]
  },
  {
   "cell_type": "code",
   "execution_count": 932,
   "id": "12a539a1-bea8-43a1-b7c6-d12b84bbad5d",
   "metadata": {
    "tags": []
   },
   "outputs": [
    {
     "name": "stdout",
     "output_type": "stream",
     "text": [
      "-----------------------------------------------\n",
      "UNITED STATES SECURITIES AND EXCHANGE COMMISSION Washington, D.C. 20549\n",
      "FORM 10-Q :selected: QUARTERLY REPORT PURSUANT TO SECTION 13 OR 15(d) OF THE SECURITIES EXCHANGE ACT OF 1934 For the Quarterly Period Ended March 31, 2023\n",
      "OR :unselected: TRANSITION REPORT PURSUANT TO SECTION 13 OR 15(d) OF THE SECURITIES EXCHANGE ACT OF 1934 For the Transition Period From to\n",
      "Commission File Number 001-37845\n",
      "MICROSOFT CORPORATION\n",
      "WASHINGTON (STATE OF INCORPORATION)\n",
      "91-1144442 (I.R.S. ID)\n",
      "ONE MICROSOFT WAY, REDMOND, WASHINGTON 98052-6399 (425) 882-8080 www.microsoft.com/investor\n",
      "<table><tr><th>Title of each class</th><th>Trading Symbol</th><th>Name of exchange on which registered</th></tr><tr><th>Common stock, $0.00000625 par value per share</th><th>MSFT</th><th>NASDAQ</th></tr><tr><td>3.125% Notes due 2028</td><td>MSFT</td><td>NASDAQ</td></tr><tr><td>2.625% Notes due 2033</td><td>MSFT</td><td>NASDAQ</td></tr></table>\n",
      "Indicate by check mark whether the registrant (1) has filed all reports required to be filed by Section 13 or 15(d) of the Securities Exchange Act of 1934 during the preceding 12 months (or for such shorter period that the registrant was required to file such reports), and (2) has been subject to such filing requirements for the past 90 days. Yes X :selected: No :unselected:\n",
      "Indicate by check mark whether the registrant has submitted electronically every Interactive Data File required to be submitted pursuant to Rule 405 of Regulation S-T (§232.405 of this chapter) during the preceding 12 months (or for such shorter period that the registrant was required to submit such files). Yes :unselected: No :selected:\n",
      "Indicate by check mark whether the registrant is a large accelerated filer, an accelerated filer, a non-accelerated filer, a smaller reporting company, or an emerging growth company. See the definitions of \"large accelerated filer,\" \"accelerated filer,\" \"smaller reporting company,\" and \"emerging growth company\" in Rule 12b-2 of the Exchange Act. Large Accelerated Filer X Accelerated Filer :unselected: :selected: Non-accelerated Filer :unselected: :unselected: Smaller Reporting Company Emerging Growth Company :unselected:\n",
      "If an emerging growth company, indicate by check mark if the registrant has elected not to use the extended transition period for complying with any new or revised financial accounting standards provided pursuant to Section 13(a) of the Exchange Act. :unselected: ☐\n",
      "Indicate by check mark whether the registrant is a shell company (as defined in Rule 12b-2 of the Exchange Act). Yes :unselected: :selected: No Indicate the number of shares outstanding of each of the issuer's classes of common stock, as of the latest practicable date.\n",
      "<table><tr><th>Class</th><th>Outstanding as of April 20, 2023</th></tr><tr><td>Common Stock, $0.00000625 par value per share</td><td>7,435,487,575 shares</td></tr></table>\n",
      "Securities registered pursuant to Section 12(b) of the Act: \n",
      "-----------------------------------------------\n",
      "MICROSOFT CORPORATION FORM 10-Q For the Quarter Ended March 31, 2023 INDEX\n",
      "Page\n",
      "PART I. FINANCIAL INFORMATION\n",
      "Item 1. Financial Statements\n",
      "a) Income Statements for the Three and Nine Months Ended March 31, 2023 and 2022 3\n",
      "b) Comprehensive Income Statements for the Three and Nine Months Ended March 31, 2023 and 2022 4\n",
      "c) Balance Sheets as of March 31, 2023 and June 30, 2022 5\n",
      "d) Cash Flows Statements for the Three and Nine Months Ended March 31, 2023 and 2022 6\n",
      "e) Stockholders' Equity Statements for the Three and Nine Months Ended March 31, 2023 and 2022 7\n",
      "f) Notes to Financial Statements 8\n",
      "g) Report of Independent Registered Public Accounting Firm 31\n",
      "Item 2. Management's Discussion and Analysis of Financial Condition and Results of Operations 32\n",
      "Item 3. Quantitative and Qualitative Disclosures About Market Risk 50\n",
      "Item 4. Controls and Procedures 50\n",
      "PART II. OTHER INFORMATION\n",
      "<table><tr><td>Item 1.</td><td>Legal Proceedings</td></tr><tr><td>Item 1A.</td><td>Risk Factors</td></tr><tr><td>Item 2.</td><td>Unregistered Sales of Equity Securities and Use of Proceeds</td></tr><tr><td>Item 6.</td><td>Exhibits</td></tr></table>\n",
      "SIGNATURE\n",
      "2\n",
      "5\n",
      "51\n",
      "51\n",
      "66\n",
      "67\n",
      "68 \n"
     ]
    }
   ],
   "source": [
    "for i in input_data[:2]:\n",
    "    print(\"-----------------------------------------------\")\n",
    "    print(i['content'])"
   ]
  },
  {
   "cell_type": "code",
   "execution_count": 933,
   "id": "9843795d-6be3-4cfe-ac2a-a1a44591e215",
   "metadata": {
    "tags": []
   },
   "outputs": [
    {
     "name": "stdout",
     "output_type": "stream",
     "text": [
      "Uploaded 74 documents\n"
     ]
    }
   ],
   "source": [
    "# Upload some documents to the index\n",
    "with open('docVectors.json', 'r') as file:  \n",
    "    documents = json.load(file)  \n",
    "search_client = SearchClient(endpoint=service_endpoint, index_name=index_name, credential=credential)\n",
    "result = search_client.upload_documents(documents)\n",
    "print(f\"Uploaded {len(documents)} documents\")"
   ]
  },
  {
   "cell_type": "markdown",
   "id": "715ceeb9-c177-450a-9d1c-32914d0cef25",
   "metadata": {
    "tags": []
   },
   "source": [
    "## Perform a Semantic Hybrid Search for short context"
   ]
  },
  {
   "cell_type": "markdown",
   "metadata": {},
   "source": [
    "### Getting Top N Documents"
   ]
  },
  {
   "cell_type": "code",
   "execution_count": 934,
   "id": "6889c1e3",
   "metadata": {},
   "outputs": [],
   "source": [
    "openai.api_type = \"azure\"\n",
    "openai.api_base = os.getenv(\"AZURE_OPENAI_ENDPOINT\")  \n",
    "openai.api_version = \"2023-07-01-preview\"\n",
    "openai.api_key = os.getenv(\"AZURE_OPENAI_API_KEY\")  \n",
    "\n",
    "deployment_name_embedding = \"text-embedding-3-small\" \n",
    "\n",
    "def before_retry_sleep(retry_state):\n",
    "    print(\"Rate limited on the OpenAI embeddings API, sleeping before retrying...\")\n",
    "\n",
    "@retry(\n",
    "    retry=retry_if_exception_type(openai.error.RateLimitError),\n",
    "    wait=wait_random_exponential(min=15, max=60),\n",
    "    stop=stop_after_attempt(15),\n",
    "    before_sleep=before_retry_sleep,\n",
    ")\n",
    "def compute_embedding(text):\n",
    "    #refresh_openai_token()\n",
    "    #embedding_args = {\"deployment_id\": deployment_name_embedding} if args.openaihost != \"openai\" else {}\n",
    "    return openai.Embedding.create(engine=\"text-embedding-3-small\" , input=text)[\"data\"][0][\"embedding\"]"
   ]
  },
  {
   "cell_type": "markdown",
   "metadata": {},
   "source": [
    "### Answering question from context"
   ]
  },
  {
   "cell_type": "code",
   "execution_count": 935,
   "id": "63f7b0c4-626a-437e-b16d-65073a78e1e5",
   "metadata": {
    "tags": []
   },
   "outputs": [],
   "source": [
    "def LLM_answer(query,results_list):\n",
    "    query = query + str(results_list) #table_html\n",
    "    messages = [{\"role\":\"system\",\"content\":\"You are an agent that works with policy documents. Sometimes tables might need to be unpacked, as values might appear to be nested. Please be concise. Please be mindful that you can have more than one coverage. Only use information for the following sources. Please be exhaustive in your answer, group your output by source if needed and do not duplicate values. If you thin that providing a table is the best answer, please provide it\\n\"}, \n",
    "               {\"role\":\"user\",\"content\":query}]\n",
    "    \n",
    "    print(messages)\n",
    "\n",
    "    response = openai.ChatCompletion.create(engine=\"gpt4-32k\",  \n",
    "                                        messages = messages, \n",
    "                                        temperature=0.4,  \n",
    "                                        max_tokens=1000,  top_p=0.5,  \n",
    "                                        frequency_penalty=0,  \n",
    "                                        presence_penalty=0,  \n",
    "                                        stop=None)\n",
    "\n",
    "    return response.choices[0].message.content"
   ]
  },
  {
   "cell_type": "code",
   "execution_count": 942,
   "id": "2555aff0",
   "metadata": {},
   "outputs": [
    {
     "name": "stderr",
     "output_type": "stream",
     "text": [
      "C:\\Users\\jomedin\\AppData\\Local\\Temp\\ipykernel_18376\\771113594.py:30: FutureWarning: The behavior of DataFrame concatenation with empty or all-NA entries is deprecated. In a future version, this will no longer exclude empty or all-NA columns when determining the result dtypes. To retain the old behavior, exclude the relevant entries before the concat operation.\n",
      "  combined_results = pd.concat([results_vector_df,results_hybrid_df], ignore_index =True).drop_duplicates(subset=['page_num']).drop(columns=['@search.highlights', '@search.captions'])\n"
     ]
    }
   ],
   "source": [
    "# Semantic Hybrid Search\n",
    "query =\"what was microsofts revenue for the nine months that ended in march 2023\"\n",
    "vector_value = compute_embedding(query)\n",
    "\n",
    "## Hybrid\n",
    "vector = Vector(value=vector_value, k=30, fields=\"content_vector,summary_vector,title_vector\")\n",
    "results_hybrid = search_client.search(  \n",
    "    search_text=query,  \n",
    "    vectors=[vector],\n",
    "    select=[\"content\",\"key_value\",\"page_num\",'title'],\n",
    "    query_type=\"semantic\", query_language=\"en-us\", semantic_configuration_name='boosted-semantic-config', query_caption=\"extractive\", query_answer=\"extractive\",\n",
    "    top=5\n",
    ")\n",
    "results_list_hybrid = [result for result in results_hybrid]\n",
    "\n",
    "#Vector\n",
    "vector = Vector(value=vector_value, k=30, fields=\"content_vector, title_vector\")\n",
    "results_vector = search_client.search(  \n",
    "    search_text=None,  \n",
    "    vectors=[vector],\n",
    "    select=[\"content\",\"key_value\",\"page_num\",'title'],\n",
    "    #query_type=\"semantic\", query_language=\"en-us\", semantic_configuration_name='boosted-semantic-config', query_caption=\"extractive\", query_answer=\"extractive\",\n",
    "    top=9\n",
    ")\n",
    "results_list_vector = [result for result in results_vector]\n",
    "\n",
    "#combining results\n",
    "results_vector_df = pd.DataFrame(results_list_vector)\n",
    "results_hybrid_df = pd.DataFrame(results_list_hybrid)\n",
    "combined_results = pd.concat([results_vector_df,results_hybrid_df], ignore_index =True).drop_duplicates(subset=['page_num']).drop(columns=['@search.highlights', '@search.captions'])\n",
    "\n",
    "combined_results['page_num'] = combined_results['page_num'].astype(int)\n",
    "\n",
    "combined_results = combined_results.sort_values(by=['page_num']).to_dict(orient='records')\n",
    "\n",
    "sorted_list = sorted(results_list, key=lambda x: (x['@search.reranker_score']), reverse=False)\n",
    "content_list = [\"title: \"+ i['title'] +\"\\n context: \" +i['content'] for i in results_list]"
   ]
  },
  {
   "cell_type": "code",
   "execution_count": 943,
   "id": "e138d132",
   "metadata": {},
   "outputs": [
    {
     "name": "stdout",
     "output_type": "stream",
     "text": [
      "[{'role': 'system', 'content': 'You are an agent that works with policy documents. Sometimes tables might need to be unpacked, as values might appear to be nested. Please be concise. Please be mindful that you can have more than one coverage. Only use information for the following sources. Please be exhaustive in your answer, group your output by source if needed and do not duplicate values. If you thin that providing a table is the best answer, please provide it\\n'}, {'role': 'user', 'content': 'what was microsofts revenue for the nine months that ended in march 2023[{\\'page_num\\': 2, \\'key_value\\': [\\'a) Income Statements for the Thre and Nine Months Ended March 31, 2023 and 202: 3\\', \\'b) Comprehensive Income Statements for the Thre and Nine Months Ended March 31, 2023 and 202: 5\\', \\'d) Cash Flows Statements for the Thre and Nine Months Ended March 31, 2023 and 202: 6\\', \"e) Stockholders\\' Equity Statements for the Thre and Nine Months Ended March 31, 2023 and 202: 7\", \\'f) Notes to Financial Statements: 8\\', \\'g) Report of Independent Registered Public Acounting Firm: 31\\', \"Item 2. Management\\'s Discusion and Analysis of Financial Condition and Results of Operations: 32\", \\'Item 3. Quantitative and Qualitative Disclosures About Market Risk: 50\\', \\'Item 4. Controls and Procedures: 50\\', \\'Item 1.\\\\nLegal Procedings: 51\\', \\'Item 1A.\\\\nRisk Factors: 51\\', \\'Item 2.\\\\nUnregistered Sales of Equity Securities and Use of Proceds: 6\\', \\'SIGNATURE: 68\\'], \\'content\\': \"MICROSOFT CORPORATION FORM 10-Q For the Quarter Ended March 31, 2023 INDEX\\\\nPage\\\\nPART I. FINANCIAL INFORMATION\\\\nItem 1. Financial Statements\\\\na) Income Statements for the Three and Nine Months Ended March 31, 2023 and 2022 3\\\\nb) Comprehensive Income Statements for the Three and Nine Months Ended March 31, 2023 and 2022 4\\\\nc) Balance Sheets as of March 31, 2023 and June 30, 2022 5\\\\nd) Cash Flows Statements for the Three and Nine Months Ended March 31, 2023 and 2022 6\\\\ne) Stockholders\\' Equity Statements for the Three and Nine Months Ended March 31, 2023 and 2022 7\\\\nf) Notes to Financial Statements 8\\\\ng) Report of Independent Registered Public Accounting Firm 31\\\\nItem 2. Management\\'s Discussion and Analysis of Financial Condition and Results of Operations 32\\\\nItem 3. Quantitative and Qualitative Disclosures About Market Risk 50\\\\nItem 4. Controls and Procedures 50\\\\nPART II. OTHER INFORMATION\\\\n<table><tr><td>Item 1.</td><td>Legal Proceedings</td></tr><tr><td>Item 1A.</td><td>Risk Factors</td></tr><tr><td>Item 2.</td><td>Unregistered Sales of Equity Securities and Use of Proceeds</td></tr><tr><td>Item 6.</td><td>Exhibits</td></tr></table>\\\\nSIGNATURE\\\\n2\\\\n5\\\\n51\\\\n51\\\\n66\\\\n67\\\\n68 \", \\'title\\': \\'MICROSOFT CORPORATION FORM 10-Q\\', \\'@search.score\\': 0.031054403632879257, \\'@search.reranker_score\\': nan}, {\\'page_num\\': 8, \\'key_value\\': [], \\'content\\': \\'PART ! Item 1\\\\nNOTES TO FINANCIAL STATEMENTS (Unaudited) NOTE 1 - ACCOUNTING POLICIES\\\\nAccounting Principles\\\\nOur unaudited interim consolidated financial statements and accompanying notes are prepared in accordance with accounting principles generally accepted in the United States of America (\"GAAP\"). In the opinion of management, the unaudited interim consolidated financial statements reflect all adjustments of a normal recurring nature that are necessary for a fair presentation of the results for the interim periods presented. Interim results are not necessarily indicative of results for a full year. The information included in this Form 10-Q should be read in conjunction with information included in the Microsoft Corporation fiscal year 2022 Form 10-K filed with the U.S. Securities and Exchange Commission on July 28, 2022.\\\\nPrinciples of Consolidation\\\\nThe consolidated financial statements include the accounts of Microsoft Corporation and its subsidiaries. Intercompany transactions and balances have been eliminated.\\\\nEstimates and Assumptions\\\\nPreparing financial statements requires management to make estimates and assumptions that affect the reported amounts of assets, liabilities, revenue, and expenses. Examples of estimates and assumptions include: for revenue recognition, determining the nature and timing of satisfaction of performance obligations, and determining the standalone selling price (\"SSP\") of performance obligations, variable consideration, and other obligations such as product returns and refunds; loss contingencies; product warranties; the fair value of and/or potential impairment of goodwill and intangible assets for our reporting units; product life cycles; useful lives of our tangible and intangible assets; allowances for doubtful accounts; the market value of, and demand for, our inventory; stock-based compensation forfeiture rates; when technological feasibility is achieved for our products; the potential outcome of uncertain tax positions that have been recognized in our consolidated financial statements or tax returns; and determining the timing and amount of impairments for investments. Actual results and outcomes may differ from management\\\\\\'s estimates and assumptions due to risks and uncertainties.\\\\nIn July 2022, we completed an assessment of the useful lives of our server and network equipment. Due to investments in software that increased efficiencies in how we operate our server and network equipment, as well as advances in technology, we determined we should increase the estimated useful lives of both server and network equipment from four years to six years. This change in accounting estimate was effective beginning fiscal year 2023. Based on the carrying amount of server and network equipment included in property and equipment, net as of June 30, 2022, the effect of this change in estimate for the three months ended March 31, 2023 was an increase in operating income of $885 million and net income of $720 million, or $0.10 per both basic and diluted share. The effect of this change for the nine months ended March 31, 2023 was an increase in operating income of $2.9 billion and net income of $2.3 billion, or $0.32 and $0.31 per basic and diluted share, respectively.\\\\nFinancial Instruments\\\\nInvestments\\\\nWe consider all highly liquid interest-earning investments with a maturity of three months or less at the date of purchase to be cash equivalents. The fair values of these investments approximate their carrying values. In general, investments with original maturities of greater than three months and remaining maturities of less than one year are classified as short-term investments. Investments with maturities beyond one year may be classified as short-term based on their highly liquid nature and because such marketable securities represent the investment of cash that is available for current operations.\\\\n8 \\', \\'title\\': \\'Title: NOTES TO FINANCIAL STATEMENTS (Unaudited) NOTE 1 - ACCOUNTING POLICIES\\', \\'@search.score\\': 0.03452153131365776, \\'@search.reranker_score\\': 3.006587028503418}, {\\'page_num\\': 30, \\'key_value\\': [], \\'content\\': \\'PART ! Item 1\\\\nRevenue, classified by significant product and service offerings, was as follows:\\\\n<table><tr><th>(In millions)</th><th colSpan=4>Three Months Ended\\\\nNine Months Ended\\\\nMarch 31,\\\\nMarch 31,</th></tr><tr><th></th><th>2023</th><th>2022</th><th>2023</th><th>2022</th></tr><tr><td>Server products and cloud services</td><td>$ 20,025</td><td>$ 17,046</td><td>$ 58,007</td><td>$ 48,498</td></tr><tr><td>Office products and cloud services</td><td>12,438</td><td>11,164</td><td>35,823</td><td>33,223</td></tr><tr><td>Windows</td><td>5,328</td><td>6,069</td><td>15,449</td><td>18,337</td></tr><tr><td>Gaming</td><td>3,607</td><td>3,740</td><td>11,975</td><td>12,775</td></tr><tr><td>LinkedIn</td><td>3,697</td><td>3,437</td><td>11,236</td><td>10,104</td></tr><tr><td>Search and news advertising</td><td>3,045</td><td>2,945</td><td>9,196</td><td>8,665</td></tr><tr><td>Enterprise Services</td><td>2,007</td><td>1,891</td><td>5,745</td><td>5,505</td></tr><tr><td>Devices</td><td>1,282</td><td>1,835</td><td>4,160</td><td>5,606</td></tr><tr><td>Other</td><td>1,428</td><td>1,233</td><td>4,135</td><td>3,692</td></tr><tr><td>Total</td><td>$ 52,857</td><td>$ 49,360</td><td>155,726</td><td>$ 146,405</td></tr></table>\\\\n\\\\n\\\\n\\\\nOur Microsoft Cloud revenue, which includes Azure and other cloud services, Office 365 Commercial, the commercial portion of LinkedIn, Dynamics 365, and other commercial cloud properties, was $28.5 billion and $81.3 billion for the three and nine months ended March 31, 2023, respectively, and $23.4 billion and $66.3 billion for the three and nine months ended March 31, 2022, respectively. These amounts are primarily included in Server products and cloud services, Office products and cloud services, and LinkedIn in the table above.\\\\nAssets are not allocated to segments for internal reporting presentations. A portion of amortization and depreciation is included with various other costs in an overhead allocation to each segment. It is impracticable for us to separately identify the amount of amortization and depreciation by segment that is included in the measure of segment profit or loss.\\\\n30 \\', \\'title\\': \\'Title: Revenue by Significant Product and Service Offerings\\', \\'@search.score\\': 0.03226646035909653, \\'@search.reranker_score\\': nan}, {\\'page_num\\': 32, \\'key_value\\': [], \\'content\\': \\'PART ! Item 2\\\\nITEM 2. MANAGEMENT\\\\\\'S DISCUSSION AND ANALYSIS OF FINANCIAL CONDITION AND RESULTS OF OPERATIONS\\\\nNote About Forward-Looking Statements\\\\nThis report includes estimates, projections, statements relating to our business plans, objectives, and expected operating results that are \"forward-looking statements\" within the meaning of the Private Securities Litigation Reform Act of 1995, Section 27A of the Securities Act of 1933, and Section 21E of the Securities Exchange Act of 1934. Forward-looking statements may appear throughout this report, including the following sections: \"Management\\\\\\'s Discussion and Analysis of Financial Condition and Results of Operations\" and \"Risk Factors\" (Part II, Item 1A of this Form 10-Q). These forward-looking statements generally are identified by the words \"believe,\" \"project,\" \"expect,\" \"anticipate,\" \"estimate,\" \"intend,\" \"strategy,\" \"future,\" \"opportunity,\" \"plan,\" \"may,\" \"should,\" \"will,\" \"would,\" \"will be,\" \"will continue,\" \"will likely result,\" and similar expressions. Forward-looking statements are based on current expectations and assumptions that are subject to risks and uncertainties that may cause actual results to differ materially. We describe risks and uncertainties that could cause actual results and events to differ materially in \"Management\\\\\\'s Discussion and Analysis of Financial Condition and Results of Operations,\" \"Quantitative and Qualitative Disclosures about Market Risk\" (Part I, Item 3 of this Form 10-Q), and \"Risk Factors\". We undertake no obligation to update or revise publicly any forward-looking statements, whether because of new information, future events, or otherwise.\\\\nThe following Management\\\\\\'s Discussion and Analysis of Financial Condition and Results of Operations (\"MD&A\") is intended to help the reader understand the results of operations and financial condition of Microsoft Corporation. MD&A is provided as a supplement to, and should be read in conjunction with, our Annual Report on Form 10-K for the year ended June 30, 2022, and our financial statements and the accompanying Notes to Financial Statements (Part I, Item 1 of this Form 10-Q).\\\\nOVERVIEW\\\\nMicrosoft is a technology company whose mission is to empower every person and every organization on the planet to achieve more. We strive to create local opportunity, growth, and impact in every country around the world. Our platforms and tools help drive small business productivity, large business competitiveness, and public-sector efficiency. We are creating the platforms and tools that deliver better, faster, and more effective solutions to support new startups, improve educational and health outcomes, and empower human ingenuity.\\\\nWe generate revenue by offering a wide range of cloud-based and other services to people and businesses; licensing and supporting an array of software products; designing, manufacturing, and selling devices; and delivering relevant online advertising to a global audience. Our most significant expenses are related to compensating employees; designing, manufacturing, marketing, and selling our products and services; datacenter costs in support of our cloud-based services; and income taxes.\\\\nHighlights from the third quarter of fiscal year 2023 compared with the third quarter of fiscal year 2022 included:\\\\n• Microsoft Cloud revenue increased 22% to $28.5 billion.\\\\n• Office Commercial products and cloud services revenue increased 13% driven by Office 365 Commercial growth of 14%.\\\\n• Office Consumer products and cloud services revenue increased 1% and Microsoft 365 Consumer subscribers increased to 65.4 million.\\\\n• LinkedIn revenue increased 8%.\\\\n· Dynamics products and cloud services revenue increased 17% driven by Dynamics 365 growth of 25%.\\\\n• Server products and cloud services revenue increased 17% driven by Azure and other cloud services growth of 27%.\\\\n• Windows original equipment manufacturer licensing (\"Windows OEM\") revenue decreased 28%.\\\\n• Devices revenue decreased 30%.\\\\n• Windows Commercial products and cloud services revenue increased 14%.\\\\n• Xbox content and services revenue increased 3%.\\\\n• Search and news advertising revenue excluding traffic acquisition costs increased 10%.\\\\n32 \\', \\'title\\': \"Title: Management\\'s Discussion and Analysis of Financial Condition and Results of Operations\", \\'@search.score\\': 0.03055555745959282, \\'@search.reranker_score\\': nan}, {\\'page_num\\': 35, \\'key_value\\': [], \\'content\\': \\'PART ! Item 2\\\\nProductivity and Business Processes and Intelligent Cloud\\\\nMetrics related to our Productivity and Business Processes and Intelligent Cloud segments assess the health of our core businesses within these segments. The metrics reflect our cloud and on-premises product strategies and trends.\\\\n<table><tr><td>Office Commercial products and cloud services revenue growth</td><td>Revenue from Office Commercial products and cloud services (Office 365 subscriptions, the Office 365 portion of Microsoft 365 Commercial subscriptions, and Office licensed on-premises), comprising Office, Exchange, SharePoint, Microsoft Teams, Office 365 Security and Compliance, and Microsoft Viva</td></tr><tr><td>Office Consumer products and cloud services revenue growth</td><td>Revenue from Office Consumer products and cloud services, including Microsoft 365 Consumer subscriptions, Office licensed on-premises, and other Office services</td></tr><tr><td>Office 365 Commercial seat growth</td><td>The number of Office 365 Commercial seats at end of period where seats are paid users covered by an Office 365 Commercial subscription</td></tr><tr><td>Microsoft 365 Consumer subscribers</td><td>The number of Microsoft 365 Consumer subscribers at end of period</td></tr><tr><td>Dynamics products and cloud services revenue growth</td><td>Revenue from Dynamics products and cloud services, including Dynamics 365, comprising a set of intelligent, cloud-based applications across ERP, CRM, Customer Insights, Power Apps, and Power Automate; and on-premises ERP and CRM applications</td></tr><tr><td>LinkedIn revenue growth</td><td>Revenue from LinkedIn, including Talent Solutions, Marketing Solutions, Premium Subscriptions, and Sales Solutions</td></tr><tr><td>Server products and cloud services revenue growth</td><td>Revenue from Server products and cloud services, including Azure and other cloud services; SQL Server, Windows Server, Visual Studio, System Center, and related Client Access Licenses (&quot;CALs&quot;); and Nuance and GitHub</td></tr></table>\\\\nMore Personal Computing\\\\nMetrics related to our More Personal Computing segment assess the performance of key lines of business within this segment. These metrics provide strategic product insights which allow us to assess the performance across our commercial and consumer businesses. As we have diversity of target audiences and sales motions within the Windows business, we monitor metrics that are reflective of those varying motions.\\\\n<table><tr><td>Windows OEM revenue growth</td><td>Revenue from sales of Windows Pro and non-Pro licenses sold through the OEM channel</td></tr><tr><td>Windows Commercial products and cloud services revenue growth</td><td>Revenue from Windows Commercial products and cloud services, comprising volume licensing of the Windows operating system, Windows cloud services, and other Windows commercial offerings</td></tr><tr><td>Devices revenue growth</td><td>Revenue from Devices, including Surface, Hololens, and PC accessories</td></tr><tr><td>Xbox content and services revenue growth</td><td>Revenue from Xbox content and services, comprising first- and third-party content (including games and in-game content), Xbox Game Pass and other subscriptions, Xbox Cloud Gaming, third-party disc royalties, advertising, and other cloud services</td></tr><tr><td>Search and news advertising revenue (ex TAC) growth</td><td>Revenue from\\\\n(&quot;TAC&quot;) paid to\\\\nsearch\\\\nBing\\\\nand news advertising excluding traffic acquisition costs\\\\nAds network publishers and news partners</td></tr></table>  \\\\n  \\\\n35 \\', \\'title\\': \\'Title: Metrics for Productivity and Business Processes and Intelligent Cloud, and More Personal Computing segments\\', \\'@search.score\\': 0.028958333656191826, \\'@search.reranker_score\\': nan}, {\\'page_num\\': 36, \\'key_value\\': [], \\'content\\': \\'PART ! Item 2\\\\nSUMMARY RESULTS OF OPERATIONS\\\\n<table><tr><th>(In millions, except percentages and per share amounts)</th><th colSpan=2>Three Months Ended March 31,</th><th>Percentage Change</th><th colSpan=2>Nine Months Ended March 31,</th><th>Percentage Change</th></tr><tr><th></th><th>2023</th><th>2022</th><th></th><th>2023</th><th>2022</th><th></th></tr><tr><td>Revenue</td><td>$ 52,857</td><td>$ 49,360</td><td>7%</td><td>$ 155,726</td><td>$ 146,405</td><td>6%</td></tr><tr><td>Gross margin</td><td>36,729</td><td>33,745</td><td>9%</td><td>106,658</td><td>100,184</td><td>6%</td></tr><tr><td>Operating income</td><td>22,352</td><td>20,364</td><td>10%</td><td>64,269</td><td>62,849</td><td>2%</td></tr><tr><td>Net income</td><td>18,299</td><td>16,728</td><td>9%</td><td>52,280</td><td>55,998</td><td>(7)%</td></tr><tr><td>Diluted earnings per share</td><td>2.45</td><td>2.22</td><td>10%</td><td>6.99</td><td>7.41</td><td>(6)%</td></tr><tr><td>Adjusted gross margin (non-GAAP)</td><td>36,729</td><td>33,745</td><td>9%</td><td>106,810</td><td>100,184</td><td>7%</td></tr><tr><td>Adjusted operating income (non-GAAP)</td><td>22,352</td><td>20,364</td><td>10%</td><td>65,440</td><td>62,849</td><td>4%</td></tr><tr><td>Adjusted net income (non-GAAP)</td><td>18,299</td><td>16,728</td><td>9%</td><td>53,226</td><td>52,707</td><td>1%</td></tr><tr><td>Adjusted diluted earnings per share (non-GAAP)</td><td>2.45</td><td>2.22</td><td>10%</td><td>7.12</td><td>6.98</td><td>2%</td></tr></table>\\\\nAdjusted gross margin, operating income, net income, and diluted earnings per share (\"EPS\") are non-GAAP financial measures. Current year non-GAAP financial measures exclude the impact of the Q2 charge, which includes employee severance expenses, impairment charges resulting from changes to our hardware portfolio, and costs related to lease consolidation activities. Prior year non-GAAP financial measures exclude the net income tax benefit related to transfer of intangible properties in the first quarter of fiscal year 2022. Refer to Note 11 - Income Taxes of the Notes to Financial Statements (Part I, Item 1 of this Form 10-Q) for further discussion. Refer to the Non-GAAP Financial Measures section below for a reconciliation of our financial results reported in accordance with GAAP to non-GAAP financial results.\\\\nThree Months Ended March 31, 2023 Compared with Three Months Ended March 31, 2022\\\\nRevenue increased $3.5 billion or 7% driven by growth in Intelligent Cloud and Productivity and Business Processes, offset in part by a decline in More Personal Computing. Intelligent Cloud revenue increased driven by Azure and other cloud services. Productivity and Business Processes revenue increased driven by Office 365 Commercial. More Personal Computing revenue decreased driven by Windows and Devices.\\\\nCost of revenue increased $513 million or 3% driven by growth in Microsoft Cloud, offset in part by a reduction in depreciation expense due to the change in accounting estimate for the useful lives of our server and network equipment.\\\\nGross margin increased $3.0 billion or 9% driven by growth in Intelligent Cloud and Productivity and Business Processes and the change in accounting estimate, offset in part by a decline in More Personal Computing.\\\\n• Gross margin percentage increased. Excluding the impact of the change in accounting estimate, gross margin percentage decreased slightly driven by reductions in Intelligent Cloud, offset in part by sales mix shift.\\\\n• Microsoft Cloud gross margin percentage increased 2 points to 72%. Excluding the impact of the change in accounting estimate, Microsoft Cloud gross margin percentage decreased slightly driven by reductions in Azure and other cloud services.\\\\nOperating expenses increased $996 million or 7% driven by 2 points of growth from the Nuance and Xandr acquisitions and investments in cloud engineering and LinkedIn.\\\\nKey changes in operating expenses were:\\\\n• Research and development expenses increased $678 million or 11% driven by investments in cloud engineering and LinkedIn.\\\\n• Sales and marketing expenses increased $155 million or 3% driven by 3 points of growth from the Nuance and Xandr acquisitions and investments in commercial sales, offset in part by declines in Windows and Devices advertising.\\\\n36 \\', \\'title\\': \\'Title: SUMMARY RESULTS OF OPERATIONS\\', \\'@search.score\\': 0.029571646824479103, \\'@search.reranker_score\\': nan}, {\\'page_num\\': 37, \\'key_value\\': [], \\'content\\': \\'PART ! Item 2\\\\n• General and administrative expenses increased $163 million or 11% driven by acquisition-related expenses and investments in corporate functions. General and administrative included a favorable foreign currency impact of 2%.\\\\nOperating income increased $2.0 billion or 10% driven by growth in Productivity and Business Processes and Intelligent Cloud and the change in accounting estimate, offset in part by a decline in More Personal Computing.\\\\nRevenue, gross margin, and operating income included an unfavorable foreign currency impact of 3%, 4%, and 5%, respectively. Cost of revenue and operating expenses both included a favorable foreign currency impact of 2%.\\\\nNine Months Ended March 31, 2023 Compared with Nine Months Ended March 31, 2022\\\\nRevenue increased $9.3 billion or 6% driven by growth in Intelligent Cloud and Productivity and Business Processes, offset in part by a decline in More Personal Computing. Intelligent Cloud revenue increased driven by Azure and other cloud services. Productivity and Business Processes revenue increased driven by Office 365 Commercial and LinkedIn. More Personal Computing revenue decreased driven by Windows and Devices.\\\\nCost of revenue increased $2.8 billion or 6% driven by growth in Microsoft Cloud, offset in part by the change in accounting estimate.\\\\nGross margin increased $6.5 billion or 6% driven by growth in Intelligent Cloud and Productivity and Business Processes and the change in accounting estimate, offset in part by a decline in More Personal Computing.\\\\n• Gross margin percentage was relatively unchanged. Excluding the impact of the change in accounting estimate, gross margin percentage decreased 2 points driven by reductions in More Personal Computing and Intelligent Cloud, offset in part by sales mix shift.\\\\n• Microsoft Cloud gross margin percentage increased 2 points to 72%. Excluding the impact of the change in accounting estimate, Microsoft Cloud gross margin percentage decreased 1 point driven by sales mix shift to Azure and other cloud services and higher energy costs.\\\\nOperating expenses increased $5.1 billion or 14% driven by investments in cloud engineering, 3 points of growth from the Nuance and Xandr acquisitions, employee severance expenses, LinkedIn, and commercial sales.\\\\nKey changes in operating expenses were:\\\\n• Research and development expenses increased $2.8 billion or 16% driven by investments in cloud engineering and LinkedIn.\\\\n• Sales and marketing expenses increased $1.0 billion or 7% driven by 4 points of growth from the Nuance and Xandr acquisitions and investments in commercial sales. Sales and marketing included a favorable foreign currency impact of 3%.\\\\n• General and administrative expenses increased $1.2 billion or 30% driven by employee severance expenses. General and administrative included a favorable foreign currency impact of 2%.\\\\nOperating income increased $1.4 billion or 2% driven by growth in Productivity and Business Processes and Intelligent Cloud and the change in accounting estimate, offset in part by a decline in More Personal Computing.\\\\nRevenue, gross margin, and operating income included an unfavorable foreign currency impact of 5%, 6%, and 8%, respectively. Cost of revenue and operating expenses both included a favorable foreign currency impact of 2%.\\\\nCurrent year gross margin, operating income, net income, and diluted EPS were negatively impacted by the Q2 charge, which resulted in decreases of $152 million, $1.2 billion, $946 million, and $0.13, respectively. Prior year net income and diluted EPS were positively impacted by the net tax benefit related to the transfer of intangible properties, which resulted in an increase to net income and diluted EPS of $3.3 billion and $0.43, respectively.\\\\n37 \\', \\'title\\': \\'Title: Financial Performance Summary\\', \\'@search.score\\': 0.030117753893136978, \\'@search.reranker_score\\': nan}, {\\'page_num\\': 38, \\'key_value\\': [], \\'content\\': \\'PART ! Item 2\\\\nSEGMENT RESULTS OF OPERATIONS\\\\n<table><tr><th>(In millions, except percentages)</th><th colSpan=2>Three Months Ended March 31,</th><th>Percentage Change</th><th colSpan=2>Nine Months Ended March 31,</th><th>Percentage Change</th></tr><tr><th></th><th>2023</th><th>2022</th><th></th><th>2023</th><th>2022</th><th></th></tr><tr><td>Revenue</td><td></td><td></td><td></td><td></td><td></td><td></td></tr><tr><td>Productivity and Business Processes</td><td>$ 17,516</td><td>$ 15,789</td><td>11%</td><td>$ 50,983</td><td>$ 46,764</td><td>9%</td></tr><tr><td>Intelligent Cloud</td><td>22,081</td><td>18,987</td><td>16%</td><td>63,914</td><td>54,161</td><td>18%</td></tr><tr><td>More Personal Computing</td><td>13,260</td><td>14,584</td><td>(9)%</td><td>40,829</td><td>45,480</td><td>(10)%</td></tr><tr><td>Total</td><td>$ 52,857</td><td>$ 49,360</td><td>7%</td><td>$ 155,726</td><td>$ 146,405</td><td>6%</td></tr><tr><td>Operating Income</td><td></td><td></td><td></td><td></td><td></td><td></td></tr><tr><td>Productivity and Business Processes</td><td>$ 8,639</td><td>$ 7,185</td><td>20%</td><td>$ 25,137</td><td>$ 22,454</td><td>12%</td></tr><tr><td>Intelligent Cloud</td><td>9,476</td><td>8,391</td><td>13%</td><td>27,358</td><td>24,395</td><td>12%</td></tr><tr><td>More Personal Computing</td><td>4,237</td><td>4,788</td><td>(12)%</td><td>11,774</td><td>16,000</td><td>(26)%</td></tr><tr><td>Total</td><td>$ 22,352</td><td>$ 20,364</td><td>10%</td><td>$ 64,269</td><td>$ 62,849</td><td>2%</td></tr></table>\\\\nReportable Segments\\\\nThree Months Ended March 31, 2023 Compared with Three Months Ended March 31, 2022\\\\nProductivity and Business Processes\\\\nRevenue increased $1.7 billion or 11%.\\\\n• Office Commercial products and cloud services revenue increased $1.3 billion or 13%. Office 365 Commercial revenue grew 14% with seat growth of 11%, driven by small and medium business and frontline worker offerings, as well as growth in revenue per user. Office Commercial products revenue declined 1% driven by continued customer shift to cloud offerings, offset in part by transactional strength in Japan.\\\\n• Office Consumer products and cloud services revenue increased $20 million or 1%. Microsoft 365 Consumer subscribers grew 12% to 65.4 million.\\\\n• LinkedIn revenue increased $260 million or 8% driven by Talent Solutions.\\\\n• Dynamics products and cloud services revenue increased 17% driven by Dynamics 365 growth of 25%.\\\\nOperating income increased $1.5 billion or 20%.\\\\n• Gross margin increased $1.7 billion or 14% driven by growth in Office 365 Commercial. Gross margin percentage increased. Excluding the impact of the change in accounting estimate, gross margin percentage increased slightly driven by improvements in Office 365 Commercial, offset in part by sales mix shift to cloud offerings.\\\\n• Operating expenses increased $213 million or 4% driven by investments in LinkedIn.\\\\nRevenue, gross margin, and operating income included an unfavorable foreign currency impact of 4%, 4%, and 7%, respectively. Intelligent Cloud\\\\nRevenue increased $3.1 billion or 16%.\\\\n• Server products and cloud services revenue increased $3.0 billion or 17% driven by Azure and other cloud services. Azure and other cloud services revenue grew 27% driven by growth in our consumption-based services. Server products revenue decreased 2%.\\\\n• Enterprise Services revenue increased $116 million or 6% driven by growth in Enterprise Support Services, offset in part by a decline in Microsoft Consulting Services.\\\\n38 \\', \\'title\\': \\'Title: Segment Results of Operations\\', \\'@search.score\\': 0.03076923079788685, \\'@search.reranker_score\\': nan}, {\\'page_num\\': 39, \\'key_value\\': [], \\'content\\': \\'PART ! Item 2\\\\nOperating income increased $1.1 billion or 13%.\\\\n• Gross margin increased $2.0 billion or 15% driven by growth in Azure and other cloud services and the change in accounting estimate. Gross margin percentage decreased slightly. Excluding the impact of the change in accounting estimate, gross margin percentage decreased 3 points driven by sales mix shift to Azure and other cloud services and reductions in Azure and other cloud services.\\\\n• Operating expenses increased $937 million or 19% driven by investments in Azure and 3 points of growth from the Nuance acquisition.\\\\nRevenue, gross margin, and operating income included an unfavorable foreign currency impact of 3%, 3%, and 4%, respectively.\\\\nMore Personal Computing\\\\nRevenue decreased $1.3 billion or 9%.\\\\n• Windows revenue decreased $741 million or 12% driven by a decrease in Windows OEM, offset in part by growth in Windows Commercial. Windows OEM revenue decreased 28% as elevated channel inventory levels continued to drive additional weakness beyond declining PC demand. Windows Commercial products and cloud services revenue increased 14% driven by strong renewal execution and an increase in agreements that carry higher in-period revenue recognition.\\\\n• Devices revenue decreased $553 million or 30% as elevated channel inventory levels continued to drive additional weakness beyond declining PC demand.\\\\n• Gaming revenue decreased $133 million or 4% driven by a decline in Xbox hardware. Xbox hardware revenue decreased 30% on a strong prior year comparable, driven by lower volume of consoles sold. Xbox content and services revenue increased 3% driven by growth in Xbox Game Pass.\\\\n• Search and news advertising revenue increased $100 million or 3%. Search and news advertising revenue excluding traffic acquisition costs increased 10% driven by higher search volume and the Xandr acquisition.\\\\nOperating income decreased $551 million or 12%.\\\\n• Gross margin decreased $705 million or 9% driven by a decline in Windows. Gross margin percentage increased slightly.\\\\n• Operating expenses decreased $154 million or 5% driven by a decline in Devices, offset in part by 3 points of growth from the Xandr acquisition.\\\\nRevenue, gross margin, and operating income included an unfavorable foreign currency impact of 2%, 4%, and 5%, respectively. Operating expenses included a favorable foreign currency impact of 2%.\\\\nNine Months Ended March 31, 2023 Compared with Nine Months Ended March 31, 2022\\\\nProductivity and Business Processes\\\\nRevenue increased $4.2 billion or 9%.\\\\n• Office Commercial products and cloud services revenue increased $2.5 billion or 9%. Office 365 Commercial revenue grew 12% with seat growth of 11%, driven by small and medium business and frontline worker offerings, as well as growth in revenue per user. Office Commercial products revenue declined 22% driven by continued customer shift to cloud offerings.\\\\n• Office Consumer products and cloud services revenue increased $86 million or 2% with continued growth in Microsoft 365 Consumer subscription revenue.\\\\n· LinkedIn revenue increased $1.1 billion or 11% driven by Talent Solutions.\\\\n• Dynamics products and cloud services revenue increased 15% driven by Dynamics 365 growth of 23%.\\\\n39 \\', \\'title\\': \\'Title: Microsoft Financial Report - Nine Months Ended March 31, 2023\\', \\'@search.score\\': 0.03279569745063782, \\'@search.reranker_score\\': nan}, {\\'page_num\\': 40, \\'key_value\\': [], \\'content\\': \\'PART ! Item 2\\\\nOperating income increased $2.7 billion or 12%.\\\\n• Gross margin increased $4.0 billion or 11% driven by growth in Office 365 Commercial and LinkedIn, as well as the change in accounting estimate. Gross margin percentage increased. Excluding the impact of the change in accounting estimate, gross margin percentage was relatively unchanged driven by sales mix shift to cloud offerings, offset in part by improvements in Office 365 Commercial.\\\\n• Operating expenses increased $1.3 billion or 9% driven by investments in LinkedIn and cloud engineering, as well as employee severance expenses.\\\\nRevenue, gross margin, and operating income included an unfavorable foreign currency impact of 5%, 6%, and 9%, respectively. Operating expenses included a favorable foreign currency impact of 3%.\\\\nIntelligent Cloud\\\\nRevenue increased $9.8 billion or 18%.\\\\n• Server products and cloud services revenue increased $9.5 billion or 20% driven by Azure and other cloud services. Azure and other cloud services revenue grew 31% driven by growth in our consumption-based services. Server products revenue decreased 1%.\\\\n• Enterprise Services revenue increased $240 million or 4% driven by growth in Enterprise Support Services, offset in part by a decline in Microsoft Consulting Services.\\\\nOperating income increased $3.0 billion or 12%.\\\\n• Gross margin increased $6.6 billion or 17% driven by growth in Azure and other cloud services and the change in accounting estimate. Gross margin percentage decreased slightly. Excluding the impact of the change in accounting estimate, gross margin percentage decreased 3 points driven by sales mix shift to Azure and other cloud services and higher energy costs.\\\\n• Operating expenses increased $3.6 billion or 26% driven by investments in Azure, 6 points of growth from the Nuance acquisition, and employee severance expenses.\\\\nRevenue, gross margin, and operating income included an unfavorable foreign currency impact of 5%, 5%, and 7%, respectively. Operating expenses included a favorable foreign currency impact of 2%.\\\\nMore Personal Computing\\\\nRevenue decreased $4.7 billion 10%.\\\\n• Windows revenue decreased $2.9 billion or 16% driven by a decrease in Windows OEM. Windows OEM revenue decreased 28% as elevated channel inventory levels continued to drive additional weakness beyond declining PC demand. Windows Commercial products and cloud services revenue increased 6% driven by demand for Microsoft 365 with an increase in agreements that carry higher in-period revenue recognition.\\\\n• Devices revenue decreased $1.4 billion or 26% as elevated channel inventory levels continued to drive additional weakness beyond declining PC demand.\\\\n• Gaming revenue decreased $800 million or 6% driven by declines in Xbox content and services and Xbox hardware. Xbox content and services revenue decreased 5% driven by a decline in first-party content, offset in part by growth in Xbox Game Pass. Xbox hardware revenue decreased 11% driven by lower volume and price of consoles sold.\\\\n• Search and news advertising revenue increased $531 million or 6%. Search and news advertising revenue excluding traffic acquisition costs increased 12% driven by higher search volume and the Xandr acquisition.\\\\nOperating income decreased $4.2 billion or 26%.\\\\n• Gross margin decreased $4.1 billion or 16% driven by declines in Windows, Devices, and Gaming. Gross margin percentage decreased primarily driven by reductions in Devices.\\\\n• Operating expenses increased $115 million or 1% driven by 3 points of growth from the Xandr acquisition and employee severance expenses, offset in part by a decline in Devices.\\\\n40 \\', \\'title\\': \\'Title: Microsoft Financial Report - Operating Income and Revenue Analysis\\', \\'@search.score\\': 0.030477948486804962, \\'@search.reranker_score\\': nan}, {\\'page_num\\': 41, \\'key_value\\': [], \\'content\\': \\'PART ! Item 2\\\\nRevenue, gross margin, and operating income included an unfavorable foreign currency impact of 3%, 4%, and 6%, respectively. Operating expenses included a favorable foreign currency impact of 2%.\\\\nOPERATING EXPENSES\\\\nResearch and Development\\\\n<table><tr><th>(In millions, except percentages)</th><th colSpan=2>Three Months Ended March 31,</th><th>Percentage Change</th><th colSpan=2>Nine Months Ended March 31,</th><th>Percentage Change</th></tr><tr><th></th><th>2023</th><th>2022</th><th></th><th>2023</th><th>2022</th><th></th></tr><tr><td>Research and development</td><td>$ 6,984</td><td>$ 6,306</td><td>11%</td><td>$ 20,456</td><td>$ 17,663</td><td>16%</td></tr><tr><td>As a percent of revenue</td><td>13%</td><td>13%</td><td>0ppt</td><td>13%</td><td>12%</td><td>1ppt</td></tr></table>\\\\nResearch and development expenses include payroll, employee benefits, stock-based compensation expense, and other headcount-related expenses associated with product development. Research and development expenses also include third-party development and programming costs, localization costs incurred to translate software for international markets, and the amortization of purchased software code and services content.\\\\nThree Months Ended March 31, 2023 Compared with Three Months Ended March 31, 2022\\\\nResearch and development expenses increased $678 million or 11% driven by investments in cloud engineering and LinkedIn.\\\\nNine Months Ended March 31, 2023 Compared with Nine Months Ended March 31, 2022\\\\nResearch and development expenses increased $2.8 billion or 16% driven by investments in cloud engineering and LinkedIn.\\\\nSales and Marketing\\\\n<table><tr><th>(In millions, except percentages)</th><th colSpan=2>Three Months Ended March 31,</th><th>Percentage Change</th><th colSpan=2>Nine Months Ended March 31,</th><th>Percentage Change</th></tr><tr><th></th><th>2023</th><th>2022</th><th></th><th>2023</th><th>2022</th><th></th></tr><tr><td>Sales and marketing</td><td>$ 5,750</td><td>$ 5,595</td><td>3%</td><td>$ 16,555</td><td>$ 15,521</td><td>7%</td></tr><tr><td>As a percent of revenue</td><td>11%</td><td>11%</td><td>0ppt</td><td>11%</td><td>11%</td><td>0ppt</td></tr></table>\\\\nSales and marketing expenses include payroll, employee benefits, stock-based compensation expense, and other headcount-related expenses associated with sales and marketing personnel, and the costs of advertising, promotions, trade shows, seminars, and other programs.\\\\nThree Months Ended March 31, 2023 Compared with Three Months Ended March 31, 2022\\\\nSales and marketing expenses increased $155 million or 3% driven by 3 points of growth from the Nuance and Xandr acquisitions and investments in commercial sales, offset in part by declines in Windows and Devices advertising.\\\\nNine Months Ended March 31, 2023 Compared with Nine Months Ended March 31, 2022\\\\nSales and marketing expenses increased $1.0 billion or 7% driven by 4 points of growth from the Nuance and Xandr acquisitions and investments in commercial sales. Sales and marketing included a favorable foreign currency impact of 3%.\\\\nGeneral and Administrative\\\\n<table><tr><th>(In millions, except percentages)</th><th colSpan=2>Three Months Ended March 31,</th><th>Percentage Change</th><th colSpan=2>Nine Months Ended March 31,</th><th>Percentage Change</th></tr><tr><th></th><th>2023</th><th>2022</th><th></th><th>2023</th><th>2022</th><th></th></tr><tr><td>General and administrative</td><td>$ 1,643</td><td>$ 1,480</td><td>11%</td><td>$ 5,378</td><td>$ 4,151</td><td>30%</td></tr><tr><td>As a percent of revenue</td><td>3%</td><td>3%</td><td>0ppt</td><td>3%</td><td>3%</td><td>0ppt</td></tr></table>\\\\n41 \\', \\'title\\': \\'The title of the page is \"OPERATING EXPENSES\".\\', \\'@search.score\\': 0.05164007097482681, \\'@search.reranker_score\\': 2.7982535362243652}, {\\'page_num\\': 42, \\'key_value\\': [], \\'content\\': \\'PART ! Item 2\\\\nGeneral and administrative expenses include payroll, employee benefits, stock-based compensation expense, employee severance expense incurred as part of a corporate program, and other headcount-related expenses associated with finance, legal, facilities, certain human resources and other administrative personnel, certain taxes, and legal and other administrative fees.\\\\nThree Months Ended March 31, 2023 Compared with Three Months Ended March 31, 2022\\\\nGeneral and administrative expenses increased $163 million or 11% driven by acquisition-related expenses and investments in corporate functions. General and administrative included a favorable foreign currency impact of 2%.\\\\nNine Months Ended March 31, 2023 Compared with Nine Months Ended March 31, 2022\\\\nGeneral and administrative expenses increased $1.2 billion or 30% driven by employee severance expenses. General and administrative included a favorable foreign currency impact of 2%.\\\\nOTHER INCOME (EXPENSE), NET\\\\nThe components of other income (expense), net were as follows:\\\\n<table><tr><th>(In millions)</th><th colSpan=4>Three Months Ended Nine Months Ended March 31, March 31,</th></tr><tr><th></th><th>2023</th><th>2022</th><th>2023</th><th>2022</th></tr><tr><td>Interest and dividends income</td><td>$ 748</td><td>$ 519</td><td>$ 2,089</td><td>$ 1,542</td></tr><tr><td>Interest expense</td><td>(496)</td><td>(503)</td><td>(1,486)</td><td>(1,567)</td></tr><tr><td>Net recognized gains (losses) on investments</td><td>105</td><td>(76)</td><td>103</td><td>595</td></tr><tr><td>Net losses on derivatives</td><td>(65)</td><td>(29)</td><td>(255)</td><td>(29)</td></tr><tr><td>Net gains (losses) on foreign currency remeasurements</td><td>122</td><td>(74)</td><td>26</td><td>(152)</td></tr><tr><td>Other, net</td><td>(93)</td><td>(11)</td><td>(162)</td><td>(9)</td></tr><tr><td>Total</td><td>$ 321</td><td>$ (174)</td><td>$ 315</td><td>$ 380</td></tr></table>\\\\nWe use derivative instruments to manage risks related to foreign currencies, equity prices, interest rates, and credit; enhance investment returns; and facilitate portfolio diversification. Gains and losses from changes in fair values of derivatives that are not designated as hedging instruments are primarily recognized in other income (expense), net.\\\\nThree Months Ended March 31, 2023 Compared with Three Months Ended March 31, 2022\\\\nInterest and dividends income increased due to higher yields, offset in part by lower portfolio balances. Interest expense decreased due to a decrease in outstanding long-term debt due to debt maturities. Net recognized gains on investments increased due to gains on equity securities in the current period compared to losses in the prior period.\\\\nNine Months Ended March 31, 2023 Compared with Nine Months Ended March 31, 2022\\\\nInterest and dividends income increased due to higher yields, offset in part by lower portfolio balances. Interest expense decreased due to a decrease in outstanding long-term debt due to debt maturities. Net recognized gains on investments decreased due to lower gains on equity securities and higher losses on fixed income securities in the current period. Net losses on derivatives increased due to losses related to managing strategic investments.\\\\n42 \\', \\'title\\': \\'The title of the page is \"PART ! Item 2\"\\', \\'@search.score\\': 0.024422934278845787, \\'@search.reranker_score\\': 2.822380542755127}]'}]\n",
      "Microsoft's revenue for the nine months that ended in March 2023 was $155,726 million. This information can be found in the document titled \"Revenue by Significant Product and Service Offerings\" on page 30. The revenue is broken down as follows:\n",
      "\n",
      "- Server products and cloud services: $58,007 million\n",
      "- Office products and cloud services: $35,823 million\n",
      "- Windows: $15,449 million\n",
      "- Gaming: $11,975 million\n",
      "- LinkedIn: $11,236 million\n",
      "- Search and news advertising: $9,196 million\n",
      "- Enterprise Services: $5,745 million\n",
      "- Devices: $4,160 million\n",
      "- Other: $4,135 million\n"
     ]
    }
   ],
   "source": [
    "answer =  LLM_answer(query,combined_results)\n",
    "print(answer)"
   ]
  },
  {
   "cell_type": "code",
   "execution_count": null,
   "id": "6fd36705",
   "metadata": {},
   "outputs": [],
   "source": []
  }
 ],
 "metadata": {
  "kernelspec": {
   "display_name": "Python 3 (ipykernel)",
   "language": "python",
   "name": "python3"
  },
  "language_info": {
   "codemirror_mode": {
    "name": "ipython",
    "version": 3
   },
   "file_extension": ".py",
   "mimetype": "text/x-python",
   "name": "python",
   "nbconvert_exporter": "python",
   "pygments_lexer": "ipython3",
   "version": "3.11.3"
  }
 },
 "nbformat": 4,
 "nbformat_minor": 5
}
