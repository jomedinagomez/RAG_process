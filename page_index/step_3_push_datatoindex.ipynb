{
 "cells": [
  {
   "cell_type": "markdown",
   "id": "d3cc668e-bdc3-4569-89ee-7e23d9c3f64d",
   "metadata": {},
   "source": [
    "### Import required libraries and environment variables"
   ]
  },
  {
   "cell_type": "code",
   "execution_count": 6,
   "id": "0b2c66e1-c536-40e0-bf37-e2df913ed884",
   "metadata": {
    "tags": []
   },
   "outputs": [],
   "source": [
    "# Import required libraries  \n",
    "import os  \n",
    "import json  \n",
    "import openai  \n",
    "import pandas as pd\n",
    "from dotenv import load_dotenv  \n",
    "from tenacity import retry, wait_random_exponential, stop_after_attempt  \n",
    "from azure.core.credentials import AzureKeyCredential  \n",
    "from azure.search.documents import SearchClient  \n",
    "from azure.search.documents.indexes import SearchIndexClient  \n",
    "from azure.search.documents.models import Vector  \n",
    "from azure.search.documents.indexes.models import (  \n",
    "    SearchIndex,  \n",
    "    SearchField,  \n",
    "    SearchFieldDataType,  \n",
    "    SimpleField,  \n",
    "    SearchableField,  \n",
    "    SearchIndex,  \n",
    "    SemanticConfiguration,  \n",
    "    PrioritizedFields,  \n",
    "    SemanticField,  \n",
    "    SearchField,  \n",
    "    SemanticSettings,  \n",
    "    VectorSearch,  \n",
    "    HnswVectorSearchAlgorithmConfiguration,  \n",
    ")  \n",
    "\n",
    "  \n",
    "# Configure environment variables  \n",
    "# Configure environment variables  \n",
    "# Configure environment variables  \n",
    "load_dotenv()  \n",
    "service_endpoint = os.getenv(\"AZURE_SEARCH_SERVICE_ENDPOINT\") \n",
    "index_name = \"evaluation-index\" #os.getenv(\"AZURE_SEARCH_INDEX_NAME\") \n",
    "key = os.getenv(\"AZURE_SEARCH_ADMIN_KEY\")  \n",
    "openai.api_type = \"azure\"  \n",
    "openai.api_key = os.getenv(\"AZURE_OPENAI_API_KEY\")  \n",
    "openai.api_base = os.getenv(\"AZURE_OPENAI_ENDPOINT\")  \n",
    "openai.api_version = os.getenv(\"AZURE_OPENAI_API_VERSION\") \n",
    "model: str = \"text-embedding-ada-002\" \n",
    "credential = AzureKeyCredential(key)"
   ]
  },
  {
   "cell_type": "markdown",
   "id": "bdb1604c-b1e1-44c9-b445-417c1586d419",
   "metadata": {},
   "source": [
    "### Modifying vector"
   ]
  },
  {
   "cell_type": "code",
   "execution_count": 7,
   "id": "33d96bff-36b5-4d49-851f-c1abd407c45e",
   "metadata": {
    "tags": []
   },
   "outputs": [],
   "source": [
    "# Generate Document Embeddings using OpenAI Ada 002\n",
    "\n",
    "# Read the text-sample.json\n",
    "with open('enrichedVectors.json', 'r', encoding='utf-8') as file:\n",
    "    input_data = json.load(file)"
   ]
  },
  {
   "cell_type": "code",
   "execution_count": 8,
   "id": "0409ffe1-1427-49d5-8527-ac2269b8620c",
   "metadata": {
    "tags": []
   },
   "outputs": [],
   "source": [
    "# Generate embeddings for title and content fields\n",
    "for item in input_data:\n",
    "    item['@search.action'] = 'upload'\n",
    "\n",
    "# Output embeddings to docVectors.json file\n",
    "with open(\"docVectors.json\", \"w\") as f:\n",
    "    json.dump(input_data, f)"
   ]
  },
  {
   "cell_type": "markdown",
   "id": "8b4ddeed-cf73-427c-b625-b18ff99eb0af",
   "metadata": {},
   "source": [
    "## Insert text and embeddings into vector store\n",
    "Add texts and metadata from the JSON data to the vector store:"
   ]
  },
  {
   "cell_type": "code",
   "execution_count": 9,
   "id": "12a539a1-bea8-43a1-b7c6-d12b84bbad5d",
   "metadata": {
    "tags": []
   },
   "outputs": [
    {
     "name": "stdout",
     "output_type": "stream",
     "text": [
      "-----------------------------------------------\n",
      "UNITED STATES SECURITIES AND EXCHANGE COMMISSION Washington, D.C. 20549\n",
      "FORM 10-Q :selected: QUARTERLY REPORT PURSUANT TO SECTION 13 OR 15(d) OF THE SECURITIES EXCHANGE ACT OF 1934 For the Quarterly Period Ended March 31, 2023\n",
      "OR :unselected: TRANSITION REPORT PURSUANT TO SECTION 13 OR 15(d) OF THE SECURITIES EXCHANGE ACT OF 1934 For the Transition Period From to\n",
      "Commission File Number 001-37845\n",
      "MICROSOFT CORPORATION\n",
      "WASHINGTON (STATE OF INCORPORATION)\n",
      "91-1144442 (I.R.S. ID)\n",
      "ONE MICROSOFT WAY, REDMOND, WASHINGTON 98052-6399 (425) 882-8080 www.microsoft.com/investor\n",
      "<table><tr><th>Title of each class</th><th>Trading Symbol</th><th>Name of exchange on which registered</th></tr><tr><th>Common stock, $0.00000625 par value per share</th><th>MSFT</th><th>NASDAQ</th></tr><tr><td>3.125% Notes due 2028</td><td>MSFT</td><td>NASDAQ</td></tr><tr><td>2.625% Notes due 2033</td><td>MSFT</td><td>NASDAQ</td></tr></table>\n",
      "Indicate by check mark whether the registrant (1) has filed all reports required to be filed by Section 13 or 15(d) of the Securities Exchange Act of 1934 during the preceding 12 months (or for such shorter period that the registrant was required to file such reports), and (2) has been subject to such filing requirements for the past 90 days. Yes X :selected: No :unselected:\n",
      "Indicate by check mark whether the registrant has submitted electronically every Interactive Data File required to be submitted pursuant to Rule 405 of Regulation S-T (§232.405 of this chapter) during the preceding 12 months (or for such shorter period that the registrant was required to submit such files). Yes :unselected: No :selected:\n",
      "Indicate by check mark whether the registrant is a large accelerated filer, an accelerated filer, a non-accelerated filer, a smaller reporting company, or an emerging growth company. See the definitions of \"large accelerated filer,\" \"accelerated filer,\" \"smaller reporting company,\" and \"emerging growth company\" in Rule 12b-2 of the Exchange Act. Large Accelerated Filer X Accelerated Filer :unselected: :selected: Non-accelerated Filer :unselected: :unselected: Smaller Reporting Company Emerging Growth Company :unselected:\n",
      "If an emerging growth company, indicate by check mark if the registrant has elected not to use the extended transition period for complying with any new or revised financial accounting standards provided pursuant to Section 13(a) of the Exchange Act. :unselected: ☐\n",
      "Indicate by check mark whether the registrant is a shell company (as defined in Rule 12b-2 of the Exchange Act). Yes :unselected: :selected: No Indicate the number of shares outstanding of each of the issuer's classes of common stock, as of the latest practicable date.\n",
      "<table><tr><th>Class</th><th>Outstanding as of April 20, 2023</th></tr><tr><td>Common Stock, $0.00000625 par value per share</td><td>7,435,487,575 shares</td></tr></table>\n",
      "Securities registered pursuant to Section 12(b) of the Act: \n",
      "-----------------------------------------------\n",
      "MICROSOFT CORPORATION FORM 10-Q For the Quarter Ended March 31, 2023 INDEX\n",
      "Page\n",
      "PART I. FINANCIAL INFORMATION\n",
      "Item 1. Financial Statements\n",
      "a) Income Statements for the Three and Nine Months Ended March 31, 2023 and 2022 3\n",
      "b) Comprehensive Income Statements for the Three and Nine Months Ended March 31, 2023 and 2022 4\n",
      "c) Balance Sheets as of March 31, 2023 and June 30, 2022 5\n",
      "d) Cash Flows Statements for the Three and Nine Months Ended March 31, 2023 and 2022 6\n",
      "e) Stockholders' Equity Statements for the Three and Nine Months Ended March 31, 2023 and 2022 7\n",
      "f) Notes to Financial Statements 8\n",
      "g) Report of Independent Registered Public Accounting Firm 31\n",
      "Item 2. Management's Discussion and Analysis of Financial Condition and Results of Operations 32\n",
      "Item 3. Quantitative and Qualitative Disclosures About Market Risk 50\n",
      "Item 4. Controls and Procedures 50\n",
      "PART II. OTHER INFORMATION\n",
      "<table><tr><td>Item 1.</td><td>Legal Proceedings</td></tr><tr><td>Item 1A.</td><td>Risk Factors</td></tr><tr><td>Item 2.</td><td>Unregistered Sales of Equity Securities and Use of Proceeds</td></tr><tr><td>Item 6.</td><td>Exhibits</td></tr></table>\n",
      "SIGNATURE\n",
      "2\n",
      "5\n",
      "51\n",
      "51\n",
      "66\n",
      "67\n",
      "68 \n"
     ]
    }
   ],
   "source": [
    "for i in input_data[:2]:\n",
    "    print(\"-----------------------------------------------\")\n",
    "    print(i['content'])"
   ]
  },
  {
   "cell_type": "code",
   "execution_count": 10,
   "id": "9843795d-6be3-4cfe-ac2a-a1a44591e215",
   "metadata": {
    "tags": []
   },
   "outputs": [
    {
     "name": "stdout",
     "output_type": "stream",
     "text": [
      "Uploaded 74 documents\n"
     ]
    }
   ],
   "source": [
    "# Upload some documents to the index\n",
    "with open('docVectors.json', 'r') as file:  \n",
    "    documents = json.load(file)  \n",
    "search_client = SearchClient(endpoint=service_endpoint, index_name=index_name, credential=credential)\n",
    "result = search_client.upload_documents(documents)\n",
    "print(f\"Uploaded {len(documents)} documents\")"
   ]
  },
  {
   "cell_type": "markdown",
   "id": "715ceeb9-c177-450a-9d1c-32914d0cef25",
   "metadata": {
    "tags": []
   },
   "source": [
    "## Perform a Semantic Hybrid Search for short context"
   ]
  },
  {
   "cell_type": "markdown",
   "metadata": {},
   "source": [
    "### Getting Top N Documents"
   ]
  },
  {
   "cell_type": "code",
   "execution_count": 13,
   "id": "6889c1e3",
   "metadata": {},
   "outputs": [],
   "source": [
    "from openai import AzureOpenAI\n",
    "\n",
    "openai.api_type = \"azure\"\n",
    "openai.api_base = os.getenv(\"AZURE_OPENAI_ENDPOINT\")  \n",
    "openai.api_version = \"2023-07-01-preview\"\n",
    "openai.api_key = os.getenv(\"AZURE_OPENAI_API_KEY\")  \n",
    "\n",
    "deployment_name_embedding = \"text-embedding-ada-002\" \n",
    "\n",
    "client = AzureOpenAI(\n",
    "  api_key = os.getenv(\"AZURE_OPENAI_API_KEY\"),  \n",
    "  api_version = \"2024-05-01-preview\",\n",
    "  azure_endpoint =os.getenv(\"AZURE_OPENAI_ENDPOINT\") \n",
    ")\n",
    "\n",
    "def compute_embedding(text):\n",
    "    #refresh_openai_token()\n",
    "    #embedding_args = {\"deployment_id\": deployment_name_embedding} if args.openaihost != \"openai\" else {}\n",
    "    return client.embeddings.create(model=\"text-embedding-ada-002\" , input=text).data[0].embedding"
   ]
  },
  {
   "cell_type": "markdown",
   "metadata": {},
   "source": [
    "### Answering question from context"
   ]
  },
  {
   "cell_type": "code",
   "execution_count": 14,
   "id": "63f7b0c4-626a-437e-b16d-65073a78e1e5",
   "metadata": {
    "tags": []
   },
   "outputs": [],
   "source": [
    "def LLM_answer(query,results_list):\n",
    "    query = query + str(results_list) #table_html\n",
    "    messages = [{\"role\":\"system\",\"content\":\"You are an agent that works with policy documents. Sometimes tables might need to be unpacked, as values might appear to be nested. Please be concise. Please be mindful that you can have more than one coverage. Only use information for the following sources. Please be exhaustive in your answer, group your output by source if needed and do not duplicate values. If you thin that providing a table is the best answer, please provide it\\n\"}, \n",
    "               {\"role\":\"user\",\"content\":query}]\n",
    "    \n",
    "    print(messages)\n",
    "\n",
    "    response = client.chat.completions.create(model=\"gpt4o\",  \n",
    "                                        messages = messages, \n",
    "                                        temperature=0.4,  \n",
    "                                        max_tokens=1000,  top_p=0.5,  \n",
    "                                        frequency_penalty=0,  \n",
    "                                        presence_penalty=0,  \n",
    "                                        stop=None)\n",
    "\n",
    "    return response.choices[0].message.content"
   ]
  },
  {
   "cell_type": "code",
   "execution_count": 23,
   "id": "2555aff0",
   "metadata": {},
   "outputs": [
    {
     "name": "stderr",
     "output_type": "stream",
     "text": [
      "C:\\Users\\jomedin\\AppData\\Local\\Temp\\ipykernel_32756\\1999990878.py:31: FutureWarning: The behavior of DataFrame concatenation with empty or all-NA entries is deprecated. In a future version, this will no longer exclude empty or all-NA columns when determining the result dtypes. To retain the old behavior, exclude the relevant entries before the concat operation.\n",
      "  combined_results = pd.concat([results_vector_df,results_hybrid_df], ignore_index =True).drop_duplicates(subset=['page_num']).drop(columns=['@search.highlights', '@search.captions'])\n"
     ]
    }
   ],
   "source": [
    "# Semantic Hybrid Search\n",
    "#query =\"what was microsofts revenue for the nine months that ended in march 2023\"\n",
    "query =\"How many stocks did microsoft repurchased in 2023?\"\n",
    "vector_value = compute_embedding(query)\n",
    "\n",
    "## Hybrid\n",
    "vector = Vector(value=vector_value, k=30, fields=\"content_vector,summary_vector,title_vector\")\n",
    "results_hybrid = search_client.search(  \n",
    "    search_text=query,  \n",
    "    vectors=[vector],\n",
    "    select=[\"content\",\"key_value\",\"page_num\",'title'],\n",
    "    query_type=\"semantic\", query_language=\"en-us\", semantic_configuration_name='boosted-semantic-config', query_caption=\"extractive\", query_answer=\"extractive\",\n",
    "    top=5\n",
    ")\n",
    "results_list_hybrid = [result for result in results_hybrid]\n",
    "\n",
    "#Vector\n",
    "vector = Vector(value=vector_value, k=30, fields=\"content_vector, title_vector\")\n",
    "results_vector = search_client.search(  \n",
    "    search_text=None,  \n",
    "    vectors=[vector],\n",
    "    select=[\"content\",\"key_value\",\"page_num\",'title'],\n",
    "    #query_type=\"semantic\", query_language=\"en-us\", semantic_configuration_name='boosted-semantic-config', query_caption=\"extractive\", query_answer=\"extractive\",\n",
    "    top=9\n",
    ")\n",
    "results_list_vector = [result for result in results_vector]\n",
    "\n",
    "#combining results\n",
    "results_vector_df = pd.DataFrame(results_list_vector)\n",
    "results_hybrid_df = pd.DataFrame(results_list_hybrid)\n",
    "combined_results = pd.concat([results_vector_df,results_hybrid_df], ignore_index =True).drop_duplicates(subset=['page_num']).drop(columns=['@search.highlights', '@search.captions'])\n",
    "\n",
    "combined_results['page_num'] = combined_results['page_num'].astype(int)\n",
    "\n",
    "combined_results = combined_results.sort_values(by=['page_num']).to_dict(orient='records')\n",
    "\n",
    "sorted_list = sorted(combined_results, key=lambda x: (x['@search.reranker_score']), reverse=False)\n",
    "content_list = [\"title: \"+ i['title'] +\"\\n context: \" +i['content'] for i in combined_results]"
   ]
  },
  {
   "cell_type": "code",
   "execution_count": 24,
   "id": "e138d132",
   "metadata": {},
   "outputs": [
    {
     "name": "stdout",
     "output_type": "stream",
     "text": [
      "[{'role': 'system', 'content': 'You are an agent that works with policy documents. Sometimes tables might need to be unpacked, as values might appear to be nested. Please be concise. Please be mindful that you can have more than one coverage. Only use information for the following sources. Please be exhaustive in your answer, group your output by source if needed and do not duplicate values. If you thin that providing a table is the best answer, please provide it\\n'}, {'role': 'user', 'content': 'How many stocks did microsoft repurchased in 2023?[{\\'content\\': \\'UNITED STATES SECURITIES AND EXCHANGE COMMISSION Washington, D.C. 20549\\\\nFORM 10-Q :selected: QUARTERLY REPORT PURSUANT TO SECTION 13 OR 15(d) OF THE SECURITIES EXCHANGE ACT OF 1934 For the Quarterly Period Ended March 31, 2023\\\\nOR :unselected: TRANSITION REPORT PURSUANT TO SECTION 13 OR 15(d) OF THE SECURITIES EXCHANGE ACT OF 1934 For the Transition Period From to\\\\nCommission File Number 001-37845\\\\nMICROSOFT CORPORATION\\\\nWASHINGTON (STATE OF INCORPORATION)\\\\n91-1144442 (I.R.S. ID)\\\\nONE MICROSOFT WAY, REDMOND, WASHINGTON 98052-6399 (425) 882-8080 www.microsoft.com/investor\\\\n<table><tr><th>Title of each class</th><th>Trading Symbol</th><th>Name of exchange on which registered</th></tr><tr><th>Common stock, $0.00000625 par value per share</th><th>MSFT</th><th>NASDAQ</th></tr><tr><td>3.125% Notes due 2028</td><td>MSFT</td><td>NASDAQ</td></tr><tr><td>2.625% Notes due 2033</td><td>MSFT</td><td>NASDAQ</td></tr></table>\\\\nIndicate by check mark whether the registrant (1) has filed all reports required to be filed by Section 13 or 15(d) of the Securities Exchange Act of 1934 during the preceding 12 months (or for such shorter period that the registrant was required to file such reports), and (2) has been subject to such filing requirements for the past 90 days. Yes X :selected: No :unselected:\\\\nIndicate by check mark whether the registrant has submitted electronically every Interactive Data File required to be submitted pursuant to Rule 405 of Regulation S-T (§232.405 of this chapter) during the preceding 12 months (or for such shorter period that the registrant was required to submit such files). Yes :unselected: No :selected:\\\\nIndicate by check mark whether the registrant is a large accelerated filer, an accelerated filer, a non-accelerated filer, a smaller reporting company, or an emerging growth company. See the definitions of \"large accelerated filer,\" \"accelerated filer,\" \"smaller reporting company,\" and \"emerging growth company\" in Rule 12b-2 of the Exchange Act. Large Accelerated Filer X Accelerated Filer :unselected: :selected: Non-accelerated Filer :unselected: :unselected: Smaller Reporting Company Emerging Growth Company :unselected:\\\\nIf an emerging growth company, indicate by check mark if the registrant has elected not to use the extended transition period for complying with any new or revised financial accounting standards provided pursuant to Section 13(a) of the Exchange Act. :unselected: ☐\\\\nIndicate by check mark whether the registrant is a shell company (as defined in Rule 12b-2 of the Exchange Act). Yes :unselected: :selected: No Indicate the number of shares outstanding of each of the issuer\\\\\\'s classes of common stock, as of the latest practicable date.\\\\n<table><tr><th>Class</th><th>Outstanding as of April 20, 2023</th></tr><tr><td>Common Stock, $0.00000625 par value per share</td><td>7,435,487,575 shares</td></tr></table>\\\\nSecurities registered pursuant to Section 12(b) of the Act: \\', \\'title\\': \\'FORM 10-Q\\', \\'page_num\\': 1, \\'key_value\\': [\\'QUARTERLY REPORT PURSUANT TO SECTION 13 OR 15(d) OF THE SECURITIES EXCHANGE ACT OF 1934 For the Quarterly Period Ended March 31, 2023: :selected:\\', \\'TRANSITION REPORT PURSUANT TO SECTION 13 OR 15(d) OF THE SECURITIES EXCHANGE ACT OF 1934: :unselected:\\', \\'Comision File Number: 01-37845\\', \\'(STATE: WASHINGTON\\', \\'(I.R.S. ID): 91-142\\', \\'Yes: :selected:\\', \\'No: :unselected:\\', \\'Large Acelerated Filer: :selected:\\', \\'Acelerated Filer: :unselected:\\', \\'Non-acelerated Filer: :unselected:\\', \\'Smaler Reporting Company: :unselected:\\', \\'Emerging Growth Company: :unselected:\\', \\'has elected not to use the extended transition period for complying with any new or revised financial acounting standards provided pursuant to Section 13(a) of the Exchange Act.: :unselected:\\', \\'Yes: :unselected:\\', \\'No: :selected:\\'], \\'@search.score\\': 0.0314980149269104, \\'@search.reranker_score\\': nan}, {\\'content\\': \"MICROSOFT CORPORATION FORM 10-Q For the Quarter Ended March 31, 2023 INDEX\\\\nPage\\\\nPART I. FINANCIAL INFORMATION\\\\nItem 1. Financial Statements\\\\na) Income Statements for the Three and Nine Months Ended March 31, 2023 and 2022 3\\\\nb) Comprehensive Income Statements for the Three and Nine Months Ended March 31, 2023 and 2022 4\\\\nc) Balance Sheets as of March 31, 2023 and June 30, 2022 5\\\\nd) Cash Flows Statements for the Three and Nine Months Ended March 31, 2023 and 2022 6\\\\ne) Stockholders\\' Equity Statements for the Three and Nine Months Ended March 31, 2023 and 2022 7\\\\nf) Notes to Financial Statements 8\\\\ng) Report of Independent Registered Public Accounting Firm 31\\\\nItem 2. Management\\'s Discussion and Analysis of Financial Condition and Results of Operations 32\\\\nItem 3. Quantitative and Qualitative Disclosures About Market Risk 50\\\\nItem 4. Controls and Procedures 50\\\\nPART II. OTHER INFORMATION\\\\n<table><tr><td>Item 1.</td><td>Legal Proceedings</td></tr><tr><td>Item 1A.</td><td>Risk Factors</td></tr><tr><td>Item 2.</td><td>Unregistered Sales of Equity Securities and Use of Proceeds</td></tr><tr><td>Item 6.</td><td>Exhibits</td></tr></table>\\\\nSIGNATURE\\\\n2\\\\n5\\\\n51\\\\n51\\\\n66\\\\n67\\\\n68 \", \\'title\\': \\'MICROSOFT CORPORATION FORM 10-Q For the Quarter Ended March 31, 2023\\', \\'page_num\\': 2, \\'key_value\\': [\\'a) Income Statements for the Thre and Nine Months Ended March 31, 2023 and 202: 3\\', \\'b) Comprehensive Income Statements for the Thre and Nine Months Ended March 31, 2023 and 202: 5\\', \\'d) Cash Flows Statements for the Thre and Nine Months Ended March 31, 2023 and 202: 6\\', \"e) Stockholders\\' Equity Statements for the Thre and Nine Months Ended March 31, 2023 and 202: 7\", \\'f) Notes to Financial Statements: 8\\', \\'g) Report of Independent Registered Public Acounting Firm: 31\\', \"Item 2. Management\\'s Discusion and Analysis of Financial Condition and Results of Operations: 32\", \\'Item 3. Quantitative and Qualitative Disclosures About Market Risk: 50\\', \\'Item 4. Controls and Procedures: 50\\', \\'Item 1.\\\\nLegal Procedings: 51\\', \\'Item 1A.\\\\nRisk Factors: 51\\', \\'Item 2.\\\\nUnregistered Sales of Equity Securities and Use of Proceds: 6\\', \\'SIGNATURE: 68\\'], \\'@search.score\\': 0.03205128386616707, \\'@search.reranker_score\\': nan}, {\\'content\\': \\'PART I Item 1\\\\nNet recognized gains (losses) on equity investments were as follows:\\\\n<table><tr><th>(In millions)</th><th colSpan=4>Three Months Ended Nine Months Ended March 31, March 31,</th></tr><tr><th></th><th>2023</th><th>2022</th><th>2023</th><th>2022</th></tr><tr><td>Net realized gains (losses) on investments sold</td><td>$ (13)</td><td>$ (22)</td><td>$ 77</td><td>$ 46</td></tr><tr><td>Net unrealized gains (losses) on investments still held</td><td>144</td><td>(34)</td><td>109</td><td>559</td></tr><tr><td>Impairments of investments</td><td>0</td><td>(5)</td><td>(16)</td><td>(5)</td></tr><tr><td>Total</td><td>$ 131</td><td>$ (61)</td><td>$ 170</td><td>$ 600</td></tr></table>\\\\n12 \\', \\'title\\': \\'Net recognized gains (losses) on equity investments\\', \\'page_num\\': 12, \\'key_value\\': [], \\'@search.score\\': 0.0275297611951828, \\'@search.reranker_score\\': nan}, {\\'content\\': \\'PART ! Item 1\\\\nNOTE 7 - BUSINESS COMBINATIONS\\\\nNuance Communications, Inc.\\\\nOn March 4, 2022, we completed our acquisition of Nuance Communications, Inc. (\"Nuance\") for a total purchase price of $18.8 billion, consisting primarily of cash. Nuance is a cloud and artificial intelligence (\"Al\") software provider with healthcare and enterprise Al experience, and the acquisition will build on our industry-specific cloud offerings. The financial results of Nuance have been included in our consolidated financial statements since the date of the acquisition. Nuance is reported as part of our Intelligent Cloud segment.\\\\nThe allocation of the purchase price to goodwill was completed as of December 31, 2022. The major classes of assets and liabilities to which we have allocated the purchase price were as follows:\\\\n(In millions)\\\\n<table><tr><td>Goodwill (a)</td><td>$ 16,326</td></tr><tr><td>Intangible assets</td><td>4,365</td></tr><tr><td>Other assets</td><td>42</td></tr><tr><td>Other liabilities (b)</td><td>(1,972)</td></tr><tr><td>Total</td><td>$ 18,761</td></tr></table>\\\\n(a) Goodwill was assigned to our Intelligent Cloud segment and was primarily attributed to increased synergies that are expected to be achieved from the integration of Nuance. None of the goodwill is expected to be deductible for income tax purposes.\\\\n(b) Includes $986 million of convertible senior notes issued by Nuance in 2015 and 2017, substantially all of which have been redeemed.\\\\nFollowing are the details of the purchase price allocated to the intangible assets acquired:\\\\n<table><tr><th>(In millions, except average life)</th><th>Amount</th><th>Weighted Average Life</th></tr><tr><td>Customer-related</td><td>$ 2,610</td><td>9 years</td></tr><tr><td>Technology-based</td><td>1,540</td><td>5 years</td></tr><tr><td>Marketing-related</td><td>215</td><td>4 years</td></tr><tr><td>Total</td><td>$ 4,365</td><td>7 years</td></tr></table>\\\\nActivision Blizzard, Inc.\\\\nOn January 18, 2022, we entered into a definitive agreement to acquire Activision Blizzard, Inc. (\"Activision Blizzard\") for $95.00 per share in an all-cash transaction valued at $68.7 billion, inclusive of Activision Blizzard\\\\\\'s net cash. Activision Blizzard is a leader in game development and an interactive entertainment content publisher. The acquisition will accelerate the growth in our gaming business across mobile, PC, console, and cloud gaming. The acquisition has been approved by Activision Blizzard\\\\\\'s shareholders. We are continuing to engage with regulators reviewing the transaction and are working toward closing it in fiscal year 2023, subject to obtaining required regulatory approvals and satisfaction of other customary closing conditions.\\\\nNOTE 8 - GOODWILL\\\\nChanges in the carrying amount of goodwill were as follows:\\\\n<table><tr><th>(In millions)</th><th>June 30, 2022</th><th>Acquisitions</th><th>Other</th><th>March 31, 2023</th></tr><tr><td>Productivity and Business Processes</td><td>$ 24,811</td><td>$ 11</td><td>$ (27)</td><td>$ 24,795</td></tr><tr><td>Intelligent Cloud</td><td>30,182</td><td>223</td><td>87</td><td>30,492</td></tr><tr><td>More Personal Computing</td><td>12,531</td><td>0</td><td>122</td><td>12,653</td></tr><tr><td>Total</td><td>$ 67,524</td><td>$ 234</td><td>$ 182</td><td>$ 67,940</td></tr></table>\\\\n19 \\', \\'title\\': \\'NOTE 7 - BUSINESS COMBINATIONS\\', \\'page_num\\': 19, \\'key_value\\': [\\'Godwil (a): $ 16,326\\', \\'Intangible asets: 4,365\\', \\'Other asets: 42\\', \\'Other liabilities (b): (1,972)\\', \\'Total: $ 18,761\\', \\'Total: $ 4,365\\'], \\'@search.score\\': 0.028039216995239258, \\'@search.reranker_score\\': nan}, {\\'content\\': \\'PART ! Item 1\\\\nAs of March 31, 2023, we have additional operating and finance leases, primarily for datacenters, that have not yet commenced of $5.0 billion and $21.9 billion, respectively. These operating and finance leases will commence between fiscal year 2023 and fiscal year 2030 with lease terms of 1 year to 18 years.\\\\nNOTE 14 - CONTINGENCIES\\\\nU.S. Cell Phone Litigation\\\\nMicrosoft Mobile Oy, a subsidiary of Microsoft, along with other handset manufacturers and network operators, is a defendant in 46 lawsuits, including 45 lawsuits filed in the Superior Court for the District of Columbia by individual plaintiffs who allege that radio emissions from cellular handsets caused their brain tumors and other adverse health effects. We assumed responsibility for these claims in our agreement to acquire Nokia\\\\\\'s Devices and Services business and have been substituted for the Nokia defendants. Nine of these cases were filed in 2002 and are consolidated for certain pre-trial proceedings; the remaining cases are stayed. In a separate 2009 decision, the Court of Appeals for the District of Columbia held that adverse health effect claims arising from the use of cellular handsets that operate within the U.S. Federal Communications Commission radio frequency emission guidelines (\"FCC Guidelines\") are pre-empted by federal law. The plaintiffs allege that their handsets either operated outside the FCC Guidelines or were manufactured before the FCC Guidelines went into effect. The lawsuits also allege an industry-wide conspiracy to manipulate the science and testing around emission guidelines.\\\\nIn 2013, the defendants in the consolidated cases moved to exclude the plaintiffs\\\\\\' expert evidence of general causation on the basis of flawed scientific methodologies. In 2014, the trial court granted in part and denied in part the defendants\\\\\\' motion to exclude the plaintiffs\\\\\\' general causation experts. The defendants filed an interlocutory appeal to the District of Columbia Court of Appeals challenging the standard for evaluating expert scientific evidence. In October 2016, the Court of Appeals issued its decision adopting the standard advocated by the defendants and remanding the cases to the trial court for further proceedings under that standard. The plaintiffs have filed supplemental expert evidence, portions of which were stricken by the court. A hearing on general causation took place in September of 2022.\\\\nOther Contingencies\\\\nWe also are subject to a variety of other claims and suits that arise from time to time in the ordinary course of our business. Although management currently believes that resolving claims against us, individually or in aggregate, will not have a material adverse impact in our consolidated financial statements, these matters are subject to inherent uncertainties and management\\\\\\'s view of these matters may change in the future.\\\\nAs of March 31, 2023, we accrued aggregate legal liabilities of $177 million. While we intend to defend these matters vigorously, adverse outcomes that we estimate could reach approximately $600 million in aggregate beyond recorded amounts are reasonably possible. Were unfavorable final outcomes to occur, there exists the possibility of a material adverse impact in our consolidated financial statements for the period in which the effects become reasonably estimable.\\\\nNOTE 15 - STOCKHOLDERS\\\\\\' EQUITY\\\\nShare Repurchases\\\\nOn September 18, 2019, our Board of Directors approved a share repurchase program authorizing up to $40.0 billion in share repurchases. This share repurchase program commenced in February 2020 and was completed in November 2021.\\\\nOn September 14, 2021, our Board of Directors approved a share repurchase program authorizing up to $60.0 billion in share repurchases. This share repurchase program commenced in November 2021, following completion of the program approved on September 18, 2019, has no expiration date, and may be terminated at any time. As of March 31, 2023, $26.9 billion remained of this $60.0 billion share repurchase program.\\\\n25 \\', \\'title\\': \\'NOTE 14 - CONTINGENCIES\\', \\'page_num\\': 25, \\'key_value\\': [], \\'@search.score\\': 0.04215101897716522, \\'@search.reranker_score\\': 2.3919270038604736}, {\\'content\\': \\'PART ! Item 1\\\\nWe repurchased the following shares of common stock under the share repurchase programs:\\\\n<table><tr><th>(In millions)</th><th>Shares</th><th>Amount</th><th>Shares</th><th>Amount</th></tr><tr><td>Fiscal Year</td><td></td><td>2023</td><td></td><td>2022</td></tr><tr><td>First Quarter</td><td>17</td><td>$ 4,600</td><td>21</td><td>$ 6,200</td></tr><tr><td>Second Quarter</td><td>20</td><td>4,600</td><td>20</td><td>6,233</td></tr><tr><td>Third Quarter</td><td>18</td><td>4,600</td><td>26</td><td>7,800</td></tr><tr><td>Total</td><td>55</td><td>$ 13,800</td><td>67</td><td>$ 20,233</td></tr></table>\\\\nAll repurchases were made using cash resources. Shares repurchased during fiscal year 2023 and the third quarter of fiscal year 2022 were under the share repurchase program approved on September 14, 2021. Shares repurchased during the second quarter of fiscal year 2022 were under the share repurchase programs approved on both September 14, 2021 and September 18, 2019. Shares repurchased during the first quarter of fiscal year 2022 were under the share repurchase program approved on September 18, 2019. The above table excludes shares repurchased to settle employee tax withholding related to the vesting of stock awards of $909 million and $2.7 billion for the three and nine months ended March 31, 2023, respectively, and $1.0 billion and $3.7 billion for the three and nine months ended March 31, 2022, respectively.\\\\nDividends\\\\nOur Board of Directors declared the following dividends:\\\\n<table><tr><th>Declaration Date</th><th>Record Date</th><th>Payment Date</th><th>Dividend Per Share</th><th>Amount</th></tr><tr><td>Fiscal Year 2023</td><td></td><td></td><td></td><td>(In millions)</td></tr><tr><td>September 20, 2022</td><td>November 17, 2022</td><td>December 8, 2022</td><td>$ 0.68</td><td>$ 5,066</td></tr><tr><td>November 29, 2022</td><td>February 16, 2023</td><td>March 9, 2023</td><td>0.68</td><td>5,059</td></tr><tr><td>March 14, 2023</td><td>May 18, 2023</td><td>June 8, 2023</td><td>0.68</td><td>5,057</td></tr><tr><td>Total</td><td></td><td></td><td>$ 2.04</td><td>$ 15,182</td></tr><tr><td>Fiscal Year 2022</td><td></td><td></td><td></td><td></td></tr><tr><td>September 14, 2021</td><td>November 18, 2021</td><td>December 9, 2021</td><td>$ 0.62</td><td>$ 4,652</td></tr><tr><td>December 7, 2021</td><td>February 17, 2022</td><td>March 10, 2022</td><td>0.62</td><td>4,645</td></tr><tr><td>March 14, 2022</td><td>May 19, 2022</td><td>June 9, 2022</td><td>0.62</td><td>4,632</td></tr><tr><td>Total</td><td></td><td></td><td>$ 1.86</td><td>$ 13,929</td></tr></table>\\\\nThe dividend declared on March 14, 2023 was included in other current liabilities as of March 31, 2023.\\\\n26 \\', \\'title\\': \\'PART I Item 1\\', \\'page_num\\': 26, \\'key_value\\': [], \\'@search.score\\': 0.027893736958503723, \\'@search.reranker_score\\': nan}, {\\'content\\': \\'PART ! Item 1\\\\nRevenue, classified by significant product and service offerings, was as follows:\\\\n<table><tr><th>(In millions)</th><th colSpan=4>Three Months Ended March 31, Nine Months Ended March 31,</th></tr><tr><th></th><th>2023</th><th>2022</th><th>2023</th><th>2022</th></tr><tr><td>Server products and cloud services</td><td>$ 20,025</td><td>$ 17,046</td><td>$ 58,007</td><td>$ 48,498</td></tr><tr><td>Office products and cloud services</td><td>12,438</td><td>11,164</td><td>35,823</td><td>33,223</td></tr><tr><td>Windows</td><td>5,328</td><td>6,069</td><td>15,449</td><td>18,337</td></tr><tr><td>Gaming</td><td>3,607</td><td>3,740</td><td>11,975</td><td>12,775</td></tr><tr><td>LinkedIn</td><td>3,697</td><td>3,437</td><td>11,236</td><td>10,104</td></tr><tr><td>Search and news advertising</td><td>3,045</td><td>2,945</td><td>9,196</td><td>8,665</td></tr><tr><td>Enterprise Services</td><td>2,007</td><td>1,891</td><td>5,745</td><td>5,505</td></tr><tr><td>Devices</td><td>1,282</td><td>1,835</td><td>4,160</td><td>5,606</td></tr><tr><td>Other</td><td>1,428</td><td>1,233</td><td>4,135</td><td>3,692</td></tr><tr><td>Total</td><td>$ 52,857</td><td>$ 49,360</td><td>155,726</td><td>$ 146,405</td></tr></table>\\\\nOur Microsoft Cloud revenue, which includes Azure and other cloud services, Office 365 Commercial, the commercial portion of LinkedIn, Dynamics 365, and other commercial cloud properties, was $28.5 billion and $81.3 billion for the three and nine months ended March 31, 2023, respectively, and $23.4 billion and $66.3 billion for the three and nine months ended March 31, 2022, respectively. These amounts are primarily included in Server products and cloud services, Office products and cloud services, and LinkedIn in the table above.\\\\nAssets are not allocated to segments for internal reporting presentations. A portion of amortization and depreciation is included with various other costs in an overhead allocation to each segment. It is impracticable for us to separately identify the amount of amortization and depreciation by segment that is included in the measure of segment profit or loss.\\\\n30 \\', \\'title\\': \\'PART I Item 1\\', \\'page_num\\': 30, \\'key_value\\': [], \\'@search.score\\': 0.049264468252658844, \\'@search.reranker_score\\': 2.047269821166992}, {\\'content\\': \\'PART ! Item 2\\\\nIndustry Trends\\\\nOur industry is dynamic and highly competitive, with frequent changes in both technologies and business models. Each industry shift is an opportunity to conceive new products, new technologies, or new ideas that can further transform the industry and our business. At Microsoft, we push the boundaries of what is possible through a broad range of research and development activities that seek to identify and address the changing demands of customers and users, industry trends, and competitive forces.\\\\nEconomic Conditions, Challenges, and Risks\\\\nThe markets for software, devices, and cloud-based services are dynamic and highly competitive. Our competitors are developing new software and devices, while also deploying competing cloud-based services for consumers and businesses. The devices and form factors customers prefer evolve rapidly, and influence how users access services in the cloud, and in some cases, the user\\\\\\'s choice of which suite of cloud-based services to use. We must continue to evolve and adapt over an extended time in pace with this changing environment. The investments we are making in infrastructure and devices will continue to increase our operating costs and may decrease our operating margins.\\\\nOur success is highly dependent on our ability to attract and retain qualified employees. We hire a mix of university and industry talent worldwide. We compete for talented individuals globally by offering an exceptional working environment, broad customer reach, scale in resources, the ability to grow one\\\\\\'s career across many different products and businesses, and competitive compensation and benefits. Aggregate demand for our software, services, and devices is correlated to global macroeconomic and geopolitical factors, which remain dynamic.\\\\nOur devices are primarily manufactured by third-party contract manufacturers, some of which contain certain components for which there are very few qualified suppliers. For these components, we have limited near-term flexibility to use other manufacturers if a current vendor becomes unavailable or is unable to meet our requirements. Extended disruptions at these suppliers and/or manufacturers could lead to a similar disruption in our ability to manufacture devices on time to meet consumer demand.\\\\nOur international operations provide a significant portion of our total revenue and expenses. Many of these revenue and expenses are denominated in currencies other than the U.S. dollar. As a result, changes in foreign exchange rates may significantly affect revenue and expenses. Fluctuations in the U.S. dollar relative to certain foreign currencies reduced reported revenue and expenses from our international operations for the three and nine months ended March 31, 2023.\\\\nOn January 18, 2023, we announced decisions we made to align our cost structure with our revenue and customer demand, prioritize our investments in strategic areas, and consolidate office space. As a result, we recorded a $1.2 billion charge in the second quarter of fiscal year 2023 (\"Q2 charge\"), which included employee severance expenses of $800 million, impairment charges resulting from changes to our hardware portfolio, and costs related to lease consolidation activities. First, we reduced our overall workforce by approximately 10,000 jobs through the third quarter of fiscal year 2023, which represents less than 5% of our total employee base. While we eliminated roles in some areas, we will continue to hire in key strategic areas. Second, we are allocating both our capital and talent to areas of secular growth and long-term competitiveness, while divesting in other areas. Third, we are consolidating our leases to create higher density across our workspaces, which will also impact our financial results through the remainder of fiscal year 2023, and we may make similar decisions in future periods as we continue to evaluate our real estate needs.\\\\nRefer to Risk Factors (Part II, Item 1A of this Form 10-Q) for a discussion of these factors and other risks.\\\\nSeasonality\\\\nOur revenue fluctuates quarterly and is generally higher in the second and fourth quarters of our fiscal year. Second quarter revenue is driven by corporate year-end spending trends in our major markets and holiday season spending by consumers, and fourth quarter revenue is driven by the volume of multi-year on-premises contracts executed during the period.\\\\n33 \\', \\'title\\': \\'Industry Trends\\', \\'page_num\\': 33, \\'key_value\\': [], \\'@search.score\\': 0.027272727340459824, \\'@search.reranker_score\\': nan}, {\\'content\\': \\'PART ! Item 2\\\\nSEGMENT RESULTS OF OPERATIONS\\\\n<table><tr><th>(In millions, except percentages)</th><th colSpan=2>Three Months Ended March 31,</th><th>Percentage Change</th><th colSpan=2>Nine Months Ended March 31,</th><th>Percentage Change</th></tr><tr><th></th><th>2023</th><th>2022</th><th></th><th>2023</th><th>2022</th><th></th></tr><tr><td>Revenue</td><td></td><td></td><td></td><td></td><td></td><td></td></tr><tr><td>Productivity and Business Processes</td><td>$ 17,516</td><td>$ 15,789</td><td>11%</td><td>$ 50,983</td><td>$ 46,764</td><td>9%</td></tr><tr><td>Intelligent Cloud</td><td>22,081</td><td>18,987</td><td>16%</td><td>63,914</td><td>54,161</td><td>18%</td></tr><tr><td>More Personal Computing</td><td>13,260</td><td>14,584</td><td>(9)%</td><td>40,829</td><td>45,480</td><td>(10)%</td></tr><tr><td>Total</td><td>$ 52,857</td><td>$ 49,360</td><td>7%</td><td>$ 155,726</td><td>$ 146,405</td><td>6%</td></tr><tr><td>Operating Income</td><td></td><td></td><td></td><td></td><td></td><td></td></tr><tr><td>Productivity and Business Processes</td><td>$ 8,639</td><td>$ 7,185</td><td>20%</td><td>$ 25,137</td><td>$ 22,454</td><td>12%</td></tr><tr><td>Intelligent Cloud</td><td>9,476</td><td>8,391</td><td>13%</td><td>27,358</td><td>24,395</td><td>12%</td></tr><tr><td>More Personal Computing</td><td>4,237</td><td>4,788</td><td>(12)%</td><td>11,774</td><td>16,000</td><td>(26)%</td></tr><tr><td>Total</td><td>$ 22,352</td><td>$ 20,364</td><td>10%</td><td>$ 64,269</td><td>$ 62,849</td><td>2%</td></tr></table>\\\\nReportable Segments\\\\nThree Months Ended March 31, 2023 Compared with Three Months Ended March 31, 2022\\\\nProductivity and Business Processes\\\\nRevenue increased $1.7 billion or 11%.\\\\n• Office Commercial products and cloud services revenue increased $1.3 billion or 13%. Office 365 Commercial revenue grew 14% with seat growth of 11%, driven by small and medium business and frontline worker offerings, as well as growth in revenue per user. Office Commercial products revenue declined 1% driven by continued customer shift to cloud offerings, offset in part by transactional strength in Japan.\\\\n• Office Consumer products and cloud services revenue increased $20 million or 1%. Microsoft 365 Consumer subscribers grew 12% to 65.4 million.\\\\n• LinkedIn revenue increased $260 million or 8% driven by Talent Solutions.\\\\n• Dynamics products and cloud services revenue increased 17% driven by Dynamics 365 growth of 25%.\\\\nOperating income increased $1.5 billion or 20%.\\\\n• Gross margin increased $1.7 billion or 14% driven by growth in Office 365 Commercial. Gross margin percentage increased. Excluding the impact of the change in accounting estimate, gross margin percentage increased slightly driven by improvements in Office 365 Commercial, offset in part by sales mix shift to cloud offerings.\\\\n• Operating expenses increased $213 million or 4% driven by investments in LinkedIn.\\\\nRevenue, gross margin, and operating income included an unfavorable foreign currency impact of 4%, 4%, and 7%, respectively. Intelligent Cloud\\\\nRevenue increased $3.1 billion or 16%.\\\\n• Server products and cloud services revenue increased $3.0 billion or 17% driven by Azure and other cloud services. Azure and other cloud services revenue grew 27% driven by growth in our consumption-based services. Server products revenue decreased 2%.\\\\n• Enterprise Services revenue increased $116 million or 6% driven by growth in Enterprise Support Services, offset in part by a decline in Microsoft Consulting Services.\\\\n38 \\', \\'title\\': \\'PART I Item 2\\', \\'page_num\\': 38, \\'key_value\\': [], \\'@search.score\\': 0.027313265949487686, \\'@search.reranker_score\\': nan}, {\\'content\\': \\'PART ! Item 2\\\\nOperating income increased $1.1 billion or 13%.\\\\n• Gross margin increased $2.0 billion or 15% driven by growth in Azure and other cloud services and the change in accounting estimate. Gross margin percentage decreased slightly. Excluding the impact of the change in accounting estimate, gross margin percentage decreased 3 points driven by sales mix shift to Azure and other cloud services and reductions in Azure and other cloud services.\\\\n• Operating expenses increased $937 million or 19% driven by investments in Azure and 3 points of growth from the Nuance acquisition.\\\\nRevenue, gross margin, and operating income included an unfavorable foreign currency impact of 3%, 3%, and 4%, respectively.\\\\nMore Personal Computing\\\\nRevenue decreased $1.3 billion or 9%.\\\\n• Windows revenue decreased $741 million or 12% driven by a decrease in Windows OEM, offset in part by growth in Windows Commercial. Windows OEM revenue decreased 28% as elevated channel inventory levels continued to drive additional weakness beyond declining PC demand. Windows Commercial products and cloud services revenue increased 14% driven by strong renewal execution and an increase in agreements that carry higher in-period revenue recognition.\\\\n• Devices revenue decreased $553 million or 30% as elevated channel inventory levels continued to drive additional weakness beyond declining PC demand.\\\\n• Gaming revenue decreased $133 million or 4% driven by a decline in Xbox hardware. Xbox hardware revenue decreased 30% on a strong prior year comparable, driven by lower volume of consoles sold. Xbox content and services revenue increased 3% driven by growth in Xbox Game Pass.\\\\n• Search and news advertising revenue increased $100 million or 3%. Search and news advertising revenue excluding traffic acquisition costs increased 10% driven by higher search volume and the Xandr acquisition.\\\\nOperating income decreased $551 million or 12%.\\\\n• Gross margin decreased $705 million or 9% driven by a decline in Windows. Gross margin percentage increased slightly.\\\\n• Operating expenses decreased $154 million or 5% driven by a decline in Devices, offset in part by 3 points of growth from the Xandr acquisition.\\\\nRevenue, gross margin, and operating income included an unfavorable foreign currency impact of 2%, 4%, and 5%, respectively. Operating expenses included a favorable foreign currency impact of 2%.\\\\nNine Months Ended March 31, 2023 Compared with Nine Months Ended March 31, 2022\\\\nProductivity and Business Processes\\\\nRevenue increased $4.2 billion or 9%.\\\\n• Office Commercial products and cloud services revenue increased $2.5 billion or 9%. Office 365 Commercial revenue grew 12% with seat growth of 11%, driven by small and medium business and frontline worker offerings, as well as growth in revenue per user. Office Commercial products revenue declined 22% driven by continued customer shift to cloud offerings.\\\\n• Office Consumer products and cloud services revenue increased $86 million or 2% with continued growth in Microsoft 365 Consumer subscription revenue.\\\\n· LinkedIn revenue increased $1.1 billion or 11% driven by Talent Solutions.\\\\n• Dynamics products and cloud services revenue increased 15% driven by Dynamics 365 growth of 23%.\\\\n39 \\', \\'title\\': \\'Form 10-Q\\', \\'page_num\\': 39, \\'key_value\\': [], \\'@search.score\\': 0.028588563203811646, \\'@search.reranker_score\\': nan}, {\\'content\\': \\'PART ! Item 2\\\\nThe following table outlines the expected future recognition of unearned revenue as of March 31, 2023:\\\\n<table><tr><td>Three Months Ending</td><td></td></tr><tr><td>June 30, 2023</td><td>$ 17,505</td></tr><tr><td>September 30, 2023</td><td>9,695</td></tr><tr><td>December 31, 2023</td><td>7,025</td></tr><tr><td>March 31, 2024</td><td>2,678</td></tr><tr><td>Thereafter</td><td>2,698</td></tr><tr><td>Total</td><td>$ 39,601</td></tr></table>\\\\nIf our customers choose to license cloud-based versions of our products and services rather than licensing transaction-based products and services, the associated revenue will shift from being recognized at the time of the transaction to being recognized over the subscription period or upon consumption, as applicable. Refer to Note 12 - Unearned Revenue of the Notes to Financial Statements (Part I, Item 1 of this Form 10-Q) for further discussion.\\\\nMaterial Cash Requirements and Other Obligations\\\\nIncome Taxes\\\\nAs a result of the TCJA, we are required to pay a one-time transition tax on deferred foreign income not previously subject to U.S. income tax. Under the TCJA, the transition tax is payable in interest-free installments over eight years, with 8% due in each of the first five years, 15% in year six, 20% in year seven, and 25% in year eight. We have paid transition tax of $7.7 billion, which included $1.5 billion during the nine months ended March 31, 2023. The remaining transition tax of $10.5 billion is payable over the next three years, with $2.7 billion payable within 12 months.\\\\nProvisions enacted in the TCJA related to the capitalization for tax purposes of research and experimental expenditures became effective on July 1, 2022. These provisions require us to capitalize research and experimental expenditures and amortize them on the U.S. tax return over five or fifteen years, depending on where research is conducted. The final foreign tax credit regulations, also effective on July 1, 2022, introduced significant changes to foreign tax credit calculations in the U.S. tax return. While these provisions are not expected to have a material impact on our fiscal year 2023 effective tax rate on a net basis, our cash paid for taxes would increase unless these provisions are postponed or modified through legislative processes.\\\\nShare Repurchases\\\\nFor the nine months ended March 31, 2023 and 2022, we repurchased 55 million shares and 67 million shares of our common stock for $13.8 billion and $20.2 billion, respectively, through our share repurchase programs. All repurchases were made using cash resources. As of March 31, 2023, $26.9 billion remained of our $60 billion share repurchase program. Refer to Note 15 - Stockholders\\\\\\' Equity of the Notes to Financial Statements (Part I, Item 1 of this Form 10-Q) for further discussion.\\\\nDividends\\\\nFor the nine months ended March 31, 2023 and 2022, our Board of Directors declared quarterly dividends of $0.68 per share and $0.62 per share, respectively. We intend to continue returning capital to shareholders in the form of dividends, subject to declaration by our Board of Directors. Refer to Note 15 - Stockholders\\\\\\' Equity of the Notes to Financial Statements (Part I, Item 1 of this Form 10-Q) for further discussion.\\\\nOther Planned Uses of Capital\\\\nOn January 18, 2022, we entered into a definitive agreement to acquire Activision Blizzard, Inc. (\"Activision Blizzard\") for $95.00 per share in an all-cash transaction valued at $68.7 billion, inclusive of Activision Blizzard\\\\\\'s net cash. The acquisition has been approved by Activision Blizzard\\\\\\'s shareholders. We are continuing to engage with regulators reviewing the transaction and are working toward closing it in fiscal year 2023, subject to obtaining required regulatory approvals and satisfaction of other customary closing conditions.\\\\n46 \\', \\'title\\': \\'PART I Item 2\\', \\'page_num\\': 46, \\'key_value\\': [\\'June 30, 2023: $ 17,505\\', \\'September 30, 2023: 9,695\\', \\'December 31, 2023: 7,025\\', \\'March 31, 2024: 2,678\\', \\'Thereafter: 2,698\\', \\'Total: $ 39,601\\'], \\'@search.score\\': 0.028594771400094032, \\'@search.reranker_score\\': nan}, {\\'content\\': \\'Exhibit 15.1\\\\nApril 25, 2023 The Board of Directors and Stockholders of Microsoft Corporation One Microsoft Way Redmond, WA 98052-6399\\\\nWe are aware that our report dated April 25, 2023, on our review of the interim financial information of Microsoft Corporation and subsidiaries (\"Microsoft\") appearing in Microsoft\\\\\\'s Quarterly Report on Form 10-Q for the quarter ended March 31, 2023, is incorporated by reference in Registration Statement Nos. 333-109185, 333-118764, 333-52852, 333-132100, 333-161516, 333- 75243, 333-185757, and 333-221833 on Form S-8 and Registration Statement Nos. 333-240227 and 333-261590 on Form S-3.\\\\n/S/ DELOITTE & TOUCHE LLP\\\\nSeattle, Washington \\', \\'title\\': \\'Exhibit 15.1\\', \\'page_num\\': 69, \\'key_value\\': [], \\'@search.score\\': 0.04510830342769623, \\'@search.reranker_score\\': 1.9442880153656006}]'}]\n",
      "Based on the provided documents, Microsoft repurchased a total of 55 million shares of common stock during the fiscal year 2023.\n",
      "\n",
      "Source: \n",
      "- **PART I Item 1** (Page 26): \"We repurchased the following shares of common stock under the share repurchase programs: Fiscal Year 2023: Total 55 million shares.\"\n",
      "\n",
      "Here is the detailed breakdown of the repurchases by quarter:\n",
      "\n",
      "| Fiscal Year | Quarter       | Shares (in millions) | Amount (in billions) |\n",
      "|-------------|---------------|----------------------|----------------------|\n",
      "| 2023        | First Quarter | 17                   | $4.6                 |\n",
      "| 2023        | Second Quarter| 20                   | $4.6                 |\n",
      "| 2023        | Third Quarter | 18                   | $4.6                 |\n",
      "| **Total**   |               | **55**               | **$13.8**            |\n",
      "\n",
      "All repurchases were made using cash resources.\n"
     ]
    }
   ],
   "source": [
    "answer =  LLM_answer(query,combined_results)\n",
    "print(answer)"
   ]
  },
  {
   "cell_type": "code",
   "execution_count": null,
   "id": "6fd36705",
   "metadata": {},
   "outputs": [],
   "source": []
  }
 ],
 "metadata": {
  "kernelspec": {
   "display_name": "Python 3 (ipykernel)",
   "language": "python",
   "name": "python3"
  },
  "language_info": {
   "codemirror_mode": {
    "name": "ipython",
    "version": 3
   },
   "file_extension": ".py",
   "mimetype": "text/x-python",
   "name": "python",
   "nbconvert_exporter": "python",
   "pygments_lexer": "ipython3",
   "version": "3.11.3"
  }
 },
 "nbformat": 4,
 "nbformat_minor": 5
}
