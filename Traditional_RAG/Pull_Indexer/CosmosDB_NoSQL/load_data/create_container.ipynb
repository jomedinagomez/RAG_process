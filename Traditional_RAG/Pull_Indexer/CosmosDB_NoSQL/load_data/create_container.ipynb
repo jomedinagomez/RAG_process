{
 "cells": [
  {
   "cell_type": "markdown",
   "metadata": {},
   "source": [
    "#### Importing Libraries"
   ]
  },
  {
   "cell_type": "code",
   "execution_count": 466,
   "metadata": {},
   "outputs": [],
   "source": [
    "from azure.cosmos import CosmosClient\n",
    "from azure.core.credentials import AzureKeyCredential\n",
    "from azure.identity import ClientSecretCredential, DefaultAzureCredential\n",
    "from azure.cosmos.partition_key import PartitionKey\n",
    "\n",
    "\n",
    "from dotenv import load_dotenv\n",
    "import pandas as pd\n",
    "load_dotenv(override=True)\n",
    "import json\n",
    "\n",
    "import os\n",
    "\n",
    "# Using DefaultAzureCredential (recommended)\n",
    "# https://techcommunity.microsoft.com/t5/azure-architecture-blog/configure-rbac-for-cosmos-db-with-managed-identity-instead-of/ba-p/3056638#:~:text=Create%20custom%20roles%20MyReadOnlyRole%20and%20MyReadWriteRole%20with%20both,definition%20create%20-a%20%24accountName%20-g%20%24resourceGroupName%20-b%20%40role-definition-ro.json\n",
    "aad_credentials = DefaultAzureCredential()\n",
    "\n",
    "AZURE_COSMOS_DB_ENDPOINT=os.environ['AZURE_COSMOS_DB_ENDPOINT']\n",
    "AZURE_COSMOS_DB_KEY= os.environ['AZURE_COSMOS_DB_KEY']\n",
    "AZURE_COSMOS_DB_DATABASE= os.environ['AZURE_COSMOS_DB_DATABASE']\n",
    "AZURE_COSMOS_DB_CONN= os.environ['AZURE_COSMOS_DB_CONN']\n",
    "azurecosmosdbclient = CosmosClient(AZURE_COSMOS_DB_ENDPOINT, credential=aad_credentials)\n",
    "\n",
    "from openai import AzureOpenAI\n",
    "aoai_client = AzureOpenAI(\n",
    "  azure_endpoint = os.getenv(\"AZURE_OPENAI_ENDPOINT\"), \n",
    "  api_key=os.getenv(\"AZURE_OPENAI_API_KEY\"),  \n",
    "  api_version=\"2024-07-01-preview\"\n",
    ")"
   ]
  },
  {
   "cell_type": "markdown",
   "metadata": {},
   "source": [
    "#### Reading input files"
   ]
  },
  {
   "cell_type": "code",
   "execution_count": 467,
   "metadata": {},
   "outputs": [],
   "source": [
    "relative_path = \"../../../../data/processed/files/\"\n",
    "files = os.listdir(relative_path)\n",
    "\n",
    "df = pd.concat([pd.read_parquet(relative_path+file) for file in files]).reset_index(drop=True)\n",
    "df['title_vector'] = df['title_vector'].apply(lambda x: x.tolist())\n",
    "df['content_vector'] = df['content_vector'].apply(lambda x: x.tolist())\n",
    "df['id'] = df['chunk_id']"
   ]
  },
  {
   "cell_type": "markdown",
   "metadata": {},
   "source": [
    "#### Instantiate CosmosDB database and container clients"
   ]
  },
  {
   "cell_type": "code",
   "execution_count": 468,
   "metadata": {},
   "outputs": [],
   "source": [
    "CONTAINER_ID = df['preprocessing_pipeline'][0]\n",
    "PartitionKeyPath = \"/chunk_id\"\n",
    "\n",
    "database_client = azurecosmosdbclient.get_database_client(AZURE_COSMOS_DB_DATABASE)\n",
    "container_client = database_client.create_container_if_not_exists(id=CONTAINER_ID, partition_key=PartitionKey(path='/chunk_id'))"
   ]
  },
  {
   "cell_type": "markdown",
   "metadata": {},
   "source": [
    "#### Load data into container"
   ]
  },
  {
   "cell_type": "code",
   "execution_count": 469,
   "metadata": {},
   "outputs": [],
   "source": [
    "data_dict = df.to_dict(orient='records')\n",
    "\n",
    "for chunk in data_dict:\n",
    "    container_client.create_item(body = chunk)"
   ]
  },
  {
   "cell_type": "markdown",
   "metadata": {},
   "source": [
    "#### Querying the container"
   ]
  },
  {
   "cell_type": "code",
   "execution_count": 493,
   "metadata": {},
   "outputs": [],
   "source": [
    "prompt_template = \"\"\"You are a SQL programmer Assistant. Your role is to generate CosmosDB No SQL code (CosmosDB NoSQL) to retrieve an answer to a natural language query. Make sure to disambiguate column names when creating queries that use more than one table. If a valid SQL query cannot be generated, only say \"ERROR:\" followed by why it cannot be generated.\n",
    "                  Do not answer any questions on inserting or deleting rows from the table. Instead, say \"ERROR: I am not authorized to make changes to the data\".\n",
    "\n",
    "                  Use the following database schema to write CosmosDB NoSQL queries:\n",
    "                  {}(page_num INTEGER, content VARCHAR, title VARCHAR, chunk_id VARCHAR, preprocessing_pipeline VARCHAR, filename VARCHAR, filing_period VARCHAR, filing_date VARCHAR, form_type VARCHAR, ticker VARCHAR PRIMARY KEY (chunk_id))\n",
    "\n",
    "                  ## Relevant comments abuout the data\n",
    "                  ** This data is already chunked, meaning that the same file might have different chunks, each with a different chunk_id. The chunk_id is the primary key for this table. So if you wanted to know how many filings have been made, you would count the number of unique filename.\n",
    "                  ** both filing_period and filing date are in the format YYYY-MM-DD\n",
    "                  ** ticker is the stock ticker of the company that made the filing\n",
    "                  ** form_type contains information related to SEC form type, for example 10K, 10Q. This fields should help when determining whether to use quarterly or yearly reports\n",
    "\n",
    "                  ## Additional guidance\n",
    "                  ** Please only answer questions that can be answered with the data provided. Do not make any assumptions about the data.\n",
    "                  ** Please write the code for a CosmosDB NoSQL query\n",
    "                  ** Please make sure that you use the right DISTINCT \n",
    "                  ** Always use dates in the format YYYY-MM-DD\n",
    "                  ** If you are not clear on which date field to use, please ask for clarification on whether is filing date or period date. Please answer in the format JSON format with the key: Clarification\n",
    "                  ** Provide the answer in a JSON format with the key: NoSQLquery\n",
    "\n",
    "                  ## Sample queries\n",
    "\n",
    "                  BETWEEN Clasue:\n",
    "                    ** Statement: You can use the BETWEEN keyword with a WHERE clause to express queries that filters results against ranges of string or numerical values. For example, the following query returns all items in which the price is between 17.25 and 25.50, again inclusive.\n",
    "                    ** Specific intructions: always put the BETWEEN clause in parenthesis (c.price BETWEEN 17.25 AND 25.50)\n",
    "                    ** NoSQL Query: SELECT * FROM c WHERE (c.price BETWEEN 17.25 AND 25.50)\n",
    "\n",
    "                 DISTINCT and COUNT Clause:\n",
    "                   ** Statement: You can combine the DISTINCT and COUNT keywords to return the number of unique items in a result set. For example, the following query returns the number of unique values of the price field.\n",
    "                   ** NoSQL Query: SELECT VALUE COUNT(1) FROM (SELECT DISTINCT c.price FROM c)\n",
    "                 \n",
    "                 Additional query:\n",
    "                    ** Explanation: For this query, the index matches any item that has a tag with a name of either \"winter\" or \"fall\", at least one quantity between zero and ten, and at least one warehouse where the backstock is false. The JOIN expression here performs the cross-product of all items of tags, onHandQuantities, and warehouseStock arrays for each matching item before any filter is applied. The WHERE clause then applies the filter predicate on each <c, t, n, s> tuple. For instance, if a matching item had ten items in each of the three arrays, it expands to 1 x 10 x 10 x 10 (that is, 1,000) tuples. Using subqueries here can help in filtering out joined array items before joining with the next expression.\n",
    "                    ** query: SELECT VALUE COUNT(1) FROM products p JOIN t in p.tags JOIN q in p.onHandQuantities JOIN s in p.warehouseStock WHERE t.name IN (\"winter\", \"fall\") AND (q.quantity BETWEEN 0 AND 10) AND NOT s.backstock\n",
    "\n",
    "                 Sample Query:\n",
    "                    ** question: How many filings exist for 2023 on this container?\n",
    "                    ** query: \"SELECT VALUE COUNT(1) FROM (SELECT DISTINCT c.filename FROM c WHERE (c.filing_date BETWEEN '2023-01-01' AND '2023-12-31'))\"\n",
    "                \n",
    "                questions:\n",
    "\"\"\".format(CONTAINER_ID)"
   ]
  },
  {
   "cell_type": "code",
   "execution_count": 507,
   "metadata": {},
   "outputs": [],
   "source": [
    "def GetSQLSchema(prompt_template):\n",
    "    query = \"How many quarterly filings for MSFT were made on 2022?\"\n",
    "    messages = [{\"role\":\"system\",\"content\":prompt_template}, \n",
    "               {\"role\":\"user\",\"content\":query}]\n",
    "\n",
    "    response = aoai_client.chat.completions.create(model=\"gpt4o\",  \n",
    "                                        messages = messages, \n",
    "                                        temperature=0.2,  \n",
    "                                        max_tokens=2000,\n",
    "                                        response_format={ \"type\": \"json_object\" },\n",
    "                                        seed = 42)\n",
    "    SQLschema = response.choices[0].message.content\n",
    "    print(SQLschema)\n",
    "\n",
    "    return json.loads(SQLschema)['NoSQLquery']"
   ]
  },
  {
   "cell_type": "code",
   "execution_count": 508,
   "metadata": {},
   "outputs": [
    {
     "name": "stdout",
     "output_type": "stream",
     "text": [
      "{\n",
      "  \"NoSQLquery\": \"SELECT VALUE COUNT(1) FROM (SELECT DISTINCT c.filename FROM c WHERE c.ticker = 'MSFT' AND c.form_type = '10Q' AND (c.filing_date BETWEEN '2022-01-01' AND '2022-12-31'))\"\n",
      "}\n",
      "SELECT VALUE COUNT(1) FROM (SELECT DISTINCT c.filename FROM c WHERE c.ticker = 'MSFT' AND c.form_type = '10Q' AND (c.filing_date BETWEEN '2022-01-01' AND '2022-12-31'))\n"
     ]
    }
   ],
   "source": [
    "query = GetSQLSchema(prompt_template)\n",
    "print(query)"
   ]
  },
  {
   "cell_type": "code",
   "execution_count": 512,
   "metadata": {},
   "outputs": [
    {
     "data": {
      "text/plain": [
       "[{'filename': '10Q-MSFT-01-25-2022'},\n",
       " {'filename': '10Q-MSFT-04-26-2022'},\n",
       " {'filename': '10Q-MSFT-10-25-2022'}]"
      ]
     },
     "execution_count": 512,
     "metadata": {},
     "output_type": "execute_result"
    }
   ],
   "source": [
    "[i for i in container_client.query_items(query=query, enable_cross_partition_query=True)]"
   ]
  }
 ],
 "metadata": {
  "kernelspec": {
   "display_name": "Python 3",
   "language": "python",
   "name": "python3"
  },
  "language_info": {
   "codemirror_mode": {
    "name": "ipython",
    "version": 3
   },
   "file_extension": ".py",
   "mimetype": "text/x-python",
   "name": "python",
   "nbconvert_exporter": "python",
   "pygments_lexer": "ipython3",
   "version": "3.12.2"
  }
 },
 "nbformat": 4,
 "nbformat_minor": 2
}
