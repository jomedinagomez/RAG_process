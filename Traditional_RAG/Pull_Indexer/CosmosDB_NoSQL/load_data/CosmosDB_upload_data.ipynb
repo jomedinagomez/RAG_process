{
 "cells": [
  {
   "cell_type": "markdown",
   "metadata": {},
   "source": [
    "#### Importing Libraries"
   ]
  },
  {
   "cell_type": "code",
   "execution_count": 4,
   "metadata": {},
   "outputs": [],
   "source": [
    "from azure.cosmos import CosmosClient\n",
    "from azure.core.credentials import AzureKeyCredential\n",
    "from azure.identity import ClientSecretCredential, DefaultAzureCredential\n",
    "from azure.cosmos.partition_key import PartitionKey\n",
    "\n",
    "\n",
    "from dotenv import load_dotenv\n",
    "import pandas as pd\n",
    "load_dotenv(override=True)\n",
    "import json\n",
    "\n",
    "import os\n",
    "\n",
    "# Using DefaultAzureCredential (recommended)\n",
    "# https://techcommunity.microsoft.com/t5/azure-architecture-blog/configure-rbac-for-cosmos-db-with-managed-identity-instead-of/ba-p/3056638#:~:text=Create%20custom%20roles%20MyReadOnlyRole%20and%20MyReadWriteRole%20with%20both,definition%20create%20-a%20%24accountName%20-g%20%24resourceGroupName%20-b%20%40role-definition-ro.json\n",
    "aad_credentials = DefaultAzureCredential()\n",
    "\n",
    "AZURE_COSMOS_DB_ENDPOINT=os.environ['AZURE_COSMOS_DB_ENDPOINT']\n",
    "AZURE_COSMOS_DB_KEY= os.environ['AZURE_COSMOS_DB_KEY']\n",
    "AZURE_COSMOS_DB_DATABASE= os.environ['AZURE_COSMOS_DB_DATABASE']\n",
    "AZURE_COSMOS_DB_CONN= os.environ['AZURE_COSMOS_DB_CONN']\n",
    "azurecosmosdbclient = CosmosClient(AZURE_COSMOS_DB_ENDPOINT, credential=AZURE_COSMOS_DB_KEY)\n",
    "\n",
    "from openai import AzureOpenAI\n",
    "aoai_client = AzureOpenAI(\n",
    "  azure_endpoint = os.getenv(\"AZURE_OPENAI_ENDPOINT\"), \n",
    "  api_key=os.getenv(\"AZURE_OPENAI_API_KEY\"),  \n",
    "  api_version=\"2024-10-21\"\n",
    ")"
   ]
  },
  {
   "cell_type": "markdown",
   "metadata": {},
   "source": [
    "#### Reading input files"
   ]
  },
  {
   "cell_type": "code",
   "execution_count": 5,
   "metadata": {},
   "outputs": [],
   "source": [
    "relative_path = \"../../../../data/processed/files/\"\n",
    "files = os.listdir(relative_path)\n",
    "\n",
    "df = pd.concat([pd.read_parquet(relative_path+file) for file in files]).reset_index(drop=True)\n",
    "df['title_vector'] = df['title_vector'].apply(lambda x: x.tolist())\n",
    "df['content_vector'] = df['content_vector'].apply(lambda x: x.tolist())\n",
    "df['id'] = df['chunk_id']"
   ]
  },
  {
   "cell_type": "code",
   "execution_count": 6,
   "metadata": {},
   "outputs": [
    {
     "data": {
      "text/html": [
       "<div>\n",
       "<style scoped>\n",
       "    .dataframe tbody tr th:only-of-type {\n",
       "        vertical-align: middle;\n",
       "    }\n",
       "\n",
       "    .dataframe tbody tr th {\n",
       "        vertical-align: top;\n",
       "    }\n",
       "\n",
       "    .dataframe thead th {\n",
       "        text-align: right;\n",
       "    }\n",
       "</style>\n",
       "<table border=\"1\" class=\"dataframe\">\n",
       "  <thead>\n",
       "    <tr style=\"text-align: right;\">\n",
       "      <th></th>\n",
       "      <th>page_num</th>\n",
       "      <th>content</th>\n",
       "      <th>title</th>\n",
       "      <th>title_vector</th>\n",
       "      <th>content_vector</th>\n",
       "      <th>chunk_id</th>\n",
       "      <th>preprocessing_pipeline</th>\n",
       "      <th>filename</th>\n",
       "      <th>filing_period</th>\n",
       "      <th>filing_date</th>\n",
       "      <th>form_type</th>\n",
       "      <th>ticker</th>\n",
       "      <th>id</th>\n",
       "    </tr>\n",
       "  </thead>\n",
       "  <tbody>\n",
       "    <tr>\n",
       "      <th>0</th>\n",
       "      <td>1</td>\n",
       "      <td>Table of Contents\\nUNITED STATES SECURITIES AN...</td>\n",
       "      <td>FORM 10-K</td>\n",
       "      <td>[0.06034832075238228, 0.05649842694401741, 0.0...</td>\n",
       "      <td>[0.05381559208035469, 0.026631174609065056, 0....</td>\n",
       "      <td>10K-AMZN-02-03-2023-chunk-id-1</td>\n",
       "      <td>DI_Text_HTML_PageSplitter</td>\n",
       "      <td>10K-AMZN-02-03-2023</td>\n",
       "      <td>2022-12-31</td>\n",
       "      <td>2023-02-03</td>\n",
       "      <td>10K</td>\n",
       "      <td>AMZN</td>\n",
       "      <td>10K-AMZN-02-03-2023-chunk-id-1</td>\n",
       "    </tr>\n",
       "    <tr>\n",
       "      <th>1</th>\n",
       "      <td>2</td>\n",
       "      <td>Table of Contents\\nAMAZON.COM, INC. FORM 10-K ...</td>\n",
       "      <td>AMAZON.COM, INC. FORM 10-K For the Fiscal Year...</td>\n",
       "      <td>[0.036177292466163635, 0.02635868266224861, 0....</td>\n",
       "      <td>[0.022779833525419235, 0.041926249861717224, 0...</td>\n",
       "      <td>10K-AMZN-02-03-2023-chunk-id-2</td>\n",
       "      <td>DI_Text_HTML_PageSplitter</td>\n",
       "      <td>10K-AMZN-02-03-2023</td>\n",
       "      <td>2022-12-31</td>\n",
       "      <td>2023-02-03</td>\n",
       "      <td>10K</td>\n",
       "      <td>AMZN</td>\n",
       "      <td>10K-AMZN-02-03-2023-chunk-id-2</td>\n",
       "    </tr>\n",
       "    <tr>\n",
       "      <th>2</th>\n",
       "      <td>3</td>\n",
       "      <td>Table of Contents\\nAMAZON.COM, INC.\\nPART I\\nI...</td>\n",
       "      <td>Item 1. Business</td>\n",
       "      <td>[0.005116552114486694, 0.010721826925873756, 0...</td>\n",
       "      <td>[0.043223753571510315, 0.009905443526804447, 0...</td>\n",
       "      <td>10K-AMZN-02-03-2023-chunk-id-3</td>\n",
       "      <td>DI_Text_HTML_PageSplitter</td>\n",
       "      <td>10K-AMZN-02-03-2023</td>\n",
       "      <td>2022-12-31</td>\n",
       "      <td>2023-02-03</td>\n",
       "      <td>10K</td>\n",
       "      <td>AMZN</td>\n",
       "      <td>10K-AMZN-02-03-2023-chunk-id-3</td>\n",
       "    </tr>\n",
       "    <tr>\n",
       "      <th>3</th>\n",
       "      <td>4</td>\n",
       "      <td>Table of Contents\\nCompetition\\nOur businesses...</td>\n",
       "      <td>Competition</td>\n",
       "      <td>[0.03811872377991676, -0.02396334894001484, 0....</td>\n",
       "      <td>[0.04903312399983406, 0.028485119342803955, 0....</td>\n",
       "      <td>10K-AMZN-02-03-2023-chunk-id-4</td>\n",
       "      <td>DI_Text_HTML_PageSplitter</td>\n",
       "      <td>10K-AMZN-02-03-2023</td>\n",
       "      <td>2022-12-31</td>\n",
       "      <td>2023-02-03</td>\n",
       "      <td>10K</td>\n",
       "      <td>AMZN</td>\n",
       "      <td>10K-AMZN-02-03-2023-chunk-id-4</td>\n",
       "    </tr>\n",
       "    <tr>\n",
       "      <th>4</th>\n",
       "      <td>5</td>\n",
       "      <td>Table of Contents\\nAvailable Information\\nOur ...</td>\n",
       "      <td>Executive Officers and Directors</td>\n",
       "      <td>[0.0003115860163234174, -0.014203808270394802,...</td>\n",
       "      <td>[0.019433414563536644, -0.01925777457654476, 0...</td>\n",
       "      <td>10K-AMZN-02-03-2023-chunk-id-5</td>\n",
       "      <td>DI_Text_HTML_PageSplitter</td>\n",
       "      <td>10K-AMZN-02-03-2023</td>\n",
       "      <td>2022-12-31</td>\n",
       "      <td>2023-02-03</td>\n",
       "      <td>10K</td>\n",
       "      <td>AMZN</td>\n",
       "      <td>10K-AMZN-02-03-2023-chunk-id-5</td>\n",
       "    </tr>\n",
       "  </tbody>\n",
       "</table>\n",
       "</div>"
      ],
      "text/plain": [
       "   page_num                                            content  \\\n",
       "0         1  Table of Contents\\nUNITED STATES SECURITIES AN...   \n",
       "1         2  Table of Contents\\nAMAZON.COM, INC. FORM 10-K ...   \n",
       "2         3  Table of Contents\\nAMAZON.COM, INC.\\nPART I\\nI...   \n",
       "3         4  Table of Contents\\nCompetition\\nOur businesses...   \n",
       "4         5  Table of Contents\\nAvailable Information\\nOur ...   \n",
       "\n",
       "                                               title  \\\n",
       "0                                          FORM 10-K   \n",
       "1  AMAZON.COM, INC. FORM 10-K For the Fiscal Year...   \n",
       "2                                   Item 1. Business   \n",
       "3                                        Competition   \n",
       "4                   Executive Officers and Directors   \n",
       "\n",
       "                                        title_vector  \\\n",
       "0  [0.06034832075238228, 0.05649842694401741, 0.0...   \n",
       "1  [0.036177292466163635, 0.02635868266224861, 0....   \n",
       "2  [0.005116552114486694, 0.010721826925873756, 0...   \n",
       "3  [0.03811872377991676, -0.02396334894001484, 0....   \n",
       "4  [0.0003115860163234174, -0.014203808270394802,...   \n",
       "\n",
       "                                      content_vector  \\\n",
       "0  [0.05381559208035469, 0.026631174609065056, 0....   \n",
       "1  [0.022779833525419235, 0.041926249861717224, 0...   \n",
       "2  [0.043223753571510315, 0.009905443526804447, 0...   \n",
       "3  [0.04903312399983406, 0.028485119342803955, 0....   \n",
       "4  [0.019433414563536644, -0.01925777457654476, 0...   \n",
       "\n",
       "                         chunk_id     preprocessing_pipeline  \\\n",
       "0  10K-AMZN-02-03-2023-chunk-id-1  DI_Text_HTML_PageSplitter   \n",
       "1  10K-AMZN-02-03-2023-chunk-id-2  DI_Text_HTML_PageSplitter   \n",
       "2  10K-AMZN-02-03-2023-chunk-id-3  DI_Text_HTML_PageSplitter   \n",
       "3  10K-AMZN-02-03-2023-chunk-id-4  DI_Text_HTML_PageSplitter   \n",
       "4  10K-AMZN-02-03-2023-chunk-id-5  DI_Text_HTML_PageSplitter   \n",
       "\n",
       "              filename filing_period filing_date form_type ticker  \\\n",
       "0  10K-AMZN-02-03-2023    2022-12-31  2023-02-03       10K   AMZN   \n",
       "1  10K-AMZN-02-03-2023    2022-12-31  2023-02-03       10K   AMZN   \n",
       "2  10K-AMZN-02-03-2023    2022-12-31  2023-02-03       10K   AMZN   \n",
       "3  10K-AMZN-02-03-2023    2022-12-31  2023-02-03       10K   AMZN   \n",
       "4  10K-AMZN-02-03-2023    2022-12-31  2023-02-03       10K   AMZN   \n",
       "\n",
       "                               id  \n",
       "0  10K-AMZN-02-03-2023-chunk-id-1  \n",
       "1  10K-AMZN-02-03-2023-chunk-id-2  \n",
       "2  10K-AMZN-02-03-2023-chunk-id-3  \n",
       "3  10K-AMZN-02-03-2023-chunk-id-4  \n",
       "4  10K-AMZN-02-03-2023-chunk-id-5  "
      ]
     },
     "execution_count": 6,
     "metadata": {},
     "output_type": "execute_result"
    }
   ],
   "source": [
    "df.head()"
   ]
  },
  {
   "cell_type": "markdown",
   "metadata": {},
   "source": [
    "#### Instantiate CosmosDB database and container clients"
   ]
  },
  {
   "cell_type": "code",
   "execution_count": 7,
   "metadata": {},
   "outputs": [],
   "source": [
    "CONTAINER_ID = df['preprocessing_pipeline'][0]\n",
    "PartitionKeyPath = \"/chunk_id\"\n",
    "\n",
    "database_client = azurecosmosdbclient.get_database_client(AZURE_COSMOS_DB_DATABASE)\n",
    "container_client = database_client.create_container_if_not_exists(id=CONTAINER_ID, partition_key=PartitionKey(path='/chunk_id'))"
   ]
  },
  {
   "cell_type": "markdown",
   "metadata": {},
   "source": [
    "#### Load data into container"
   ]
  },
  {
   "cell_type": "code",
   "execution_count": 8,
   "metadata": {},
   "outputs": [],
   "source": [
    "data_dict = df.to_dict(orient='records')\n",
    "\n",
    "for chunk in data_dict:\n",
    "    container_client.create_item(body = chunk)"
   ]
  },
  {
   "cell_type": "markdown",
   "metadata": {},
   "source": [
    "#### Querying the container"
   ]
  },
  {
   "cell_type": "code",
   "execution_count": 9,
   "metadata": {},
   "outputs": [],
   "source": [
    "prompt_template = \"\"\"You are a SQL programmer Assistant. Your role is to generate CosmosDB No SQL code (CosmosDB NoSQL) to retrieve an answer to a natural language query. Make sure to disambiguate column names when creating queries that use more than one table. If a valid SQL query cannot be generated, only say \"ERROR:\" followed by why it cannot be generated.\n",
    "            Do not answer any questions on inserting or deleting rows from the table. Instead, say \"ERROR: I am not authorized to make changes to the data\".\n",
    "\n",
    "            Use the following database schema to write CosmosDB NoSQL queries:\n",
    "            {}(page_num INTEGER, content VARCHAR, title VARCHAR, chunk_id VARCHAR, preprocessing_pipeline VARCHAR, filename VARCHAR, filing_period VARCHAR, filing_date VARCHAR, form_type VARCHAR, ticker VARCHAR PRIMARY KEY (chunk_id))\n",
    "\n",
    "            ## Relevant comments abuout the data\n",
    "            ** This data is already chunked, meaning that the same file might have different chunks, each with a different chunk_id. The chunk_id is the primary key for this table. So if you wanted to know how many filings have been made, you would count the number of unique filename.\n",
    "            ** both filing_period and filing date are in the format YYYY-MM-DD\n",
    "            ** ticker is the stock ticker of the company that made the filing\n",
    "            ** form_type contains information related to SEC form type, for example 10K, 10Q. This fields should help when determining whether to use quarterly or yearly reports\n",
    "\n",
    "            ## Additional guidance\n",
    "            ** Please only answer questions that can be answered with the data provided. Do not make any assumptions about the data.\n",
    "            ** Please write the code for a CosmosDB NoSQL query\n",
    "            ** Please make sure that you use the right DISTINCT \n",
    "            ** Always use dates in the format YYYY-MM-DD\n",
    "            ** If you need to ask any clafication, please ask for it in the format JSON format with the key: CLARIFICATION\n",
    "            ** If asked about any date, default to filing_date unless the question implies that is a question about the filing period.\n",
    "            ** Dates should be explicity stated in the query. For example, if you are asked about filings in 2023, you should use the following format: '2023-01-01' and '2023-12-31'. Otehrwise, ask for the specific period.\n",
    "            ** Provide the answer in a JSON format with the key: NoSQLquery\n",
    "\n",
    "            ## Sample queries\n",
    "\n",
    "            BETWEEN Clasue:\n",
    "               ** Statement: You can use the BETWEEN keyword with a WHERE clause to express queries that filters results against ranges of string or numerical values. For example, the following query returns all items in which the price is between 17.25 and 25.50, again inclusive.\n",
    "               ** Specific intructions: always put the BETWEEN clause in parenthesis (c.price BETWEEN 17.25 AND 25.50)\n",
    "               ** NoSQL Query: SELECT * FROM c WHERE (c.price BETWEEN 17.25 AND 25.50)\n",
    "\n",
    "            DISTINCT and COUNT Clause:\n",
    "               ** Statement: You can combine the DISTINCT and COUNT keywords to return the number of unique items in a result set. For example, the following query returns the number of unique values of the price field.\n",
    "               ** NoSQL Query: SELECT VALUE COUNT(1) FROM (SELECT DISTINCT c.price FROM c)\n",
    "            \n",
    "            Additional query:\n",
    "               ** Explanation: For this query, the index matches any item that has a tag with a name of either \"winter\" or \"fall\", at least one quantity between zero and ten, and at least one warehouse where the backstock is false. The JOIN expression here performs the cross-product of all items of tags, onHandQuantities, and warehouseStock arrays for each matching item before any filter is applied. The WHERE clause then applies the filter predicate on each <c, t, n, s> tuple. For instance, if a matching item had ten items in each of the three arrays, it expands to 1 x 10 x 10 x 10 (that is, 1,000) tuples. Using subqueries here can help in filtering out joined array items before joining with the next expression.\n",
    "               ** query: SELECT VALUE COUNT(1) FROM products p JOIN t in p.tags JOIN q in p.onHandQuantities JOIN s in p.warehouseStock WHERE t.name IN (\"winter\", \"fall\") AND (q.quantity BETWEEN 0 AND 10) AND NOT s.backstock\n",
    "\n",
    "            Sample Query:\n",
    "               ** question: How many filings exist for 2023 on this container?\n",
    "               ** query: \"SELECT VALUE COUNT(1) FROM (SELECT DISTINCT c.filename FROM c WHERE (c.filing_date BETWEEN '2023-01-01' AND '2023-12-31'))\"\n",
    "            \n",
    "            questions: \"\"\".format(CONTAINER_ID)"
   ]
  },
  {
   "cell_type": "code",
   "execution_count": 10,
   "metadata": {},
   "outputs": [],
   "source": [
    "def GetNOSQLSchema(prompt_template):\n",
    "    query = \"How many quarterly filings for MSFT were made on 2022?\"\n",
    "    messages = [{\"role\":\"system\",\"content\":prompt_template}, \n",
    "               {\"role\":\"user\",\"content\":query}]\n",
    "\n",
    "    response = aoai_client.chat.completions.create(model=\"gpt-4.1\",  \n",
    "                                        messages = messages, \n",
    "                                        temperature=0.2,  \n",
    "                                        max_tokens=2000,\n",
    "                                        response_format={ \"type\": \"json_object\" },\n",
    "                                        seed = 42)\n",
    "    SQLschema = response.choices[0].message.content\n",
    "    print(SQLschema)\n",
    "\n",
    "    return json.loads(SQLschema)['NoSQLquery']"
   ]
  },
  {
   "cell_type": "code",
   "execution_count": 11,
   "metadata": {},
   "outputs": [
    {
     "name": "stdout",
     "output_type": "stream",
     "text": [
      "{\n",
      "  \"NoSQLquery\": \"SELECT VALUE COUNT(1) FROM (SELECT DISTINCT c.filename FROM c WHERE c.ticker = 'MSFT' AND c.form_type = '10Q' AND (c.filing_date BETWEEN '2022-01-01' AND '2022-12-31'))\"\n",
      "}\n",
      "SELECT VALUE COUNT(1) FROM (SELECT DISTINCT c.filename FROM c WHERE c.ticker = 'MSFT' AND c.form_type = '10Q' AND (c.filing_date BETWEEN '2022-01-01' AND '2022-12-31'))\n"
     ]
    }
   ],
   "source": [
    "query = GetNOSQLSchema(prompt_template)\n",
    "print(query)"
   ]
  },
  {
   "cell_type": "code",
   "execution_count": 12,
   "metadata": {},
   "outputs": [
    {
     "data": {
      "text/plain": [
       "[3]"
      ]
     },
     "execution_count": 12,
     "metadata": {},
     "output_type": "execute_result"
    }
   ],
   "source": [
    "[i for i in container_client.query_items(query=query, enable_cross_partition_query=True)]"
   ]
  },
  {
   "cell_type": "code",
   "execution_count": null,
   "metadata": {},
   "outputs": [],
   "source": []
  }
 ],
 "metadata": {
  "kernelspec": {
   "display_name": "secdemo",
   "language": "python",
   "name": "python3"
  },
  "language_info": {
   "codemirror_mode": {
    "name": "ipython",
    "version": 3
   },
   "file_extension": ".py",
   "mimetype": "text/x-python",
   "name": "python",
   "nbconvert_exporter": "python",
   "pygments_lexer": "ipython3",
   "version": "3.12.2"
  }
 },
 "nbformat": 4,
 "nbformat_minor": 2
}
