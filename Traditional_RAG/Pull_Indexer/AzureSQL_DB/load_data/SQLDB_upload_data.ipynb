{
 "cells": [
  {
   "cell_type": "markdown",
   "metadata": {},
   "source": [
    "### Import libraries"
   ]
  },
  {
   "cell_type": "code",
   "execution_count": 60,
   "metadata": {},
   "outputs": [],
   "source": [
    "import os\n",
    "import pandas as pd\n",
    "import pyodbc, struct\n",
    "from azure import identity\n",
    "from faker import Faker\n",
    "from typing import Union\n",
    "from fastapi import FastAPI\n",
    "from pydantic import BaseModel\n",
    "from sqlalchemy import create_engine\n",
    "\n",
    "from dotenv import load_dotenv\n",
    "load_dotenv(override=True)\n",
    "connection_string = os.environ[\"AZURE_SQL_CONNECTIONSTRING\"]\n",
    "\n",
    "SQL_SERVER_USERNAME = os.environ[\"SQL_SERVER_USERNAME\"]\n",
    "SQL_SERVER_ENDPOINT = os.environ[\"SQL_SERVER_ENDPOINT\"]\n",
    "SQL_SERVER_PASSWORD = os.environ[\"SQL_SERVER_PASSWORD\"]\n",
    "SQL_SERVER_DATABASE = os.environ[\"SQL_SERVER_DATABASE\"] \n",
    "driver = \"{ODBC Driver 18 for SQL Server}\"\n",
    "sqlalchemy_driver = \"ODBC Driver 18 for SQL Server\"\n",
    "\n",
    "## Creatng a connection to the SQL Server\n",
    "conn = pyodbc.connect(f'DRIVER={driver};SERVER={SQL_SERVER_ENDPOINT};PORT=1433;DATABASE={SQL_SERVER_DATABASE};UID={SQL_SERVER_USERNAME};PWD={SQL_SERVER_PASSWORD}')  \n",
    "cursor = conn.cursor()\n",
    "\n",
    "from openai import AzureOpenAI\n",
    "aoai_client = AzureOpenAI(\n",
    "  azure_endpoint = os.getenv(\"AZURE_OPENAI_ENDPOINT\"), \n",
    "  api_key=os.getenv(\"AZURE_OPENAI_API_KEY\"),  \n",
    "  api_version=\"2024-07-01-preview\"\n",
    ")\n",
    "\n",
    "#https://github.com/Azure-Samples/openai/blob/main/End_to_end_Solutions/AOAISearchDemo/scripts/prepopulate/populate_sql.py"
   ]
  },
  {
   "cell_type": "markdown",
   "metadata": {},
   "source": [
    "#### Reading input files"
   ]
  },
  {
   "cell_type": "code",
   "execution_count": 3,
   "metadata": {},
   "outputs": [],
   "source": [
    "relative_path = \"../../../../data/processed/files/\"\n",
    "files = os.listdir(relative_path)\n",
    "\n",
    "df = pd.concat([pd.read_parquet(relative_path+file) for file in files]).reset_index(drop=True)\n",
    "df['title_vector'] = df['title_vector'].apply(lambda x: x.tolist())\n",
    "df['content_vector'] = df['content_vector'].apply(lambda x: x.tolist())\n",
    "df['id'] = df['chunk_id']\n",
    "\n",
    "CONTAINER_ID = df['preprocessing_pipeline'][0]"
   ]
  },
  {
   "cell_type": "markdown",
   "metadata": {},
   "source": [
    "#### Save CSV files as tables"
   ]
  },
  {
   "cell_type": "markdown",
   "metadata": {},
   "source": [
    "#### Create other SQL Tables"
   ]
  },
  {
   "cell_type": "code",
   "execution_count": 4,
   "metadata": {},
   "outputs": [
    {
     "ename": "ProgrammingError",
     "evalue": "('42S01', \"[42S01] [Microsoft][ODBC Driver 18 for SQL Server][SQL Server]There is already an object named 'Customers' in the database. (2714) (SQLExecDirectW)\")",
     "output_type": "error",
     "traceback": [
      "\u001b[1;31m---------------------------------------------------------------------------\u001b[0m",
      "\u001b[1;31mProgrammingError\u001b[0m                          Traceback (most recent call last)",
      "Cell \u001b[1;32mIn[4], line 1\u001b[0m\n\u001b[1;32m----> 1\u001b[0m \u001b[43mcursor\u001b[49m\u001b[38;5;241;43m.\u001b[39;49m\u001b[43mexecute\u001b[49m\u001b[43m(\u001b[49m\u001b[38;5;124;43m\"\"\"\u001b[39;49m\n\u001b[0;32m      2\u001b[0m \u001b[38;5;124;43mCREATE TABLE Customers (\u001b[39;49m\n\u001b[0;32m      3\u001b[0m \u001b[38;5;124;43m  cust_id INTEGER,\u001b[39;49m\n\u001b[0;32m      4\u001b[0m \u001b[38;5;124;43m  cust_name VARCHAR(1000),\u001b[39;49m\n\u001b[0;32m      5\u001b[0m \u001b[38;5;124;43m  cust_email VARCHAR(1000),\u001b[39;49m\n\u001b[0;32m      6\u001b[0m \u001b[38;5;124;43m  cust_phone VARCHAR(1000),\u001b[39;49m\n\u001b[0;32m      7\u001b[0m \u001b[38;5;124;43m  cust_address VARCHAR(1000),\u001b[39;49m\n\u001b[0;32m      8\u001b[0m \u001b[38;5;124;43m  PRIMARY KEY (cust_id)\u001b[39;49m\n\u001b[0;32m      9\u001b[0m \u001b[38;5;124;43m);\u001b[39;49m\n\u001b[0;32m     10\u001b[0m \n\u001b[0;32m     11\u001b[0m \u001b[38;5;124;43mCREATE TABLE Products (\u001b[39;49m\n\u001b[0;32m     12\u001b[0m \u001b[38;5;124;43m  prod_id INTEGER,\u001b[39;49m\n\u001b[0;32m     13\u001b[0m \u001b[38;5;124;43m  prod_name VARCHAR(1000),\u001b[39;49m\n\u001b[0;32m     14\u001b[0m \u001b[38;5;124;43m  price FLOAT,\u001b[39;49m\n\u001b[0;32m     15\u001b[0m \u001b[38;5;124;43m  category VARCHAR(1000),\u001b[39;49m\n\u001b[0;32m     16\u001b[0m \u001b[38;5;124;43m  PRIMARY KEY (prod_id)\u001b[39;49m\n\u001b[0;32m     17\u001b[0m \u001b[38;5;124;43m);\u001b[39;49m\n\u001b[0;32m     18\u001b[0m \n\u001b[0;32m     19\u001b[0m \u001b[38;5;124;43mCREATE TABLE Merchants (\u001b[39;49m\n\u001b[0;32m     20\u001b[0m \u001b[38;5;124;43m  merchant_id INTEGER,\u001b[39;49m\n\u001b[0;32m     21\u001b[0m \u001b[38;5;124;43m  merchant_name VARCHAR(1000),\u001b[39;49m\n\u001b[0;32m     22\u001b[0m \u001b[38;5;124;43m  merchant_region VARCHAR(1000),\u001b[39;49m\n\u001b[0;32m     23\u001b[0m \u001b[38;5;124;43m  merchant_address VARCHAR(1000),\u001b[39;49m\n\u001b[0;32m     24\u001b[0m \u001b[38;5;124;43m  PRIMARY KEY (merchant_id)\u001b[39;49m\n\u001b[0;32m     25\u001b[0m \u001b[38;5;124;43m);\u001b[39;49m\n\u001b[0;32m     26\u001b[0m \n\u001b[0;32m     27\u001b[0m \u001b[38;5;124;43mCREATE TABLE Stock (\u001b[39;49m\n\u001b[0;32m     28\u001b[0m \u001b[38;5;124;43m  prod_id INTEGER,\u001b[39;49m\n\u001b[0;32m     29\u001b[0m \u001b[38;5;124;43m  merchant_id INTEGER,\u001b[39;49m\n\u001b[0;32m     30\u001b[0m \u001b[38;5;124;43m  stock INTEGER,\u001b[39;49m\n\u001b[0;32m     31\u001b[0m \u001b[38;5;124;43m  PRIMARY KEY (prod_id, merchant_id),\u001b[39;49m\n\u001b[0;32m     32\u001b[0m \u001b[38;5;124;43m  FOREIGN KEY (merchant_id) REFERENCES Merchants(merchant_id),\u001b[39;49m\n\u001b[0;32m     33\u001b[0m \u001b[38;5;124;43m  FOREIGN KEY (prod_id) REFERENCES Products(prod_id)\u001b[39;49m\n\u001b[0;32m     34\u001b[0m \u001b[38;5;124;43m);\u001b[39;49m\n\u001b[0;32m     35\u001b[0m \n\u001b[0;32m     36\u001b[0m \u001b[38;5;124;43mCREATE TABLE Sales (\u001b[39;49m\n\u001b[0;32m     37\u001b[0m \u001b[38;5;124;43m    sale_id INTEGER,\u001b[39;49m\n\u001b[0;32m     38\u001b[0m \u001b[38;5;124;43m    cust_id INTEGER,\u001b[39;49m\n\u001b[0;32m     39\u001b[0m \u001b[38;5;124;43m    merchant_id INTEGER,\u001b[39;49m\n\u001b[0;32m     40\u001b[0m \u001b[38;5;124;43m    date DATETIME,\u001b[39;49m\n\u001b[0;32m     41\u001b[0m \u001b[38;5;124;43m    total_price FLOAT,\u001b[39;49m\n\u001b[0;32m     42\u001b[0m \u001b[38;5;124;43m    PRIMARY KEY (sale_id),\u001b[39;49m\n\u001b[0;32m     43\u001b[0m \u001b[38;5;124;43m    FOREIGN KEY (cust_id) REFERENCES Customers(cust_id),\u001b[39;49m\n\u001b[0;32m     44\u001b[0m \u001b[38;5;124;43m    FOREIGN KEY (merchant_id) REFERENCES Merchants(merchant_id)\u001b[39;49m\n\u001b[0;32m     45\u001b[0m \u001b[38;5;124;43m);\u001b[39;49m\n\u001b[0;32m     46\u001b[0m \n\u001b[0;32m     47\u001b[0m \u001b[38;5;124;43mCREATE TABLE Sales_Detail (\u001b[39;49m\n\u001b[0;32m     48\u001b[0m \u001b[38;5;124;43m  sales_id INTEGER,\u001b[39;49m\n\u001b[0;32m     49\u001b[0m \u001b[38;5;124;43m  prod_id INTEGER,\u001b[39;49m\n\u001b[0;32m     50\u001b[0m \u001b[38;5;124;43m  quantity INTEGER,\u001b[39;49m\n\u001b[0;32m     51\u001b[0m \u001b[38;5;124;43m  PRIMARY KEY (sales_id, prod_id),\u001b[39;49m\n\u001b[0;32m     52\u001b[0m \u001b[38;5;124;43m  FOREIGN KEY (sales_id) REFERENCES Sales(sale_id),\u001b[39;49m\n\u001b[0;32m     53\u001b[0m \u001b[38;5;124;43m  FOREIGN KEY (prod_id) REFERENCES Products(prod_id)\u001b[39;49m\n\u001b[0;32m     54\u001b[0m \u001b[38;5;124;43m);\u001b[39;49m\n\u001b[0;32m     55\u001b[0m \u001b[38;5;124;43m\"\"\"\u001b[39;49m\u001b[43m)\u001b[49m\n\u001b[0;32m     57\u001b[0m cursor\u001b[38;5;241m.\u001b[39mcommit()\n",
      "\u001b[1;31mProgrammingError\u001b[0m: ('42S01', \"[42S01] [Microsoft][ODBC Driver 18 for SQL Server][SQL Server]There is already an object named 'Customers' in the database. (2714) (SQLExecDirectW)\")"
     ]
    }
   ],
   "source": [
    "cursor.execute(\"\"\"\n",
    "CREATE TABLE Customers (\n",
    "  cust_id INTEGER,\n",
    "  cust_name VARCHAR(1000),\n",
    "  cust_email VARCHAR(1000),\n",
    "  cust_phone VARCHAR(1000),\n",
    "  cust_address VARCHAR(1000),\n",
    "  PRIMARY KEY (cust_id)\n",
    ");\n",
    "\n",
    "CREATE TABLE Products (\n",
    "  prod_id INTEGER,\n",
    "  prod_name VARCHAR(1000),\n",
    "  price FLOAT,\n",
    "  category VARCHAR(1000),\n",
    "  PRIMARY KEY (prod_id)\n",
    ");\n",
    "\n",
    "CREATE TABLE Merchants (\n",
    "  merchant_id INTEGER,\n",
    "  merchant_name VARCHAR(1000),\n",
    "  merchant_region VARCHAR(1000),\n",
    "  merchant_address VARCHAR(1000),\n",
    "  PRIMARY KEY (merchant_id)\n",
    ");\n",
    "\n",
    "CREATE TABLE Stock (\n",
    "  prod_id INTEGER,\n",
    "  merchant_id INTEGER,\n",
    "  stock INTEGER,\n",
    "  PRIMARY KEY (prod_id, merchant_id),\n",
    "  FOREIGN KEY (merchant_id) REFERENCES Merchants(merchant_id),\n",
    "  FOREIGN KEY (prod_id) REFERENCES Products(prod_id)\n",
    ");\n",
    "\n",
    "CREATE TABLE Sales (\n",
    "    sale_id INTEGER,\n",
    "    cust_id INTEGER,\n",
    "    merchant_id INTEGER,\n",
    "    date DATETIME,\n",
    "    total_price FLOAT,\n",
    "    PRIMARY KEY (sale_id),\n",
    "    FOREIGN KEY (cust_id) REFERENCES Customers(cust_id),\n",
    "    FOREIGN KEY (merchant_id) REFERENCES Merchants(merchant_id)\n",
    ");\n",
    "\n",
    "CREATE TABLE Sales_Detail (\n",
    "  sales_id INTEGER,\n",
    "  prod_id INTEGER,\n",
    "  quantity INTEGER,\n",
    "  PRIMARY KEY (sales_id, prod_id),\n",
    "  FOREIGN KEY (sales_id) REFERENCES Sales(sale_id),\n",
    "  FOREIGN KEY (prod_id) REFERENCES Products(prod_id)\n",
    ");\n",
    "\"\"\")\n",
    "\n",
    "cursor.commit()"
   ]
  },
  {
   "cell_type": "code",
   "execution_count": 5,
   "metadata": {},
   "outputs": [],
   "source": [
    "import pandas as pd"
   ]
  },
  {
   "cell_type": "code",
   "execution_count": 6,
   "metadata": {},
   "outputs": [],
   "source": [
    "relative_path = \"../../../../data/processed/structured/\"\n",
    "files = os.listdir(relative_path)"
   ]
  },
  {
   "cell_type": "code",
   "execution_count": 7,
   "metadata": {},
   "outputs": [
    {
     "data": {
      "text/plain": [
       "['customers.csv',\n",
       " 'greenTaxiData.csv',\n",
       " 'merchants.csv',\n",
       " 'products.csv',\n",
       " 'sales.csv',\n",
       " 'sales_detail.csv',\n",
       " 'stock.csv',\n",
       " 'yellowTaxiData.csv']"
      ]
     },
     "execution_count": 7,
     "metadata": {},
     "output_type": "execute_result"
    }
   ],
   "source": [
    "files"
   ]
  },
  {
   "cell_type": "code",
   "execution_count": 47,
   "metadata": {},
   "outputs": [
    {
     "data": {
      "text/html": [
       "<div>\n",
       "<style scoped>\n",
       "    .dataframe tbody tr th:only-of-type {\n",
       "        vertical-align: middle;\n",
       "    }\n",
       "\n",
       "    .dataframe tbody tr th {\n",
       "        vertical-align: top;\n",
       "    }\n",
       "\n",
       "    .dataframe thead th {\n",
       "        text-align: right;\n",
       "    }\n",
       "</style>\n",
       "<table border=\"1\" class=\"dataframe\">\n",
       "  <thead>\n",
       "    <tr style=\"text-align: right;\">\n",
       "      <th></th>\n",
       "      <th>vendorID</th>\n",
       "      <th>lpepPickupDatetime</th>\n",
       "      <th>lpepDropoffDatetime</th>\n",
       "      <th>passengerCount</th>\n",
       "      <th>tripDistance</th>\n",
       "      <th>puLocationId</th>\n",
       "      <th>doLocationId</th>\n",
       "      <th>pickupLongitude</th>\n",
       "      <th>pickupLatitude</th>\n",
       "      <th>dropoffLongitude</th>\n",
       "      <th>...</th>\n",
       "      <th>paymentType</th>\n",
       "      <th>fareAmount</th>\n",
       "      <th>extra</th>\n",
       "      <th>mtaTax</th>\n",
       "      <th>improvementSurcharge</th>\n",
       "      <th>tipAmount</th>\n",
       "      <th>tollsAmount</th>\n",
       "      <th>ehailFee</th>\n",
       "      <th>totalAmount</th>\n",
       "      <th>tripType</th>\n",
       "    </tr>\n",
       "  </thead>\n",
       "  <tbody>\n",
       "    <tr>\n",
       "      <th>0</th>\n",
       "      <td>2</td>\n",
       "      <td>2016-01-03 21:02:35</td>\n",
       "      <td>2016-01-03 21:05:52</td>\n",
       "      <td>1</td>\n",
       "      <td>0.83</td>\n",
       "      <td>NaN</td>\n",
       "      <td>NaN</td>\n",
       "      <td>-73.987267</td>\n",
       "      <td>40.693836</td>\n",
       "      <td>-73.976112</td>\n",
       "      <td>...</td>\n",
       "      <td>1</td>\n",
       "      <td>4.5</td>\n",
       "      <td>0.5</td>\n",
       "      <td>0.5</td>\n",
       "      <td>0.3</td>\n",
       "      <td>0.00</td>\n",
       "      <td>0.0</td>\n",
       "      <td>NaN</td>\n",
       "      <td>5.80</td>\n",
       "      <td>1.0</td>\n",
       "    </tr>\n",
       "    <tr>\n",
       "      <th>1</th>\n",
       "      <td>2</td>\n",
       "      <td>2016-01-19 21:49:17</td>\n",
       "      <td>2016-01-19 21:54:37</td>\n",
       "      <td>1</td>\n",
       "      <td>1.27</td>\n",
       "      <td>NaN</td>\n",
       "      <td>NaN</td>\n",
       "      <td>-73.948456</td>\n",
       "      <td>40.801468</td>\n",
       "      <td>-73.959755</td>\n",
       "      <td>...</td>\n",
       "      <td>1</td>\n",
       "      <td>6.0</td>\n",
       "      <td>0.5</td>\n",
       "      <td>0.5</td>\n",
       "      <td>0.3</td>\n",
       "      <td>1.00</td>\n",
       "      <td>0.0</td>\n",
       "      <td>NaN</td>\n",
       "      <td>8.30</td>\n",
       "      <td>1.0</td>\n",
       "    </tr>\n",
       "    <tr>\n",
       "      <th>2</th>\n",
       "      <td>2</td>\n",
       "      <td>2016-01-05 09:46:18</td>\n",
       "      <td>2016-01-05 09:57:28</td>\n",
       "      <td>1</td>\n",
       "      <td>1.80</td>\n",
       "      <td>NaN</td>\n",
       "      <td>NaN</td>\n",
       "      <td>-73.955444</td>\n",
       "      <td>40.679798</td>\n",
       "      <td>-73.980309</td>\n",
       "      <td>...</td>\n",
       "      <td>1</td>\n",
       "      <td>9.5</td>\n",
       "      <td>0.0</td>\n",
       "      <td>0.5</td>\n",
       "      <td>0.3</td>\n",
       "      <td>2.06</td>\n",
       "      <td>0.0</td>\n",
       "      <td>NaN</td>\n",
       "      <td>12.36</td>\n",
       "      <td>1.0</td>\n",
       "    </tr>\n",
       "    <tr>\n",
       "      <th>3</th>\n",
       "      <td>1</td>\n",
       "      <td>2016-01-08 17:49:12</td>\n",
       "      <td>2016-01-08 17:52:20</td>\n",
       "      <td>1</td>\n",
       "      <td>0.50</td>\n",
       "      <td>NaN</td>\n",
       "      <td>NaN</td>\n",
       "      <td>-73.922935</td>\n",
       "      <td>40.760818</td>\n",
       "      <td>-73.925499</td>\n",
       "      <td>...</td>\n",
       "      <td>1</td>\n",
       "      <td>4.0</td>\n",
       "      <td>1.0</td>\n",
       "      <td>0.5</td>\n",
       "      <td>0.3</td>\n",
       "      <td>1.15</td>\n",
       "      <td>0.0</td>\n",
       "      <td>NaN</td>\n",
       "      <td>6.95</td>\n",
       "      <td>1.0</td>\n",
       "    </tr>\n",
       "    <tr>\n",
       "      <th>4</th>\n",
       "      <td>1</td>\n",
       "      <td>2016-01-29 10:28:21</td>\n",
       "      <td>2016-01-29 10:34:59</td>\n",
       "      <td>1</td>\n",
       "      <td>0.90</td>\n",
       "      <td>NaN</td>\n",
       "      <td>NaN</td>\n",
       "      <td>-73.923042</td>\n",
       "      <td>40.664940</td>\n",
       "      <td>-73.911041</td>\n",
       "      <td>...</td>\n",
       "      <td>2</td>\n",
       "      <td>6.0</td>\n",
       "      <td>0.0</td>\n",
       "      <td>0.5</td>\n",
       "      <td>0.3</td>\n",
       "      <td>0.00</td>\n",
       "      <td>0.0</td>\n",
       "      <td>NaN</td>\n",
       "      <td>6.80</td>\n",
       "      <td>1.0</td>\n",
       "    </tr>\n",
       "  </tbody>\n",
       "</table>\n",
       "<p>5 rows × 23 columns</p>\n",
       "</div>"
      ],
      "text/plain": [
       "   vendorID   lpepPickupDatetime  lpepDropoffDatetime  passengerCount  \\\n",
       "0         2  2016-01-03 21:02:35  2016-01-03 21:05:52               1   \n",
       "1         2  2016-01-19 21:49:17  2016-01-19 21:54:37               1   \n",
       "2         2  2016-01-05 09:46:18  2016-01-05 09:57:28               1   \n",
       "3         1  2016-01-08 17:49:12  2016-01-08 17:52:20               1   \n",
       "4         1  2016-01-29 10:28:21  2016-01-29 10:34:59               1   \n",
       "\n",
       "   tripDistance  puLocationId  doLocationId  pickupLongitude  pickupLatitude  \\\n",
       "0          0.83           NaN           NaN       -73.987267       40.693836   \n",
       "1          1.27           NaN           NaN       -73.948456       40.801468   \n",
       "2          1.80           NaN           NaN       -73.955444       40.679798   \n",
       "3          0.50           NaN           NaN       -73.922935       40.760818   \n",
       "4          0.90           NaN           NaN       -73.923042       40.664940   \n",
       "\n",
       "   dropoffLongitude  ...  paymentType  fareAmount extra  mtaTax  \\\n",
       "0        -73.976112  ...            1         4.5   0.5     0.5   \n",
       "1        -73.959755  ...            1         6.0   0.5     0.5   \n",
       "2        -73.980309  ...            1         9.5   0.0     0.5   \n",
       "3        -73.925499  ...            1         4.0   1.0     0.5   \n",
       "4        -73.911041  ...            2         6.0   0.0     0.5   \n",
       "\n",
       "   improvementSurcharge  tipAmount  tollsAmount  ehailFee  totalAmount  \\\n",
       "0                   0.3       0.00          0.0       NaN         5.80   \n",
       "1                   0.3       1.00          0.0       NaN         8.30   \n",
       "2                   0.3       2.06          0.0       NaN        12.36   \n",
       "3                   0.3       1.15          0.0       NaN         6.95   \n",
       "4                   0.3       0.00          0.0       NaN         6.80   \n",
       "\n",
       "   tripType  \n",
       "0       1.0  \n",
       "1       1.0  \n",
       "2       1.0  \n",
       "3       1.0  \n",
       "4       1.0  \n",
       "\n",
       "[5 rows x 23 columns]"
      ]
     },
     "execution_count": 47,
     "metadata": {},
     "output_type": "execute_result"
    }
   ],
   "source": [
    "pd.read_csv(relative_path+\"greenTaxiData.csv\").head()"
   ]
  },
  {
   "cell_type": "code",
   "execution_count": 48,
   "metadata": {},
   "outputs": [
    {
     "data": {
      "text/html": [
       "<div>\n",
       "<style scoped>\n",
       "    .dataframe tbody tr th:only-of-type {\n",
       "        vertical-align: middle;\n",
       "    }\n",
       "\n",
       "    .dataframe tbody tr th {\n",
       "        vertical-align: top;\n",
       "    }\n",
       "\n",
       "    .dataframe thead th {\n",
       "        text-align: right;\n",
       "    }\n",
       "</style>\n",
       "<table border=\"1\" class=\"dataframe\">\n",
       "  <thead>\n",
       "    <tr style=\"text-align: right;\">\n",
       "      <th></th>\n",
       "      <th>vendorID</th>\n",
       "      <th>tpepPickupDateTime</th>\n",
       "      <th>tpepDropoffDateTime</th>\n",
       "      <th>passengerCount</th>\n",
       "      <th>tripDistance</th>\n",
       "      <th>puLocationId</th>\n",
       "      <th>doLocationId</th>\n",
       "      <th>startLon</th>\n",
       "      <th>startLat</th>\n",
       "      <th>endLon</th>\n",
       "      <th>...</th>\n",
       "      <th>rateCodeId</th>\n",
       "      <th>storeAndFwdFlag</th>\n",
       "      <th>paymentType</th>\n",
       "      <th>fareAmount</th>\n",
       "      <th>extra</th>\n",
       "      <th>mtaTax</th>\n",
       "      <th>improvementSurcharge</th>\n",
       "      <th>tipAmount</th>\n",
       "      <th>tollsAmount</th>\n",
       "      <th>totalAmount</th>\n",
       "    </tr>\n",
       "  </thead>\n",
       "  <tbody>\n",
       "    <tr>\n",
       "      <th>0</th>\n",
       "      <td>2</td>\n",
       "      <td>2016-01-06 12:09:13</td>\n",
       "      <td>2016-01-06 12:22:14</td>\n",
       "      <td>1</td>\n",
       "      <td>2.09</td>\n",
       "      <td>NaN</td>\n",
       "      <td>NaN</td>\n",
       "      <td>-73.982071</td>\n",
       "      <td>40.746059</td>\n",
       "      <td>-74.004623</td>\n",
       "      <td>...</td>\n",
       "      <td>1</td>\n",
       "      <td>N</td>\n",
       "      <td>1</td>\n",
       "      <td>10.5</td>\n",
       "      <td>0.0</td>\n",
       "      <td>0.5</td>\n",
       "      <td>0.3</td>\n",
       "      <td>2.26</td>\n",
       "      <td>0.0</td>\n",
       "      <td>13.56</td>\n",
       "    </tr>\n",
       "    <tr>\n",
       "      <th>1</th>\n",
       "      <td>1</td>\n",
       "      <td>2016-01-03 17:57:48</td>\n",
       "      <td>2016-01-03 18:08:18</td>\n",
       "      <td>3</td>\n",
       "      <td>1.50</td>\n",
       "      <td>NaN</td>\n",
       "      <td>NaN</td>\n",
       "      <td>-73.966270</td>\n",
       "      <td>40.764835</td>\n",
       "      <td>-73.984550</td>\n",
       "      <td>...</td>\n",
       "      <td>1</td>\n",
       "      <td>N</td>\n",
       "      <td>2</td>\n",
       "      <td>8.5</td>\n",
       "      <td>1.0</td>\n",
       "      <td>0.5</td>\n",
       "      <td>0.3</td>\n",
       "      <td>0.00</td>\n",
       "      <td>0.0</td>\n",
       "      <td>10.30</td>\n",
       "    </tr>\n",
       "    <tr>\n",
       "      <th>2</th>\n",
       "      <td>1</td>\n",
       "      <td>2016-01-18 07:37:51</td>\n",
       "      <td>2016-01-18 07:47:01</td>\n",
       "      <td>1</td>\n",
       "      <td>1.80</td>\n",
       "      <td>NaN</td>\n",
       "      <td>NaN</td>\n",
       "      <td>0.000000</td>\n",
       "      <td>0.000000</td>\n",
       "      <td>0.000000</td>\n",
       "      <td>...</td>\n",
       "      <td>1</td>\n",
       "      <td>N</td>\n",
       "      <td>1</td>\n",
       "      <td>8.5</td>\n",
       "      <td>0.0</td>\n",
       "      <td>0.5</td>\n",
       "      <td>0.3</td>\n",
       "      <td>1.85</td>\n",
       "      <td>0.0</td>\n",
       "      <td>11.15</td>\n",
       "    </tr>\n",
       "    <tr>\n",
       "      <th>3</th>\n",
       "      <td>2</td>\n",
       "      <td>2016-01-26 00:31:36</td>\n",
       "      <td>2016-01-26 00:38:47</td>\n",
       "      <td>1</td>\n",
       "      <td>1.96</td>\n",
       "      <td>NaN</td>\n",
       "      <td>NaN</td>\n",
       "      <td>-73.990623</td>\n",
       "      <td>40.755360</td>\n",
       "      <td>-73.978958</td>\n",
       "      <td>...</td>\n",
       "      <td>1</td>\n",
       "      <td>N</td>\n",
       "      <td>1</td>\n",
       "      <td>8.0</td>\n",
       "      <td>0.5</td>\n",
       "      <td>0.5</td>\n",
       "      <td>0.3</td>\n",
       "      <td>1.00</td>\n",
       "      <td>0.0</td>\n",
       "      <td>10.30</td>\n",
       "    </tr>\n",
       "    <tr>\n",
       "      <th>4</th>\n",
       "      <td>2</td>\n",
       "      <td>2016-01-20 23:37:22</td>\n",
       "      <td>2016-01-20 23:51:09</td>\n",
       "      <td>1</td>\n",
       "      <td>3.60</td>\n",
       "      <td>NaN</td>\n",
       "      <td>NaN</td>\n",
       "      <td>-73.985283</td>\n",
       "      <td>40.760262</td>\n",
       "      <td>-74.011276</td>\n",
       "      <td>...</td>\n",
       "      <td>1</td>\n",
       "      <td>N</td>\n",
       "      <td>1</td>\n",
       "      <td>13.5</td>\n",
       "      <td>0.5</td>\n",
       "      <td>0.5</td>\n",
       "      <td>0.3</td>\n",
       "      <td>2.50</td>\n",
       "      <td>0.0</td>\n",
       "      <td>17.30</td>\n",
       "    </tr>\n",
       "  </tbody>\n",
       "</table>\n",
       "<p>5 rows × 21 columns</p>\n",
       "</div>"
      ],
      "text/plain": [
       "   vendorID   tpepPickupDateTime  tpepDropoffDateTime  passengerCount  \\\n",
       "0         2  2016-01-06 12:09:13  2016-01-06 12:22:14               1   \n",
       "1         1  2016-01-03 17:57:48  2016-01-03 18:08:18               3   \n",
       "2         1  2016-01-18 07:37:51  2016-01-18 07:47:01               1   \n",
       "3         2  2016-01-26 00:31:36  2016-01-26 00:38:47               1   \n",
       "4         2  2016-01-20 23:37:22  2016-01-20 23:51:09               1   \n",
       "\n",
       "   tripDistance  puLocationId  doLocationId   startLon   startLat     endLon  \\\n",
       "0          2.09           NaN           NaN -73.982071  40.746059 -74.004623   \n",
       "1          1.50           NaN           NaN -73.966270  40.764835 -73.984550   \n",
       "2          1.80           NaN           NaN   0.000000   0.000000   0.000000   \n",
       "3          1.96           NaN           NaN -73.990623  40.755360 -73.978958   \n",
       "4          3.60           NaN           NaN -73.985283  40.760262 -74.011276   \n",
       "\n",
       "   ...  rateCodeId  storeAndFwdFlag paymentType  fareAmount  extra  mtaTax  \\\n",
       "0  ...           1                N           1        10.5    0.0     0.5   \n",
       "1  ...           1                N           2         8.5    1.0     0.5   \n",
       "2  ...           1                N           1         8.5    0.0     0.5   \n",
       "3  ...           1                N           1         8.0    0.5     0.5   \n",
       "4  ...           1                N           1        13.5    0.5     0.5   \n",
       "\n",
       "   improvementSurcharge  tipAmount  tollsAmount  totalAmount  \n",
       "0                   0.3       2.26          0.0        13.56  \n",
       "1                   0.3       0.00          0.0        10.30  \n",
       "2                   0.3       1.85          0.0        11.15  \n",
       "3                   0.3       1.00          0.0        10.30  \n",
       "4                   0.3       2.50          0.0        17.30  \n",
       "\n",
       "[5 rows x 21 columns]"
      ]
     },
     "execution_count": 48,
     "metadata": {},
     "output_type": "execute_result"
    }
   ],
   "source": [
    "pd.read_csv(relative_path+\"yellowTaxiData.csv\").head()"
   ]
  },
  {
   "cell_type": "code",
   "execution_count": 31,
   "metadata": {},
   "outputs": [
    {
     "data": {
      "text/plain": [
       "Index(['vendorID', 'tpepPickupDateTime', 'tpepDropoffDateTime',\n",
       "       'passengerCount', 'tripDistance', 'puLocationId', 'doLocationId',\n",
       "       'startLon', 'startLat', 'endLon', 'endLat', 'rateCodeId',\n",
       "       'storeAndFwdFlag', 'paymentType', 'fareAmount', 'extra', 'mtaTax',\n",
       "       'improvementSurcharge', 'tipAmount', 'tollsAmount', 'totalAmount'],\n",
       "      dtype='object')"
      ]
     },
     "execution_count": 31,
     "metadata": {},
     "output_type": "execute_result"
    }
   ],
   "source": [
    "pd.read_csv(relative_path+'yellowTaxiData.csv').columns"
   ]
  },
  {
   "cell_type": "code",
   "execution_count": 33,
   "metadata": {},
   "outputs": [
    {
     "data": {
      "text/plain": [
       "Index(['vendorID', 'lpepPickupDatetime', 'lpepDropoffDatetime',\n",
       "       'passengerCount', 'tripDistance', 'puLocationId', 'doLocationId',\n",
       "       'pickupLongitude', 'pickupLatitude', 'dropoffLongitude',\n",
       "       'dropoffLatitude', 'rateCodeID', 'storeAndFwdFlag', 'paymentType',\n",
       "       'fareAmount', 'extra', 'mtaTax', 'improvementSurcharge', 'tipAmount',\n",
       "       'tollsAmount', 'ehailFee', 'totalAmount', 'tripType'],\n",
       "      dtype='object')"
      ]
     },
     "execution_count": 33,
     "metadata": {},
     "output_type": "execute_result"
    }
   ],
   "source": [
    "pd.read_csv(relative_path+'greenTaxiData.csv').columns"
   ]
  },
  {
   "cell_type": "markdown",
   "metadata": {},
   "source": [
    "#### Inserting Tables"
   ]
  },
  {
   "cell_type": "code",
   "execution_count": 41,
   "metadata": {},
   "outputs": [],
   "source": [
    "import numpy as np"
   ]
  },
  {
   "cell_type": "code",
   "execution_count": 53,
   "metadata": {},
   "outputs": [],
   "source": [
    "def CSVToSQL(table_name,file_location):\n",
    "    # Read the CSV file\n",
    "    df = pd.read_csv(file_location).fillna(np.nan).replace([np.nan], [None])\n",
    "    for index, row in df.iterrows():\n",
    "        insert_query = f\"\"\"\n",
    "        INSERT INTO {table_name} ({', '.join(df.columns)})\n",
    "        VALUES ({', '.join(['?' for _ in df.columns])})\n",
    "        \"\"\"\n",
    "        cursor.execute(insert_query, tuple(row))\n",
    "    conn.commit()"
   ]
  },
  {
   "cell_type": "code",
   "execution_count": null,
   "metadata": {},
   "outputs": [],
   "source": []
  },
  {
   "cell_type": "code",
   "execution_count": 62,
   "metadata": {},
   "outputs": [],
   "source": [
    "relative_path = \"../../../../data/processed/structured/\"\n",
    "files = os.listdir(relative_path)\n",
    "\n",
    "CSVToSQL(\"Customers\",relative_path+'/customers.csv')\n",
    "CSVToSQL(\"Products\",relative_path+'/products.csv')\n",
    "CSVToSQL(\"Merchants\",relative_path+'/merchants.csv')\n",
    "CSVToSQL(\"Stock\",relative_path+'/stock.csv')\n",
    "CSVToSQL(\"Sales\",relative_path+'/sales.csv')\n",
    "CSVToSQL(\"Sales_Detail\",relative_path+'/sales_detail.csv')\n",
    "\n",
    "cursor.commit()"
   ]
  },
  {
   "cell_type": "markdown",
   "metadata": {},
   "source": [
    "### Generating description this data"
   ]
  },
  {
   "cell_type": "code",
   "execution_count": 90,
   "metadata": {},
   "outputs": [],
   "source": [
    "string_to_description = \"\"\n",
    "for file in files:\n",
    "    table_name = file.replace(\".csv\",\"\")\n",
    "    values = str(pd.read_csv(relative_path+file).head().to_dict(orient='records'))\n",
    "    sample_string = \"Table name: \" + table_name + \" \\n\" + \"Values: \" + values+ \" \\n\"\n",
    "    string_to_description += sample_string"
   ]
  },
  {
   "cell_type": "code",
   "execution_count": 91,
   "metadata": {},
   "outputs": [
    {
     "name": "stdout",
     "output_type": "stream",
     "text": [
      "Table name: customers \n",
      "Values: [{'cust_id': 1, 'cust_name': 'John Doe', 'cust_email': 'john.doe@example.com', 'cust_phone': '555-123-4567', 'cust_address': '123 Main St, City A'}, {'cust_id': 2, 'cust_name': 'Jane Smith', 'cust_email': 'jane.smith@example.com', 'cust_phone': '555-987-6543', 'cust_address': '456 High St, City B'}, {'cust_id': 3, 'cust_name': 'Michael Johnson', 'cust_email': 'michael.johnson@example.com', 'cust_phone': '555-456-7890', 'cust_address': '789 First St, City C'}, {'cust_id': 4, 'cust_name': 'Sara Williams', 'cust_email': 'sara.williams@example.com', 'cust_phone': '555-321-6549', 'cust_address': '147 Second St, City D'}, {'cust_id': 5, 'cust_name': 'Kevin Brown', 'cust_email': 'kevin.brown@example.com', 'cust_phone': '555-987-3214', 'cust_address': '258 Third St, City E'}] \n",
      "Table name: merchants \n",
      "Values: [{'merchant_id': 1, 'merchant_name': 'ElectroMegaMart', 'merchant_region': 'North America', 'merchant_address': '123 Tech Plaza, New York, NY 10001'}, {'merchant_id': 2, 'merchant_name': 'GadgetWorld', 'merchant_region': 'Europe', 'merchant_address': '35 Innovation Way, London, UK SE1 0AA'}, {'merchant_id': 3, 'merchant_name': 'TechParadise', 'merchant_region': 'Asia', 'merchant_address': '789 Circuit Rd, Tokyo, Japan 100-0005'}, {'merchant_id': 4, 'merchant_name': 'DigitalDepot', 'merchant_region': 'South America', 'merchant_address': 'Av. de los Inventos 456, Buenos Aires, Argentina 1000'}, {'merchant_id': 5, 'merchant_name': 'ElectronixHaven', 'merchant_region': 'North America', 'merchant_address': '600 Silicon St, San Francisco, CA 94103'}] \n",
      "Table name: products \n",
      "Values: [{'prod_id': 1, 'prod_name': 'Surface Pro 9', 'price': 999.99, 'category': 'Tablet'}, {'prod_id': 2, 'prod_name': 'Surface Laptop 5', 'price': 899.99, 'category': 'Laptop'}, {'prod_id': 3, 'prod_name': 'Surface Slim Pen 2', 'price': 94.99, 'category': 'Accessory'}, {'prod_id': 4, 'prod_name': 'Surface Laptop SE', 'price': 299.99, 'category': 'Laptop'}, {'prod_id': 5, 'prod_name': 'Surface Laptop Go 2', 'price': 599.99, 'category': 'Laptop'}] \n",
      "Table name: sales \n",
      "Values: [{'sale_id': 1, 'cust_id': 8, 'merchant_id': 9, 'date': '2023-01-01', 'total_price': 75}, {'sale_id': 2, 'cust_id': 7, 'merchant_id': 3, 'date': '2023-01-02', 'total_price': 34}, {'sale_id': 3, 'cust_id': 8, 'merchant_id': 8, 'date': '2023-01-03', 'total_price': 33}, {'sale_id': 4, 'cust_id': 1, 'merchant_id': 7, 'date': '2023-01-04', 'total_price': 60}, {'sale_id': 5, 'cust_id': 7, 'merchant_id': 2, 'date': '2023-01-05', 'total_price': 93}] \n",
      "Table name: sales_detail \n",
      "Values: [{'sales_id': 1, 'prod_id': 1, 'quantity': 97}, {'sales_id': 1, 'prod_id': 2, 'quantity': 413}, {'sales_id': 1, 'prod_id': 3, 'quantity': 303}, {'sales_id': 1, 'prod_id': 4, 'quantity': 478}, {'sales_id': 1, 'prod_id': 5, 'quantity': 22}] \n",
      "Table name: stock \n",
      "Values: [{'prod_id': 1, 'merchant_id': 1, 'stock': 403}, {'prod_id': 1, 'merchant_id': 2, 'stock': 274}, {'prod_id': 1, 'merchant_id': 3, 'stock': 174}, {'prod_id': 1, 'merchant_id': 4, 'stock': 212}, {'prod_id': 1, 'merchant_id': 5, 'stock': 192}] \n",
      "\n"
     ]
    }
   ],
   "source": [
    "print(string_to_description)"
   ]
  },
  {
   "cell_type": "code",
   "execution_count": 156,
   "metadata": {},
   "outputs": [],
   "source": [
    "def GetToolDescription(string_to_description):\n",
    "    messages = [{\"role\":\"system\",\"content\":\"You are an agent that takes information about tables, including table names and sample values, with the objective of generating a description that will be used to select an OpenAI tool that will help users to interact with the mentioned tables. Please provide examples of each field\"},\n",
    "            {\"role\":\"user\", \"content\":\"Information about tables \"+ string_to_description}]\n",
    "\n",
    "    response = aoai_client.chat.completions.create(model=\"gpt4o\",  \n",
    "                                    messages = messages, \n",
    "                                    temperature=0.2,  \n",
    "                                    max_tokens=2000,\n",
    "                                    seed = 42)\n",
    "    DBDescription = response.choices[0].message.content\n",
    "    print(DBDescription)\n",
    "\n",
    "    return DBDescription"
   ]
  },
  {
   "cell_type": "code",
   "execution_count": 157,
   "metadata": {},
   "outputs": [
    {
     "name": "stdout",
     "output_type": "stream",
     "text": [
      "The database consists of six tables: **customers**, **merchants**, **products**, **sales**, **sales_detail**, and **stock**. \n",
      "\n",
      "1. **Customers Table**: This table contains customer information such as ID, name, email, phone number, and address. For example, customer ID 1 is John Doe with the email john.doe@example.com and resides at 123 Main St, City A.\n",
      "\n",
      "2. **Merchants Table**: This table holds merchant details including ID, name, region, and address. For instance, merchant ID 1 is ElectroMegaMart located at 123 Tech Plaza, New York, NY 10001.\n",
      "\n",
      "3. **Products Table**: This table lists products with details like product ID, name, price, and category. An example is product ID 1, Surface Pro 9, priced at $999.99 under the Tablet category.\n",
      "\n",
      "4. **Sales Table**: This table records sales transactions with fields for sale ID, customer ID, merchant ID, date, and total price. For example, sale ID 1 involves customer ID 8 and merchant ID 9 on 2023-01-01 with a total price of $75.\n",
      "\n",
      "5. **Sales Detail Table**: This table provides details of each sale, including sales ID, product ID, and quantity sold. For instance, sales ID 1 includes product ID 1 with a quantity of 97.\n",
      "\n",
      "6. **Stock Table**: This table tracks the stock levels of products at different merchants, with fields for product ID, merchant ID, and stock quantity. For example, product ID 1 has a stock of 403 at merchant ID 1.\n",
      "\n",
      "These tables are interconnected, allowing for comprehensive tracking of customer interactions, product availability, and sales performance across different regions and merchants.\n"
     ]
    }
   ],
   "source": [
    "tool_description = GetToolDescription(string_to_description)"
   ]
  },
  {
   "cell_type": "markdown",
   "metadata": {},
   "source": [
    "#### Saving description to file"
   ]
  },
  {
   "cell_type": "code",
   "execution_count": 147,
   "metadata": {},
   "outputs": [],
   "source": [
    "with open(\"../../../../data/processed/tool_description/GetSQLDBAnswerDescription.txt\", \"w\") as file:\n",
    "    # Write the string to the file\n",
    "    file.write(tool_description)"
   ]
  },
  {
   "cell_type": "code",
   "execution_count": 148,
   "metadata": {},
   "outputs": [
    {
     "data": {
      "text/plain": [
       "[('Surface Slim Pen 2', 'Accessory', 94.99),\n",
       " ('Surface Pen', 'Accessory', 99.99),\n",
       " ('Surface Dock', 'Accessory', 199.99)]"
      ]
     },
     "execution_count": 148,
     "metadata": {},
     "output_type": "execute_result"
    }
   ],
   "source": [
    "result = cursor.execute(\"SELECT prod_name, category, price FROM Products WHERE prod_name like '%Surface%' and category like '%accessory%';\")\n",
    "[row for row in result.fetchall()]"
   ]
  },
  {
   "cell_type": "code",
   "execution_count": 149,
   "metadata": {},
   "outputs": [
    {
     "data": {
      "text/plain": [
       "[(2527,)]"
      ]
     },
     "execution_count": 149,
     "metadata": {},
     "output_type": "execute_result"
    }
   ],
   "source": [
    "result = cursor.execute(\"SELECT SUM(stock) AS total_stock FROM Stock WHERE prod_id IN (SELECT prod_id FROM Products WHERE prod_name LIKE '%Surface Laptop 5%');\")\n",
    "[row for row in result.fetchall()]"
   ]
  },
  {
   "cell_type": "code",
   "execution_count": 71,
   "metadata": {},
   "outputs": [],
   "source": [
    "cursor.execute(\"\"\"\n",
    "CREATE TABLE greenTaxiData (  \n",
    "    vendorID INT,  \n",
    "    lpepPickupDatetime VARCHAR(400),  \n",
    "    lpepDropoffDatetime VARCHAR(400),  \n",
    "    passengerCount INT,  \n",
    "    tripDistance FLOAT,  \n",
    "    puLocationId FLOAT,\n",
    "    doLocationId FLOAT,\n",
    "    pickupLongitude FLOAT,  \n",
    "    pickupLatitude FLOAT,  \n",
    "    dropoffLongitude FLOAT,  \n",
    "    dropoffLatitude FLOAT,  \n",
    "    rateCodeID INT,  \n",
    "    storeAndFwdFlag VARCHAR(400),  \n",
    "    paymentType INT,  \n",
    "    fareAmount FLOAT,  \n",
    "    extra FLOAT,  \n",
    "    mtaTax FLOAT,  \n",
    "    improvementSurcharge FLOAT,  \n",
    "    tipAmount FLOAT,  \n",
    "    tollsAmount FLOAT,  \n",
    "    ehailFee FLOAT,\n",
    "    totalAmount FLOAT,  \n",
    "    tripType FLOAT,\n",
    "    transactionID VARCHAR(100), \n",
    "    PRIMARY KEY (transactionID),  \n",
    "); \n",
    "\n",
    "CREATE TABLE yellowTaxiData (  \n",
    "    vendorID INT,  \n",
    "    tpepPickupDateTime VARCHAR(400),  \n",
    "    tpepDropoffDateTime VARCHAR(400),  \n",
    "    passengerCount INT,  \n",
    "    tripDistance FLOAT,  \n",
    "    puLocationId FLOAT,  \n",
    "    doLocationId FLOAT,  \n",
    "    startLon FLOAT,  \n",
    "    startLat FLOAT,  \n",
    "    endLon FLOAT,  \n",
    "    endLat FLOAT,  \n",
    "    rateCodeId INT,  \n",
    "    storeAndFwdFlag VARCHAR(400),  \n",
    "    paymentType INT,  \n",
    "    fareAmount FLOAT,  \n",
    "    extra FLOAT,  \n",
    "    mtaTax FLOAT,  \n",
    "    improvementSurcharge FLOAT,  \n",
    "    tipAmount FLOAT,  \n",
    "    tollsAmount FLOAT,  \n",
    "    totalAmount FLOAT,\n",
    "    transactionID VARCHAR(100), \n",
    "    PRIMARY KEY (transactionID),  \n",
    ");   \n",
    "\"\"\")\n",
    "\n",
    "cursor.commit()"
   ]
  },
  {
   "cell_type": "code",
   "execution_count": 74,
   "metadata": {},
   "outputs": [],
   "source": [
    "def CSVToSQL(table_name,file_location):\n",
    "    # Read the CSV file\n",
    "    df = pd.read_csv(file_location).fillna(np.nan).replace([np.nan], [None]).iloc[100:]\n",
    "    for index, row in df.iterrows():\n",
    "        insert_query = f\"\"\"\n",
    "        INSERT INTO {table_name} ({', '.join(df.columns)})\n",
    "        VALUES ({', '.join(['?' for _ in df.columns])})\n",
    "        \"\"\"\n",
    "        cursor.execute(insert_query, tuple(row))\n",
    "    conn.commit()"
   ]
  },
  {
   "cell_type": "code",
   "execution_count": 75,
   "metadata": {},
   "outputs": [],
   "source": [
    "relative_path = \"../../../../data/processed/structured/\"\n",
    "files = os.listdir(relative_path)\n",
    "\n",
    "\n",
    "CSVToSQL(\"greenTaxiData\",relative_path+'/greenTaxiData.csv')\n",
    "CSVToSQL(\"yellowTaxiData\",relative_path+'/yellowTaxiData.csv')\n",
    "\n",
    "cursor.commit()"
   ]
  },
  {
   "cell_type": "code",
   "execution_count": null,
   "metadata": {},
   "outputs": [],
   "source": []
  }
 ],
 "metadata": {
  "kernelspec": {
   "display_name": "secdemo",
   "language": "python",
   "name": "python3"
  },
  "language_info": {
   "codemirror_mode": {
    "name": "ipython",
    "version": 3
   },
   "file_extension": ".py",
   "mimetype": "text/x-python",
   "name": "python",
   "nbconvert_exporter": "python",
   "pygments_lexer": "ipython3",
   "version": "3.12.2"
  }
 },
 "nbformat": 4,
 "nbformat_minor": 2
}
