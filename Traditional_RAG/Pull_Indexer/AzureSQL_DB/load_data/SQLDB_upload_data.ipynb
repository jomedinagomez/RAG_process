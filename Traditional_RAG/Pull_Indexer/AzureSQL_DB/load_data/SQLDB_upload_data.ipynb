{
 "cells": [
  {
   "cell_type": "markdown",
   "metadata": {},
   "source": [
    "### Import libraries"
   ]
  },
  {
   "cell_type": "code",
   "execution_count": 92,
   "metadata": {},
   "outputs": [],
   "source": [
    "import os\n",
    "import pandas as pd\n",
    "import pyodbc, struct\n",
    "from azure import identity\n",
    "from faker import Faker\n",
    "from typing import Union\n",
    "from fastapi import FastAPI\n",
    "from pydantic import BaseModel\n",
    "from sqlalchemy import create_engine\n",
    "\n",
    "from dotenv import load_dotenv\n",
    "load_dotenv(override=True)\n",
    "connection_string = os.environ[\"AZURE_SQL_CONNECTIONSTRING\"]\n",
    "\n",
    "SQL_SERVER_USERNAME = os.environ[\"SQL_SERVER_USERNAME\"]\n",
    "SQL_SERVER_ENDPOINT = os.environ[\"SQL_SERVER_ENDPOINT\"]\n",
    "SQL_SERVER_PASSWORD = os.environ[\"SQL_SERVER_PASSWORD\"]\n",
    "SQL_SERVER_DATABASE = os.environ[\"SQL_SERVER_DATABASE\"] \n",
    "driver = \"{ODBC Driver 18 for SQL Server}\"\n",
    "sqlalchemy_driver = \"ODBC Driver 18 for SQL Server\"\n",
    "\n",
    "## Creatng a connection to the SQL Server\n",
    "conn = pyodbc.connect(f'DRIVER={driver};SERVER={SQL_SERVER_ENDPOINT};PORT=1433;DATABASE={SQL_SERVER_DATABASE};UID={SQL_SERVER_USERNAME};PWD={SQL_SERVER_PASSWORD}')  \n",
    "cursor = conn.cursor()\n",
    "\n",
    "from openai import AzureOpenAI\n",
    "aoai_client = AzureOpenAI(\n",
    "  azure_endpoint = os.getenv(\"AZURE_OPENAI_ENDPOINT\"), \n",
    "  api_key=os.getenv(\"AZURE_OPENAI_API_KEY\"),  \n",
    "  api_version=\"2024-07-01-preview\"\n",
    ")\n",
    "\n",
    "#https://github.com/Azure-Samples/openai/blob/main/End_to_end_Solutions/AOAISearchDemo/scripts/prepopulate/populate_sql.py"
   ]
  },
  {
   "cell_type": "markdown",
   "metadata": {},
   "source": [
    "#### Reading input files"
   ]
  },
  {
   "cell_type": "code",
   "execution_count": 2,
   "metadata": {},
   "outputs": [],
   "source": [
    "relative_path = \"../../../../data/processed/files/\"\n",
    "files = os.listdir(relative_path)\n",
    "\n",
    "df = pd.concat([pd.read_parquet(relative_path+file) for file in files]).reset_index(drop=True)\n",
    "df['title_vector'] = df['title_vector'].apply(lambda x: x.tolist())\n",
    "df['content_vector'] = df['content_vector'].apply(lambda x: x.tolist())\n",
    "df['id'] = df['chunk_id']\n",
    "\n",
    "CONTAINER_ID = df['preprocessing_pipeline'][0]"
   ]
  },
  {
   "cell_type": "markdown",
   "metadata": {},
   "source": [
    "#### Save CSV files as tables"
   ]
  },
  {
   "cell_type": "markdown",
   "metadata": {},
   "source": [
    "#### Create other SQL Tables"
   ]
  },
  {
   "cell_type": "code",
   "execution_count": 61,
   "metadata": {},
   "outputs": [],
   "source": [
    "cursor.execute(\"\"\"\n",
    "CREATE TABLE Customers (\n",
    "  cust_id INTEGER,\n",
    "  cust_name VARCHAR(1000),\n",
    "  cust_email VARCHAR(1000),\n",
    "  cust_phone VARCHAR(1000),\n",
    "  cust_address VARCHAR(1000),\n",
    "  PRIMARY KEY (cust_id)\n",
    ");\n",
    "\n",
    "CREATE TABLE Products (\n",
    "  prod_id INTEGER,\n",
    "  prod_name VARCHAR(1000),\n",
    "  price FLOAT,\n",
    "  category VARCHAR(1000),\n",
    "  PRIMARY KEY (prod_id)\n",
    ");\n",
    "\n",
    "CREATE TABLE Merchants (\n",
    "  merchant_id INTEGER,\n",
    "  merchant_name VARCHAR(1000),\n",
    "  merchant_region VARCHAR(1000),\n",
    "  merchant_address VARCHAR(1000),\n",
    "  PRIMARY KEY (merchant_id)\n",
    ");\n",
    "\n",
    "CREATE TABLE Stock (\n",
    "  prod_id INTEGER,\n",
    "  merchant_id INTEGER,\n",
    "  stock INTEGER,\n",
    "  PRIMARY KEY (prod_id, merchant_id),\n",
    "  FOREIGN KEY (merchant_id) REFERENCES Merchants(merchant_id),\n",
    "  FOREIGN KEY (prod_id) REFERENCES Products(prod_id)\n",
    ");\n",
    "\n",
    "CREATE TABLE Sales (\n",
    "    sale_id INTEGER,\n",
    "    cust_id INTEGER,\n",
    "    merchant_id INTEGER,\n",
    "    date DATETIME,\n",
    "    total_price FLOAT,\n",
    "    PRIMARY KEY (sale_id),\n",
    "    FOREIGN KEY (cust_id) REFERENCES Customers(cust_id),\n",
    "    FOREIGN KEY (merchant_id) REFERENCES Merchants(merchant_id)\n",
    ");\n",
    "\n",
    "CREATE TABLE Sales_Detail (\n",
    "  sales_id INTEGER,\n",
    "  prod_id INTEGER,\n",
    "  quantity INTEGER,\n",
    "  PRIMARY KEY (sales_id, prod_id),\n",
    "  FOREIGN KEY (sales_id) REFERENCES Sales(sale_id),\n",
    "  FOREIGN KEY (prod_id) REFERENCES Products(prod_id)\n",
    ");\n",
    "\"\"\")\n",
    "\n",
    "cursor.commit()"
   ]
  },
  {
   "cell_type": "markdown",
   "metadata": {},
   "source": [
    "#### Inserting Tables"
   ]
  },
  {
   "cell_type": "code",
   "execution_count": null,
   "metadata": {},
   "outputs": [],
   "source": [
    "def CSVToSQL(table_name,file_location):\n",
    "    # Read the CSV file\n",
    "    df = pd.read_csv(file_location)\n",
    "    for index, row in df.iterrows():\n",
    "        insert_query = f\"\"\"\n",
    "        INSERT INTO {table_name} ({', '.join(df.columns)})\n",
    "        VALUES ({', '.join(['?' for _ in df.columns])})\n",
    "        \"\"\"\n",
    "        cursor.execute(insert_query, tuple(row))\n",
    "    conn.commit()"
   ]
  },
  {
   "cell_type": "code",
   "execution_count": 62,
   "metadata": {},
   "outputs": [],
   "source": [
    "relative_path = \"../../../../data/processed/structured/\"\n",
    "files = os.listdir(relative_path)\n",
    "\n",
    "CSVToSQL(\"Customers\",relative_path+'/customers.csv')\n",
    "CSVToSQL(\"Products\",relative_path+'/products.csv')\n",
    "CSVToSQL(\"Merchants\",relative_path+'/merchants.csv')\n",
    "CSVToSQL(\"Stock\",relative_path+'/stock.csv')\n",
    "CSVToSQL(\"Sales\",relative_path+'/sales.csv')\n",
    "CSVToSQL(\"Sales_Detail\",relative_path+'/sales_detail.csv')\n",
    "\n",
    "cursor.commit()"
   ]
  },
  {
   "cell_type": "markdown",
   "metadata": {},
   "source": [
    "### Generating description this data"
   ]
  },
  {
   "cell_type": "code",
   "execution_count": 90,
   "metadata": {},
   "outputs": [],
   "source": [
    "string_to_description = \"\"\n",
    "for file in files:\n",
    "    table_name = file.replace(\".csv\",\"\")\n",
    "    values = str(pd.read_csv(relative_path+file).head().to_dict(orient='records'))\n",
    "    sample_string = \"Table name: \" + table_name + \" \\n\" + \"Values: \" + values+ \" \\n\"\n",
    "    string_to_description += sample_string"
   ]
  },
  {
   "cell_type": "code",
   "execution_count": 91,
   "metadata": {},
   "outputs": [
    {
     "name": "stdout",
     "output_type": "stream",
     "text": [
      "Table name: customers \n",
      "Values: [{'cust_id': 1, 'cust_name': 'John Doe', 'cust_email': 'john.doe@example.com', 'cust_phone': '555-123-4567', 'cust_address': '123 Main St, City A'}, {'cust_id': 2, 'cust_name': 'Jane Smith', 'cust_email': 'jane.smith@example.com', 'cust_phone': '555-987-6543', 'cust_address': '456 High St, City B'}, {'cust_id': 3, 'cust_name': 'Michael Johnson', 'cust_email': 'michael.johnson@example.com', 'cust_phone': '555-456-7890', 'cust_address': '789 First St, City C'}, {'cust_id': 4, 'cust_name': 'Sara Williams', 'cust_email': 'sara.williams@example.com', 'cust_phone': '555-321-6549', 'cust_address': '147 Second St, City D'}, {'cust_id': 5, 'cust_name': 'Kevin Brown', 'cust_email': 'kevin.brown@example.com', 'cust_phone': '555-987-3214', 'cust_address': '258 Third St, City E'}] \n",
      "Table name: merchants \n",
      "Values: [{'merchant_id': 1, 'merchant_name': 'ElectroMegaMart', 'merchant_region': 'North America', 'merchant_address': '123 Tech Plaza, New York, NY 10001'}, {'merchant_id': 2, 'merchant_name': 'GadgetWorld', 'merchant_region': 'Europe', 'merchant_address': '35 Innovation Way, London, UK SE1 0AA'}, {'merchant_id': 3, 'merchant_name': 'TechParadise', 'merchant_region': 'Asia', 'merchant_address': '789 Circuit Rd, Tokyo, Japan 100-0005'}, {'merchant_id': 4, 'merchant_name': 'DigitalDepot', 'merchant_region': 'South America', 'merchant_address': 'Av. de los Inventos 456, Buenos Aires, Argentina 1000'}, {'merchant_id': 5, 'merchant_name': 'ElectronixHaven', 'merchant_region': 'North America', 'merchant_address': '600 Silicon St, San Francisco, CA 94103'}] \n",
      "Table name: products \n",
      "Values: [{'prod_id': 1, 'prod_name': 'Surface Pro 9', 'price': 999.99, 'category': 'Tablet'}, {'prod_id': 2, 'prod_name': 'Surface Laptop 5', 'price': 899.99, 'category': 'Laptop'}, {'prod_id': 3, 'prod_name': 'Surface Slim Pen 2', 'price': 94.99, 'category': 'Accessory'}, {'prod_id': 4, 'prod_name': 'Surface Laptop SE', 'price': 299.99, 'category': 'Laptop'}, {'prod_id': 5, 'prod_name': 'Surface Laptop Go 2', 'price': 599.99, 'category': 'Laptop'}] \n",
      "Table name: sales \n",
      "Values: [{'sale_id': 1, 'cust_id': 8, 'merchant_id': 9, 'date': '2023-01-01', 'total_price': 75}, {'sale_id': 2, 'cust_id': 7, 'merchant_id': 3, 'date': '2023-01-02', 'total_price': 34}, {'sale_id': 3, 'cust_id': 8, 'merchant_id': 8, 'date': '2023-01-03', 'total_price': 33}, {'sale_id': 4, 'cust_id': 1, 'merchant_id': 7, 'date': '2023-01-04', 'total_price': 60}, {'sale_id': 5, 'cust_id': 7, 'merchant_id': 2, 'date': '2023-01-05', 'total_price': 93}] \n",
      "Table name: sales_detail \n",
      "Values: [{'sales_id': 1, 'prod_id': 1, 'quantity': 97}, {'sales_id': 1, 'prod_id': 2, 'quantity': 413}, {'sales_id': 1, 'prod_id': 3, 'quantity': 303}, {'sales_id': 1, 'prod_id': 4, 'quantity': 478}, {'sales_id': 1, 'prod_id': 5, 'quantity': 22}] \n",
      "Table name: stock \n",
      "Values: [{'prod_id': 1, 'merchant_id': 1, 'stock': 403}, {'prod_id': 1, 'merchant_id': 2, 'stock': 274}, {'prod_id': 1, 'merchant_id': 3, 'stock': 174}, {'prod_id': 1, 'merchant_id': 4, 'stock': 212}, {'prod_id': 1, 'merchant_id': 5, 'stock': 192}] \n",
      "\n"
     ]
    }
   ],
   "source": [
    "print(string_to_description)"
   ]
  },
  {
   "cell_type": "code",
   "execution_count": 156,
   "metadata": {},
   "outputs": [],
   "source": [
    "def GetToolDescription(string_to_description):\n",
    "    messages = [{\"role\":\"system\",\"content\":\"You are an agent that takes information about tables, including table names and sample values, with the objective of generating a description that will be used to select an OpenAI tool that will help users to interact with the mentioned tables. Please provide examples of each field\"},\n",
    "            {\"role\":\"user\", \"content\":\"Information about tables \"+ string_to_description}]\n",
    "\n",
    "    response = aoai_client.chat.completions.create(model=\"gpt4o\",  \n",
    "                                    messages = messages, \n",
    "                                    temperature=0.2,  \n",
    "                                    max_tokens=2000,\n",
    "                                    seed = 42)\n",
    "    DBDescription = response.choices[0].message.content\n",
    "    print(DBDescription)\n",
    "\n",
    "    return DBDescription"
   ]
  },
  {
   "cell_type": "code",
   "execution_count": 157,
   "metadata": {},
   "outputs": [
    {
     "name": "stdout",
     "output_type": "stream",
     "text": [
      "The database consists of six tables: **customers**, **merchants**, **products**, **sales**, **sales_detail**, and **stock**. \n",
      "\n",
      "1. **Customers Table**: This table contains customer information such as ID, name, email, phone number, and address. For example, customer ID 1 is John Doe with the email john.doe@example.com and resides at 123 Main St, City A.\n",
      "\n",
      "2. **Merchants Table**: This table holds merchant details including ID, name, region, and address. For instance, merchant ID 1 is ElectroMegaMart located at 123 Tech Plaza, New York, NY 10001.\n",
      "\n",
      "3. **Products Table**: This table lists products with details like product ID, name, price, and category. An example is product ID 1, Surface Pro 9, priced at $999.99 under the Tablet category.\n",
      "\n",
      "4. **Sales Table**: This table records sales transactions with fields for sale ID, customer ID, merchant ID, date, and total price. For example, sale ID 1 involves customer ID 8 and merchant ID 9 on 2023-01-01 with a total price of $75.\n",
      "\n",
      "5. **Sales Detail Table**: This table provides details of each sale, including sales ID, product ID, and quantity sold. For instance, sales ID 1 includes product ID 1 with a quantity of 97.\n",
      "\n",
      "6. **Stock Table**: This table tracks the stock levels of products at different merchants, with fields for product ID, merchant ID, and stock quantity. For example, product ID 1 has a stock of 403 at merchant ID 1.\n",
      "\n",
      "These tables are interconnected, allowing for comprehensive tracking of customer interactions, product availability, and sales performance across different regions and merchants.\n"
     ]
    }
   ],
   "source": [
    "tool_description = GetToolDescription(string_to_description)"
   ]
  },
  {
   "cell_type": "markdown",
   "metadata": {},
   "source": [
    "#### Saving description to file"
   ]
  },
  {
   "cell_type": "code",
   "execution_count": 147,
   "metadata": {},
   "outputs": [],
   "source": [
    "with open(\"../../../../data/processed/tool_description/GetSQLDBAnswerDescription.txt\", \"w\") as file:\n",
    "    # Write the string to the file\n",
    "    file.write(tool_description)"
   ]
  },
  {
   "cell_type": "code",
   "execution_count": 148,
   "metadata": {},
   "outputs": [
    {
     "data": {
      "text/plain": [
       "[('Surface Slim Pen 2', 'Accessory', 94.99),\n",
       " ('Surface Pen', 'Accessory', 99.99),\n",
       " ('Surface Dock', 'Accessory', 199.99)]"
      ]
     },
     "execution_count": 148,
     "metadata": {},
     "output_type": "execute_result"
    }
   ],
   "source": [
    "result = cursor.execute(\"SELECT prod_name, category, price FROM Products WHERE prod_name like '%Surface%' and category like '%accessory%';\")\n",
    "[row for row in result.fetchall()]"
   ]
  },
  {
   "cell_type": "code",
   "execution_count": 149,
   "metadata": {},
   "outputs": [
    {
     "data": {
      "text/plain": [
       "[(2527,)]"
      ]
     },
     "execution_count": 149,
     "metadata": {},
     "output_type": "execute_result"
    }
   ],
   "source": [
    "result = cursor.execute(\"SELECT SUM(stock) AS total_stock FROM Stock WHERE prod_id IN (SELECT prod_id FROM Products WHERE prod_name LIKE '%Surface Laptop 5%');\")\n",
    "[row for row in result.fetchall()]"
   ]
  },
  {
   "cell_type": "code",
   "execution_count": null,
   "metadata": {},
   "outputs": [],
   "source": []
  }
 ],
 "metadata": {
  "kernelspec": {
   "display_name": "secdemo",
   "language": "python",
   "name": "python3"
  },
  "language_info": {
   "codemirror_mode": {
    "name": "ipython",
    "version": 3
   },
   "file_extension": ".py",
   "mimetype": "text/x-python",
   "name": "python",
   "nbconvert_exporter": "python",
   "pygments_lexer": "ipython3",
   "version": "3.12.2"
  }
 },
 "nbformat": 4,
 "nbformat_minor": 2
}
