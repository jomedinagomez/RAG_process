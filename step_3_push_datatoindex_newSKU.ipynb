{
 "cells": [
  {
   "cell_type": "markdown",
   "id": "d3cc668e-bdc3-4569-89ee-7e23d9c3f64d",
   "metadata": {},
   "source": [
    "### Import required libraries and environment variables"
   ]
  },
  {
   "cell_type": "code",
   "execution_count": 1,
   "id": "0b2c66e1-c536-40e0-bf37-e2df913ed884",
   "metadata": {
    "tags": []
   },
   "outputs": [
    {
     "name": "stderr",
     "output_type": "stream",
     "text": [
      "c:\\Users\\jomedin\\AppData\\Local\\anaconda3\\Lib\\site-packages\\pandas\\core\\arrays\\masked.py:60: UserWarning: Pandas requires version '1.3.6' or newer of 'bottleneck' (version '1.3.5' currently installed).\n",
      "  from pandas.core import (\n"
     ]
    }
   ],
   "source": [
    "# Import required libraries  \n",
    "import os  \n",
    "import json  \n",
    "import openai  \n",
    "import pandas as pd\n",
    "from dotenv import load_dotenv  \n",
    "from tenacity import retry, wait_random_exponential, stop_after_attempt  \n",
    "from azure.core.credentials import AzureKeyCredential  \n",
    "from azure.search.documents import SearchClient  \n",
    "from azure.search.documents.indexes import SearchIndexClient  \n",
    "from azure.search.documents.models import Vector  \n",
    "from azure.search.documents.indexes.models import (  \n",
    "    SearchIndex,  \n",
    "    SearchField,  \n",
    "    SearchFieldDataType,  \n",
    "    SimpleField,  \n",
    "    SearchableField,  \n",
    "    SearchIndex,  \n",
    "    SemanticConfiguration,  \n",
    "    PrioritizedFields,  \n",
    "    SemanticField,  \n",
    "    SearchField,  \n",
    "    SemanticSettings,  \n",
    "    VectorSearch,  \n",
    "    HnswVectorSearchAlgorithmConfiguration,  \n",
    ")  \n",
    "\n",
    "@retry(wait=wait_random_exponential(min=1, max=20), stop=stop_after_attempt(6))\n",
    "# Function to generate embeddings for title and content fields, also used for query embeddings\n",
    "def generate_embeddings(text):\n",
    "    response = openai.Embedding.create(\n",
    "        input=text, engine=\"text-embedding-ada-002\")\n",
    "    embeddings = response['data'][0]['embedding']\n",
    "    return embeddings\n",
    "  \n",
    "# Configure environment variables  \n",
    "# Configure environment variables  \n",
    "load_dotenv()  \n",
    "service_endpoint = os.getenv(\"AZURE_SEARCH_SERVICE_ENDPOINT_2\") \n",
    "index_name = os.getenv(\"AZURE_SEARCH_INDEX_NAME_2\") \n",
    "key = os.getenv(\"AZURE_SEARCH_ADMIN_KEY_2\") \n",
    "openai.api_type = \"azure\"  \n",
    "openai.api_key = os.getenv(\"AZURE_OPENAI_API_KEY\")  \n",
    "openai.api_base = os.getenv(\"AZURE_OPENAI_ENDPOINT\")  \n",
    "openai.api_version = os.getenv(\"AZURE_OPENAI_API_VERSION\") \n",
    "credential = AzureKeyCredential(key)"
   ]
  },
  {
   "cell_type": "markdown",
   "id": "bdb1604c-b1e1-44c9-b445-417c1586d419",
   "metadata": {},
   "source": [
    "### Modifying vector"
   ]
  },
  {
   "cell_type": "code",
   "execution_count": 2,
   "id": "33d96bff-36b5-4d49-851f-c1abd407c45e",
   "metadata": {
    "tags": []
   },
   "outputs": [],
   "source": [
    "# Generate Document Embeddings using OpenAI Ada 002\n",
    "\n",
    "# Read the text-sample.json\n",
    "with open('output/enrichedVectors.json', 'r', encoding='utf-8') as file:\n",
    "    input_data = json.load(file)"
   ]
  },
  {
   "cell_type": "code",
   "execution_count": 3,
   "id": "0409ffe1-1427-49d5-8527-ac2269b8620c",
   "metadata": {
    "tags": []
   },
   "outputs": [],
   "source": [
    "# Generate embeddings for title and content fields\n",
    "for item in input_data:\n",
    "    item['@search.action'] = 'upload'\n",
    "\n",
    "# Output embeddings to docVectors.json file\n",
    "with open(\"output/docVectors.json\", \"w\") as f:\n",
    "    json.dump(input_data, f)"
   ]
  },
  {
   "cell_type": "markdown",
   "id": "8b4ddeed-cf73-427c-b625-b18ff99eb0af",
   "metadata": {},
   "source": [
    "## Insert text and embeddings into vector store\n",
    "Add texts and metadata from the JSON data to the vector store:"
   ]
  },
  {
   "cell_type": "code",
   "execution_count": 4,
   "id": "12a539a1-bea8-43a1-b7c6-d12b84bbad5d",
   "metadata": {
    "tags": []
   },
   "outputs": [
    {
     "name": "stdout",
     "output_type": "stream",
     "text": [
      "-----------------------------------------------\n",
      "This text is the Table of Contents of a Form 10-K filing submitted to the SEC by Amazon.com, Inc. The filing includes information about the company's business, risk factors, financial statements, and other relevant details.\n",
      "-----------------------------------------------\n",
      "The company is guided by four principles: customer obsession, passion for invention, commitment to operational excellence, and long-term thinking. They serve various customer sets including consumers, sellers, developers, enterprises, content creators, advertisers, and employees. The company operates in three segments: North America, International, and Amazon Web Services (AWS). They serve consumers through online and physical stores, offering a wide selection, competitive prices, and convenience. They also manufacture and sell electronic devices and develop media content. They offer programs for sellers to grow their businesses and fulfill orders through the company. They serve developers and enterprises through AWS, providing a range of technology services. They offer programs for content creators to publish and sell content. They provide advertising services to various parties. The company faces intense competition from various industry sectors globally. They consider selection, price, convenience, and fulfillment as competitive factors. They rely on intellectual property protection for their success. The company experiences seasonality, with higher sales volume in the fourth quarter. They have a large workforce and face competition for qualified personnel. They focus on investment, innovation, inclusion, diversity, safety, and engagement to attract and develop talent.\n"
     ]
    }
   ],
   "source": [
    "for i in input_data[:2]:\n",
    "    print(\"-----------------------------------------------\")\n",
    "    print(i['description'])"
   ]
  },
  {
   "cell_type": "code",
   "execution_count": 5,
   "id": "9843795d-6be3-4cfe-ac2a-a1a44591e215",
   "metadata": {
    "tags": []
   },
   "outputs": [
    {
     "name": "stdout",
     "output_type": "stream",
     "text": [
      "Uploaded 1009 documents\n",
      "Uploaded 1009 documents\n"
     ]
    }
   ],
   "source": [
    "# Upload some documents to the index\n",
    "with open('output/docVectors.json', 'r') as file:  \n",
    "    documents = json.load(file)  \n",
    "\n",
    "search_client = SearchClient(endpoint=service_endpoint, index_name=index_name, credential=credential)\n",
    "\n",
    "\n",
    "result = search_client.upload_documents(documents[:500])\n",
    "print(f\"Uploaded {len(documents)} documents\")\n",
    "\n",
    "result = search_client.upload_documents(documents[500:])\n",
    "print(f\"Uploaded {len(documents)} documents\")"
   ]
  },
  {
   "cell_type": "markdown",
   "id": "715ceeb9-c177-450a-9d1c-32914d0cef25",
   "metadata": {
    "tags": []
   },
   "source": [
    "## Perform a Semantic Hybrid Search for short context"
   ]
  },
  {
   "cell_type": "markdown",
   "metadata": {},
   "source": [
    "### Getting Top N Documents"
   ]
  },
  {
   "cell_type": "code",
   "execution_count": 14,
   "metadata": {},
   "outputs": [],
   "source": [
    "# Semantic Hybrid Search\n",
    "query =\"What was Microsoft’s revenue for the nine months that ended on March 31 2023?\"\n",
    "\n",
    "vector = Vector(value=generate_embeddings(query), k=50, fields=\"embedding\")\n",
    "\n",
    "results = search_client.search(  \n",
    "    search_text=query,  \n",
    "    vectors=[vector],\n",
    "    select=[\"content\",\"id\",\"sourcefile\"],\n",
    "    query_type=\"semantic\", query_language=\"en-us\", semantic_configuration_name='boosted-semantic-config', query_caption=\"extractive\", query_answer=\"extractive\",\n",
    "    top=7\n",
    ")"
   ]
  },
  {
   "cell_type": "code",
   "execution_count": 15,
   "id": "f52f63d9",
   "metadata": {},
   "outputs": [
    {
     "data": {
      "text/plain": [
       "[{'sourcefile': '10Q-MSFT-04-25-2023.pdf',\n",
       "  'id': 'file-10Q-MSFT-04-25-2023_pdf-3130512D4D5346542D30342D32352D323032332E706466-page-1',\n",
       "  'content': \"18,299</td><td>$ 16,728</td><td>$ 52,280</td><td>$ 55,998</td></tr><tr><td>Other comprehensive income (loss), net of tax:</td><td></td><td></td><td></td><td></td></tr><tr><td>Net change related to derivatives</td><td>(9)</td><td>6</td><td>(34)</td><td>8</td></tr><tr><td>Net change related to investments</td><td>753</td><td>(2,882)</td><td>(796)</td><td>(4,047)</td></tr><tr><td>Translation adjustments and other</td><td>69</td><td>(37)</td><td>(136)</td><td>(259)</td></tr><tr><td>Other comprehensive income (loss)</td><td>813</td><td>(2,913)</td><td>(966)</td><td>(4,298)</td></tr><tr><td>Comprehensive income</td><td>$ 19,112</td><td>$ 13,815</td><td>$ 51,314</td><td>$ 51,700</td></tr></table>\\nRefer to accompanying notes.\\n4 \\n(In millions) (Unaudited)\\nPART ! Item 1\\nBALANCE SHEETS\\n<table><tr><th></th><th>March 31, 2023</th><th>June 30, 2022</th></tr><tr><td>Assets</td><td></td><td></td></tr><tr><td>Current assets:</td><td></td><td></td></tr><tr><td>Cash and cash equivalents</td><td>$ 26,562</td><td>$ 13,931</td></tr><tr><td>Short-term investments</td><td>77,865</td><td>90,826</td></tr><tr><td>Total cash, cash equivalents, and short-term investments</td><td>104,427</td><td>104,757</td></tr><tr><td>Accounts receivable, net of allowance for doubtful accounts of $495 and $633</td><td>37,420</td><td>44,261</td></tr><tr><td>Inventories</td><td>2,877</td><td>3,742</td></tr><tr><td>Other current assets</td><td>19,165</td><td>16,924</td></tr><tr><td>Total current assets</td><td>163,889</td><td>169,684</td></tr><tr><td>Property and equipment, net of accumulated depreciation of $65,998 and $59,660</td><td>88,132</td><td>74,398</td></tr><tr><td>Operating lease right-of-use assets</td><td>13,879</td><td>13,148</td></tr><tr><td>Equity investments</td><td>9,415</td><td>6,891</td></tr><tr><td>Goodwill</td><td>67,940</td><td>67,524</td></tr><tr><td>Intangible assets, net</td><td>9,879</td><td>11,298</td></tr><tr><td>Other long-term assets</td><td>26,954</td><td>21,897</td></tr><tr><td>Total assets</td><td>$ 380,088</td><td>$ 364,840</td></tr><tr><td>Liabilities and stockholders&#x27; equity</td><td></td><td></td></tr><tr><td>Current liabilities:</td><td></td><td></td></tr><tr><td>Accounts payable</td><td>$ 15,305</td><td>$ 19,000</td></tr><tr><td>Current portion of long-term debt</td><td>6,245</td><td>2,749</td></tr><tr><td>Accrued compensation</td><td>10,411</td><td>10,661</td></tr><tr><td>Short-term income taxes</td><td>4,163</td><td>4,067</td></tr><tr><td>Short-term unearned revenue</td><td>36,903</td><td>45,538</td></tr><tr><td>Other current liabilities</td><td>12,664</td><td>13,067</td></tr><tr><td>Total current liabilities</td><td>85,691</td><td>95,082</td></tr><tr><td>Long-term debt</td><td>41,965</td><td>47,032</td></tr><tr><td>Long-term income taxes</td><td>25,000</td><td>26,069</td></tr><tr><td>Long-term unearned revenue</td><td>2,698</td><td>2,870</td></tr><tr><td>Deferred income taxes</td><td>302</td><td>230</td></tr><tr><td>Operating lease liabilities</td><td>12,312</td><td>11,489</td></tr><tr><td>Other long-term liabilities</td><td>17,437</td><td>15,526</td></tr><tr><td>Total liabilities</td><td>185,405</td><td>198,298</td></tr><tr><td>Commitments and contingencies</td><td></td><td></td></tr><tr><td>Stockholders&#x27; equity:</td><td></td><td></td></tr><tr><td>Common stock and paid-in capital - shares authorized 24,000; outstanding 7,437 and 7,464</td><td>92,093</td><td>86,939</td></tr><tr><td>Retained earnings</td><td>108,234</td><td>84,281</td></tr><tr><td>Accumulated other comprehensive loss</td><td>(5,644)</td><td>(4,678)</td></tr><tr><td>Total stockholders&#x27; equity</td><td>194,683</td><td>166,542</td></tr><tr><td>Total liabilities and stockholders&#x27; equity</td><td>$ 380,088</td><td>$ 364,840</td></tr></table>\\nRefer to accompanying notes.\\n5 \\nPART I Item 1\\nCASH FLOWS STATEMENTS\\n<table><tr><th>(In millions) (Unaudited)</th><th colSpan=4>Three Months Ended Nine Months Ended March 31, March 31,</th></tr><tr><th></th><th>2023</th><th>2022</th><th>2023</th><th>2022</th></tr><tr><td>Operations</td><td></td><td></td><td></td><td></td></tr><tr><td>Net income</td><td>$ 18,299</td><td>$ 16,728</td><td>$ 52,280</td><td>$ 55,998</td></tr><tr><td>Adjustments to reconcile net income to net cash from operations:</td><td></td><td></td><td></td><td></td></tr><tr><td>Depreciation, amortization, and other</td><td>3,549</td><td>3,773</td><td>9,987</td><td>10,481</td></tr><tr><td>Stock-based compensation expense</td><td>2,465</td><td>1,906</td><td>7,195</td><td>5,505</td></tr><tr><td>Net recognized losses (gains) on investments and derivatives</td><td>(40)</td><td>105</td><td>152</td><td>(566)</td></tr><tr><td>Deferred income taxes</td><td>(1,675)</td><td>(198)</td><td>(4,171)</td><td>(5,985)</td></tr><tr><td>Changes in operating assets and liabilities:</td><td></td><td></td><td></td><td></td></tr><tr><td>Accounts receivable</td><td>(1,408)</td><td>857</td><td>7,157</td><td>5,800</td></tr><tr><td>Inventories</td><td>106</td><td>(279)</td><td>868</td><td>(662)</td></tr><tr><td>Other current assets</td><td>1,152</td><td>91</td><td>428</td><td>1,861</td></tr><tr><td>Other long-term assets</td><td>(554)</td><td>(724)</td><td>(1,285)</td><td>(2,230)</td></tr><tr><td>Accounts payable</td><td>(407)</td><td>520</td><td>(4,032)</td><td>284</td></tr><tr><td>Unearned revenue</td><td>(181)</td><td>(209)</td><td>(8,689)</td><td>(7,437)</td></tr><tr><td>Income taxes</td><td>1,414</td><td>1,091</td><td>(1,039)</td><td>1,687</td></tr><tr><td>Other current liabilities</td><td>1,715</td><td>1,287</td><td>(490)</td><td>(1,111)</td></tr><tr><td>Other long-term liabilities</td><td>6</td><td>438</td><td>451</td><td>781</td></tr><tr><td>Net cash from operations</td><td>24,441</td><td>25,386</td><td>58,812</td><td>64,406</td></tr><tr><td>Financing</td><td></td><td></td><td></td><td></td></tr><tr><td>Repayments of debt</td><td>0</td><td>(4,197)</td><td>(1,750)</td><td>(9,023)</td></tr><tr><td>Common stock issued</td><td>536</td><td>477</td><td>1,354</td><td>1,380</td></tr><tr><td>Common stock repurchased</td><td>(5,509)</td><td>(8,822)</td><td>(16,541)</td><td>(23,939)</td></tr><tr><td>Common stock cash dividends paid</td><td>(5,059)</td><td>(4,645)</td><td>(14,746)</td><td>(13,503)</td></tr><tr><td>Other, net</td><td>(258)</td><td>(158)</td><td>(839)</td><td>(522)</td></tr><tr><td>Net cash used in financing</td><td>(10,290)</td><td>(17,345)</td><td>(32,522)</td><td>(45,607)</td></tr><tr><td>Investing</td><td></td><td></td><td></td><td></td></tr><tr><td>Additions to property and equipment</td><td>(6,607)</td><td>(5,340)</td><td>(19,164)</td><td>(17,015)</td></tr><tr><td>Acquisition of companies, net of cash acquired, and purchases of intangible and other assets</td><td>(301)</td><td>(18,719)</td><td>(1,329)</td><td>(20,775)</td></tr><tr><td>Purchases of investments</td><td>(9,063)</td><td>(8,723)</td><td>(25,675)</td><td>(21,537)</td></tr><tr><td>Maturities of investments</td><td>13,154</td><td>1,099</td><td>26,744</td><td>15,214</td></tr><tr><td>Sales of investments</td><td>1,239</td><td>16,693</td><td>8,725</td><td>25,218</td></tr><tr><td>Other, net</td><td>(1,686)</td><td>(1,181)</td><td>(2,847)</td><td>(1,687)</td></tr><tr><td>Net cash used in investing</td><td>(3,264)</td><td>(16,171)</td><td>(13,546)</td><td>(20,582)</td></tr><tr><td>Effect of foreign exchange rates on cash and cash equivalents</td><td>29</td><td>24</td><td>(113)</td><td>57</td></tr><tr><td>Net change in cash and cash equivalents</td><td>10,916</td><td>(8,106)</td><td>12,631</td><td>(1,726)</td></tr><tr><td>Cash and cash equivalents, beginning of period</td><td>15,646</td><td>20,604</td><td>13,931</td><td>14,224</td></tr><tr><td>Cash and cash equivalents, end of period</td><td>$ 26,562</td><td>$ 12,498</td><td>$ 26,562</td><td>$ 12,498</td></tr></table>\\nRefer to accompanying notes.\\n6 \\nPART I Item 1\\nSTOCKHOLDERS' EQUITY STATEMENTS\\n<table><tr><th>(In millions, except per share amounts) (Unaudited)</th><th colSpan=2>Three Months Ended March 31,</th><th colSpan=2>Nine Months Ended March 31,</th></tr><tr><th></th><th>2023</th><th>2022</th><th>2023</th><th>2022</th></tr><tr><td>Common stock and paid-in \",\n",
       "  '@search.score': 0.016393441706895828,\n",
       "  '@search.reranker_score': 3.364276885986328,\n",
       "  '@search.highlights': None,\n",
       "  '@search.captions': [<azure.search.documents._generated.models._models_py3.CaptionResult at 0x22c4370ccd0>]},\n",
       " {'sourcefile': '10Q-MSFT-04-25-2023.pdf',\n",
       "  'id': 'file-10Q-MSFT-04-25-2023_pdf-3130512D4D5346542D30342D32352D323032332E706466-page-12',\n",
       "  'content': ' Each allocation is measured differently based on the specific facts and circumstances of the costs being allocated and is generally based on relative gross margin or relative headcount.\\nSegment revenue and operating income were as follows during the periods presented:\\n<table><tr><th>(In millions)</th><th colSpan=2>Three Months Ended March 31,</th><th colSpan=2>Nine Months Ended March 31,</th></tr><tr><th></th><th>2023</th><th>2022</th><th>2023</th><th>2022</th></tr><tr><td>Revenue</td><td></td><td></td><td></td><td></td></tr><tr><td>Productivity and Business Processes</td><td>$ 17,516</td><td>$ 15,789</td><td>$ 50,983</td><td>$ 46,764</td></tr><tr><td>Intelligent Cloud</td><td>22,081</td><td>18,987</td><td>63,914</td><td>54,161</td></tr><tr><td>More Personal Computing</td><td>13,260</td><td>14,584</td><td>40,829</td><td>45,480</td></tr><tr><td>Total</td><td>$ 52,857</td><td>$ 49,360</td><td>$ 155,726</td><td>$ 146,405</td></tr><tr><td>Operating Income</td><td></td><td></td><td></td><td></td></tr><tr><td>Productivity and Business Processes</td><td>$ 8,639</td><td>$ 7,185</td><td>$ 25,137</td><td>$ 22,454</td></tr><tr><td>Intelligent Cloud</td><td>9,476</td><td>8,391</td><td>27,358</td><td>24,395</td></tr><tr><td>More Personal Computing</td><td>4,237</td><td>4,788</td><td>11,774</td><td>16,000</td></tr><tr><td>Total</td><td>$ 22,352</td><td>$ 20,364</td><td>$ 64,269</td><td>$ 62,849</td></tr></table>\\nNo sales to an individual customer or country other than the United States accounted for more than 10% of revenue for the three or nine months ended March 31, 2023 or 2022. Revenue, classified by the major geographic areas in which our customers were located, was as follows:\\n<table><tr><th>(In millions)</th><th colSpan=2>Three Months Ended March 31,</th><th colSpan=2>Nine Months Ended March 31,</th></tr><tr><th></th><th>2023</th><th>2022</th><th>2023</th><th>2022</th></tr><tr><td>United States (a)</td><td>$ 26,007</td><td>$ 24,771</td><td>$ 78,850</td><td>$ 74,064</td></tr><tr><td>Other countries</td><td>26,850</td><td>24,589</td><td>76,876</td><td>72,341</td></tr><tr><td>Total</td><td>$ 52,857</td><td>$ 49,360</td><td>$ 155,726</td><td>$ 146,405</td></tr></table>\\n(a) Includes billings to OEMs and certain multinational organizations because of the nature of these businesses and the impracticability of determining the geographic source of the revenue.\\n29 \\nPART I Item 1\\nRevenue, classified by significant product and service offerings, was as follows:\\n<table><tr><th>(In millions)</th><th colSpan=4>Three Months Ended Nine Months Ended March 31, March 31,</th></tr><tr><th></th><th>2023</th><th>2022</th><th>2023</th><th>2022</th></tr><tr><td>Server products and cloud services</td><td>$ 20,025</td><td>$ 17,046</td><td>$ 58,007</td><td>$ 48,498</td></tr><tr><td>Office products and cloud services</td><td>12,438</td><td>11,164</td><td>35,823</td><td>33,223</td></tr><tr><td>Windows</td><td>5,328</td><td>6,069</td><td>15,449</td><td>18,337</td></tr><tr><td>Gaming</td><td>3,607</td><td>3,740</td><td>11,975</td><td>12,775</td></tr><tr><td>LinkedIn</td><td>3,697</td><td>3,437</td><td>11,236</td><td>10,104</td></tr><tr><td>Search and news advertising</td><td>3,045</td><td>2,945</td><td>9,196</td><td>8,665</td></tr><tr><td>Enterprise Services</td><td>2,007</td><td>1,891</td><td>5,745</td><td>5,505</td></tr><tr><td>Devices</td><td>1,282</td><td>1,835</td><td>4,160</td><td>5,606</td></tr><tr><td>Other</td><td>1,428</td><td>1,233</td><td>4,135</td><td>3,692</td></tr><tr><td>Total</td><td>$ 52,857</td><td>$ 49,360</td><td>€A 155,726</td><td>$ 146,405</td></tr></table>\\nOur Microsoft Cloud revenue, which includes Azure and other cloud services, Office 365 Commercial, the commercial portion of LinkedIn, Dynamics 365, and other commercial cloud properties, was $28.5 billion and $81.3 billion for the three and nine months ended March 31, 2023, respectively, and $23.4 billion and $66.3 billion for the three and nine months ended March 31, 2022, respectively. These amounts are primarily included in Server products and cloud services, Office products and cloud services, and LinkedIn in the table above.\\nAssets are not allocated to segments for internal reporting presentations. A portion of amortization and depreciation is included with various other costs in an overhead allocation to each segment. It is impracticable for us to separately identify the amount of amortization and depreciation by segment that is included in the measure of segment profit or loss.\\n30 \\nPART ! Item 1\\nREPORT OF INDEPENDENT REGISTERED PUBLIC ACCOUNTING FIRM To the Stockholders and the Board of Directors of Microsoft Corporation\\nResults of Review of Interim Financial Information\\nWe have reviewed the accompanying consolidated balance sheet of Microsoft Corporation and subsidiaries (the \"Company\") as of March 31, 2023, the related consolidated statements of income, comprehensive income, cash flows, and stockholders\\' equity for the three-month and nine-month periods ended March 31, 2023 and 2022, and the related notes (collectively referred to as the \"interim financial information\"). Based on our reviews, we are not aware of any material modifications that should be made to the accompanying interim financial information for it to be in conformity with accounting principles generally accepted in the United States of America.\\nWe have previously audited, in accordance with the standards of the Public Company Accounting Oversight Board (United States) (PCAOB), the consolidated balance sheet of the Company as of June 30, 2022, and the related consolidated statements of income, comprehensive income, cash flows, and stockholders\\' equity for the year then ended (not presented herein); and in our report dated July 28, 2022, we expressed an unqualified opinion on those consolidated financial statements. In our opinion, the information set forth in the accompanying consolidated balance sheet as of June 30, 2022, is fairly stated, in all material respects, in relation to the consolidated balance sheet from which it has been derived.\\nBasis for Review Results\\nThis interim financial information is the responsibility of the Company\\'s management. We are a public accounting firm registered with the PCAOB and are required to be independent with respect to the Company in accordance with the U.S. federal securities laws and the applicable rules and regulations of the Securities and Exchange Commission and the PCAOB.\\nWe conducted our reviews in accordance with standards of the PCAOB. A review of interim financial information consists principally of applying analytical procedures and making inquiries of persons responsible for financial and accounting matters. It is substantially less in scope than an audit conducted in accordance with the standards of the PCAOB, the objective of which is the expression of an opinion regarding the financial statements taken as a whole. Accordingly, we do not express such an opinion.\\n/s/ DELOITTE & TOUCHE LLP\\nSeattle, Washington April 25, 2023\\n31 \\nPART I Item 2\\nITEM 2. MANAGEMENT\\'S DISCUSSION AND ANALYSIS OF FINANCIAL CONDITION AND RESULTS OF OPERATIONS\\nNote About Forward-Looking Statements\\nThis report includes estimates, projections, statements relating to our business plans, objectives, and expected operating results that are \"forward-looking statements\" within the meaning of the Private Securities Litigation Reform Act of 1995, Section 27A of the Securities Act of 1933, and Section 21E of the Securities Exchange Act of 1934. Forward-looking statements may appear throughout this report, including the following sections: \"Management\\'s Discussion and Analysis of Financial Condition and Results of Operations\" and \"Risk Factors\" (Part II, Item 1A of this Form 10-Q). These forward-looking statements generally are identified by the words \"believe,\" \"project,\" \"expect,\" \"anticipate,\" \"estimate,\" \"intend,\" \"strategy,\" \"future,\" \"opportunity,\" \"plan,\" \"may,\" \"should,\" \"will,\" \"would,\" \"will be,\" \"will continue,\" \"will likely result,\" and similar expressions.',\n",
       "  '@search.score': 0.024001073092222214,\n",
       "  '@search.reranker_score': 3.291513442993164,\n",
       "  '@search.highlights': None,\n",
       "  '@search.captions': [<azure.search.documents._generated.models._models_py3.CaptionResult at 0x22c4370e090>]},\n",
       " {'sourcefile': '10Q-MSFT-04-25-2023.pdf',\n",
       "  'id': 'file-10Q-MSFT-04-25-2023_pdf-3130512D4D5346542D30342D32352D323032332E706466-page-15',\n",
       "  'content': 'Server, Windows Server, Visual Studio, System Center, and related Client Access Licenses (\"CALs\"); and Nuance and GitHub\\nMore Personal Computing\\nMetrics related to our More Personal Computing segment assess the performance of key lines of business within this segment. These metrics provide strategic product insights which allow us to assess the performance across our commercial and consumer businesses. As we have diversity of target audiences and sales motions within the Windows business, we monitor metrics that are reflective of those varying motions.\\n<table><tr><td>Windows OEM revenue growth</td><td>Revenue from sales of Windows Pro and non-Pro licenses sold through the OEM channel</td></tr><tr><td>Windows Commercial products and cloud services revenue growth</td><td>Revenue from Windows Commercial products and cloud services, comprising volume licensing of the Windows operating system, Windows cloud services, and other Windows commercial offerings</td></tr><tr><td>Devices revenue growth</td><td>Revenue from Devices, including Surface, HoloLens, and PC accessories</td></tr><tr><td>Xbox content and services revenue growth</td><td>Revenue from Xbox content and services, comprising first- and third-party content (including games and in-game content), Xbox Game Pass and other subscriptions, Xbox Cloud Gaming, third-party disc royalties, advertising, and other cloud services</td></tr><tr><td>Search and news advertising revenue (ex TAC) growth</td><td>Revenue from search and news advertising excluding traffic acquisition costs (&quot;TAC&quot;) paid to Bing Ads network publishers and news partners</td></tr></table>\\n35 \\nPART I Item 2\\nSUMMARY RESULTS OF OPERATIONS\\n<table><tr><th>(In millions, except percentages and per share amounts)</th><th colSpan=2>Three Months Ended March 31,</th><th>Percentage Change</th><th colSpan=2>Nine Months Ended March 31,</th><th>Percentage Change</th></tr><tr><th></th><th>2023</th><th>2022</th><th></th><th>2023</th><th>2022</th><th></th></tr><tr><td>Revenue</td><td>$ 52,857</td><td>$ 49,360</td><td>7%</td><td>155,726\\n$</td><td>$ 146,405</td><td>6%</td></tr><tr><td>Gross margin</td><td>36,729</td><td>33,745</td><td>9%</td><td>106,658</td><td>100,184</td><td>6%</td></tr><tr><td>Operating income</td><td>22,352</td><td>20,364</td><td>10%</td><td>64,269</td><td>62,849</td><td>2%</td></tr><tr><td>Net income</td><td>18,299</td><td>16,728</td><td>9%</td><td>52,280</td><td>55,998</td><td>(7)%</td></tr><tr><td>Diluted earnings per share</td><td>2.45</td><td>2.22</td><td>10%</td><td>6.99</td><td>7.41</td><td>(6)%</td></tr><tr><td>Adjusted gross margin (non-GAAP)</td><td>36,729</td><td>33,745</td><td>9%</td><td>106,810</td><td>100,184</td><td>7%</td></tr><tr><td>Adjusted operating income (non-GAAP)</td><td>22,352</td><td>20,364</td><td>10%</td><td>65,440</td><td>62,849</td><td>4%</td></tr><tr><td>Adjusted net income (non-GAAP)</td><td>18,299</td><td>16,728</td><td>9%</td><td>53,226</td><td>52,707</td><td>1%</td></tr><tr><td>Adjusted diluted earnings per share (non-GAAP)</td><td>2.45</td><td>2.22</td><td>10%</td><td>7.12</td><td>6.98</td><td>2%</td></tr></table>\\n\\n\\n\\nAdjusted gross margin, operating income, net income, and diluted earnings per share (\"EPS\") are non-GAAP financial measures. Current year non-GAAP financial measures exclude the impact of the Q2 charge, which includes employee severance expenses, impairment charges resulting from changes to our hardware portfolio, and costs related to lease consolidation activities. Prior year non-GAAP financial measures exclude the net income tax benefit related to transfer of intangible properties in the first quarter of fiscal year 2022. Refer to Note 11 - Income Taxes of the Notes to Financial Statements (Part I, Item 1 of this Form 10-Q) for further discussion. Refer to the Non-GAAP Financial Measures section below for a reconciliation of our financial results reported in accordance with GAAP to non-GAAP financial results.\\nThree Months Ended March 31, 2023 Compared with Three Months Ended March 31, 2022\\nRevenue increased $3.5 billion or 7% driven by growth in Intelligent Cloud and Productivity and Business Processes, offset in part by a decline in More Personal Computing. Intelligent Cloud revenue increased driven by Azure and other cloud services. Productivity and Business Processes revenue increased driven by Office 365 Commercial. More Personal Computing revenue decreased driven by Windows and Devices.\\nCost of revenue increased $513 million or 3% driven by growth in Microsoft Cloud, offset in part by a reduction in depreciation expense due to the change in accounting estimate for the useful lives of our server and network equipment.\\nGross margin increased $3.0 billion or 9% driven by growth in Intelligent Cloud and Productivity and Business Processes and the change in accounting estimate, offset in part by a decline in More Personal Computing.\\n• Gross margin percentage increased. Excluding the impact of the change in accounting estimate, gross margin percentage decreased slightly driven by reductions in Intelligent Cloud, offset in part by sales mix shift.\\n• Microsoft Cloud gross margin percentage increased 2 points to 72%. Excluding the impact of the change in accounting estimate, Microsoft Cloud gross margin percentage decreased slightly driven by reductions in Azure and other cloud services.\\nOperating expenses increased $996 million or 7% driven by 2 points of growth from the Nuance and Xandr acquisitions and investments in cloud engineering and Linkedin.\\nKey changes in operating expenses were:\\n• Research and development expenses increased $678 million or 11% driven by investments in cloud engineering and Linkedin.\\nSales and marketing expenses increased $155 million or 3% driven by 3 points of growth from the Nuance and Xandr acquisitions and investments in commercial sales, offset in part by declines in Windows and Devices advertising.\\n36 \\nPART I Item 2\\n• General and administrative expenses increased $163 million or 11% driven by acquisition-related expenses and investments in corporate functions. General and administrative included a favorable foreign currency impact of 2%.\\nOperating income increased $2.0 billion or 10% driven by growth in Productivity and Business Processes and Intelligent Cloud and the change in accounting estimate, offset in part by a decline in More Personal Computing.\\nRevenue, gross margin, and operating income included an unfavorable foreign currency impact of 3%, 4%, and 5%, respectively. Cost of revenue and operating expenses both included a favorable foreign currency impact of 2%.\\nNine Months Ended March 31, 2023 Compared with Nine Months Ended March 31, 2022\\nRevenue increased $9.3 billion or 6% driven by growth in Intelligent Cloud and Productivity and Business Processes, offset in part by a decline in More Personal Computing. Intelligent Cloud revenue increased driven by Azure and other cloud services. Productivity and Business Processes revenue increased driven by Office 365 Commercial and LinkedIn. More Personal Computing revenue decreased driven by Windows and Devices.\\nCost of revenue increased $2.8 billion or 6% driven by growth in Microsoft Cloud, offset in part by the change in accounting estimate.\\nGross margin increased $6.5 billion or 6% driven by growth in Intelligent Cloud and Productivity and Business Processes and the change in accounting estimate, offset in part by a decline in More Personal Computing.\\n• Gross margin percentage was relatively unchanged. Excluding the impact of the change in accounting estimate, gross margin percentage decreased 2 points driven by reductions in More Personal Computing and Intelligent Cloud, offset in part by sales mix shift.\\n• Microsoft Cloud gross margin percentage increased 2 points to 72%. Excluding the impact of the change in accounting estimate, Microsoft Cloud gross margin percentage decreased 1 point driven by sales mix shift to Azure and other cloud services and higher energy costs.\\nOperating expenses increased $5.1 billion or 14% driven by investments in cloud engineering, 3 points of growth from the Nuance and Xandr acquisitions, employee severance expenses, Linkedin, and commercial sales.',\n",
       "  '@search.score': 0.028991596773266792,\n",
       "  '@search.reranker_score': 3.307598114013672,\n",
       "  '@search.highlights': None,\n",
       "  '@search.captions': [<azure.search.documents._generated.models._models_py3.CaptionResult at 0x22c4370f4d0>]},\n",
       " {'sourcefile': '10Q-MSFT-04-25-2023.pdf',\n",
       "  'id': 'file-10Q-MSFT-04-25-2023_pdf-3130512D4D5346542D30342D32352D323032332E706466-page-17',\n",
       "  'content': '28% as elevated channel inventory levels continued to drive additional weakness beyond declining PC demand. Windows Commercial products and cloud services revenue increased 14% driven by strong renewal execution and an increase in agreements that carry higher in-period revenue recognition.\\n· Devices revenue decreased $553 million or 30% as elevated channel inventory levels continued to drive additional weakness beyond declining PC demand.\\n. Gaming revenue decreased $133 million or 4% driven by a decline in Xbox hardware. Xbox hardware revenue decreased 30% on a strong prior year comparable, driven by lower volume of consoles sold. Xbox content and services revenue increased 3% driven by growth in Xbox Game Pass.\\n• Search and news advertising revenue increased $100 million or 3%. Search and news advertising revenue excluding traffic acquisition costs increased 10% driven by higher search volume and the Xandr acquisition.\\nOperating income decreased $551 million or 12%.\\n· Gross margin decreased $705 million or 9% driven by a decline in Windows. Gross margin percentage increased slightly.\\n· Operating expenses decreased $154 million or 5% driven by a decline in Devices, offset in part by 3 points of growth from the Xandr acquisition.\\nRevenue, gross margin, and operating income included an unfavorable foreign currency impact of 2%, 4%, and 5%, respectively. Operating expenses included a favorable foreign currency impact of 2%.\\nNine Months Ended March 31, 2023 Compared with Nine Months Ended March 31, 2022\\nProductivity and Business Processes\\nRevenue increased $4.2 billion or 9%.\\n• Office Commercial products and cloud services revenue increased $2.5 billion or 9%. Office 365 Commercial revenue grew 12% with seat growth of 11%, driven by small and medium business and frontline worker offerings, as well as growth in revenue per user. Office Commercial products revenue declined 22% driven by continued customer shift to cloud offerings.\\n. Office Consumer products and cloud services revenue increased $86 million or 2% with continued growth in Microsoft 365 Consumer subscription revenue.\\n· LinkedIn revenue increased $1.1 billion or 11% driven by Talent Solutions.\\n· Dynamics products and cloud services revenue increased 15% driven by Dynamics 365 growth of 23%.\\n39 \\nPART I Item 2\\nOperating income increased $2.7 billion or 12%.\\n• Gross margin increased $4.0 billion or 11% driven by growth in Office 365 Commercial and LinkedIn, as well as the change in accounting estimate. Gross margin percentage increased. Excluding the impact of the change in accounting estimate, gross margin percentage was relatively unchanged driven by sales mix shift to cloud offerings, offset in part by improvements in Office 365 Commercial.\\n• Operating expenses increased $1.3 billion or 9% driven by investments in LinkedIn and cloud engineering, as well as employee severance expenses.\\nRevenue, gross margin, and operating income included an unfavorable foreign currency impact of 5%, 6%, and 9%, respectively. Operating expenses included a favorable foreign currency impact of 3%.\\nIntelligent Cloud\\nRevenue increased $9.8 billion or 18%.\\n. Server products and cloud services revenue increased $9.5 billion or 20% driven by Azure and other cloud services. Azure and other cloud services revenue grew 31% driven by growth in our consumption-based services. Server products revenue decreased 1%.\\n· Enterprise Services revenue increased $240 million or 4% driven by growth in Enterprise Support Services, offset in part by a decline in Microsoft Consulting Services.\\nOperating income increased $3.0 billion or 12%.\\n• Gross margin increased $6.6 billion or 17% driven by growth in Azure and other cloud services and the change in accounting estimate. Gross margin percentage decreased slightly. Excluding the impact of the change in accounting estimate, gross margin percentage decreased 3 points driven by sales mix shift to Azure and other cloud services and higher energy costs.\\n• Operating expenses increased $3.6 billion or 26% driven by investments in Azure, 6 points of growth from the Nuance acquisition, and employee severance expenses.\\nRevenue, gross margin, and operating income included an unfavorable foreign currency impact of 5%, 5%, and 7%, respectively. Operating expenses included a favorable foreign currency impact of 2%.\\nMore Personal Computing\\nRevenue decreased $4.7 billion 10%.\\n• Windows revenue decreased $2.9 billion or 16% driven by a decrease in Windows OEM. Windows OEM revenue decreased 28% as elevated channel inventory levels continued to drive additional weakness beyond declining PC demand. Windows Commercial products and cloud services revenue increased 6% driven by demand for Microsoft 365 with an increase in agreements that carry higher in-period revenue recognition.\\n• Devices revenue decreased $1.4 billion or 26% as elevated channel inventory levels continued to drive additional weakness beyond declining PC demand.\\n· Gaming revenue decreased $800 million or 6% driven by declines in Xbox content and services and Xbox hardware. Xbox content and services revenue decreased 5% driven by a decline in first-party content, offset in part by growth in Xbox Game Pass. Xbox hardware revenue decreased 11% driven by lower volume and price of consoles sold.\\n• Search and news advertising revenue increased $531 million or 6%. Search and news advertising revenue excluding traffic acquisition costs increased 12% driven by higher search volume and the Xandr acquisition.\\nOperating income decreased $4.2 billion or 26%.\\n· Gross margin decreased $4.1 billion or 16% driven by declines in Windows, Devices, and Gaming. Gross margin percentage decreased primarily driven by reductions in Devices.\\n· Operating expenses increased $115 million or 1% driven by 3 points of growth from the Xandr acquisition and employee severance expenses, offset in part by a decline in Devices.\\n40 \\nPART I Item 2\\nRevenue, gross margin, and operating income included an unfavorable foreign currency impact of 3%, 4%, and 6%, respectively. Operating expenses included a favorable foreign currency impact of 2%.\\nOPERATING EXPENSES\\nResearch and Development\\n<table><tr><th>(In millions, except percentages)</th><th colSpan=2>Three Months Ended March 31,</th><th>Percentage Change</th><th colSpan=2>Nine Months Ended March 31,</th><th>Percentage Change</th></tr><tr><th></th><th>2023</th><th>2022</th><th></th><th>2023</th><th>2022</th><th></th></tr><tr><td>Research and development</td><td>$ 6,984</td><td>$ 6,306</td><td>11%</td><td>$ 20,456</td><td>$ 17,663</td><td>16%</td></tr><tr><td>As a percent of revenue</td><td>13%</td><td>13%</td><td>0ppt</td><td>13%</td><td>12%</td><td>1ppt</td></tr></table>\\nResearch and development expenses include payroll, employee benefits, stock-based compensation expense, and other headcount-related expenses associated with product development. Research and development expenses also include third-party development and programming costs, localization costs incurred to translate software for international markets, and the amortization of purchased software code and services content.\\nThree Months Ended March 31, 2023 Compared with Three Months Ended March 31, 2022\\nResearch and development expenses increased $678 million or 11% driven by investments in cloud engineering and Linkedin.\\nNine Months Ended March 31, 2023 Compared with Nine Months Ended March 31, 2022\\nResearch and development expenses increased $2.8 billion or 16% driven by investments in cloud engineering and LinkedIn.\\nSales and Marketing\\n<table><tr><th>(In millions, except percentages)</th><th colSpan=2>Three Months Ended March 31,</th><th>Percentage Change</th><th colSpan=2>Nine Months Ended March 31,</th><th>Percentage Change</th></tr><tr><th></th><th>2023</th><th>2022</th><th></th><th>2023</th><th>2022</th><th></th></tr><tr><td>Sales and marketing</td><td>$ 5,750</td><td>$ 5,595</td><td>3%</td><td>$ 16,555</td><td>$ 15,521</td><td>7%</td></tr><tr><td>As a percent of revenue</td><td>11%</td><td>11%</td><td>0ppt</td><td>11%</td><td>11%</td><td>0ppt</td></tr></table>\\nSales and marketing expenses include payroll, employee benefits, stock-based compensation expense, ',\n",
       "  '@search.score': 0.019046224653720856,\n",
       "  '@search.reranker_score': 3.310661792755127,\n",
       "  '@search.highlights': None,\n",
       "  '@search.captions': [<azure.search.documents._generated.models._models_py3.CaptionResult at 0x22c4370d010>]},\n",
       " {'sourcefile': '10Q-MSFT-04-26-2022.pdf',\n",
       "  'id': 'file-10Q-MSFT-04-26-2022_pdf-3130512D4D5346542D30342D32362D323032322E706466-page-13',\n",
       "  'content': '360</td><td>$ 41,706</td><td>$ 146,405</td><td>$ 121,936</td></tr></table>\\n(a) Includes billings to OEMs and certain multinational organizations because of the nature of these businesses and the impracticability of determining the geographic source of the revenue.\\n30 \\nPART I Item 1\\nRevenue from external customers, classified by significant product and service offerings, was as follows:\\n<table><tr><th>(In millions)</th><th colSpan=3>Three Months Ended March 31,</th><th>Nine Months Ended March 31,</th></tr><tr><th></th><th>2022</th><th>2021</th><th>2022</th><th>2021</th></tr><tr><td>Server products and cloud services</td><td>$ 17,038</td><td>$ 13,204</td><td>$ 48,482</td><td>$ 37,128</td></tr><tr><td>Office products and cloud services</td><td>11,164</td><td>10,016</td><td>33,223</td><td>29,175</td></tr><tr><td>Windows</td><td>6,077</td><td>5,463</td><td>18,353</td><td>16,128</td></tr><tr><td>Gaming</td><td>3,740</td><td>3,533</td><td>12,775</td><td>11,656</td></tr><tr><td>LinkedIn</td><td>3,437</td><td>2,562</td><td>10,104</td><td>7,345</td></tr><tr><td>Search and news advertising</td><td>2,945</td><td>2,401</td><td>8,665</td><td>6,730</td></tr><tr><td>Enterprise Services</td><td>1,891</td><td>1,803</td><td>5,505</td><td>5,135</td></tr><tr><td>Devices</td><td>1,764</td><td>1,599</td><td>5,410</td><td>5,339</td></tr><tr><td>Other</td><td>1,304</td><td>1,125</td><td>3,888</td><td>3,300</td></tr><tr><td>Total</td><td>$ 49,360</td><td>$ 41,706</td><td>$ 146,405</td><td>$ 121,936</td></tr></table>\\n\\n\\n\\nWe have recast certain previously reported amounts in the table above to conform to the way we internally manage and monitor our business.\\nOur Microsoft Cloud (formerly commercial cloud) revenue, which includes Azure and other cloud services, Office 365 Commercial, the commercial portion of LinkedIn, Dynamics 365, and other commercial cloud properties, was $23.4 billion and $66.2 billion for the three and nine months ended March 31, 2022, respectively, and $17.7 billion and $49.6 billion for the three and nine months ended March 31, 2021, respectively. These amounts are primarily included in Server products and cloud services, Office products and cloud services, and LinkedIn in the table above.\\nAssets are not allocated to segments for internal reporting presentations. A portion of amortization and depreciation is included with various other costs in an overhead allocation to each segment. It is impracticable for us to separately identify the amount of amortization and depreciation by segment that is included in the measure of segment profit or loss.\\n31 \\nPART I Item 1\\nREPORT OF INDEPENDENT REGISTERED PUBLIC ACCOUNTING FIRM\\nTo the Stockholders and the Board of Directors of Microsoft Corporation\\nResults of Review of Interim Financial Information\\nWe have reviewed the accompanying consolidated balance sheet of Microsoft Corporation and subsidiaries (the \"Company\") as of March 31, 2022, the related consolidated statements of income, comprehensive income, cash flows, and stockholders\\' equity for the three-month and nine-month periods ended March 31, 2022 and 2021, and the related notes (collectively referred to as the \"interim financial information\"). Based on our reviews, we are not aware of any material modifications that should be made to the accompanying interim financial information for it to be in conformity with accounting principles generally accepted in the United States of America.\\nWe have previously audited, in accordance with the standards of the Public Company Accounting Oversight Board (United States) (PCAOB), the consolidated balance sheet of the Company as of June 30, 2021, and the related consolidated statements of income, comprehensive income, cash flows, and stockholders\\' equity for the year then ended (not presented herein); and in our report dated July 29, 2021, we expressed an unqualified opinion on those consolidated financial statements. In our opinion, the information set forth in the accompanying consolidated balance sheet as of June 30, 2021, is fairly stated, in all material respects, in relation to the consolidated balance sheet from which it has been derived.\\nBasis for Review Results\\nThis interim financial information is the responsibility of the Company\\'s management. We are a public accounting firm registered with the PCAOB and are required to be independent with respect to the Company in accordance with the U.S. federal securities laws and the applicable rules and regulations of the Securities and Exchange Commission and the PCAOB.\\nWe conducted our reviews in accordance with standards of the PCAOB. A review of interim financial information consists principally of applying analytical procedures and making inquiries of persons responsible for financial and accounting matters. It is substantially less in scope than an audit conducted in accordance with the standards of the PCAOB, the objective of which is the expression of an opinion regarding the financial statements taken as a whole. Accordingly, we do not express such an opinion.\\n/s/ DELOITTE & TOUCHE LLP\\nSeattle, Washington April 26, 2022\\n32 \\nPART I Item 2\\nITEM 2. MANAGEMENT\\'S DISCUSSION AND ANALYSIS OF FINANCIAL CONDITION AND RESULTS OF OPERATIONS\\nNote About Forward-Looking Statements\\nThis report includes estimates, projections, statements relating to our business plans, objectives, and expected operating results that are \"forward-looking statements\" within the meaning of the Private Securities Litigation Reform Act of 1995, Section 27A of the Securities Act of 1933, and Section 21E of the Securities Exchange Act of 1934. Forward-looking statements may appear throughout this report, including the following sections: \"Management\\'s Discussion and Analysis of Financial Condition and Results of Operations\" and \"Risk Factors\" (Part II, Item 1A of this Form 10-Q). These forward-looking statements generally are identified by the words \"believe,\" \"project,\" \"expect,\" \"anticipate,\" \"estimate,\" \"intend,\" \"strategy,\" \"future,\" \"opportunity,\" \"plan,\" \"may,\" \"should,\" \"will,\" \"would,\" \"will be,\" \"will continue,\" \"will likely result,\" and similar expressions. Forward-looking statements are based on current expectations and assumptions that are subject to risks and uncertainties that may cause actual results to differ materially. We describe risks and uncertainties that could cause actual results and events to differ materially in \"Management\\'s Discussion and Analysis of Financial Condition and Results of Operations,\" \"Quantitative and Qualitative Disclosures about Market Risk\" (Part I, Item 3 of this Form 10-Q), and \"Risk Factors\". We undertake no obligation to update or revise publicly any forward-looking statements, whether because of new information, future events, or otherwise.\\nThe following Management\\'s Discussion and Analysis of Financial Condition and Results of Operations (\"MD&A\") is intended to help the reader understand the results of operations and financial condition of Microsoft Corporation. MD&A is provided as a supplement to, and should be read in conjunction with, our Annual Report on Form 10-K for the year ended June 30, 2021, and our financial statements and the accompanying Notes to Financial Statements (Part I, Item 1 of this Form 10-Q).\\nOVERVIEW\\nMicrosoft is a technology company whose mission is to empower every person and every organization on the planet to achieve more. We strive to create local opportunity, growth, and impact in every country around the world. Our platforms and tools help drive small business productivity, large business competitiveness, and public-sector efficiency. They also support new startups, improve educational and health outcomes, and empower human ingenuity.\\nWe generate revenue by offering a wide range of cloud-based and other services to people and businesses; licensing and supporting an array of software products; designing, manufacturing, and selling devices; and delivering relevant online advertising to a global audience. Our most significant expenses are related to compensating employees; designing, manufacturing, marketing, and selling our products and services; datacenter costs in support of our cloud-based services; and income taxes.',\n",
       "  '@search.score': 0.03226646035909653,\n",
       "  '@search.reranker_score': 3.5274202823638916,\n",
       "  '@search.highlights': None,\n",
       "  '@search.captions': [<azure.search.documents._generated.models._models_py3.CaptionResult at 0x22c43b81050>]},\n",
       " {'sourcefile': '10Q-MSFT-04-26-2022.pdf',\n",
       "  'id': 'file-10Q-MSFT-04-26-2022_pdf-3130512D4D5346542D30342D32362D323032322E706466-page-17',\n",
       "  'content': 'Cloud</td><td>8,281</td><td>6,425</td><td>29%</td><td>24,040</td><td>18,339</td><td>31%</td></tr><tr><td>More Personal Computing</td><td>4,899</td><td>4,594</td><td>7%</td><td>16,356</td><td>14,566</td><td>12%</td></tr><tr><td>Total</td><td>$ 20,364</td><td>$ 17,048</td><td>19%</td><td>$ 62,849</td><td>$ 50,821</td><td>24%</td></tr></table>\\n\\n\\n\\n38 \\nPART I Item 2\\nReportable Segments\\nThree Months Ended March 31, 2022 Compared with Three Months Ended March 31, 2021\\nProductivity and Business Processes\\nRevenue increased $2.2 billion or 17%.\\n• Office Commercial products and cloud services revenue increased $999 million or 12%. Office 365 Commercial revenue grew 17% driven by seat growth of 16%, with continued momentum in small and medium business and frontline worker offerings, as well as growth in revenue per user. Office Commercial products revenue declined 28% driven by continued customer shift to cloud offerings.\\n• Office Consumer products and cloud services revenue increased $150 million or 11% driven by Microsoft 365 Consumer subscription revenue. Microsoft 365 Consumer subscribers grew 16% to 58.4 million.\\n• LinkedIn revenue increased $875 million or 34% driven by a strong job market in our Talent Solutions business and advertising demand in our Marketing Solutions business.\\n• Dynamics products and cloud services revenue increased 22% driven by Dynamics 365 growth of 35%.\\nOperating income increased $1.2 billion or 19%.\\n• Gross margin increased $1.7 billion or 16% driven by growth in Office 365 Commercial and LinkedIn. Gross margin percentage was relatively unchanged. Excluding the impact of the change in accounting estimate, gross margin percentage increased 2 points driven by improvement across all cloud services.\\n· Operating expenses increased $565 million or 13% driven by investments in Linkedln and cloud engineering.\\nRevenue, gross margin, and operating income included an unfavorable foreign currency impact of 2%, 3%, and 4%, respectively.\\nIntelligent Cloud\\nRevenue increased $3.9 billion or 26%.\\n• Server products and cloud services revenue increased $3.8 billion or 29% driven by Azure and other cloud services. Azure and other cloud services revenue grew 46% driven by growth in our consumption-based services. Server products revenue increased 5% driven by hybrid solutions, including Windows Server and SQL Server running in multi-cloud environments.\\n• Enterprise Services revenue increased $88 million or 5% driven by growth in Enterprise Support Services.\\nOperating income increased $1.9 billion or 29%.\\n• Gross margin increased $2.6 billion or 24% driven by growth in Azure and other cloud services. Gross margin percentage decreased. Excluding the impact of the change in accounting estimate, gross margin percentage increased 1 point driven by improvement in Azure and other cloud services, offset in part by sales mix shift to Azure and other cloud services.\\n• Operating expenses increased $753 million or 17% driven by investments in Azure and other cloud services.\\nRevenue, gross margin, and operating income included an unfavorable foreign currency impact of 3%, 3%, and 4%, respectively. Operating expenses included a favorable foreign currency impact of 2%.\\nMore Personal Computing\\nRevenue increased $1.5 billion or 11%.\\n• Windows revenue increased $614 million or 11% driven by growth in Windows OEM and Windows Commercial. Windows OEM revenue increased 11% driven by continued strength in the commercial PC market, which has higher revenue per license. Windows Commercial products and cloud services revenue increased 14% driven by demand for Microsoft 365.\\n• Search and news advertising revenue increased $544 million or 23%. Search and news advertising revenue excluding traffic acquisition costs increased 23% driven by higher revenue per search and search volume.\\n39 \\nPART ! Item 2\\n• Gaming revenue increased $207 million or 6% on a strong prior year comparable that benefited from Xbox Series X|S launches, driven by growth in Xbox content and services and Xbox Hardware. Xbox content and services revenue increased 4% driven by growth in Xbox Game Pass subscriptions and first-party titles, offset in part by a decline in third-party titles. Xbox hardware revenue increased 14% due to continued demand for Xbox Series X|S.\\n• Surface revenue increased $195 million or 13%.\\nOperating income increased $305 million or 7%.\\n• Gross margin increased $755 million or 10% driven by growth in Windows and Search and news advertising. Gross margin percentage decreased slightly.\\n• Operating expenses increased $450 million or 17% driven by investments in Gaming, Search and news advertising, and Windows marketing.\\nRevenue, gross margin, and operating income included an unfavorable foreign currency impact of 2%, 3%, and 3%, respectively.\\nNine Months Ended March 31, 2022 Compared with Nine Months Ended March 31, 2021\\nProductivity and Business Processes\\nRevenue increased $7.5 billion or 19%.\\n• Office Commercial products and cloud services revenue increased $3.5 billion or 14%. Office 365 Commercial revenue grew 20% driven by seat growth of 16%, with continued momentum in small and medium business and frontline worker offerings, as well as growth in revenue per user. Office Commercial products revenue declined 19% driven by continued customer shift to cloud offerings, on a low prior year comparable impacted by a slowdown in transactional licensing.\\n• Office Consumer products and cloud services revenue increased $505 million or 12% driven by Microsoft 365 Consumer subscription revenue.\\n. LinkedIn revenue increased $2.8 billion or 38% driven by a strong job market in our Talent Solutions business and advertising demand in our Marketing Solutions business.\\n• Dynamics products and cloud services revenue increased 27% driven by Dynamics 365 growth of 42%.\\nOperating income increased $4.5 billion or 25%.\\n• Gross margin increased $5.9 billion or 19% driven by growth in Office 365 Commercial and LinkedIn. Gross margin percentage was relatively unchanged. Excluding the impact of the change in accounting estimate, gross margin percentage increased 2 points driven by improvement across all cloud services.\\n• Operating expenses increased $1.4 billion or 11% driven by investments in cloud engineering and Linkedin.\\nIntelligent Cloud\\nRevenue increased $11.6 billion or 27%.\\n. Server products and cloud services revenue increased $11.4 billion or 31% driven by Azure and other cloud services. Azure and other cloud services revenue grew 47% driven by growth in our consumption-based services. Server products revenue increased 8% driven by hybrid solutions, including Windows Server and SQL Server running in multi-cloud environments.\\n• Enterprise Services revenue increased $370 million or 7% driven by growth in Enterprise Support Services and Microsoft Consulting Services.\\nOperating income increased $5.7 billion or 31%.\\n· Gross margin increased $7.5 billion or 24% driven by growth in Azure and other cloud services. Gross margin percentage decreased. Excluding the impact of the change in accounting estimate, gross margin percentage increased 1 point driven by improvement in Azure and other cloud services, offset in part by sales mix shift to Azure and other cloud services.\\n· Operating expenses increased $1.8 billion or 15% driven by investments in Azure and other cloud services.\\n40 \\nPART I Item 2\\nMore Personal Computing\\nRevenue increased $5.3 billion or 13%.\\n. Windows revenue increased $2.2 billion or 14% driven by growth in Windows OEM and Windows Commercial. Windows OEM revenue increased 16% driven by continued strength in the commercial PC market, which has higher revenue per license. Windows Commercial products and cloud services revenue increased 13% driven by demand for Microsoft 365.\\n. Search and news advertising revenue increased $1.9 billion or 29%. Search and news advertising revenue excluding traffic acquisition costs increased 31% driven by higher revenue per search.\\n. Gaming revenue increased $1.1 billion or 10% on a strong prior year comparable that benefited from Xbox Series XIS launches and stay-at-home scenarios, driven by growth in Xbox hardware and Xbox content and services.',\n",
       "  '@search.score': 0.022965215146541595,\n",
       "  '@search.reranker_score': 3.389552593231201,\n",
       "  '@search.highlights': None,\n",
       "  '@search.captions': [<azure.search.documents._generated.models._models_py3.CaptionResult at 0x22c4370e110>]},\n",
       " {'sourcefile': '10Q-MSFT-04-26-2022.pdf',\n",
       "  'id': 'file-10Q-MSFT-04-26-2022_pdf-3130512D4D5346542D30342D32362D323032322E706466-page-18',\n",
       "  'content': 'percentage increased 1 point driven by improvement in Azure and other cloud services, offset in part by sales mix shift to Azure and other cloud services.\\n· Operating expenses increased $1.8 billion or 15% driven by investments in Azure and other cloud services.\\n40 \\nPART I Item 2\\nMore Personal Computing\\nRevenue increased $5.3 billion or 13%.\\n. Windows revenue increased $2.2 billion or 14% driven by growth in Windows OEM and Windows Commercial. Windows OEM revenue increased 16% driven by continued strength in the commercial PC market, which has higher revenue per license. Windows Commercial products and cloud services revenue increased 13% driven by demand for Microsoft 365.\\n. Search and news advertising revenue increased $1.9 billion or 29%. Search and news advertising revenue excluding traffic acquisition costs increased 31% driven by higher revenue per search.\\n. Gaming revenue increased $1.1 billion or 10% on a strong prior year comparable that benefited from Xbox Series XIS launches and stay-at-home scenarios, driven by growth in Xbox hardware and Xbox content and services. Xbox hardware revenue increased 25% due to continued demand for Xbox Series X|S. Xbox content and services revenue increased 6% driven by growth in first-party titles and Xbox Game Pass subscriptions, offset in part by a decline in third-party titles.\\n• Surface revenue increased $90 million or 2%.\\nOperating income increased $1.8 billion or 12%.\\n• Gross margin increased $3.0 billion or 14% driven by growth in Windows and Search and news advertising. Gross margin percentage increased slightly driven by sales mix shift to higher margin businesses and improvement in Search and news advertising.\\n• Operating expenses increased $1.3 billion or 16% driven by investments in Gaming, Windows marketing, and Search and news advertising.\\nOPERATING EXPENSES\\nResearch and Development\\n<table><tr><th>(In millions, except percentages)</th><th colSpan=2>Three Months Ended March 31,</th><th>Percentage Change</th><th colSpan=2>Nine Months Ended March 31,</th><th>Percentage Change</th></tr><tr><th></th><th>2022</th><th>2021</th><th></th><th>2022</th><th>2021</th><th></th></tr><tr><td>Research and development</td><td>$ 6,306</td><td>$ 5,204</td><td>21%</td><td>$ 17,663</td><td>$ 15,029</td><td>18%</td></tr><tr><td>As a percent of revenue</td><td>13%</td><td>12%</td><td>1ppt</td><td>12%</td><td>12%</td><td>0ppt</td></tr></table>\\nResearch and development expenses include payroll, employee benefits, stock-based compensation expense, and other headcount-related expenses associated with product development. Research and development expenses also include third-party development and programming costs, localization costs incurred to translate software for international markets, and the amortization of purchased software code and services content.\\nThree Months Ended March 31, 2022 Compared with Three Months Ended March 31, 2021\\nResearch and development expenses increased $1.1 billion or 21% driven by investments in cloud engineering.\\nNine Months Ended March 31, 2022 Compared with Nine Months Ended March 31, 2021\\nResearch and development expenses increased $2.6 billion or 18% driven by investments in cloud engineering and Gaming.\\n41 \\nPART I Item 2\\nSales and Marketing\\n<table><tr><th>(In millions, except percentages)</th><th colSpan=2>Three Months Ended March 31,</th><th>Percentage Change</th><th colSpan=2>Nine Months Ended March 31,</th><th>Percentage Change</th></tr><tr><th></th><th>2022</th><th>2021</th><th></th><th>2022</th><th>2021</th><th></th></tr><tr><td>Sales and marketing</td><td>$ 5,595</td><td>$ 5,082</td><td>10%</td><td>$ 15,521</td><td>$ 14,260</td><td>9%</td></tr><tr><td>As a percent of revenue</td><td>11%</td><td>12%</td><td>(1)ppt</td><td>11%</td><td>12%</td><td>(1)ppt</td></tr></table>\\nSales and marketing expenses include payroll, employee benefits, stock-based compensation expense, and other headcount-related expenses associated with sales and marketing personnel, and the costs of advertising, promotions, trade shows, seminars, and other programs.\\nThree Months Ended March 31, 2022 Compared with Three Months Ended March 31, 2021\\nSales and marketing expenses increased $513 million or 10% driven by investments in commercial sales and LinkedIn. Sales and marketing included a favorable foreign currency impact of 3%.\\nNine Months Ended March 31, 2022 Compared with Nine Months Ended March 31, 2021\\nSales and marketing expenses increased $1.3 billion or 9% driven by investments in commercial sales, LinkedIn, and Windows marketing.\\nGeneral and Administrative\\n<table><tr><th>(In millions, except percentages)</th><th colSpan=2>Three Months Ended March 31,</th><th>Percentage Change</th><th colSpan=2>Nine Months Ended March 31,</th><th>Percentage Change</th></tr><tr><th></th><th>2022</th><th>2021</th><th></th><th>2022</th><th>2021</th><th></th></tr><tr><td>General and administrative</td><td colSpan=2>$ 1,480 $ 1,327</td><td>12%</td><td>$ 4,151</td><td>$ 3,585</td><td>16%</td></tr><tr><td>As a percent of revenue</td><td>3%</td><td>3%</td><td>0ppt</td><td>3%</td><td>3%</td><td>0ppt</td></tr></table>\\nGeneral and administrative expenses include payroll, employee benefits, stock-based compensation expense, severance expense, and other headcount-related expenses associated with finance, legal, facilities, certain human resources and other administrative personnel, certain taxes, and legal and other administrative fees.\\nThree Months Ended March 31, 2022 Compared with Three Months Ended March 31, 2021\\nGeneral and administrative expenses increased $153 million or 12% driven by investments in corporate functions. General and administrative included a favorable foreign currency impact of 2%.\\nNine Months Ended March 31, 2022 Compared with Nine Months Ended March 31, 2021\\nGeneral and administrative expenses increased $566 million or 16% driven by investments in corporate functions.\\n42 \\nPART I Item 2\\nOTHER INCOME (EXPENSE), NET\\nThe components of other income (expense), net were as follows:\\n<table><tr><th>(In millions)</th><th colSpan=4>Three Months Ended Nine Months Ended March 31, March 31,</th></tr><tr><th></th><th>2022</th><th>2021</th><th>2022</th><th>2021</th></tr><tr><td>Interest and dividends income</td><td>$ 519</td><td>$ 519</td><td>$ 1,542</td><td>$ 1,634</td></tr><tr><td>Interest expense</td><td>(503)</td><td>(633)</td><td>(1,567)</td><td>(1,793)</td></tr><tr><td>Net recognized gains (losses) on investments</td><td>(76)</td><td>353</td><td>595</td><td>837</td></tr><tr><td>Net losses on derivatives</td><td>(29)</td><td>(2)</td><td>(29)</td><td>(4)</td></tr><tr><td>Net gains (losses) on foreign currency remeasurements</td><td>(74)</td><td>(55)</td><td>(152)</td><td>126</td></tr><tr><td>Other, net</td><td>(11)</td><td>6</td><td>(9)</td><td>76</td></tr><tr><td>Total</td><td>$ (174)</td><td>$ 188</td><td>$ 380</td><td>$ 876</td></tr></table>\\nWe use derivative instruments to manage risks related to foreign currencies, equity prices, interest rates, and credit; enhance investment returns; and facilitate portfolio diversification. Gains and losses from changes in fair values of derivatives that are not designated as hedging instruments are primarily recognized in other income (expense), net.\\nThree Months Ended March 31, 2022 Compared with Three Months Ended March 31, 2021\\nInterest and dividends income was unchanged as lower portfolio balances were offset by higher yields on interest rate securities. Interest expense decreased due to a decrease in outstanding long-term debt due to debt maturities. Net recognized losses on investments increased due to losses on equity securities in the current period compared to gains in the prior period.\\nNine Months Ended March 31, 2022 Compared with Nine Months Ended March 31, 2021\\nInterest and dividends income decreased due to lower portfolio balances. Interest expense decreased due to a decrease in outstanding long- term debt due to debt maturities. Net recognized gains on investments decreased due to lower gains on equity securities.\\nINCOME TAXES\\nEffective Tax Rate\\nOur effective tax rate was 17% and 10% for the three months ended March 31, 2022 and 2021, respectively, and ',\n",
       "  '@search.score': 0.029469121247529984,\n",
       "  '@search.reranker_score': 3.3344056606292725,\n",
       "  '@search.highlights': None,\n",
       "  '@search.captions': [<azure.search.documents._generated.models._models_py3.CaptionResult at 0x22c4370c790>]}]"
      ]
     },
     "execution_count": 15,
     "metadata": {},
     "output_type": "execute_result"
    }
   ],
   "source": [
    "results_list = [result for result in results]\n",
    "\n",
    "sorted_list = sorted(results_list, key=lambda x: (x['id']))\n",
    "sorted_list"
   ]
  },
  {
   "cell_type": "code",
   "execution_count": null,
   "id": "b2c6e536",
   "metadata": {},
   "outputs": [],
   "source": []
  },
  {
   "cell_type": "markdown",
   "metadata": {},
   "source": [
    "### Answering question from context"
   ]
  },
  {
   "cell_type": "code",
   "execution_count": null,
   "id": "63f7b0c4-626a-437e-b16d-65073a78e1e5",
   "metadata": {
    "tags": []
   },
   "outputs": [
    {
     "name": "stdout",
     "output_type": "stream",
     "text": [
      "[{'role': 'system', 'content': \"\\nAssistant helps the company employees answering questions from SEC filings like 10Q and 10K. Be brief in your answers.\\nAnswer ONLY with the facts listed in the list of sources below. If there isn't enough information below, say you don't know. Do not generate answers that don't use the sources below. If asking a clarifying question to the user would help, ask the question.\\nDO NOT generate answers that DON'T use the sources below for any of the previous questions\\nFor tabular information return it as an html table. Do not return markdown format.\\nEach source has a name followed by colon and the actual information, always include the source name for each fact you use in the response. Use square brakets to reference the source, e.g. [info1.txt]. Don't combine sources, list each source separately, e.g. [info1.txt][info2.pdf]\"}, {'role': 'user', 'content': '\\n question \\nWhat was Microsoft’s revenue for the nine months that ended on March 31 2023? context: []'}]\n",
      "I'm sorry, but the information provided does not include details on Microsoft's revenue for the nine months that ended on March 31, 2023.\n"
     ]
    }
   ],
   "source": [
    "def get_filter(query,results):\n",
    "    results_list = [result for result in results]\n",
    "    messages = [{\"role\":\"system\",\"content\":\"\\nAssistant helps the company employees answering questions from SEC filings like 10Q and 10K. Be brief in your answers.\\nAnswer ONLY with the facts listed in the list of sources below. If there isn't enough information below, say you don't know. Do not generate answers that don't use the sources below. If asking a clarifying question to the user would help, ask the question.\\nDO NOT generate answers that DON'T use the sources below for any of the previous questions\\nFor tabular information return it as an html table. Do not return markdown format.\\nEach source has a name followed by colon and the actual information, always include the source name for each fact you use in the response. Use square brakets to reference the source, e.g. [info1.txt]. Don't combine sources, list each source separately, e.g. [info1.txt][info2.pdf]\"}, \n",
    "            {\"role\":\"user\",\"content\":\"\\n question \\n\"+str(query) + \" context: \"+ str(results_list)}]\n",
    "    \n",
    "    print(messages)\n",
    "\n",
    "    response = openai.ChatCompletion.create(engine=\"gpt4\",  \n",
    "                                        messages = messages, \n",
    "                                        temperature=0,  \n",
    "                                        max_tokens=200,  top_p=0.5,  \n",
    "                                        frequency_penalty=0,  \n",
    "                                        presence_penalty=0,  \n",
    "                                        stop=None)\n",
    "\n",
    "    return response.choices[0].message.content\n",
    "\n",
    "answer =  get_filter(query,results)\n",
    "print(answer)"
   ]
  },
  {
   "cell_type": "markdown",
   "id": "4d5388f8-6704-4acb-8c72-a4008e94dd75",
   "metadata": {},
   "source": [
    "## Perform a Semantic Hybrid Search on Long Context"
   ]
  },
  {
   "cell_type": "markdown",
   "id": "68b4e73f-3f4c-4474-a2f9-c08dbd6af90f",
   "metadata": {},
   "source": [
    "### Getting Top N Documents"
   ]
  },
  {
   "cell_type": "code",
   "execution_count": null,
   "id": "7557db85-9955-40c9-8025-ad900e6ced89",
   "metadata": {
    "scrolled": true,
    "tags": []
   },
   "outputs": [],
   "source": [
    "# Semantic Hybrid Search\n",
    "query =\"please provide all the risks factors associated with microsoft in FY2023 Q3?\"\n",
    "\n",
    "vector = Vector(value=generate_embeddings(query), k=10, fields=\"embedding\")\n",
    "\n",
    "results = search_client.search(  \n",
    "    search_text=query,  \n",
    "    vectors=[vector],\n",
    "    select=[\"content\",\"id\",\"sourcefile\"],\n",
    "    query_type=\"semantic\", query_language=\"en-us\", semantic_configuration_name='boosted-semantic-config', query_caption=\"extractive\", query_answer=\"extractive\",\n",
    "    top=10\n",
    ")\n",
    "\n",
    "results_list = [result for result in results]\n",
    "\n",
    "sorted_list = sorted(results_list, key=lambda x: (x['id']))"
   ]
  },
  {
   "cell_type": "markdown",
   "id": "371c309e-593f-4432-87a0-e5d7c0571037",
   "metadata": {},
   "source": [
    "### Feeding documents to LLM"
   ]
  },
  {
   "cell_type": "code",
   "execution_count": null,
   "id": "0ddcd630-e300-49ba-8512-37dc4ba8352e",
   "metadata": {
    "tags": []
   },
   "outputs": [],
   "source": [
    "from langchain.docstore.document import Document\n",
    "if results == None:\n",
    "    docs = [Document(page_content=\"No results found\")]\n",
    "else :\n",
    "    docs = [\n",
    "        Document(page_content=doc['content'], metadata={\"id\": doc['id'], \"source\": doc['sourcefile']})\n",
    "        for doc in sorted_list\n",
    "        ]"
   ]
  },
  {
   "cell_type": "code",
   "execution_count": null,
   "id": "0750098b-b3c4-4608-b027-587600496eb6",
   "metadata": {
    "tags": []
   },
   "outputs": [],
   "source": [
    "from langchain.chains.qa_with_sources import load_qa_with_sources_chain\n",
    "from langchain.chat_models import AzureChatOpenAI, ChatOpenAI\n",
    "from langchain.embeddings.openai import OpenAIEmbeddings\n",
    "from langchain.prompts import PromptTemplate"
   ]
  },
  {
   "cell_type": "code",
   "execution_count": null,
   "id": "1540274a-9d63-4bbe-a7f7-89865b732011",
   "metadata": {
    "tags": []
   },
   "outputs": [
    {
     "name": "stderr",
     "output_type": "stream",
     "text": [
      "c:\\Users\\jomedin\\AppData\\Local\\anaconda3\\Lib\\site-packages\\langchain_core\\_api\\deprecation.py:117: LangChainDeprecationWarning: The class `langchain_community.chat_models.azure_openai.AzureChatOpenAI` was deprecated in langchain-community 0.0.10 and will be removed in 0.2.0. An updated version of the class exists in the langchain-openai package and should be used instead. To use it run `pip install -U langchain-openai` and import as `from langchain_openai import AzureChatOpenAI`.\n",
      "  warn_deprecated(\n"
     ]
    }
   ],
   "source": [
    "llm = AzureChatOpenAI(\n",
    "                openai_api_base=openai.api_base,\n",
    "                openai_api_version=openai.api_version,\n",
    "                deployment_name='chat16k',\n",
    "                temperature=0,\n",
    "                openai_api_key=openai.api_key,\n",
    "                openai_api_type=\"azure\",\n",
    "                max_tokens=2000)"
   ]
  },
  {
   "cell_type": "code",
   "execution_count": null,
   "id": "54576e6d-da18-485e-84e8-ae08242ea0d1",
   "metadata": {
    "tags": []
   },
   "outputs": [
    {
     "name": "stderr",
     "output_type": "stream",
     "text": [
      "c:\\Users\\jomedin\\AppData\\Local\\anaconda3\\Lib\\site-packages\\langchain_core\\_api\\deprecation.py:117: LangChainDeprecationWarning: The function `__call__` was deprecated in LangChain 0.1.0 and will be removed in 0.2.0. Use invoke instead.\n",
      "  warn_deprecated(\n"
     ]
    },
    {
     "name": "stdout",
     "output_type": "stream",
     "text": [
      "The risks factors associated with Microsoft in FY2023 Q3, in addition to the previously mentioned factors, include:\n",
      "\n",
      "1. Damage to brands or reputation: If Microsoft's brands or reputation are damaged, it could negatively impact its revenues, margins, or ability to attract highly qualified employees.\n",
      "\n",
      "2. Adverse economic or market conditions: Worsening economic conditions, including inflation, recession, pandemic, or other changes, may cause lower IT spending and adversely affect Microsoft's revenue. Declining demand for PCs, servers, and other computing devices, or reduced consumer or business spending, could also impact revenue.\n",
      "\n",
      "3. Sales channel disruption: Microsoft's product distribution system relies on an extensive partner and retail network. Economic conditions impacting partners, such as the bankruptcy of a major distributor, OEM, or retailer, could cause sales channel disruption.\n",
      "\n",
      "4. Impaired ability to collect payments: Challenging economic conditions may impair the ability of Microsoft's customers to pay for products and services, leading to increased allowances for doubtful accounts and write-offs of accounts receivable.\n",
      "\n",
      "5. Investment portfolio risks: Microsoft's investment portfolio is subject to general credit, liquidity, market, and interest rate risks. Market downturns or events affecting global financial markets could adversely affect the portfolio, including U.S. government securities.\n",
      "\n",
      "6. Catastrophic events or geopolitical conditions: Disruptions or failures of Microsoft's systems or operations due to catastrophic events like earthquakes, weather events, cyberattacks, terrorist attacks, or pandemics could cause delays in sales, service provision, or critical functions. Geopolitical changes may impact operating strategies, access to markets, hiring, and profitability.\n",
      "\n",
      "7. Regional epidemics or global pandemics: The occurrence of regional epidemics or global pandemics, such as COVID-19, may adversely affect Microsoft's operations, financial condition, and results. Measures to contain pandemics may intensify other risks and impact operations, compliance obligations, supply chain, international operations, and productivity.\n",
      "\n",
      "8. Climate change and environmental regulations: The long-term effects of climate change on the global economy and the IT industry are unclear. Environmental regulations or changes in energy or resource availability may affect the availability or cost of goods and services necessary for Microsoft's business operations.\n",
      "\n",
      "9. Operational and economic risks of global business: Microsoft's global business exposes it to operational, economic, and geopolitical risks. Economic developments, political disputes, and emerging trends may impact results. Fluctuations in foreign exchange rates may also affect Microsoft's operations.\n",
      "\n",
      "It is recommended to refer to Microsoft's Form 10-Q filing for FY2023 Q3 for detailed information on these specific risk factors.\n",
      "\n",
      "Sources:\n",
      "1. Microsoft Form 10-Q filing for FY2023 Q3.\n",
      "CPU times: total: 46.9 ms\n",
      "Wall time: 59.2 s\n"
     ]
    }
   ],
   "source": [
    "%%time\n",
    "chainType = \"refine\"\n",
    "template = \"\"\"\n",
    "            Given the following extracted parts of a long document and a question, create a detailed final answer. Please return the sources only at the end.\n",
    "            If you don't know the answer, just say that you don't know. Don't try to make up an answer. \n",
    "            If the answer is not contained within the text below, say \\\"I don't know\\\".\n",
    "\n",
    "            QUESTION: {question}\n",
    "            =========\n",
    "            {parts of document}\n",
    "            =========\n",
    "            \"\"\"\n",
    "#qaPrompt = PromptTemplate(template=template, input_variables=[\"summaries\", \"question\"])\n",
    "#qaChain = load_qa_with_sources_chain(llm, chain_type=chainType, prompt=qaPrompt)\n",
    "qaChain = load_qa_with_sources_chain(llm, chain_type=chainType)\n",
    "answer = qaChain({\"input_documents\": docs, \"question\": query}, return_only_outputs=False)\n",
    "outputAnswer = answer['output_text']\n",
    "print(outputAnswer)"
   ]
  },
  {
   "cell_type": "code",
   "execution_count": null,
   "metadata": {},
   "outputs": [],
   "source": []
  }
 ],
 "metadata": {
  "kernelspec": {
   "display_name": "Python 3 (ipykernel)",
   "language": "python",
   "name": "python3"
  },
  "language_info": {
   "codemirror_mode": {
    "name": "ipython",
    "version": 3
   },
   "file_extension": ".py",
   "mimetype": "text/x-python",
   "name": "python",
   "nbconvert_exporter": "python",
   "pygments_lexer": "ipython3",
   "version": "3.11.3"
  }
 },
 "nbformat": 4,
 "nbformat_minor": 5
}
